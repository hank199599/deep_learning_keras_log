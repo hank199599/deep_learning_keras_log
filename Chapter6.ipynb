{
  "nbformat": 4,
  "nbformat_minor": 0,
  "metadata": {
    "colab": {
      "name": "Chapter6.ipynb",
      "provenance": [],
      "toc_visible": true,
      "include_colab_link": true
    },
    "kernelspec": {
      "name": "python3",
      "display_name": "Python 3"
    }
  },
  "cells": [
    {
      "cell_type": "markdown",
      "metadata": {
        "id": "view-in-github",
        "colab_type": "text"
      },
      "source": [
        "<a href=\"https://colab.research.google.com/github/hank199599/deep_learning_keras_log/blob/main/Chapter6.ipynb\" target=\"_parent\"><img src=\"https://colab.research.google.com/assets/colab-badge.svg\" alt=\"Open In Colab\"/></a>"
      ]
    },
    {
      "cell_type": "markdown",
      "metadata": {
        "id": "yaifUbsltw0v"
      },
      "source": [
        "# 6-1 文件資料的預處理 (Preprocessing)\r\n",
        "文件資料的基本單位：\r\n",
        "* 單字(word)\r\n",
        "* 字元(characters)\r\n",
        "  \r\n",
        "在神經網路的訓練中，我們使用文件向量化(text vertorizing)來進行轉換"
      ]
    },
    {
      "cell_type": "markdown",
      "metadata": {
        "id": "YSWECK2vpgaO"
      },
      "source": [
        "## 文件向量化 (text vectorizing)\r\n",
        "1. 將文件資料分解為小單元(單字、字元或n元語法)\r\n",
        "2. 經由一個字點對照表將token編碼成數值向量\r\n",
        "3 進行one-hot-encodeing將token向量化\r\n",
        "4. 將這些數據向量把包成序列張量送入神經網路  \r\n",
        "![pic 6-1](https://raw.githubusercontent.com/hank199599/deep_learning_keras_log/main/pictures/6-1.png)"
      ]
    },
    {
      "cell_type": "markdown",
      "metadata": {
        "id": "npdbFZ3nrflb"
      },
      "source": [
        "## one-hot encoding\r\n",
        "  取得的向量是二進位、稀疏矩陣\r\n",
        "1. 建立一個字典\r\n",
        "2. 收錄到字典當作鍵(key)\r\n",
        "3. 給每個鍵值唯一的整數作為鍵值(value)"
      ]
    },
    {
      "cell_type": "markdown",
      "metadata": {
        "id": "R5RrJujE2Eyd"
      },
      "source": [
        "#### 單字的one-hot encoding"
      ]
    },
    {
      "cell_type": "code",
      "metadata": {
        "colab": {
          "base_uri": "https://localhost:8080/"
        },
        "id": "if79padCpczN",
        "outputId": "9916f5cf-5dfa-41e0-f59d-2fee5f75de6e"
      },
      "source": [
        "import numpy as np\r\n",
        "\r\n",
        "samples = ['The cat sat on the mat.','The dog eat my homework.']\r\n",
        "\r\n",
        "token_index = {}\r\n",
        "\r\n",
        "# 建立字典\r\n",
        "for sample in samples:\r\n",
        "  for word in sample.split():\r\n",
        "    if word not in token_index:\r\n",
        "      token_index[word]=len(token_index)+1\r\n",
        "\r\n",
        "# 字典建立完成\r\n",
        "\r\n",
        "max_length = 10\r\n",
        "\r\n",
        "results = np.zeros(shape=(len(samples),max_length,max(token_index.values())+1))\r\n",
        "\r\n",
        "print(results.shape)\r\n",
        "\r\n",
        "for i,sample in enumerate(smaples):\r\n",
        "  for j , word in list(enumerate(sample.split()))[:max_length]:\r\n",
        "    index = token_index.get(word)\r\n",
        "    results[i,j,index] = 1. # 把對應元素設為1"
      ],
      "execution_count": 2,
      "outputs": [
        {
          "output_type": "stream",
          "text": [
            "(2, 10, 11)\n"
          ],
          "name": "stdout"
        }
      ]
    },
    {
      "cell_type": "code",
      "metadata": {
        "colab": {
          "base_uri": "https://localhost:8080/"
        },
        "id": "UH1wkTLH12IX",
        "outputId": "cd80fd43-e75a-4cfc-b1c1-c17ab66ed47d"
      },
      "source": [
        "results"
      ],
      "execution_count": 3,
      "outputs": [
        {
          "output_type": "execute_result",
          "data": {
            "text/plain": [
              "array([[[0., 1., 0., 0., 0., 0., 0., 0., 0., 0., 0.],\n",
              "        [0., 0., 1., 0., 0., 0., 0., 0., 0., 0., 0.],\n",
              "        [0., 0., 0., 1., 0., 0., 0., 0., 0., 0., 0.],\n",
              "        [0., 0., 0., 0., 1., 0., 0., 0., 0., 0., 0.],\n",
              "        [0., 0., 0., 0., 0., 1., 0., 0., 0., 0., 0.],\n",
              "        [0., 0., 0., 0., 0., 0., 1., 0., 0., 0., 0.],\n",
              "        [0., 0., 0., 0., 0., 0., 0., 0., 0., 0., 0.],\n",
              "        [0., 0., 0., 0., 0., 0., 0., 0., 0., 0., 0.],\n",
              "        [0., 0., 0., 0., 0., 0., 0., 0., 0., 0., 0.],\n",
              "        [0., 0., 0., 0., 0., 0., 0., 0., 0., 0., 0.]],\n",
              "\n",
              "       [[0., 1., 0., 0., 0., 0., 0., 0., 0., 0., 0.],\n",
              "        [0., 0., 0., 0., 0., 0., 0., 1., 0., 0., 0.],\n",
              "        [0., 0., 0., 0., 0., 0., 0., 0., 1., 0., 0.],\n",
              "        [0., 0., 0., 0., 0., 0., 0., 0., 0., 1., 0.],\n",
              "        [0., 0., 0., 0., 0., 0., 0., 0., 0., 0., 1.],\n",
              "        [0., 0., 0., 0., 0., 0., 0., 0., 0., 0., 0.],\n",
              "        [0., 0., 0., 0., 0., 0., 0., 0., 0., 0., 0.],\n",
              "        [0., 0., 0., 0., 0., 0., 0., 0., 0., 0., 0.],\n",
              "        [0., 0., 0., 0., 0., 0., 0., 0., 0., 0., 0.],\n",
              "        [0., 0., 0., 0., 0., 0., 0., 0., 0., 0., 0.]]])"
            ]
          },
          "metadata": {
            "tags": []
          },
          "execution_count": 3
        }
      ]
    },
    {
      "cell_type": "markdown",
      "metadata": {
        "id": "hOdXyXRy2I1S"
      },
      "source": [
        "#### 字元的one-hot encoding"
      ]
    },
    {
      "cell_type": "code",
      "metadata": {
        "colab": {
          "base_uri": "https://localhost:8080/"
        },
        "id": "Vlw_2NdQ2I1c",
        "outputId": "698d9f7b-ed58-4f17-a5e5-c79dc6124792"
      },
      "source": [
        "import string\r\n",
        "\r\n",
        "samples = ['The cat sat on the mat.','The dog eat my homework.']\r\n",
        "characters = string.printable\r\n",
        "print(len(characters))\r\n",
        "\r\n",
        "token_index = dict(zip(characters,range(1,len(characters)+1)))\r\n",
        "\r\n",
        "# 字典建立完成\r\n",
        "\r\n",
        "max_length = 50\r\n",
        "\r\n",
        "results = np.zeros(shape=(len(samples),max_length,max(token_index.values())+1))\r\n",
        "\r\n",
        "print(results.shape)\r\n",
        "\r\n",
        "for i,sample in enumerate(smaples):\r\n",
        "  for j , character in enumerate(sample):\r\n",
        "    index = token_index.get(character)\r\n",
        "    results[i,j,index] = 1. # 把對應元素設為1"
      ],
      "execution_count": 4,
      "outputs": [
        {
          "output_type": "stream",
          "text": [
            "100\n",
            "(2, 50, 101)\n"
          ],
          "name": "stdout"
        }
      ]
    },
    {
      "cell_type": "code",
      "metadata": {
        "colab": {
          "base_uri": "https://localhost:8080/"
        },
        "id": "VMIvjl0d2ySQ",
        "outputId": "ed9181c5-1498-4ca3-ff28-bda786795e52"
      },
      "source": [
        "results"
      ],
      "execution_count": 5,
      "outputs": [
        {
          "output_type": "execute_result",
          "data": {
            "text/plain": [
              "array([[[0., 0., 0., ..., 0., 0., 0.],\n",
              "        [0., 0., 0., ..., 0., 0., 0.],\n",
              "        [0., 0., 0., ..., 0., 0., 0.],\n",
              "        ...,\n",
              "        [0., 0., 0., ..., 0., 0., 0.],\n",
              "        [0., 0., 0., ..., 0., 0., 0.],\n",
              "        [0., 0., 0., ..., 0., 0., 0.]],\n",
              "\n",
              "       [[0., 0., 0., ..., 0., 0., 0.],\n",
              "        [0., 0., 0., ..., 0., 0., 0.],\n",
              "        [0., 0., 0., ..., 0., 0., 0.],\n",
              "        ...,\n",
              "        [0., 0., 0., ..., 0., 0., 0.],\n",
              "        [0., 0., 0., ..., 0., 0., 0.],\n",
              "        [0., 0., 0., ..., 0., 0., 0.]]])"
            ]
          },
          "metadata": {
            "tags": []
          },
          "execution_count": 5
        }
      ]
    },
    {
      "cell_type": "markdown",
      "metadata": {
        "id": "mjZR5eHR23Lh"
      },
      "source": [
        "#### 用Keras的內建工具 做 one-hot encoding"
      ]
    },
    {
      "cell_type": "code",
      "metadata": {
        "colab": {
          "base_uri": "https://localhost:8080/"
        },
        "id": "vmnVGHdz23Lr",
        "outputId": "f1372ee2-98a1-4391-a819-a1f7d60dfbf5"
      },
      "source": [
        "from keras.preprocessing.text import Tokenizer\r\n",
        "\r\n",
        "samples = ['The cat sat on the mat.','The dog eat my homework.']\r\n",
        "\r\n",
        "tokenizer = Tokenizer(num_words=1000) # 建立分類器，處理前1000個最常用的單字\r\n",
        "tokenizer.fit_on_texts(samples)\r\n",
        "sequences = tokenizer.texts_to_sequences(samples)\r\n",
        "\r\n",
        "print(sequences)\r\n",
        "\r\n",
        "one_hot_results = tokenizer.texts_to_matrix(samples,mode='binary')\r\n",
        "\r\n",
        "print(one_hot_results.shape)\r\n",
        "print(one_hot_results[0][:15]) # 第一個樣本的前15個\r\n",
        "print(one_hot_results[1][:15]) # 第二個樣本的前15個\r\n",
        "\r\n",
        "word_index = tokenizer.word_index\r\n",
        "print('Found %s unique tokens'% len(word_index))"
      ],
      "execution_count": 8,
      "outputs": [
        {
          "output_type": "stream",
          "text": [
            "[[1, 2, 3, 4, 1, 5], [1, 6, 7, 8, 9]]\n",
            "(2, 100)\n",
            "[0. 1. 1. 1. 1. 1. 0. 0. 0. 0. 0. 0. 0. 0. 0.]\n",
            "[0. 1. 0. 0. 0. 0. 1. 1. 1. 1. 0. 0. 0. 0. 0.]\n",
            "Found 9 unique tokens\n"
          ],
          "name": "stdout"
        }
      ]
    },
    {
      "cell_type": "markdown",
      "metadata": {
        "id": "cIPpAEdV9lxp"
      },
      "source": [
        "#### 使用雜湊技巧做 one-hot encoding"
      ]
    },
    {
      "cell_type": "code",
      "metadata": {
        "colab": {
          "base_uri": "https://localhost:8080/"
        },
        "id": "tW0a0aJH9lxt",
        "outputId": "042e7922-92e7-46c5-91db-a00c132e776f"
      },
      "source": [
        "samples = ['The cat sat on the mat.','The dog eat my homework.']\r\n",
        "\r\n",
        "dimensionality = 1000\r\n",
        "max_length = 10\r\n",
        "\r\n",
        "results = np.zeros((len(samples),max_length,dimensionality))\r\n",
        "\r\n",
        "for i ,smaple in enumerate(samples):\r\n",
        "  for j,eord in list(enumerate(sample.split()))[:max_length]:\r\n",
        "    index = abs(hash(word))%dimensionality # 將token雜湊成0到1000之間的隨機整數索引\r\n",
        "    results[i,j,index] = 1.\r\n",
        "\r\n",
        "print(results.shape)"
      ],
      "execution_count": 9,
      "outputs": [
        {
          "output_type": "stream",
          "text": [
            "(2, 10, 1000)\n"
          ],
          "name": "stdout"
        }
      ]
    },
    {
      "cell_type": "markdown",
      "metadata": {
        "id": "iZIblbIwnc4v"
      },
      "source": [
        "## 文字崁入法 Word Embeddings\r\n",
        " 低維度的浮點數向量\r\n",
        " * 從資料中學習向量的分類方式\r\n",
        " * 將更多資訊壓縮到更少的維度中"
      ]
    },
    {
      "cell_type": "markdown",
      "metadata": {
        "id": "ncr1tnT4_8FP"
      },
      "source": [
        "## 建立文字崁入向量的方法\r\n",
        " ① 使用Embdding layer   \r\n",
        " ② 直接套用其他機器學習以訓練好的文字崁入向量"
      ]
    },
    {
      "cell_type": "markdown",
      "metadata": {
        "id": "Umw5Dq0nRw0x"
      },
      "source": [
        "### 用Keras 的 Embeddung Layer來實作文字崁入法\r\n"
      ]
    },
    {
      "cell_type": "code",
      "metadata": {
        "id": "AqIsHgrIJhJ0"
      },
      "source": [
        "from keras.layers import Embedding\r\n",
        "embedding_layer = Embedding(1000,64)"
      ],
      "execution_count": null,
      "outputs": []
    },
    {
      "cell_type": "markdown",
      "metadata": {
        "id": "FRQbgx9tSTwz"
      },
      "source": [
        "建立 Embedding 層時,其權重(其token向量的內部字典)最初是隨機設定的、就如同任何其它層一樣。  \r\n",
        "在訓練期間,這些文字向量通過反向傳播逐漸調整,建構出嵌入空間以供下游模型使用。  \r\n",
        "一旦完成訓練,嵌入空間將學習出許多結構,"
      ]
    },
    {
      "cell_type": "code",
      "metadata": {
        "colab": {
          "base_uri": "https://localhost:8080/"
        },
        "id": "5-VcNOwMSUBB",
        "outputId": "516de5bc-c626-4081-c459-25dbbdffe5be"
      },
      "source": [
        "from keras.datasets import imdb\r\n",
        "from keras import preprocessing\r\n",
        "\r\n",
        "max_features = 10000\r\n",
        "maxlen = 20\r\n",
        "\r\n",
        "(x_train,y_train),(x_test,y_test) = imdb.load_data(num_words=max_features) # 將文字評論以整數(鍵值)list載入\r\n",
        "\r\n",
        "print(x_train.shape)\r\n",
        "x_train = preprocessing.sequence.pad_sequences(x_train,maxlen=maxlen)\r\n",
        "print(x_train.shape)\r\n",
        "\r\n",
        "print(x_train[0])\r\n",
        "\r\n",
        "x_test = preprocessing.sequence.pad_sequences(x_test,maxlen = maxlen)"
      ],
      "execution_count": 14,
      "outputs": [
        {
          "output_type": "stream",
          "text": [
            "<string>:6: VisibleDeprecationWarning: Creating an ndarray from ragged nested sequences (which is a list-or-tuple of lists-or-tuples-or ndarrays with different lengths or shapes) is deprecated. If you meant to do this, you must specify 'dtype=object' when creating the ndarray\n",
            "/usr/local/lib/python3.7/dist-packages/tensorflow/python/keras/datasets/imdb.py:159: VisibleDeprecationWarning: Creating an ndarray from ragged nested sequences (which is a list-or-tuple of lists-or-tuples-or ndarrays with different lengths or shapes) is deprecated. If you meant to do this, you must specify 'dtype=object' when creating the ndarray\n",
            "  x_train, y_train = np.array(xs[:idx]), np.array(labels[:idx])\n",
            "/usr/local/lib/python3.7/dist-packages/tensorflow/python/keras/datasets/imdb.py:160: VisibleDeprecationWarning: Creating an ndarray from ragged nested sequences (which is a list-or-tuple of lists-or-tuples-or ndarrays with different lengths or shapes) is deprecated. If you meant to do this, you must specify 'dtype=object' when creating the ndarray\n",
            "  x_test, y_test = np.array(xs[idx:]), np.array(labels[idx:])\n"
          ],
          "name": "stderr"
        },
        {
          "output_type": "stream",
          "text": [
            "(25000,)\n",
            "(25000, 20)\n",
            "[  65   16   38 1334   88   12   16  283    5   16 4472  113  103   32\n",
            "   15   16 5345   19  178   32]\n"
          ],
          "name": "stdout"
        }
      ]
    },
    {
      "cell_type": "markdown",
      "metadata": {
        "id": "sB53ogxSZxdb"
      },
      "source": [
        "#### 訓練模型"
      ]
    },
    {
      "cell_type": "code",
      "metadata": {
        "colab": {
          "base_uri": "https://localhost:8080/"
        },
        "id": "1dT0fopvZxsu",
        "outputId": "829826e9-b0ee-4386-9c9f-a53ae0bfa887"
      },
      "source": [
        "from keras.models import Sequential\r\n",
        "from keras.layers import Flatten,Dense,Embedding\r\n",
        "\r\n",
        "model = Sequential()\r\n",
        "model.add(Embedding(10000,8,input_length=maxlen))\r\n",
        "model.add(Flatten())\r\n",
        "model.add(Dense(1,activation='sigmoid'))\r\n",
        "model.compile(optimizer='rmsprop',loss='binary_crossentropy',metrics=['acc'])\r\n",
        "model.summary()\r\n",
        "\r\n",
        "history = model.fit(x_train,y_train,epochs=10,batch_size=32,validation_split=0.2)"
      ],
      "execution_count": 19,
      "outputs": [
        {
          "output_type": "stream",
          "text": [
            "Model: \"sequential_4\"\n",
            "_________________________________________________________________\n",
            "Layer (type)                 Output Shape              Param #   \n",
            "=================================================================\n",
            "embedding_4 (Embedding)      (None, 20, 8)             80000     \n",
            "_________________________________________________________________\n",
            "flatten_4 (Flatten)          (None, 160)               0         \n",
            "_________________________________________________________________\n",
            "dense_3 (Dense)              (None, 1)                 161       \n",
            "=================================================================\n",
            "Total params: 80,161\n",
            "Trainable params: 80,161\n",
            "Non-trainable params: 0\n",
            "_________________________________________________________________\n",
            "Epoch 1/10\n",
            "625/625 [==============================] - 2s 2ms/step - loss: 0.6836 - acc: 0.5695 - val_loss: 0.6076 - val_acc: 0.6954\n",
            "Epoch 2/10\n",
            "625/625 [==============================] - 1s 2ms/step - loss: 0.5576 - acc: 0.7448 - val_loss: 0.5207 - val_acc: 0.7340\n",
            "Epoch 3/10\n",
            "625/625 [==============================] - 1s 2ms/step - loss: 0.4666 - acc: 0.7881 - val_loss: 0.4993 - val_acc: 0.7422\n",
            "Epoch 4/10\n",
            "625/625 [==============================] - 1s 2ms/step - loss: 0.4290 - acc: 0.8037 - val_loss: 0.4949 - val_acc: 0.7526\n",
            "Epoch 5/10\n",
            "625/625 [==============================] - 1s 2ms/step - loss: 0.3964 - acc: 0.8240 - val_loss: 0.4953 - val_acc: 0.7542\n",
            "Epoch 6/10\n",
            "625/625 [==============================] - 1s 2ms/step - loss: 0.3765 - acc: 0.8354 - val_loss: 0.4961 - val_acc: 0.7560\n",
            "Epoch 7/10\n",
            "625/625 [==============================] - 1s 2ms/step - loss: 0.3611 - acc: 0.8422 - val_loss: 0.5006 - val_acc: 0.7582\n",
            "Epoch 8/10\n",
            "625/625 [==============================] - 1s 2ms/step - loss: 0.3416 - acc: 0.8525 - val_loss: 0.5068 - val_acc: 0.7558\n",
            "Epoch 9/10\n",
            "625/625 [==============================] - 1s 2ms/step - loss: 0.3264 - acc: 0.8618 - val_loss: 0.5120 - val_acc: 0.7506\n",
            "Epoch 10/10\n",
            "625/625 [==============================] - 1s 2ms/step - loss: 0.3033 - acc: 0.8753 - val_loss: 0.5191 - val_acc: 0.7478\n"
          ],
          "name": "stdout"
        }
      ]
    },
    {
      "cell_type": "code",
      "metadata": {
        "colab": {
          "base_uri": "https://localhost:8080/"
        },
        "id": "6p6g4bfOd8Th",
        "outputId": "b92fc472-09a5-49a8-a26e-86b44ab5b566"
      },
      "source": [
        "# 驗證準確度: 約 74.66%\r\n",
        "print(history.history['val_acc'][-1])"
      ],
      "execution_count": 28,
      "outputs": [
        {
          "output_type": "stream",
          "text": [
            "0.7477999925613403\n"
          ],
          "name": "stdout"
        }
      ]
    },
    {
      "cell_type": "markdown",
      "metadata": {
        "id": "D3vo6SaqmuPI"
      },
      "source": [
        "#### 直接套用其他機器學習以訓練好的文字崁入向量  \r\n",
        "使用前提：  \r\n",
        "這些訓練好的崁入向量必須是**高度結構化**→涵蓋語言結構的普遍特性\r\n",
        "* [Word2vec](https://code.google.com/archive/p/word2vec)\r\n",
        "* [GloVe](https://nlp.stanford.edu/projects/glove)"
      ]
    },
    {
      "cell_type": "markdown",
      "metadata": {
        "id": "yNXL8TP2nc4w"
      },
      "source": [
        "## 自原始文字資料到文字崁入向量 [*本地端進行*]"
      ]
    },
    {
      "cell_type": "markdown",
      "metadata": {
        "id": "CqtZ0X0_nc4w"
      },
      "source": [
        "### 下載[IMDB資料](https://ai/standord.edu/~amaas/data/sentiment/)作為原始資料"
      ]
    },
    {
      "cell_type": "code",
      "metadata": {
        "id": "CWwEIPJhopPJ"
      },
      "source": [
        "import os\r\n",
        "\r\n"
      ],
      "execution_count": null,
      "outputs": []
    },
    {
      "cell_type": "markdown",
      "metadata": {
        "id": "RebLt7KAnc4x"
      },
      "source": [
        "# 6-2 循環神經網路 RNN\n",
        "* SimpleRNN\n",
        "* LSTM\n",
        "* GRU"
      ]
    },
    {
      "cell_type": "markdown",
      "metadata": {
        "id": "4R5kSSrFnc4x"
      },
      "source": [
        "## 以 Keras 實現 LSTM"
      ]
    },
    {
      "cell_type": "markdown",
      "metadata": {
        "id": "ho7W8NZmnc4x"
      },
      "source": [
        "# 循環神經網路的進階用法\n",
        "* 循環丟棄 (Recurrent dropout)\n",
        "* 堆疊循環層 (Stacking recurrent layers)\n",
        "* 雙向循環層 (Bidirectional recurent layers)"
      ]
    },
    {
      "cell_type": "markdown",
      "metadata": {
        "id": "sy600nxEnc4y"
      },
      "source": [
        "## 一般的機器學習方法"
      ]
    },
    {
      "cell_type": "markdown",
      "metadata": {
        "id": "Xp1bnqQDnc4y"
      },
      "source": [
        "## 循環丟棄 (Recurrent dropout)"
      ]
    },
    {
      "cell_type": "markdown",
      "metadata": {
        "id": "WAkrhJV2nc40"
      },
      "source": [
        "## 堆疊循環層 (Stacking recurrent layers)"
      ]
    },
    {
      "cell_type": "markdown",
      "metadata": {
        "id": "PqB--d3Cnc41"
      },
      "source": [
        "## 雙向循環層 (Bidirectional recurent layers)"
      ]
    },
    {
      "cell_type": "markdown",
      "metadata": {
        "id": "YIawYpRInc41"
      },
      "source": [
        "# 6-3 使用卷積神經網路進行序列資料處理"
      ]
    },
    {
      "cell_type": "markdown",
      "metadata": {
        "id": "35Z04r8Wnc42"
      },
      "source": [
        "## 1D 卷積神經網路"
      ]
    },
    {
      "cell_type": "markdown",
      "metadata": {
        "id": "k2oYtFFlnc42"
      },
      "source": [
        "## 結合 CNN 與 RNN 來處理長序列資料"
      ]
    }
  ]
}