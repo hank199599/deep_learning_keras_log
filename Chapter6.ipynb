{
  "nbformat": 4,
  "nbformat_minor": 0,
  "metadata": {
    "colab": {
      "name": "Chapter6.ipynb",
      "provenance": [],
      "include_colab_link": true
    },
    "kernelspec": {
      "name": "python3",
      "display_name": "Python 3"
    }
  },
  "cells": [
    {
      "cell_type": "markdown",
      "metadata": {
        "id": "view-in-github",
        "colab_type": "text"
      },
      "source": [
        "<a href=\"https://colab.research.google.com/github/hank199599/deep_learning_keras_log/blob/main/Chapter6.ipynb\" target=\"_parent\"><img src=\"https://colab.research.google.com/assets/colab-badge.svg\" alt=\"Open In Colab\"/></a>"
      ]
    },
    {
      "cell_type": "markdown",
      "metadata": {
        "id": "yaifUbsltw0v"
      },
      "source": [
        "# 文件資料的預處理 (Preprocessing)\r\n",
        "文件資料的基本單位：\r\n",
        "* 單字(word)\r\n",
        "* 字元(characters)\r\n",
        "  \r\n",
        "在神經網路的訓練中，我們使用文件向量化(text vertorizing)來進行轉換"
      ]
    },
    {
      "cell_type": "markdown",
      "metadata": {
        "id": "YSWECK2vpgaO"
      },
      "source": [
        "## 文件向量化 (text vectorizing)\r\n",
        "1. 將文件資料分解為小單元(單字、字元或n元語法)\r\n",
        "2. 經由一個字點對照表將token編碼成數值向量\r\n",
        "3 進行one-hot-encodeing將token向量化\r\n",
        "4. 將這些數據向量把包成序列張量送入神經網路  \r\n",
        "![pic 6-1](https://raw.githubusercontent.com/hank199599/deep_learning_keras_log/main/pictures/6-1.png)"
      ]
    },
    {
      "cell_type": "markdown",
      "metadata": {
        "id": "npdbFZ3nrflb"
      },
      "source": [
        "### 單字和字元的one-hot encoding\r\n",
        "1. 建立一個字典\r\n",
        "2. 收錄到字典當作鍵(key)\r\n",
        "3. 給每個鍵值唯一的整數作為鍵值(value)"
      ]
    },
    {
      "cell_type": "markdown",
      "metadata": {
        "id": "R5RrJujE2Eyd"
      },
      "source": [
        "#### 單字的one-hot encoding"
      ]
    },
    {
      "cell_type": "code",
      "metadata": {
        "colab": {
          "base_uri": "https://localhost:8080/"
        },
        "id": "if79padCpczN",
        "outputId": "9916f5cf-5dfa-41e0-f59d-2fee5f75de6e"
      },
      "source": [
        "import numpy as np\r\n",
        "\r\n",
        "samples = ['The cat sat on the mat.','The dog eat my homework.']\r\n",
        "\r\n",
        "token_index = {}\r\n",
        "\r\n",
        "# 建立字典\r\n",
        "for sample in samples:\r\n",
        "  for word in sample.split():\r\n",
        "    if word not in token_index:\r\n",
        "      token_index[word]=len(token_index)+1\r\n",
        "\r\n",
        "# 字典建立完成\r\n",
        "\r\n",
        "max_length = 10\r\n",
        "\r\n",
        "results = np.zeros(shape=(len(samples),max_length,max(token_index.values())+1))\r\n",
        "\r\n",
        "print(results.shape)\r\n",
        "\r\n",
        "for i,sample in enumerate(smaples):\r\n",
        "  for j , word in list(enumerate(sample.split()))[:max_length]:\r\n",
        "    index = token_index.get(word)\r\n",
        "    results[i,j,index] = 1. # 把對應元素設為1"
      ],
      "execution_count": 2,
      "outputs": [
        {
          "output_type": "stream",
          "text": [
            "(2, 10, 11)\n"
          ],
          "name": "stdout"
        }
      ]
    },
    {
      "cell_type": "code",
      "metadata": {
        "id": "UH1wkTLH12IX",
        "outputId": "cd80fd43-e75a-4cfc-b1c1-c17ab66ed47d",
        "colab": {
          "base_uri": "https://localhost:8080/"
        }
      },
      "source": [
        "results"
      ],
      "execution_count": 3,
      "outputs": [
        {
          "output_type": "execute_result",
          "data": {
            "text/plain": [
              "array([[[0., 1., 0., 0., 0., 0., 0., 0., 0., 0., 0.],\n",
              "        [0., 0., 1., 0., 0., 0., 0., 0., 0., 0., 0.],\n",
              "        [0., 0., 0., 1., 0., 0., 0., 0., 0., 0., 0.],\n",
              "        [0., 0., 0., 0., 1., 0., 0., 0., 0., 0., 0.],\n",
              "        [0., 0., 0., 0., 0., 1., 0., 0., 0., 0., 0.],\n",
              "        [0., 0., 0., 0., 0., 0., 1., 0., 0., 0., 0.],\n",
              "        [0., 0., 0., 0., 0., 0., 0., 0., 0., 0., 0.],\n",
              "        [0., 0., 0., 0., 0., 0., 0., 0., 0., 0., 0.],\n",
              "        [0., 0., 0., 0., 0., 0., 0., 0., 0., 0., 0.],\n",
              "        [0., 0., 0., 0., 0., 0., 0., 0., 0., 0., 0.]],\n",
              "\n",
              "       [[0., 1., 0., 0., 0., 0., 0., 0., 0., 0., 0.],\n",
              "        [0., 0., 0., 0., 0., 0., 0., 1., 0., 0., 0.],\n",
              "        [0., 0., 0., 0., 0., 0., 0., 0., 1., 0., 0.],\n",
              "        [0., 0., 0., 0., 0., 0., 0., 0., 0., 1., 0.],\n",
              "        [0., 0., 0., 0., 0., 0., 0., 0., 0., 0., 1.],\n",
              "        [0., 0., 0., 0., 0., 0., 0., 0., 0., 0., 0.],\n",
              "        [0., 0., 0., 0., 0., 0., 0., 0., 0., 0., 0.],\n",
              "        [0., 0., 0., 0., 0., 0., 0., 0., 0., 0., 0.],\n",
              "        [0., 0., 0., 0., 0., 0., 0., 0., 0., 0., 0.],\n",
              "        [0., 0., 0., 0., 0., 0., 0., 0., 0., 0., 0.]]])"
            ]
          },
          "metadata": {
            "tags": []
          },
          "execution_count": 3
        }
      ]
    },
    {
      "cell_type": "markdown",
      "metadata": {
        "id": "hOdXyXRy2I1S"
      },
      "source": [
        "#### 字元的one-hot encoding"
      ]
    },
    {
      "cell_type": "code",
      "metadata": {
        "colab": {
          "base_uri": "https://localhost:8080/"
        },
        "id": "Vlw_2NdQ2I1c",
        "outputId": "698d9f7b-ed58-4f17-a5e5-c79dc6124792"
      },
      "source": [
        "import string\r\n",
        "\r\n",
        "samples = ['The cat sat on the mat.','The dog eat my homework.']\r\n",
        "characters = string.printable\r\n",
        "print(len(characters))\r\n",
        "\r\n",
        "token_index = dict(zip(characters,range(1,len(characters)+1)))\r\n",
        "\r\n",
        "# 字典建立完成\r\n",
        "\r\n",
        "max_length = 50\r\n",
        "\r\n",
        "results = np.zeros(shape=(len(samples),max_length,max(token_index.values())+1))\r\n",
        "\r\n",
        "print(results.shape)\r\n",
        "\r\n",
        "for i,sample in enumerate(smaples):\r\n",
        "  for j , character in enumerate(sample):\r\n",
        "    index = token_index.get(character)\r\n",
        "    results[i,j,index] = 1. # 把對應元素設為1"
      ],
      "execution_count": 4,
      "outputs": [
        {
          "output_type": "stream",
          "text": [
            "100\n",
            "(2, 50, 101)\n"
          ],
          "name": "stdout"
        }
      ]
    },
    {
      "cell_type": "code",
      "metadata": {
        "id": "VMIvjl0d2ySQ",
        "outputId": "ed9181c5-1498-4ca3-ff28-bda786795e52",
        "colab": {
          "base_uri": "https://localhost:8080/"
        }
      },
      "source": [
        "results"
      ],
      "execution_count": 5,
      "outputs": [
        {
          "output_type": "execute_result",
          "data": {
            "text/plain": [
              "array([[[0., 0., 0., ..., 0., 0., 0.],\n",
              "        [0., 0., 0., ..., 0., 0., 0.],\n",
              "        [0., 0., 0., ..., 0., 0., 0.],\n",
              "        ...,\n",
              "        [0., 0., 0., ..., 0., 0., 0.],\n",
              "        [0., 0., 0., ..., 0., 0., 0.],\n",
              "        [0., 0., 0., ..., 0., 0., 0.]],\n",
              "\n",
              "       [[0., 0., 0., ..., 0., 0., 0.],\n",
              "        [0., 0., 0., ..., 0., 0., 0.],\n",
              "        [0., 0., 0., ..., 0., 0., 0.],\n",
              "        ...,\n",
              "        [0., 0., 0., ..., 0., 0., 0.],\n",
              "        [0., 0., 0., ..., 0., 0., 0.],\n",
              "        [0., 0., 0., ..., 0., 0., 0.]]])"
            ]
          },
          "metadata": {
            "tags": []
          },
          "execution_count": 5
        }
      ]
    },
    {
      "cell_type": "markdown",
      "metadata": {
        "id": "mjZR5eHR23Lh"
      },
      "source": [
        "#### 用Keras的內建工具 做 one-hot encoding"
      ]
    },
    {
      "cell_type": "code",
      "metadata": {
        "colab": {
          "base_uri": "https://localhost:8080/"
        },
        "id": "vmnVGHdz23Lr",
        "outputId": "f1372ee2-98a1-4391-a819-a1f7d60dfbf5"
      },
      "source": [
        "from keras.preprocessing.text import Tokenizer\r\n",
        "\r\n",
        "samples = ['The cat sat on the mat.','The dog eat my homework.']\r\n",
        "\r\n",
        "tokenizer = Tokenizer(num_words=100)\r\n",
        "tokenizer.fit_on_texts(samples)\r\n",
        "sequences = tokenizer.texts_to_sequences(samples)\r\n",
        "\r\n",
        "print(sequences)\r\n",
        "\r\n",
        "one_hot_results = tokenizer.texts_to_matrix(samples,mode='binary')\r\n",
        "\r\n",
        "print(one_hot_results.shape)\r\n",
        "print(one_hot_results[0][:15]) # 第一個樣本的前15個\r\n",
        "print(one_hot_results[1][:15]) # 第二個樣本的前15個\r\n",
        "\r\n",
        "word_index = tokenizer.word_index\r\n",
        "print('Found %s unique tokens'% len(word_index))"
      ],
      "execution_count": 8,
      "outputs": [
        {
          "output_type": "stream",
          "text": [
            "[[1, 2, 3, 4, 1, 5], [1, 6, 7, 8, 9]]\n",
            "(2, 100)\n",
            "[0. 1. 1. 1. 1. 1. 0. 0. 0. 0. 0. 0. 0. 0. 0.]\n",
            "[0. 1. 0. 0. 0. 0. 1. 1. 1. 1. 0. 0. 0. 0. 0.]\n",
            "Found 9 unique tokens\n"
          ],
          "name": "stdout"
        }
      ]
    },
    {
      "cell_type": "markdown",
      "metadata": {
        "id": "iZIblbIwnc4v"
      },
      "source": [
        "## 文字崁入法 Word Embeddings"
      ]
    },
    {
      "cell_type": "markdown",
      "metadata": {
        "id": "yNXL8TP2nc4w"
      },
      "source": [
        "## 自原始文字資料到文字崁入向量"
      ]
    },
    {
      "cell_type": "markdown",
      "metadata": {
        "id": "CqtZ0X0_nc4w"
      },
      "source": [
        ""
      ]
    },
    {
      "cell_type": "markdown",
      "metadata": {
        "id": "RebLt7KAnc4x"
      },
      "source": [
        "# 循環神經網路 RNN\n",
        "* SimpleRNN\n",
        "* LSTM\n",
        "* GRU"
      ]
    },
    {
      "cell_type": "markdown",
      "metadata": {
        "id": "4R5kSSrFnc4x"
      },
      "source": [
        "## 以 Keras 實現 LSTM"
      ]
    },
    {
      "cell_type": "markdown",
      "metadata": {
        "id": "ho7W8NZmnc4x"
      },
      "source": [
        "# 循環神經網路的進階用法\n",
        "* 循環丟棄 (Recurrent dropout)\n",
        "* 堆疊循環層 (Stacking recurrent layers)\n",
        "* 雙向循環層 (Bidirectional recurent layers)"
      ]
    },
    {
      "cell_type": "markdown",
      "metadata": {
        "id": "sy600nxEnc4y"
      },
      "source": [
        "## 一般的機器學習方法"
      ]
    },
    {
      "cell_type": "markdown",
      "metadata": {
        "id": "Xp1bnqQDnc4y"
      },
      "source": [
        "## 循環丟棄 (Recurrent dropout)"
      ]
    },
    {
      "cell_type": "markdown",
      "metadata": {
        "id": "WAkrhJV2nc40"
      },
      "source": [
        "## 堆疊循環層 (Stacking recurrent layers)"
      ]
    },
    {
      "cell_type": "markdown",
      "metadata": {
        "id": "PqB--d3Cnc41"
      },
      "source": [
        "## 雙向循環層 (Bidirectional recurent layers)"
      ]
    },
    {
      "cell_type": "markdown",
      "metadata": {
        "id": "YIawYpRInc41"
      },
      "source": [
        "# 使用卷積神經網路進行序列資料處理"
      ]
    },
    {
      "cell_type": "markdown",
      "metadata": {
        "id": "35Z04r8Wnc42"
      },
      "source": [
        "## 1D 卷積神經網路"
      ]
    },
    {
      "cell_type": "markdown",
      "metadata": {
        "id": "k2oYtFFlnc42"
      },
      "source": [
        "## 結合 CNN 與 RNN 來處理長序列資料"
      ]
    }
  ]
}