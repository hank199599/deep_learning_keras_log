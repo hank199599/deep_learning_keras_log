{
  "nbformat": 4,
  "nbformat_minor": 0,
  "metadata": {
    "colab": {
      "name": "Chapter6.ipynb",
      "provenance": [],
      "include_colab_link": true
    },
    "kernelspec": {
      "name": "python3",
      "display_name": "Python 3"
    }
  },
  "cells": [
    {
      "cell_type": "markdown",
      "metadata": {
        "id": "view-in-github",
        "colab_type": "text"
      },
      "source": [
        "<a href=\"https://colab.research.google.com/github/hank199599/deep_learning_keras_log/blob/main/Chapter6.ipynb\" target=\"_parent\"><img src=\"https://colab.research.google.com/assets/colab-badge.svg\" alt=\"Open In Colab\"/></a>"
      ]
    },
    {
      "cell_type": "markdown",
      "metadata": {
        "id": "yaifUbsltw0v"
      },
      "source": [
        "# 文件資料的預處理 (Preprocessing)\r\n",
        "文件資料的基本單位：\r\n",
        "* 單字(word)\r\n",
        "* 字元(characters)\r\n",
        "  \r\n",
        "在神經網路的訓練中，我們使用文件向量化(text vertorizing)來進行轉換"
      ]
    },
    {
      "cell_type": "markdown",
      "metadata": {
        "id": "YSWECK2vpgaO"
      },
      "source": [
        "## 文件向量化 (text vectorizing)\r\n",
        "1. 將文件資料分解為小單元(單字、字元或n元語法)\r\n",
        "2. 經由一個字點對照表將token編碼成數值向量\r\n",
        "3 進行one-hot-encodeing將token向量化\r\n",
        "4. 將這些數據向量把包成序列張量送入神經網路  \r\n",
        "![pic 6-1](https://raw.githubusercontent.com/hank199599/deep_learning_keras_log/main/pictures/6-1.png)"
      ]
    },
    {
      "cell_type": "markdown",
      "metadata": {
        "id": "npdbFZ3nrflb"
      },
      "source": [
        "### 單字和字元的one-hot encoding\r\n",
        "1. 建立一個字典\r\n",
        "2. 收錄到字典當作鍵(key)\r\n",
        "3. 給每個鍵值唯一的整數作為鍵值(value)"
      ]
    },
    {
      "cell_type": "code",
      "metadata": {
        "id": "if79padCpczN"
      },
      "source": [
        ""
      ],
      "execution_count": null,
      "outputs": []
    },
    {
      "cell_type": "markdown",
      "metadata": {
        "id": "iZIblbIwnc4v"
      },
      "source": [
        "## 文字崁入法 Woed Embeddings"
      ]
    },
    {
      "cell_type": "markdown",
      "metadata": {
        "id": "yNXL8TP2nc4w"
      },
      "source": [
        "## 自原始文字資料到文字崁入向量"
      ]
    },
    {
      "cell_type": "markdown",
      "metadata": {
        "id": "CqtZ0X0_nc4w"
      },
      "source": [
        ""
      ]
    },
    {
      "cell_type": "markdown",
      "metadata": {
        "id": "RebLt7KAnc4x"
      },
      "source": [
        "# 循環神經網路 RNN\n",
        "* SimpleRNN\n",
        "* LSTM\n",
        "* GRU"
      ]
    },
    {
      "cell_type": "markdown",
      "metadata": {
        "id": "4R5kSSrFnc4x"
      },
      "source": [
        "## 以 Keras 實現 LSTM"
      ]
    },
    {
      "cell_type": "markdown",
      "metadata": {
        "id": "ho7W8NZmnc4x"
      },
      "source": [
        "# 循環神經網路的進階用法\n",
        "* 循環丟棄 (Recurrent dropout)\n",
        "* 堆疊循環層 (Stacking recurrent layers)\n",
        "* 雙向循環層 (Bidirectional recurent layers)"
      ]
    },
    {
      "cell_type": "markdown",
      "metadata": {
        "id": "sy600nxEnc4y"
      },
      "source": [
        "## 一般的機器學習方法"
      ]
    },
    {
      "cell_type": "markdown",
      "metadata": {
        "id": "Xp1bnqQDnc4y"
      },
      "source": [
        "## 循環丟棄 (Recurrent dropout)"
      ]
    },
    {
      "cell_type": "markdown",
      "metadata": {
        "id": "WAkrhJV2nc40"
      },
      "source": [
        "## 堆疊循環層 (Stacking recurrent layers)"
      ]
    },
    {
      "cell_type": "markdown",
      "metadata": {
        "id": "PqB--d3Cnc41"
      },
      "source": [
        "## 雙向循環層 (Bidirectional recurent layers)"
      ]
    },
    {
      "cell_type": "markdown",
      "metadata": {
        "id": "YIawYpRInc41"
      },
      "source": [
        "# 使用卷積神經網路進行序列資料處理"
      ]
    },
    {
      "cell_type": "markdown",
      "metadata": {
        "id": "35Z04r8Wnc42"
      },
      "source": [
        "## 1D 卷積神經網路"
      ]
    },
    {
      "cell_type": "markdown",
      "metadata": {
        "id": "k2oYtFFlnc42"
      },
      "source": [
        "## 結合 CNN 與 RNN 來處理長序列資料"
      ]
    }
  ]
}