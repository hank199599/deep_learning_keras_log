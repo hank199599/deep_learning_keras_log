{
  "nbformat": 4,
  "nbformat_minor": 0,
  "metadata": {
    "colab": {
      "name": "Chapter6.ipynb",
      "provenance": [],
      "authorship_tag": "ABX9TyNy53OHJTs9J5jO+FpWWi8d",
      "include_colab_link": true
    },
    "kernelspec": {
      "name": "python3",
      "display_name": "Python 3"
    }
  },
  "cells": [
    {
      "cell_type": "markdown",
      "metadata": {
        "id": "view-in-github",
        "colab_type": "text"
      },
      "source": [
        "<a href=\"https://colab.research.google.com/github/hank199599/deep_learning_keras_log/blob/main/Chapter6.ipynb\" target=\"_parent\"><img src=\"https://colab.research.google.com/assets/colab-badge.svg\" alt=\"Open In Colab\"/></a>"
      ]
    },
    {
      "source": [
        "# 文件資料的預處理"
      ],
      "cell_type": "markdown",
      "metadata": {
        "id": "yaifUbsltw0v"
      }
    },
    {
      "source": [
        "## 文字崁入法 Woed Embeddings"
      ],
      "cell_type": "markdown",
      "metadata": {}
    },
    {
      "source": [
        "## 自原始文字資料到文字崁入向量"
      ],
      "cell_type": "markdown",
      "metadata": {}
    },
    {
      "source": [],
      "cell_type": "markdown",
      "metadata": {}
    },
    {
      "source": [
        "# 循環神經網路 RNN\n",
        "* SimpleRNN\n",
        "* LSTM\n",
        "* GRU"
      ],
      "cell_type": "markdown",
      "metadata": {}
    },
    {
      "source": [
        "## 以 Keras 實現 LSTM"
      ],
      "cell_type": "markdown",
      "metadata": {}
    },
    {
      "source": [
        "# 循環神經網路的進階用法\n",
        "* 循環丟棄 (Recurrent dropout)\n",
        "* 堆疊循環層 (Stacking recurrent layers)\n",
        "* 雙向循環層 (Bidirectional recurent layers)"
      ],
      "cell_type": "markdown",
      "metadata": {}
    },
    {
      "source": [
        "## 一般的機器學習方法"
      ],
      "cell_type": "markdown",
      "metadata": {}
    },
    {
      "source": [
        "## 循環丟棄 (Recurrent dropout)"
      ],
      "cell_type": "markdown",
      "metadata": {}
    },
    {
      "source": [
        "## 堆疊循環層 (Stacking recurrent layers)"
      ],
      "cell_type": "markdown",
      "metadata": {}
    },
    {
      "source": [
        "## 雙向循環層 (Bidirectional recurent layers)"
      ],
      "cell_type": "markdown",
      "metadata": {}
    },
    {
      "source": [
        "# 使用卷積神經網路進行序列資料處理"
      ],
      "cell_type": "markdown",
      "metadata": {}
    },
    {
      "source": [
        "## 1D 卷積神經網路"
      ],
      "cell_type": "markdown",
      "metadata": {}
    },
    {
      "source": [
        "## 結合 CNN 與 RNN 來處理長序列資料"
      ],
      "cell_type": "markdown",
      "metadata": {}
    }
  ]
}