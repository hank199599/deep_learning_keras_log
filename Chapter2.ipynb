{
  "nbformat": 4,
  "nbformat_minor": 0,
  "metadata": {
    "colab": {
      "name": "Chapter2.ipynb",
      "provenance": [],
      "authorship_tag": "ABX9TyO3N0pORONp26La3dD4XGhn",
      "include_colab_link": true
    },
    "kernelspec": {
      "name": "python3",
      "display_name": "Python 3"
    }
  },
  "cells": [
    {
      "cell_type": "markdown",
      "metadata": {
        "id": "view-in-github",
        "colab_type": "text"
      },
      "source": [
        "<a href=\"https://colab.research.google.com/github/hank199599/deep_learning_keras_log/blob/main/Chapter2.ipynb\" target=\"_parent\"><img src=\"https://colab.research.google.com/assets/colab-badge.svg\" alt=\"Open In Colab\"/></a>"
      ]
    },
    {
      "cell_type": "markdown",
      "metadata": {
        "id": "IqEHFE-J8XJm"
      },
      "source": [
        "# 2-1 初探神經網路：第一支神經網路\r\n"
      ]
    },
    {
      "cell_type": "markdown",
      "metadata": {
        "id": "jZ355JXh9ORF"
      },
      "source": [
        "## MINIST 資料集圖片辨識\r\n",
        "深度學習的「Hello World!」\r\n",
        "1. 載入mnist資料集，含(train_images,train_labels)和(test_images,test_labels)\r\n",
        "2. 用兩個Dense層架構(network.add())了一個神經網路\r\n",
        "3. 用network.compile()來編譯神經網路，此時要指定optimmizer、loss、metrices三個參數\r\n",
        "4.要將輸入資料集做前處理，用reshape()和astype()來做 \r\n",
        "5. 對輸入的標籤做分類標碼\r\n",
        "6. 用network.fit()來進行訓練\r\n",
        "7. 用network.evaluate()評估成果"
      ]
    },
    {
      "cell_type": "code",
      "metadata": {
        "id": "yaifUbsltw0v"
      },
      "source": [
        "# 在Keras中載入MNIST資料集\r\n",
        "from keras.datasets import mnist\r\n",
        "\r\n",
        "(train_images,train_labels),(test_images,test_labels) = mnist.load_data()"
      ],
      "execution_count": 14,
      "outputs": []
    },
    {
      "cell_type": "markdown",
      "metadata": {
        "id": "cWfJNWO5-tqW"
      },
      "source": [
        "查看驗證資料"
      ]
    },
    {
      "cell_type": "code",
      "metadata": {
        "colab": {
          "base_uri": "https://localhost:8080/"
        },
        "id": "yjIrSmqn9NSW",
        "outputId": "66a20e37-7393-4384-d223-ba967daa3db5"
      },
      "source": [
        "train_images.shape"
      ],
      "execution_count": 15,
      "outputs": [
        {
          "output_type": "execute_result",
          "data": {
            "text/plain": [
              "(60000, 28, 28)"
            ]
          },
          "metadata": {
            "tags": []
          },
          "execution_count": 15
        }
      ]
    },
    {
      "cell_type": "code",
      "metadata": {
        "colab": {
          "base_uri": "https://localhost:8080/"
        },
        "id": "LCurHDH5-yRt",
        "outputId": "2227d5fb-4276-4c3a-9b6b-abad330f4126"
      },
      "source": [
        "len(train_labels)"
      ],
      "execution_count": 16,
      "outputs": [
        {
          "output_type": "execute_result",
          "data": {
            "text/plain": [
              "60000"
            ]
          },
          "metadata": {
            "tags": []
          },
          "execution_count": 16
        }
      ]
    },
    {
      "cell_type": "code",
      "metadata": {
        "colab": {
          "base_uri": "https://localhost:8080/"
        },
        "id": "RFRecbit-2A9",
        "outputId": "5777d3ff-0ba9-4111-b828-77150845da55"
      },
      "source": [
        "train_labels\r\n",
        "#標籤是0-9之間的數字，資料型別是unit8"
      ],
      "execution_count": 17,
      "outputs": [
        {
          "output_type": "execute_result",
          "data": {
            "text/plain": [
              "array([5, 0, 4, ..., 5, 6, 8], dtype=uint8)"
            ]
          },
          "metadata": {
            "tags": []
          },
          "execution_count": 17
        }
      ]
    },
    {
      "cell_type": "markdown",
      "metadata": {
        "id": "a7YTx0FZ_F7R"
      },
      "source": [
        "查看測試資料"
      ]
    },
    {
      "cell_type": "code",
      "metadata": {
        "colab": {
          "base_uri": "https://localhost:8080/"
        },
        "id": "9wjTxt-R_F7W",
        "outputId": "3fef51d5-2a48-44b9-cdff-e08d3f76ca80"
      },
      "source": [
        "test_images.shape"
      ],
      "execution_count": 18,
      "outputs": [
        {
          "output_type": "execute_result",
          "data": {
            "text/plain": [
              "(10000, 28, 28)"
            ]
          },
          "metadata": {
            "tags": []
          },
          "execution_count": 18
        }
      ]
    },
    {
      "cell_type": "code",
      "metadata": {
        "colab": {
          "base_uri": "https://localhost:8080/"
        },
        "id": "i0aCBG7__F7Y",
        "outputId": "14ef4222-abdc-408e-cc52-55b5577f4649"
      },
      "source": [
        "len(test_labels)"
      ],
      "execution_count": 19,
      "outputs": [
        {
          "output_type": "execute_result",
          "data": {
            "text/plain": [
              "10000"
            ]
          },
          "metadata": {
            "tags": []
          },
          "execution_count": 19
        }
      ]
    },
    {
      "cell_type": "code",
      "metadata": {
        "colab": {
          "base_uri": "https://localhost:8080/"
        },
        "id": "hjAqjgpr_F7a",
        "outputId": "bd2e284b-0f6f-4864-b8d6-b4d3dda4bb2c"
      },
      "source": [
        "test_labels\r\n",
        "#標籤是0-9之間的數字，資料型別是unit8"
      ],
      "execution_count": 20,
      "outputs": [
        {
          "output_type": "execute_result",
          "data": {
            "text/plain": [
              "array([7, 2, 1, ..., 4, 5, 6], dtype=uint8)"
            ]
          },
          "metadata": {
            "tags": []
          },
          "execution_count": 20
        }
      ]
    },
    {
      "cell_type": "markdown",
      "metadata": {
        "id": "sZPLkDsdPFXK"
      },
      "source": [
        "# 整體操作流程\r\n",
        "①  我們提供訓練集 train_images 和 train_labels 給神經網路  \r\n",
        "②  神經網路學習把圖片加以歸類,並且和每張圖片的標籤對比,如果歸類錯誤就加以修正。  \r\n",
        "③最後,我們要求神經網路對 test_images 中的圖片進行預測、並進行驗證,確 認是否與 test_labels 中記錄的標籤符合。\r\n",
        " "
      ]
    },
    {
      "cell_type": "markdown",
      "metadata": {
        "id": "cko3WUNR0Xk5"
      },
      "source": [
        "神經網路架構"
      ]
    },
    {
      "cell_type": "markdown",
      "metadata": {
        "id": "M8l8pIMn07Hj"
      },
      "source": [
        "## **密集層**/全連接層(fully connected)  \r\n",
        "![pic-1](https://ithelp.ithome.com.tw/upload/images/20190925/20120549IXrUJjgcpN.png)  \r\n",
        "指前後層的神經元彼此連接在一起，  \r\n",
        "前一層神經元皆對應到後一層的神經元。"
      ]
    },
    {
      "cell_type": "code",
      "metadata": {
        "id": "sAKO_Drk0bvR"
      },
      "source": [
        "from keras import models\r\n",
        "from keras import layers\r\n",
        "\r\n",
        "network = models.Sequential()\r\n",
        "network.add(layers.Dense(512,activation=\"relu\",input_shape=(28*28,)))\r\n",
        "network.add(layers.Dense(10,activation='softmax'))"
      ],
      "execution_count": 21,
      "outputs": []
    },
    {
      "cell_type": "code",
      "metadata": {
        "id": "9NondBR01xIs"
      },
      "source": [
        "network.compile(\r\n",
        "    optimizer = 'rmsprop', # 指定優化器\r\n",
        "    loss = 'categorical_crossentropy', # 指定損失函數\r\n",
        "    metrics = ['accuracy'] # 指定評量準則\r\n",
        ")"
      ],
      "execution_count": 22,
      "outputs": []
    },
    {
      "cell_type": "markdown",
      "metadata": {
        "id": "LMQ5ffTP2puB"
      },
      "source": [
        "## 準備圖片資料\r\n",
        "reshape 跟 astype 是 NumPy 陣列的method"
      ]
    },
    {
      "cell_type": "code",
      "metadata": {
        "id": "JVxcDx4O2ue4"
      },
      "source": [
        "train_images = train_images.reshape((60000,28*28))\r\n",
        "train_images = train_images.astype('float32')/ 255\r\n",
        "\r\n",
        "test_images = test_images.reshape((10000,28*28))\r\n",
        "test_images = test_images.astype('float32')/ 255"
      ],
      "execution_count": 24,
      "outputs": []
    },
    {
      "cell_type": "markdown",
      "metadata": {
        "id": "_pHXxTCP2tqq"
      },
      "source": [
        "對標籤進行分類標碼"
      ]
    },
    {
      "cell_type": "code",
      "metadata": {
        "id": "Fw4PFNBy3TGU"
      },
      "source": [
        "from keras.utils import to_categorical\r\n",
        "\r\n",
        "train_labels = to_categorical(train_labels)\r\n",
        "test_labels = to_categorical(test_labels)"
      ],
      "execution_count": 25,
      "outputs": []
    },
    {
      "cell_type": "markdown",
      "metadata": {
        "id": "yH3BzCLe3iXR"
      },
      "source": [
        "## 進行訓練"
      ]
    },
    {
      "cell_type": "code",
      "metadata": {
        "colab": {
          "base_uri": "https://localhost:8080/"
        },
        "id": "gdyvhCyG3mox",
        "outputId": "60f9a2ce-78a4-479b-8e3e-6c42401d0152"
      },
      "source": [
        "network.fit(train_images,train_labels,epochs=5,batch_size=128)"
      ],
      "execution_count": 31,
      "outputs": [
        {
          "output_type": "stream",
          "text": [
            "Epoch 1/5\n",
            "469/469 [==============================] - 4s 9ms/step - loss: 0.2442 - accuracy: 0.9291\n",
            "Epoch 2/5\n",
            "469/469 [==============================] - 4s 9ms/step - loss: 0.2345 - accuracy: 0.9325\n",
            "Epoch 3/5\n",
            "469/469 [==============================] - 5s 10ms/step - loss: 0.2248 - accuracy: 0.9345\n",
            "Epoch 4/5\n",
            "469/469 [==============================] - 5s 10ms/step - loss: 0.2156 - accuracy: 0.9381\n",
            "Epoch 5/5\n",
            "469/469 [==============================] - 4s 9ms/step - loss: 0.2066 - accuracy: 0.9406\n"
          ],
          "name": "stdout"
        },
        {
          "output_type": "execute_result",
          "data": {
            "text/plain": [
              "<tensorflow.python.keras.callbacks.History at 0x7f937fbea710>"
            ]
          },
          "metadata": {
            "tags": []
          },
          "execution_count": 31
        }
      ]
    },
    {
      "cell_type": "markdown",
      "metadata": {
        "id": "7W5OE90KHFpV"
      },
      "source": [
        "## 進行測試"
      ]
    },
    {
      "cell_type": "code",
      "metadata": {
        "colab": {
          "base_uri": "https://localhost:8080/"
        },
        "id": "q215bXxvHUKi",
        "outputId": "519f4070-b144-4b10-942c-5c3222b82de6"
      },
      "source": [
        "test_loss , test_acc = network.evaluate(test_images,test_labels)\r\n",
        "print('test_acc:',test_acc)"
      ],
      "execution_count": 32,
      "outputs": [
        {
          "output_type": "stream",
          "text": [
            "313/313 [==============================] - 1s 2ms/step - loss: 29.5613 - accuracy: 0.9161\n",
            "test_acc: 0.916100025177002\n"
          ],
          "name": "stdout"
        }
      ]
    },
    {
      "cell_type": "markdown",
      "metadata": {
        "id": "Fa5bcXKSKj5k"
      },
      "source": [
        "# 2-2 張量 Tensor"
      ]
    },
    {
      "cell_type": "code",
      "metadata": {
        "id": "Rctm5NuOOJ2L"
      },
      "source": [
        "import numpy as np"
      ],
      "execution_count": 41,
      "outputs": []
    },
    {
      "cell_type": "markdown",
      "metadata": {
        "id": "7A8jv8zzK2Xq"
      },
      "source": [
        "## 純量 (0D張量)\r\n",
        "只包含一個數值的張量"
      ]
    },
    {
      "cell_type": "code",
      "metadata": {
        "colab": {
          "base_uri": "https://localhost:8080/"
        },
        "id": "BsvXCQr7LPIt",
        "outputId": "8706b800-ffbc-46d6-fe6f-363889216711"
      },
      "source": [
        "x = np.array(12)\r\n",
        "x"
      ],
      "execution_count": 42,
      "outputs": [
        {
          "output_type": "execute_result",
          "data": {
            "text/plain": [
              "array(12)"
            ]
          },
          "metadata": {
            "tags": []
          },
          "execution_count": 42
        }
      ]
    },
    {
      "cell_type": "code",
      "metadata": {
        "id": "MrI8st9ULoii",
        "outputId": "ec2235a4-cd8a-4461-9260-1bcc8a249f57",
        "colab": {
          "base_uri": "https://localhost:8080/"
        }
      },
      "source": [
        "x.ndim"
      ],
      "execution_count": 34,
      "outputs": [
        {
          "output_type": "execute_result",
          "data": {
            "text/plain": [
              "0"
            ]
          },
          "metadata": {
            "tags": []
          },
          "execution_count": 34
        }
      ]
    },
    {
      "cell_type": "markdown",
      "metadata": {
        "id": "Cb5hpyjBK77m"
      },
      "source": [
        "## 向量 (1D張量) vector\r\n",
        "由一組數值排列而成的陣列"
      ]
    },
    {
      "cell_type": "code",
      "metadata": {
        "id": "vjaB8L4bLdcb",
        "outputId": "b70ac022-a51c-458e-f409-b483c849ff92",
        "colab": {
          "base_uri": "https://localhost:8080/"
        }
      },
      "source": [
        "x = np.array([12,3,6,14,7])\r\n",
        "x"
      ],
      "execution_count": 35,
      "outputs": [
        {
          "output_type": "execute_result",
          "data": {
            "text/plain": [
              "array([12,  3,  6, 14,  7])"
            ]
          },
          "metadata": {
            "tags": []
          },
          "execution_count": 35
        }
      ]
    },
    {
      "cell_type": "code",
      "metadata": {
        "colab": {
          "base_uri": "https://localhost:8080/"
        },
        "id": "cwyJlIvoL0AV",
        "outputId": "f0c1d573-9e7d-4433-c3e1-375520adb335"
      },
      "source": [
        "x.ndim"
      ],
      "execution_count": 36,
      "outputs": [
        {
          "output_type": "execute_result",
          "data": {
            "text/plain": [
              "1"
            ]
          },
          "metadata": {
            "tags": []
          },
          "execution_count": 36
        }
      ]
    },
    {
      "cell_type": "markdown",
      "metadata": {
        "id": "ME-kWE0qK8Cj"
      },
      "source": [
        "## 矩陣 (2D張量)\r\n",
        "一個矩陣"
      ]
    },
    {
      "cell_type": "code",
      "metadata": {
        "id": "OlcfYfTmLeq9"
      },
      "source": [
        "x = np.array([[5,78,2,34,0],\r\n",
        "        [6,79,3,35,1],\r\n",
        "        [7,80,4,36,2]])"
      ],
      "execution_count": 37,
      "outputs": []
    },
    {
      "cell_type": "code",
      "metadata": {
        "colab": {
          "base_uri": "https://localhost:8080/"
        },
        "id": "a81ruHACL4Wf",
        "outputId": "79fb0a8a-68cc-4979-e984-b16e144916ce"
      },
      "source": [
        "x.ndim"
      ],
      "execution_count": 38,
      "outputs": [
        {
          "output_type": "execute_result",
          "data": {
            "text/plain": [
              "2"
            ]
          },
          "metadata": {
            "tags": []
          },
          "execution_count": 38
        }
      ]
    },
    {
      "cell_type": "markdown",
      "metadata": {
        "id": "DZvdsr3YK8IZ"
      },
      "source": [
        "## 高階張量 (3D張量與其上)\r\n",
        "將多個矩陣包裝在一個新陣列中"
      ]
    },
    {
      "cell_type": "code",
      "metadata": {
        "id": "56SgJGZILfJb"
      },
      "source": [
        "x = np.array([[[5,78,2,34,0],\r\n",
        "        [6,79,3,35,1],\r\n",
        "        [7,80,4,36,2]],\r\n",
        "        [[5,78,2,34,0],\r\n",
        "        [6,79,3,35,1],\r\n",
        "        [7,80,4,36,2]],\r\n",
        "        [[5,78,2,34,0],\r\n",
        "        [6,79,3,35,1],\r\n",
        "        [7,80,4,36,2]]])"
      ],
      "execution_count": 39,
      "outputs": []
    },
    {
      "cell_type": "code",
      "metadata": {
        "colab": {
          "base_uri": "https://localhost:8080/"
        },
        "id": "JmtCrUPeL4q3",
        "outputId": "8e4821cc-91a3-49cf-e463-43c3a7cbb408"
      },
      "source": [
        "x.ndim"
      ],
      "execution_count": 40,
      "outputs": [
        {
          "output_type": "execute_result",
          "data": {
            "text/plain": [
              "3"
            ]
          },
          "metadata": {
            "tags": []
          },
          "execution_count": 40
        }
      ]
    }
  ]
}