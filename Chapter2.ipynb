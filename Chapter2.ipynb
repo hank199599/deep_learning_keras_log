{
  "nbformat": 4,
  "nbformat_minor": 0,
  "metadata": {
    "colab": {
      "name": "Chapter2.ipynb",
      "provenance": [],
      "toc_visible": true,
      "authorship_tag": "ABX9TyPCQeU1RQkL9JeA8CbvXc86",
      "include_colab_link": true
    },
    "kernelspec": {
      "name": "python3",
      "display_name": "Python 3"
    }
  },
  "cells": [
    {
      "cell_type": "markdown",
      "metadata": {
        "id": "view-in-github",
        "colab_type": "text"
      },
      "source": [
        "<a href=\"https://colab.research.google.com/github/hank199599/deep_learning_keras_log/blob/main/Chapter2.ipynb\" target=\"_parent\"><img src=\"https://colab.research.google.com/assets/colab-badge.svg\" alt=\"Open In Colab\"/></a>"
      ]
    },
    {
      "cell_type": "markdown",
      "metadata": {
        "id": "IqEHFE-J8XJm"
      },
      "source": [
        "# 2-1 初探神經網路：第一支神經網路\n"
      ]
    },
    {
      "cell_type": "markdown",
      "metadata": {
        "id": "jZ355JXh9ORF"
      },
      "source": [
        "## MINIST 資料集圖片辨識\n",
        "深度學習的「Hello World!」\n",
        "1. 載入mnist資料集，含(train_images,train_labels)和(test_images,test_labels)\n",
        "2. 用兩個Dense層架構(network.add())了一個神經網路\n",
        "3. 用network.compile()來編譯神經網路，此時要指定optimmizer、loss、metrices三個參數\n",
        "4.要將輸入資料集做前處理，用reshape()和astype()來做 \n",
        "5. 對輸入的標籤做分類標碼\n",
        "6. 用network.fit()來進行訓練\n",
        "7. 用network.evaluate()評估成果"
      ]
    },
    {
      "cell_type": "code",
      "metadata": {
        "id": "yaifUbsltw0v",
        "colab": {
          "base_uri": "https://localhost:8080/"
        },
        "outputId": "0ff3639c-8fe8-4275-d421-bb40d6cf4bdc"
      },
      "source": [
        "# 在Keras中載入MNIST資料集\n",
        "from keras.datasets import mnist\n",
        "\n",
        "(train_images,train_labels),(test_images,test_labels) = mnist.load_data()"
      ],
      "execution_count": null,
      "outputs": [
        {
          "output_type": "stream",
          "name": "stdout",
          "text": [
            "Downloading data from https://storage.googleapis.com/tensorflow/tf-keras-datasets/mnist.npz\n",
            "11493376/11490434 [==============================] - 0s 0us/step\n",
            "11501568/11490434 [==============================] - 0s 0us/step\n"
          ]
        }
      ]
    },
    {
      "cell_type": "markdown",
      "metadata": {
        "id": "cWfJNWO5-tqW"
      },
      "source": [
        "查看驗證資料"
      ]
    },
    {
      "cell_type": "code",
      "metadata": {
        "colab": {
          "base_uri": "https://localhost:8080/"
        },
        "id": "yjIrSmqn9NSW",
        "outputId": "dcc34902-978c-49aa-a13b-524514e86860"
      },
      "source": [
        "train_images.shape"
      ],
      "execution_count": null,
      "outputs": [
        {
          "output_type": "execute_result",
          "data": {
            "text/plain": [
              "(60000, 28, 28)"
            ]
          },
          "metadata": {},
          "execution_count": 2
        }
      ]
    },
    {
      "cell_type": "code",
      "metadata": {
        "colab": {
          "base_uri": "https://localhost:8080/"
        },
        "id": "LCurHDH5-yRt",
        "outputId": "6ed78399-7ea2-4af7-87e7-12c87b899526"
      },
      "source": [
        "len(train_labels)"
      ],
      "execution_count": null,
      "outputs": [
        {
          "output_type": "execute_result",
          "data": {
            "text/plain": [
              "60000"
            ]
          },
          "metadata": {},
          "execution_count": 3
        }
      ]
    },
    {
      "cell_type": "code",
      "metadata": {
        "colab": {
          "base_uri": "https://localhost:8080/"
        },
        "id": "RFRecbit-2A9",
        "outputId": "d2119527-0879-4b4e-9c70-fb8c8b65728c"
      },
      "source": [
        "train_labels\n",
        "#標籤是0-9之間的數字，資料型別是unit8"
      ],
      "execution_count": null,
      "outputs": [
        {
          "output_type": "execute_result",
          "data": {
            "text/plain": [
              "array([5, 0, 4, ..., 5, 6, 8], dtype=uint8)"
            ]
          },
          "metadata": {},
          "execution_count": 4
        }
      ]
    },
    {
      "cell_type": "markdown",
      "metadata": {
        "id": "a7YTx0FZ_F7R"
      },
      "source": [
        "查看測試資料"
      ]
    },
    {
      "cell_type": "code",
      "metadata": {
        "colab": {
          "base_uri": "https://localhost:8080/"
        },
        "id": "9wjTxt-R_F7W",
        "outputId": "a288ed1a-a990-47c8-e676-dd33fed6e1e5"
      },
      "source": [
        "test_images.shape"
      ],
      "execution_count": null,
      "outputs": [
        {
          "output_type": "execute_result",
          "data": {
            "text/plain": [
              "(10000, 28, 28)"
            ]
          },
          "metadata": {},
          "execution_count": 5
        }
      ]
    },
    {
      "cell_type": "code",
      "metadata": {
        "colab": {
          "base_uri": "https://localhost:8080/"
        },
        "id": "i0aCBG7__F7Y",
        "outputId": "b68cd0ab-9d89-4f14-93b3-d0c4a199dae1"
      },
      "source": [
        "len(test_labels)"
      ],
      "execution_count": null,
      "outputs": [
        {
          "output_type": "execute_result",
          "data": {
            "text/plain": [
              "10000"
            ]
          },
          "metadata": {},
          "execution_count": 6
        }
      ]
    },
    {
      "cell_type": "code",
      "metadata": {
        "colab": {
          "base_uri": "https://localhost:8080/"
        },
        "id": "hjAqjgpr_F7a",
        "outputId": "16345f4f-8b64-42fc-de13-c9b6211a3659"
      },
      "source": [
        "test_labels\n",
        "#標籤是0-9之間的數字，資料型別是unit8"
      ],
      "execution_count": null,
      "outputs": [
        {
          "output_type": "execute_result",
          "data": {
            "text/plain": [
              "array([7, 2, 1, ..., 4, 5, 6], dtype=uint8)"
            ]
          },
          "metadata": {},
          "execution_count": 7
        }
      ]
    },
    {
      "cell_type": "markdown",
      "metadata": {
        "id": "sZPLkDsdPFXK"
      },
      "source": [
        "## 整體操作流程\n",
        "①  我們提供訓練集 train_images 和 train_labels 給神經網路  \n",
        "②  神經網路學習把圖片加以歸類,並且和每張圖片的標籤對比,如果歸類錯誤就加以修正。  \n",
        "③最後,我們要求神經網路對 test_images 中的圖片進行預測、並進行驗證,確 認是否與 test_labels 中記錄的標籤符合。\n",
        " "
      ]
    },
    {
      "cell_type": "markdown",
      "metadata": {
        "id": "cko3WUNR0Xk5"
      },
      "source": [
        "神經網路架構"
      ]
    },
    {
      "cell_type": "markdown",
      "metadata": {
        "id": "M8l8pIMn07Hj"
      },
      "source": [
        "### **密集層**/全連接層(fully connected)  \n",
        "![pic-1](https://ithelp.ithome.com.tw/upload/images/20190925/20120549IXrUJjgcpN.png)  \n",
        "指前後層的神經元彼此連接在一起，  \n",
        "前一層神經元皆對應到後一層的神經元。"
      ]
    },
    {
      "cell_type": "code",
      "metadata": {
        "id": "sAKO_Drk0bvR"
      },
      "source": [
        "from keras import models\n",
        "from keras import layers\n",
        "\n",
        "network = models.Sequential()\n",
        "network.add(layers.Dense(512,activation=\"relu\",input_shape=(28*28,)))\n",
        "network.add(layers.Dense(10,activation='softmax'))"
      ],
      "execution_count": null,
      "outputs": []
    },
    {
      "cell_type": "code",
      "metadata": {
        "id": "9NondBR01xIs"
      },
      "source": [
        "network.compile(\n",
        "    optimizer = 'rmsprop', # 指定優化器→控制梯度下降的確切規則\n",
        "    loss = 'categorical_crossentropy', # 指定損失函數\n",
        "    metrics = ['accuracy'] # 指定評量準則\n",
        ")"
      ],
      "execution_count": null,
      "outputs": []
    },
    {
      "cell_type": "markdown",
      "metadata": {
        "id": "LMQ5ffTP2puB"
      },
      "source": [
        "### 準備圖片資料\n",
        "reshape 跟 astype 是 NumPy 陣列的method"
      ]
    },
    {
      "cell_type": "code",
      "metadata": {
        "id": "JVxcDx4O2ue4"
      },
      "source": [
        "train_images = train_images.reshape((60000,28*28))\n",
        "train_images = train_images.astype('float32')/ 255\n",
        "\n",
        "test_images = test_images.reshape((10000,28*28))\n",
        "test_images = test_images.astype('float32')/ 255"
      ],
      "execution_count": null,
      "outputs": []
    },
    {
      "cell_type": "markdown",
      "metadata": {
        "id": "_pHXxTCP2tqq"
      },
      "source": [
        "對標籤進行分類標碼"
      ]
    },
    {
      "cell_type": "code",
      "metadata": {
        "id": "Fw4PFNBy3TGU"
      },
      "source": [
        "from tensorflow.keras.utils import to_categorical\n",
        "\n",
        "train_labels = to_categorical(train_labels)\n",
        "test_labels = to_categorical(test_labels)"
      ],
      "execution_count": null,
      "outputs": []
    },
    {
      "cell_type": "markdown",
      "metadata": {
        "id": "yH3BzCLe3iXR"
      },
      "source": [
        "### 進行訓練"
      ]
    },
    {
      "cell_type": "code",
      "metadata": {
        "colab": {
          "base_uri": "https://localhost:8080/"
        },
        "id": "gdyvhCyG3mox",
        "outputId": "3297182d-38bc-4372-c05a-665bd7694b16"
      },
      "source": [
        "network.fit(train_images,train_labels,epochs=5,batch_size=128)"
      ],
      "execution_count": null,
      "outputs": [
        {
          "output_type": "stream",
          "name": "stdout",
          "text": [
            "Epoch 1/5\n",
            "469/469 [==============================] - 5s 10ms/step - loss: 0.2570 - accuracy: 0.9257\n",
            "Epoch 2/5\n",
            "469/469 [==============================] - 5s 10ms/step - loss: 0.1034 - accuracy: 0.9691\n",
            "Epoch 3/5\n",
            "469/469 [==============================] - 4s 9ms/step - loss: 0.0689 - accuracy: 0.9794\n",
            "Epoch 4/5\n",
            "469/469 [==============================] - 5s 10ms/step - loss: 0.0503 - accuracy: 0.9848\n",
            "Epoch 5/5\n",
            "469/469 [==============================] - 5s 10ms/step - loss: 0.0383 - accuracy: 0.9887\n"
          ]
        },
        {
          "output_type": "execute_result",
          "data": {
            "text/plain": [
              "<keras.callbacks.History at 0x7f86be6ac610>"
            ]
          },
          "metadata": {},
          "execution_count": 18
        }
      ]
    },
    {
      "cell_type": "markdown",
      "metadata": {
        "id": "7W5OE90KHFpV"
      },
      "source": [
        "### 進行測試"
      ]
    },
    {
      "cell_type": "code",
      "metadata": {
        "colab": {
          "base_uri": "https://localhost:8080/"
        },
        "id": "q215bXxvHUKi",
        "outputId": "836d65fc-239d-4fb4-9906-d4798f5f4ce3"
      },
      "source": [
        "test_loss , test_acc = network.evaluate(test_images,test_labels)\n",
        "print('test_acc:',test_acc)"
      ],
      "execution_count": null,
      "outputs": [
        {
          "output_type": "stream",
          "name": "stdout",
          "text": [
            "313/313 [==============================] - 1s 2ms/step - loss: 0.0645 - accuracy: 0.9806\n",
            "test_acc: 0.9805999994277954\n"
          ]
        }
      ]
    },
    {
      "cell_type": "markdown",
      "metadata": {
        "id": "Fa5bcXKSKj5k"
      },
      "source": [
        "# 2-2 張量 Tensor"
      ]
    },
    {
      "cell_type": "markdown",
      "metadata": {
        "id": "EqcYNFbkZn7o"
      },
      "source": [
        "## 張量的類別"
      ]
    },
    {
      "cell_type": "code",
      "metadata": {
        "id": "Rctm5NuOOJ2L"
      },
      "source": [
        "import numpy as np"
      ],
      "execution_count": null,
      "outputs": []
    },
    {
      "cell_type": "markdown",
      "metadata": {
        "id": "7A8jv8zzK2Xq"
      },
      "source": [
        "### 純量 (0D張量)\n",
        "只包含一個數值的張量"
      ]
    },
    {
      "cell_type": "code",
      "metadata": {
        "colab": {
          "base_uri": "https://localhost:8080/"
        },
        "id": "BsvXCQr7LPIt",
        "outputId": "8a70176f-bbfa-4f96-fa88-8d1282700adb"
      },
      "source": [
        "x = np.array(12)\n",
        "x"
      ],
      "execution_count": null,
      "outputs": [
        {
          "output_type": "execute_result",
          "data": {
            "text/plain": [
              "array(12)"
            ]
          },
          "metadata": {},
          "execution_count": 21
        }
      ]
    },
    {
      "cell_type": "code",
      "metadata": {
        "colab": {
          "base_uri": "https://localhost:8080/"
        },
        "id": "MrI8st9ULoii",
        "outputId": "1ea492c2-eb07-40a3-f029-ca1227638f56"
      },
      "source": [
        "x.ndim"
      ],
      "execution_count": null,
      "outputs": [
        {
          "output_type": "execute_result",
          "data": {
            "text/plain": [
              "0"
            ]
          },
          "metadata": {},
          "execution_count": 22
        }
      ]
    },
    {
      "cell_type": "markdown",
      "metadata": {
        "id": "Cb5hpyjBK77m"
      },
      "source": [
        "### 向量 (1D張量) vector\n",
        "由一組數值排列而成的陣列"
      ]
    },
    {
      "cell_type": "code",
      "metadata": {
        "colab": {
          "base_uri": "https://localhost:8080/"
        },
        "id": "vjaB8L4bLdcb",
        "outputId": "4e069098-7a53-4ad0-c7d8-4be1e63db281"
      },
      "source": [
        "x = np.array([12,3,6,14,7])\n",
        "x"
      ],
      "execution_count": null,
      "outputs": [
        {
          "output_type": "execute_result",
          "data": {
            "text/plain": [
              "array([12,  3,  6, 14,  7])"
            ]
          },
          "metadata": {},
          "execution_count": 23
        }
      ]
    },
    {
      "cell_type": "code",
      "metadata": {
        "colab": {
          "base_uri": "https://localhost:8080/"
        },
        "id": "cwyJlIvoL0AV",
        "outputId": "99f685e7-b82e-49f2-f2bb-22373166e72d"
      },
      "source": [
        "x.ndim"
      ],
      "execution_count": null,
      "outputs": [
        {
          "output_type": "execute_result",
          "data": {
            "text/plain": [
              "1"
            ]
          },
          "metadata": {},
          "execution_count": 24
        }
      ]
    },
    {
      "cell_type": "markdown",
      "metadata": {
        "id": "ME-kWE0qK8Cj"
      },
      "source": [
        "### 矩陣 (2D張量)\n",
        "一個矩陣"
      ]
    },
    {
      "cell_type": "code",
      "metadata": {
        "id": "OlcfYfTmLeq9"
      },
      "source": [
        "x = np.array([[5,78,2,34,0],\n",
        "        [6,79,3,35,1],\n",
        "        [7,80,4,36,2]])"
      ],
      "execution_count": null,
      "outputs": []
    },
    {
      "cell_type": "code",
      "metadata": {
        "colab": {
          "base_uri": "https://localhost:8080/"
        },
        "id": "a81ruHACL4Wf",
        "outputId": "2ab1e283-415f-479f-ac97-6f35bde5b2ef"
      },
      "source": [
        "x.ndim"
      ],
      "execution_count": null,
      "outputs": [
        {
          "output_type": "execute_result",
          "data": {
            "text/plain": [
              "2"
            ]
          },
          "metadata": {},
          "execution_count": 26
        }
      ]
    },
    {
      "cell_type": "markdown",
      "metadata": {
        "id": "DZvdsr3YK8IZ"
      },
      "source": [
        "### 高階張量 (3D張量與其上)\n",
        "將多個矩陣包裝在一個新陣列中"
      ]
    },
    {
      "cell_type": "code",
      "metadata": {
        "id": "56SgJGZILfJb"
      },
      "source": [
        "x = np.array([[[5,78,2,34,0],\n",
        "        [6,79,3,35,1],\n",
        "        [7,80,4,36,2]],\n",
        "        [[5,78,2,34,0],\n",
        "        [6,79,3,35,1],\n",
        "        [7,80,4,36,2]],\n",
        "        [[5,78,2,34,0],\n",
        "        [6,79,3,35,1],\n",
        "        [7,80,4,36,2]]])"
      ],
      "execution_count": null,
      "outputs": []
    },
    {
      "cell_type": "code",
      "metadata": {
        "colab": {
          "base_uri": "https://localhost:8080/"
        },
        "id": "JmtCrUPeL4q3",
        "outputId": "49339d6a-f46d-4828-b25d-45b80dba543e"
      },
      "source": [
        "x.ndim"
      ],
      "execution_count": null,
      "outputs": [
        {
          "output_type": "execute_result",
          "data": {
            "text/plain": [
              "3"
            ]
          },
          "metadata": {},
          "execution_count": 28
        }
      ]
    },
    {
      "cell_type": "markdown",
      "metadata": {
        "id": "X2VA2HPuPM7i"
      },
      "source": [
        "## 張量屬性\n",
        "* 軸的數量(階數)：ndim\n",
        "* 形狀：描述一個張量上每個軸有多少個維度\n",
        "* 資料型別(dtype)：張量所存放的型別\n",
        " * float32\n",
        " * unit8\n",
        " * float64\n",
        " * char:Numpy中不存在字串張量"
      ]
    },
    {
      "cell_type": "code",
      "metadata": {
        "id": "UdkVNEvhQLqD"
      },
      "source": [
        "from keras.datasets import mnist\n",
        "\n",
        "(train_images,train_labels),(test_images,test_labels) = mnist.load_data() "
      ],
      "execution_count": null,
      "outputs": []
    },
    {
      "cell_type": "markdown",
      "metadata": {
        "id": "hJsOjtFtQWL8"
      },
      "source": [
        "ndim屬性"
      ]
    },
    {
      "cell_type": "code",
      "metadata": {
        "colab": {
          "base_uri": "https://localhost:8080/"
        },
        "id": "gdiGFIonQYaa",
        "outputId": "76ddae6d-d998-43de-de95-e2302502bdef"
      },
      "source": [
        "print(train_images.ndim)"
      ],
      "execution_count": null,
      "outputs": [
        {
          "output_type": "stream",
          "name": "stdout",
          "text": [
            "3\n"
          ]
        }
      ]
    },
    {
      "cell_type": "markdown",
      "metadata": {
        "id": "j_7KxzzgQcVj"
      },
      "source": [
        "張量的形狀"
      ]
    },
    {
      "cell_type": "code",
      "metadata": {
        "colab": {
          "base_uri": "https://localhost:8080/"
        },
        "id": "-szy5t_bQem6",
        "outputId": "5e9e89d4-ae1a-4328-c154-76876bf14025"
      },
      "source": [
        "print(train_images.shape)"
      ],
      "execution_count": null,
      "outputs": [
        {
          "output_type": "stream",
          "name": "stdout",
          "text": [
            "(60000, 28, 28)\n"
          ]
        }
      ]
    },
    {
      "cell_type": "markdown",
      "metadata": {
        "id": "t7AwaGAQQkT6"
      },
      "source": [
        "dtype(資料型別)"
      ]
    },
    {
      "cell_type": "code",
      "metadata": {
        "colab": {
          "base_uri": "https://localhost:8080/"
        },
        "id": "jV8xUy2jQnHC",
        "outputId": "edfc79e2-13e1-4003-dc19-e124f6303120"
      },
      "source": [
        "print(train_images.dtype)"
      ],
      "execution_count": null,
      "outputs": [
        {
          "output_type": "stream",
          "name": "stdout",
          "text": [
            "uint8\n"
          ]
        }
      ]
    },
    {
      "cell_type": "markdown",
      "metadata": {
        "id": "Kg4h68KYRFHZ"
      },
      "source": [
        "train_images 是一個由8為元整數所組成的3D張量。  \n",
        "由 60000個 28×28的矩陣組成  \n",
        "每個矩陣是一個灰階圖像，像素值在0~255之間"
      ]
    },
    {
      "cell_type": "code",
      "metadata": {
        "colab": {
          "base_uri": "https://localhost:8080/",
          "height": 265
        },
        "id": "zuxk_uSXRkSx",
        "outputId": "9a2a4c07-3c07-4cda-8a87-5eb134d12412"
      },
      "source": [
        "digit = train_images[4]\n",
        "\n",
        "import matplotlib.pyplot as plt\n",
        "plt.imshow(digit,cmap=plt.cm.binary)\n",
        "plt.show()"
      ],
      "execution_count": null,
      "outputs": [
        {
          "output_type": "display_data",
          "data": {
            "image/png": "[encoded data removed]",
            "text/plain": [
              "<Figure size 432x288 with 1 Axes>"
            ]
          },
          "metadata": {
            "needs_background": "light"
          }
        }
      ]
    },
    {
      "cell_type": "markdown",
      "metadata": {
        "id": "tCt17DSKSGMM"
      },
      "source": [
        "## 張量切片 Tensor Slicing"
      ]
    },
    {
      "cell_type": "code",
      "metadata": {
        "colab": {
          "base_uri": "https://localhost:8080/"
        },
        "id": "qTIDHujYSPaS",
        "outputId": "3e33434b-85a7-4e5d-8755-6d8bb3ecbf1a"
      },
      "source": [
        "my_slice = train_images[10:100]\n",
        "print(my_slice.shape)"
      ],
      "execution_count": null,
      "outputs": [
        {
          "output_type": "stream",
          "name": "stdout",
          "text": [
            "(90, 28, 28)\n"
          ]
        }
      ]
    },
    {
      "cell_type": "code",
      "metadata": {
        "colab": {
          "base_uri": "https://localhost:8080/"
        },
        "id": "DhhfW2jCSZVr",
        "outputId": "51f2f98c-0bf5-4e15-a2ec-e98a1a556ef1"
      },
      "source": [
        "my_slice = train_images[10:100, : , : ]\n",
        "print(my_slice.shape)"
      ],
      "execution_count": null,
      "outputs": [
        {
          "output_type": "stream",
          "name": "stdout",
          "text": [
            "(90, 28, 28)\n"
          ]
        }
      ]
    },
    {
      "cell_type": "code",
      "metadata": {
        "colab": {
          "base_uri": "https://localhost:8080/"
        },
        "id": "GqmLWOIAShc6",
        "outputId": "3fab3ef5-6a82-47c3-cbfc-7c9b1d675ac6"
      },
      "source": [
        "my_slice = train_images[10:100,0:28,0:28]\n",
        "print(my_slice.shape)"
      ],
      "execution_count": null,
      "outputs": [
        {
          "output_type": "stream",
          "name": "stdout",
          "text": [
            "(90, 28, 28)\n"
          ]
        }
      ]
    },
    {
      "cell_type": "markdown",
      "metadata": {
        "id": "YsZboUFvSpQR"
      },
      "source": [
        "## 資料批次(batch)\n",
        "深度學習模型不會一次學習整個模型，而是將資料分成一小批一小批來學習。  \n",
        "這些批次向量被稱為批次軸或批次維度。"
      ]
    },
    {
      "cell_type": "markdown",
      "metadata": {
        "id": "NcIISK6vXBXa"
      },
      "source": [
        "# 2-3 張量運算"
      ]
    },
    {
      "cell_type": "markdown",
      "metadata": {
        "id": "6A6oPNqcYJf_"
      },
      "source": [
        "## 元素間的運算\n",
        "以relu運算為例"
      ]
    },
    {
      "cell_type": "markdown",
      "metadata": {
        "id": "lhOyTlfnY7SA"
      },
      "source": [
        "### 透過for迴圈運算"
      ]
    },
    {
      "cell_type": "code",
      "metadata": {
        "id": "X0Bsp2NcZGZF"
      },
      "source": [
        "def naive_relu(x):\n",
        "  assert len(x.shape) == 2 ,\" x 不是2D張量\"\n",
        "\n",
        "  x = x.copy()\n",
        "  for i in range(x.shape[0]):\n",
        "    for j in range(x.shape(1)):\n",
        "      x[i,j] = max(x[i,j],0)\n",
        "  \n",
        "  return x"
      ],
      "execution_count": null,
      "outputs": []
    },
    {
      "cell_type": "code",
      "metadata": {
        "id": "Bx7J-IKHaM5B"
      },
      "source": [
        "def naive_add(x,y):\n",
        "  assert len(x.shape) == 2\n",
        "  assert x.shape == y.shape\n",
        "\n",
        "  x = x.copy()\n",
        "  for i in range(x.shape[0]):\n",
        "    for j in range(x.shape(1)):\n",
        "      x[i,j] += y[i,j]\n",
        "  \n",
        "  return x"
      ],
      "execution_count": null,
      "outputs": []
    },
    {
      "cell_type": "markdown",
      "metadata": {
        "id": "GwaaFY0KY-Ns"
      },
      "source": [
        "### 向量化執行 (vectorized implementations)\n",
        "\n",
        "```python\n",
        "import numpy as np\n",
        "\n",
        "z = x + y\n",
        "z = x * y\n",
        "z = np.maximun(z,0.)\n",
        "```\n",
        "\n"
      ]
    },
    {
      "cell_type": "markdown",
      "metadata": {
        "id": "4MPEMGYhcd8u"
      },
      "source": [
        "## 張量擴張(Broadcasting)\n",
        "使較小的張量進行擴張以匹配形狀較大的張量\n",
        "\n",
        "① 較小的向量會加入新的軸，以匹配較大的向量  \n",
        "② 較小的向量會在這些新的軸重複寫入元素，以匹配較大張量的shape"
      ]
    },
    {
      "cell_type": "markdown",
      "metadata": {
        "id": "4Q-Eblh-gKuD"
      },
      "source": [
        "### 透過for迴圈運算"
      ]
    },
    {
      "cell_type": "code",
      "metadata": {
        "id": "cIhweaavgKuZ"
      },
      "source": [
        "def naive_add_matrix_and_vector(x,y):\n",
        "  assert len(x.shape) == 2 ,\" x 不是2D張量\"\n",
        "  assert len(y.shape) == 1 ,\" x 不是2D張量\"\n",
        "  assert x.shape[1] == y.shape[0]\n",
        "\n",
        "  x = x.copy()\n",
        "  for i in range(x.shape[0]):\n",
        "    for j in range(x.shape(1)):\n",
        "      x[i,j] += y[j]\n",
        "  \n",
        "  return x"
      ],
      "execution_count": null,
      "outputs": []
    },
    {
      "cell_type": "markdown",
      "metadata": {
        "id": "3MAksK8egKub"
      },
      "source": [
        "### 向量化執行 (vectorized implementations)\n",
        "\n"
      ]
    },
    {
      "cell_type": "code",
      "metadata": {
        "colab": {
          "base_uri": "https://localhost:8080/",
          "height": 214
        },
        "id": "pyWgZuu9g183",
        "outputId": "d184548d-f182-4693-fd97-819a6a60cb05"
      },
      "source": [
        "import numpy as np\n",
        "\n",
        "z = np.random.random((64,3,32,10))\n",
        "y = np.random.random((32,10))\n",
        "\n",
        "z = np.maximum(x,y)\n",
        "z.shape"
      ],
      "execution_count": null,
      "outputs": [
        {
          "output_type": "error",
          "ename": "ValueError",
          "evalue": "ignored",
          "traceback": [
            "\u001b[0;31m---------------------------------------------------------------------------\u001b[0m",
            "\u001b[0;31mValueError\u001b[0m                                Traceback (most recent call last)",
            "\u001b[0;32m<ipython-input-40-5ada700d1d95>\u001b[0m in \u001b[0;36m<module>\u001b[0;34m()\u001b[0m\n\u001b[1;32m      4\u001b[0m \u001b[0my\u001b[0m \u001b[0;34m=\u001b[0m \u001b[0mnp\u001b[0m\u001b[0;34m.\u001b[0m\u001b[0mrandom\u001b[0m\u001b[0;34m.\u001b[0m\u001b[0mrandom\u001b[0m\u001b[0;34m(\u001b[0m\u001b[0;34m(\u001b[0m\u001b[0;36m32\u001b[0m\u001b[0;34m,\u001b[0m\u001b[0;36m10\u001b[0m\u001b[0;34m)\u001b[0m\u001b[0;34m)\u001b[0m\u001b[0;34m\u001b[0m\u001b[0;34m\u001b[0m\u001b[0m\n\u001b[1;32m      5\u001b[0m \u001b[0;34m\u001b[0m\u001b[0m\n\u001b[0;32m----> 6\u001b[0;31m \u001b[0mz\u001b[0m \u001b[0;34m=\u001b[0m \u001b[0mnp\u001b[0m\u001b[0;34m.\u001b[0m\u001b[0mmaximum\u001b[0m\u001b[0;34m(\u001b[0m\u001b[0mx\u001b[0m\u001b[0;34m,\u001b[0m\u001b[0my\u001b[0m\u001b[0;34m)\u001b[0m\u001b[0;34m\u001b[0m\u001b[0;34m\u001b[0m\u001b[0m\n\u001b[0m\u001b[1;32m      7\u001b[0m \u001b[0mz\u001b[0m\u001b[0;34m.\u001b[0m\u001b[0mshape\u001b[0m\u001b[0;34m\u001b[0m\u001b[0;34m\u001b[0m\u001b[0m\n",
            "\u001b[0;31mValueError\u001b[0m: operands could not be broadcast together with shapes (3,3,5) (32,10) "
          ]
        }
      ]
    },
    {
      "cell_type": "markdown",
      "metadata": {
        "id": "aouo8AJnhM0f"
      },
      "source": [
        "## 點積運算 (dot)"
      ]
    },
    {
      "cell_type": "code",
      "metadata": {
        "id": "85xM54i0sGqn"
      },
      "source": [
        "def naive_vector_dot(x,y):\n",
        "  assert len(x.shape) == 1\n",
        "  assert len(y.shape) == 1\n",
        "  assert x.shape[0] == y.shape[0]\n",
        "  z = 0.\n",
        "  for i in range(x,shape[0]):\n",
        "    z += x[i] * j[i]\n",
        "  return z"
      ],
      "execution_count": null,
      "outputs": []
    },
    {
      "cell_type": "markdown",
      "metadata": {
        "id": "232Y81wAuBd9"
      },
      "source": [
        ""
      ]
    },
    {
      "cell_type": "code",
      "metadata": {
        "id": "J5l9wB0IuBlB"
      },
      "source": [
        "import numpy as np\n",
        "\n",
        "def native_matrix_vector_dot(x,y):\n",
        "  assert len(x.shape) == 2\n",
        "  assert len(y.shape) == 1\n",
        "  assert x.shape[1] == y.shape[0]\n",
        "\n",
        "  z = np.zeros(z.shape[0])\n",
        "  for i in range(x.shape[0]):\n",
        "    for j in range(x.shape[1]):\n",
        "      z[i] += x[i,j] * y[j]\n",
        "  \n",
        "  return z"
      ],
      "execution_count": null,
      "outputs": []
    },
    {
      "cell_type": "code",
      "metadata": {
        "id": "YnrcZNydx4kM"
      },
      "source": [
        "def native_matrix_vector_dot(x,y):\n",
        "  z = np.zeros(x.shape[0])\n",
        "  for i in range(x.shape[0]):\n",
        "    z[i] = native_vector_dot(x[i,:],y)\n",
        "  return z"
      ],
      "execution_count": null,
      "outputs": []
    },
    {
      "cell_type": "markdown",
      "metadata": {
        "id": "cFG39IiZ9Az_"
      },
      "source": [
        "## 張量重塑 (reshaping)\n",
        "調整各軸的元素數"
      ]
    },
    {
      "cell_type": "code",
      "metadata": {
        "id": "zjj-dtWo9R5-"
      },
      "source": [
        "x = np.array([[0.,1.],\n",
        "        [2.,3.],\n",
        "        [4.,5.]])\n",
        "\n",
        "print(x.shape)"
      ],
      "execution_count": null,
      "outputs": []
    },
    {
      "cell_type": "code",
      "metadata": {
        "id": "ZDCuREAD9j9n"
      },
      "source": [
        "x = x.reshape((6,1))\n",
        "x"
      ],
      "execution_count": null,
      "outputs": []
    },
    {
      "cell_type": "code",
      "metadata": {
        "id": "RckFKQ4b9rJ9"
      },
      "source": [
        "x = x.reshape((2,3))\n",
        "x"
      ],
      "execution_count": null,
      "outputs": []
    },
    {
      "cell_type": "markdown",
      "metadata": {
        "id": "DWLbJrFx90b-"
      },
      "source": [
        "### 矩陣轉置(transposition)\n",
        "使x[i,:] 變成 [:,i]"
      ]
    },
    {
      "cell_type": "code",
      "metadata": {
        "id": "XkNU3wQo9_Ge"
      },
      "source": [
        "x = np.zeros((300,20))\n",
        "x = np.transpose(x)\n",
        "print(x.shape)"
      ],
      "execution_count": null,
      "outputs": []
    },
    {
      "cell_type": "markdown",
      "metadata": {
        "id": "_U5JY7RLD9Ly"
      },
      "source": [
        "# 2-4 以梯度為基礎的最佳化\n",
        "\n",
        "```\n",
        "output = relu(dot(W,input)+b)\n",
        "```\n",
        "權重(weights)/可訓練參數(trainable parameters):W、b → **屬性張量**  \n",
        "* W ：內核(kernel)\n",
        "* b ：偏值(bias)\n",
        "  \n",
        "**訓練循環**  \n",
        "① 取出一批訓練樣本x和對應的目標y  \n",
        "② 以x為輸入資料，開始執行神經網路(正向傳遞)已獲得預測值y_pred  \n",
        "③ 計算神經網路的批次量損失值(y與y_pred間的差距)  \n",
        "④ 更新神經網路的所有權重值，以稍微減少損失值  \n",
        "  \n",
        "![2-1](https://github.com/hank199599/deep_learning_keras_log/blob/main/pictures/2-1.png?raw=true)"
      ]
    },
    {
      "cell_type": "markdown",
      "metadata": {
        "id": "WVRxt3oiHoXO"
      },
      "source": [
        "## [隨機梯度下降](https://colab.research.google.com/github/hank199599/data_science_from_scratch_reading_log/blob/main/Chapter8.ipynb#scrollTo=8ftOmpRQ__rB&line=1&uniqifier=1)\n",
        "1. 函數f(x)在x點的斜率就是該函數的導函數f'(x)\n",
        "\n",
        "2. 函數f(W) 在W點的梯度就是該函數的張量導函數f'(W)   \n",
        "  \n",
        "![2-2](https://github.com/hank199599/deep_learning_keras_log/blob/main/pictures/2-2.png?raw=true)"
      ]
    },
    {
      "cell_type": "markdown",
      "metadata": {
        "id": "MaYc8PC1IaCD"
      },
      "source": [
        "## 小批次隨機梯度下降(mini-batch stochastic gradient descent,mini-batch SGD)\n",
        "① 取出一批次量的訓練樣本x和對應的目標y  \n",
        "② 以x為輸入資料，開始執行神經網路(正向傳遞)已獲得預測值y_pred  \n",
        "③ 計算神經網路的批次量損失值(y與y_pred間的差距)  \n",
        "④ 計算損失值對神經網路權重的梯度(反向傳播)  \n",
        "⑤ 將參數稍微往梯度的反方向移動，如 W -= step*gradient，降低一點批次的損失  "
      ]
    },
    {
      "cell_type": "markdown",
      "metadata": {
        "id": "ffZnldXwgfW6"
      },
      "source": [
        "## 連串的導數：反向傳播 Backpropagation\n",
        "自最終的損失值開始，從最後面層像前面反向運作  \n",
        "透過連鎖法則(train rule)來計算每個神經網路參數\n",
        "使用具符號微分(symbolic differentiation)運算能力的框架來建構神經網路"
      ]
    }
  ]
}