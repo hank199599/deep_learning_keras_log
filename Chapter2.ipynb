{
  "nbformat": 4,
  "nbformat_minor": 0,
  "metadata": {
    "colab": {
      "name": "Chapter2.ipynb",
      "provenance": [],
      "authorship_tag": "ABX9TyOuPyMOa19gXSuKxb+8vz9G",
      "include_colab_link": true
    },
    "kernelspec": {
      "name": "python3",
      "display_name": "Python 3"
    }
  },
  "cells": [
    {
      "cell_type": "markdown",
      "metadata": {
        "id": "view-in-github",
        "colab_type": "text"
      },
      "source": [
        "<a href=\"https://colab.research.google.com/github/hank199599/deep_learning_keras_log/blob/main/Chapter2.ipynb\" target=\"_parent\"><img src=\"https://colab.research.google.com/assets/colab-badge.svg\" alt=\"Open In Colab\"/></a>"
      ]
    },
    {
      "cell_type": "markdown",
      "metadata": {
        "id": "IqEHFE-J8XJm"
      },
      "source": [
        "# 2-1 初探神經網路：第一支神經網路\r\n"
      ]
    },
    {
      "cell_type": "markdown",
      "metadata": {
        "id": "jZ355JXh9ORF"
      },
      "source": [
        "## MINIST 資料集圖片辨識\r\n",
        "深度學習的「Hello World!」\r\n",
        "1. 載入mnist資料集，含(train_images,train_labels)和(test_images,test_labels)\r\n",
        "2. 用兩個Dense層架構(network.add())了一個神經網路\r\n",
        "3. 用network.compile()來編譯神經網路，此時要指定optimmizer、loss、metrices三個參數\r\n",
        "4.要將輸入資料集做前處理，用reshape()和astype()來做 \r\n",
        "5. 對輸入的標籤做分類標碼\r\n",
        "6. 用network.fit()來進行訓練\r\n",
        "7. 用network.evaluate()評估成果"
      ]
    },
    {
      "cell_type": "code",
      "metadata": {
        "id": "yaifUbsltw0v",
        "outputId": "d7c09523-f8a9-46bd-afc5-3ebb7465c57f",
        "colab": {
          "base_uri": "https://localhost:8080/"
        }
      },
      "source": [
        "# 在Keras中載入MNIST資料集\r\n",
        "from keras.datasets import mnist\r\n",
        "\r\n",
        "(train_images,train_labels),(test_images,test_labels) = mnist.load_data()"
      ],
      "execution_count": 3,
      "outputs": [
        {
          "output_type": "stream",
          "text": [
            "Downloading data from https://storage.googleapis.com/tensorflow/tf-keras-datasets/mnist.npz\n",
            "11493376/11490434 [==============================] - 0s 0us/step\n"
          ],
          "name": "stdout"
        }
      ]
    },
    {
      "cell_type": "markdown",
      "metadata": {
        "id": "cWfJNWO5-tqW"
      },
      "source": [
        "查看驗證資料"
      ]
    },
    {
      "cell_type": "code",
      "metadata": {
        "colab": {
          "base_uri": "https://localhost:8080/"
        },
        "id": "yjIrSmqn9NSW",
        "outputId": "e4aa53cd-addd-4b1d-8c13-d0474ca66757"
      },
      "source": [
        "train_images.shape"
      ],
      "execution_count": 4,
      "outputs": [
        {
          "output_type": "execute_result",
          "data": {
            "text/plain": [
              "(60000, 28, 28)"
            ]
          },
          "metadata": {
            "tags": []
          },
          "execution_count": 4
        }
      ]
    },
    {
      "cell_type": "code",
      "metadata": {
        "colab": {
          "base_uri": "https://localhost:8080/"
        },
        "id": "LCurHDH5-yRt",
        "outputId": "53cb5865-6272-4537-9b9c-8fe1f51bb1f9"
      },
      "source": [
        "len(train_labels)"
      ],
      "execution_count": 5,
      "outputs": [
        {
          "output_type": "execute_result",
          "data": {
            "text/plain": [
              "60000"
            ]
          },
          "metadata": {
            "tags": []
          },
          "execution_count": 5
        }
      ]
    },
    {
      "cell_type": "code",
      "metadata": {
        "colab": {
          "base_uri": "https://localhost:8080/"
        },
        "id": "RFRecbit-2A9",
        "outputId": "2743b3aa-1850-49c0-e5d5-08c935e63c79"
      },
      "source": [
        "train_labels\r\n",
        "#標籤是0-9之間的數字，資料型別是unit8"
      ],
      "execution_count": 6,
      "outputs": [
        {
          "output_type": "execute_result",
          "data": {
            "text/plain": [
              "array([5, 0, 4, ..., 5, 6, 8], dtype=uint8)"
            ]
          },
          "metadata": {
            "tags": []
          },
          "execution_count": 6
        }
      ]
    },
    {
      "cell_type": "markdown",
      "metadata": {
        "id": "a7YTx0FZ_F7R"
      },
      "source": [
        "查看測試資料"
      ]
    },
    {
      "cell_type": "code",
      "metadata": {
        "colab": {
          "base_uri": "https://localhost:8080/"
        },
        "id": "9wjTxt-R_F7W",
        "outputId": "6b613918-4f2a-4255-fd0f-dc5a903d6fce"
      },
      "source": [
        "test_images.shape"
      ],
      "execution_count": 7,
      "outputs": [
        {
          "output_type": "execute_result",
          "data": {
            "text/plain": [
              "(10000, 28, 28)"
            ]
          },
          "metadata": {
            "tags": []
          },
          "execution_count": 7
        }
      ]
    },
    {
      "cell_type": "code",
      "metadata": {
        "colab": {
          "base_uri": "https://localhost:8080/"
        },
        "id": "i0aCBG7__F7Y",
        "outputId": "181923bd-8a34-4019-e676-9bf41cca9c50"
      },
      "source": [
        "len(test_labels)"
      ],
      "execution_count": 8,
      "outputs": [
        {
          "output_type": "execute_result",
          "data": {
            "text/plain": [
              "10000"
            ]
          },
          "metadata": {
            "tags": []
          },
          "execution_count": 8
        }
      ]
    },
    {
      "cell_type": "code",
      "metadata": {
        "colab": {
          "base_uri": "https://localhost:8080/"
        },
        "id": "hjAqjgpr_F7a",
        "outputId": "29f1985a-3ead-4bfc-beb6-394d4efed2ae"
      },
      "source": [
        "test_labels\r\n",
        "#標籤是0-9之間的數字，資料型別是unit8"
      ],
      "execution_count": 9,
      "outputs": [
        {
          "output_type": "execute_result",
          "data": {
            "text/plain": [
              "array([7, 2, 1, ..., 4, 5, 6], dtype=uint8)"
            ]
          },
          "metadata": {
            "tags": []
          },
          "execution_count": 9
        }
      ]
    }
  ]
}