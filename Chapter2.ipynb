{
  "nbformat": 4,
  "nbformat_minor": 0,
  "metadata": {
    "colab": {
      "name": "Chapter2.ipynb",
      "provenance": [],
      "toc_visible": true,
      "authorship_tag": "ABX9TyMEZDOqaed7/MJwSbiDb2nc",
      "include_colab_link": true
    },
    "kernelspec": {
      "name": "python3",
      "display_name": "Python 3"
    }
  },
  "cells": [
    {
      "cell_type": "markdown",
      "metadata": {
        "id": "view-in-github",
        "colab_type": "text"
      },
      "source": [
        "<a href=\"https://colab.research.google.com/github/hank199599/deep_learning_keras_log/blob/main/Chapter2.ipynb\" target=\"_parent\"><img src=\"https://colab.research.google.com/assets/colab-badge.svg\" alt=\"Open In Colab\"/></a>"
      ]
    },
    {
      "cell_type": "markdown",
      "metadata": {
        "id": "IqEHFE-J8XJm"
      },
      "source": [
        "# 2-1 初探神經網路：第一支神經網路\r\n"
      ]
    },
    {
      "cell_type": "markdown",
      "metadata": {
        "id": "jZ355JXh9ORF"
      },
      "source": [
        "## MINIST 資料集圖片辨識\r\n",
        "深度學習的「Hello World!」\r\n",
        "1. 載入mnist資料集，含(train_images,train_labels)和(test_images,test_labels)\r\n",
        "2. 用兩個Dense層架構(network.add())了一個神經網路\r\n",
        "3. 用network.compile()來編譯神經網路，此時要指定optimmizer、loss、metrices三個參數\r\n",
        "4.要將輸入資料集做前處理，用reshape()和astype()來做 \r\n",
        "5. 對輸入的標籤做分類標碼\r\n",
        "6. 用network.fit()來進行訓練\r\n",
        "7. 用network.evaluate()評估成果"
      ]
    },
    {
      "cell_type": "code",
      "metadata": {
        "id": "yaifUbsltw0v"
      },
      "source": [
        "# 在Keras中載入MNIST資料集\r\n",
        "from keras.datasets import mnist\r\n",
        "\r\n",
        "(train_images,train_labels),(test_images,test_labels) = mnist.load_data()"
      ],
      "execution_count": null,
      "outputs": []
    },
    {
      "cell_type": "markdown",
      "metadata": {
        "id": "cWfJNWO5-tqW"
      },
      "source": [
        "查看驗證資料"
      ]
    },
    {
      "cell_type": "code",
      "metadata": {
        "colab": {
          "base_uri": "https://localhost:8080/"
        },
        "id": "yjIrSmqn9NSW",
        "outputId": "66a20e37-7393-4384-d223-ba967daa3db5"
      },
      "source": [
        "train_images.shape"
      ],
      "execution_count": null,
      "outputs": [
        {
          "output_type": "execute_result",
          "data": {
            "text/plain": [
              "(60000, 28, 28)"
            ]
          },
          "metadata": {
            "tags": []
          },
          "execution_count": 15
        }
      ]
    },
    {
      "cell_type": "code",
      "metadata": {
        "colab": {
          "base_uri": "https://localhost:8080/"
        },
        "id": "LCurHDH5-yRt",
        "outputId": "2227d5fb-4276-4c3a-9b6b-abad330f4126"
      },
      "source": [
        "len(train_labels)"
      ],
      "execution_count": null,
      "outputs": [
        {
          "output_type": "execute_result",
          "data": {
            "text/plain": [
              "60000"
            ]
          },
          "metadata": {
            "tags": []
          },
          "execution_count": 16
        }
      ]
    },
    {
      "cell_type": "code",
      "metadata": {
        "colab": {
          "base_uri": "https://localhost:8080/"
        },
        "id": "RFRecbit-2A9",
        "outputId": "5777d3ff-0ba9-4111-b828-77150845da55"
      },
      "source": [
        "train_labels\r\n",
        "#標籤是0-9之間的數字，資料型別是unit8"
      ],
      "execution_count": null,
      "outputs": [
        {
          "output_type": "execute_result",
          "data": {
            "text/plain": [
              "array([5, 0, 4, ..., 5, 6, 8], dtype=uint8)"
            ]
          },
          "metadata": {
            "tags": []
          },
          "execution_count": 17
        }
      ]
    },
    {
      "cell_type": "markdown",
      "metadata": {
        "id": "a7YTx0FZ_F7R"
      },
      "source": [
        "查看測試資料"
      ]
    },
    {
      "cell_type": "code",
      "metadata": {
        "colab": {
          "base_uri": "https://localhost:8080/"
        },
        "id": "9wjTxt-R_F7W",
        "outputId": "3fef51d5-2a48-44b9-cdff-e08d3f76ca80"
      },
      "source": [
        "test_images.shape"
      ],
      "execution_count": null,
      "outputs": [
        {
          "output_type": "execute_result",
          "data": {
            "text/plain": [
              "(10000, 28, 28)"
            ]
          },
          "metadata": {
            "tags": []
          },
          "execution_count": 18
        }
      ]
    },
    {
      "cell_type": "code",
      "metadata": {
        "colab": {
          "base_uri": "https://localhost:8080/"
        },
        "id": "i0aCBG7__F7Y",
        "outputId": "14ef4222-abdc-408e-cc52-55b5577f4649"
      },
      "source": [
        "len(test_labels)"
      ],
      "execution_count": null,
      "outputs": [
        {
          "output_type": "execute_result",
          "data": {
            "text/plain": [
              "10000"
            ]
          },
          "metadata": {
            "tags": []
          },
          "execution_count": 19
        }
      ]
    },
    {
      "cell_type": "code",
      "metadata": {
        "colab": {
          "base_uri": "https://localhost:8080/"
        },
        "id": "hjAqjgpr_F7a",
        "outputId": "bd2e284b-0f6f-4864-b8d6-b4d3dda4bb2c"
      },
      "source": [
        "test_labels\r\n",
        "#標籤是0-9之間的數字，資料型別是unit8"
      ],
      "execution_count": null,
      "outputs": [
        {
          "output_type": "execute_result",
          "data": {
            "text/plain": [
              "array([7, 2, 1, ..., 4, 5, 6], dtype=uint8)"
            ]
          },
          "metadata": {
            "tags": []
          },
          "execution_count": 20
        }
      ]
    },
    {
      "cell_type": "markdown",
      "metadata": {
        "id": "sZPLkDsdPFXK"
      },
      "source": [
        "## 整體操作流程\r\n",
        "①  我們提供訓練集 train_images 和 train_labels 給神經網路  \r\n",
        "②  神經網路學習把圖片加以歸類,並且和每張圖片的標籤對比,如果歸類錯誤就加以修正。  \r\n",
        "③最後,我們要求神經網路對 test_images 中的圖片進行預測、並進行驗證,確 認是否與 test_labels 中記錄的標籤符合。\r\n",
        " "
      ]
    },
    {
      "cell_type": "markdown",
      "metadata": {
        "id": "cko3WUNR0Xk5"
      },
      "source": [
        "神經網路架構"
      ]
    },
    {
      "cell_type": "markdown",
      "metadata": {
        "id": "M8l8pIMn07Hj"
      },
      "source": [
        "### **密集層**/全連接層(fully connected)  \r\n",
        "![pic-1](https://ithelp.ithome.com.tw/upload/images/20190925/20120549IXrUJjgcpN.png)  \r\n",
        "指前後層的神經元彼此連接在一起，  \r\n",
        "前一層神經元皆對應到後一層的神經元。"
      ]
    },
    {
      "cell_type": "code",
      "metadata": {
        "id": "sAKO_Drk0bvR"
      },
      "source": [
        "from keras import models\r\n",
        "from keras import layers\r\n",
        "\r\n",
        "network = models.Sequential()\r\n",
        "network.add(layers.Dense(512,activation=\"relu\",input_shape=(28*28,)))\r\n",
        "network.add(layers.Dense(10,activation='softmax'))"
      ],
      "execution_count": null,
      "outputs": []
    },
    {
      "cell_type": "code",
      "metadata": {
        "id": "9NondBR01xIs"
      },
      "source": [
        "network.compile(\r\n",
        "    optimizer = 'rmsprop', # 指定優化器→控制梯度下降的確切規則\r\n",
        "    loss = 'categorical_crossentropy', # 指定損失函數\r\n",
        "    metrics = ['accuracy'] # 指定評量準則\r\n",
        ")"
      ],
      "execution_count": null,
      "outputs": []
    },
    {
      "cell_type": "markdown",
      "metadata": {
        "id": "LMQ5ffTP2puB"
      },
      "source": [
        "### 準備圖片資料\r\n",
        "reshape 跟 astype 是 NumPy 陣列的method"
      ]
    },
    {
      "cell_type": "code",
      "metadata": {
        "id": "JVxcDx4O2ue4"
      },
      "source": [
        "train_images = train_images.reshape((60000,28*28))\r\n",
        "train_images = train_images.astype('float32')/ 255\r\n",
        "\r\n",
        "test_images = test_images.reshape((10000,28*28))\r\n",
        "test_images = test_images.astype('float32')/ 255"
      ],
      "execution_count": null,
      "outputs": []
    },
    {
      "cell_type": "markdown",
      "metadata": {
        "id": "_pHXxTCP2tqq"
      },
      "source": [
        "對標籤進行分類標碼"
      ]
    },
    {
      "cell_type": "code",
      "metadata": {
        "id": "Fw4PFNBy3TGU"
      },
      "source": [
        "from keras.utils import to_categorical\r\n",
        "\r\n",
        "train_labels = to_categorical(train_labels)\r\n",
        "test_labels = to_categorical(test_labels)"
      ],
      "execution_count": null,
      "outputs": []
    },
    {
      "cell_type": "markdown",
      "metadata": {
        "id": "yH3BzCLe3iXR"
      },
      "source": [
        "### 進行訓練"
      ]
    },
    {
      "cell_type": "code",
      "metadata": {
        "colab": {
          "base_uri": "https://localhost:8080/"
        },
        "id": "gdyvhCyG3mox",
        "outputId": "60f9a2ce-78a4-479b-8e3e-6c42401d0152"
      },
      "source": [
        "network.fit(train_images,train_labels,epochs=5,batch_size=128)"
      ],
      "execution_count": null,
      "outputs": [
        {
          "output_type": "stream",
          "text": [
            "Epoch 1/5\n",
            "469/469 [==============================] - 4s 9ms/step - loss: 0.2442 - accuracy: 0.9291\n",
            "Epoch 2/5\n",
            "469/469 [==============================] - 4s 9ms/step - loss: 0.2345 - accuracy: 0.9325\n",
            "Epoch 3/5\n",
            "469/469 [==============================] - 5s 10ms/step - loss: 0.2248 - accuracy: 0.9345\n",
            "Epoch 4/5\n",
            "469/469 [==============================] - 5s 10ms/step - loss: 0.2156 - accuracy: 0.9381\n",
            "Epoch 5/5\n",
            "469/469 [==============================] - 4s 9ms/step - loss: 0.2066 - accuracy: 0.9406\n"
          ],
          "name": "stdout"
        },
        {
          "output_type": "execute_result",
          "data": {
            "text/plain": [
              "<tensorflow.python.keras.callbacks.History at 0x7f937fbea710>"
            ]
          },
          "metadata": {
            "tags": []
          },
          "execution_count": 31
        }
      ]
    },
    {
      "cell_type": "markdown",
      "metadata": {
        "id": "7W5OE90KHFpV"
      },
      "source": [
        "### 進行測試"
      ]
    },
    {
      "cell_type": "code",
      "metadata": {
        "colab": {
          "base_uri": "https://localhost:8080/"
        },
        "id": "q215bXxvHUKi",
        "outputId": "519f4070-b144-4b10-942c-5c3222b82de6"
      },
      "source": [
        "test_loss , test_acc = network.evaluate(test_images,test_labels)\r\n",
        "print('test_acc:',test_acc)"
      ],
      "execution_count": null,
      "outputs": [
        {
          "output_type": "stream",
          "text": [
            "313/313 [==============================] - 1s 2ms/step - loss: 29.5613 - accuracy: 0.9161\n",
            "test_acc: 0.916100025177002\n"
          ],
          "name": "stdout"
        }
      ]
    },
    {
      "cell_type": "markdown",
      "metadata": {
        "id": "Fa5bcXKSKj5k"
      },
      "source": [
        "# 2-2 張量 Tensor"
      ]
    },
    {
      "cell_type": "markdown",
      "metadata": {
        "id": "EqcYNFbkZn7o"
      },
      "source": [
        "## 張量的類別"
      ]
    },
    {
      "cell_type": "code",
      "metadata": {
        "id": "Rctm5NuOOJ2L"
      },
      "source": [
        "import numpy as np"
      ],
      "execution_count": null,
      "outputs": []
    },
    {
      "cell_type": "markdown",
      "metadata": {
        "id": "7A8jv8zzK2Xq"
      },
      "source": [
        "### 純量 (0D張量)\r\n",
        "只包含一個數值的張量"
      ]
    },
    {
      "cell_type": "code",
      "metadata": {
        "colab": {
          "base_uri": "https://localhost:8080/"
        },
        "id": "BsvXCQr7LPIt",
        "outputId": "8706b800-ffbc-46d6-fe6f-363889216711"
      },
      "source": [
        "x = np.array(12)\r\n",
        "x"
      ],
      "execution_count": null,
      "outputs": [
        {
          "output_type": "execute_result",
          "data": {
            "text/plain": [
              "array(12)"
            ]
          },
          "metadata": {
            "tags": []
          },
          "execution_count": 42
        }
      ]
    },
    {
      "cell_type": "code",
      "metadata": {
        "colab": {
          "base_uri": "https://localhost:8080/"
        },
        "id": "MrI8st9ULoii",
        "outputId": "ec2235a4-cd8a-4461-9260-1bcc8a249f57"
      },
      "source": [
        "x.ndim"
      ],
      "execution_count": null,
      "outputs": [
        {
          "output_type": "execute_result",
          "data": {
            "text/plain": [
              "0"
            ]
          },
          "metadata": {
            "tags": []
          },
          "execution_count": 34
        }
      ]
    },
    {
      "cell_type": "markdown",
      "metadata": {
        "id": "Cb5hpyjBK77m"
      },
      "source": [
        "### 向量 (1D張量) vector\r\n",
        "由一組數值排列而成的陣列"
      ]
    },
    {
      "cell_type": "code",
      "metadata": {
        "colab": {
          "base_uri": "https://localhost:8080/"
        },
        "id": "vjaB8L4bLdcb",
        "outputId": "b70ac022-a51c-458e-f409-b483c849ff92"
      },
      "source": [
        "x = np.array([12,3,6,14,7])\r\n",
        "x"
      ],
      "execution_count": null,
      "outputs": [
        {
          "output_type": "execute_result",
          "data": {
            "text/plain": [
              "array([12,  3,  6, 14,  7])"
            ]
          },
          "metadata": {
            "tags": []
          },
          "execution_count": 35
        }
      ]
    },
    {
      "cell_type": "code",
      "metadata": {
        "colab": {
          "base_uri": "https://localhost:8080/"
        },
        "id": "cwyJlIvoL0AV",
        "outputId": "f0c1d573-9e7d-4433-c3e1-375520adb335"
      },
      "source": [
        "x.ndim"
      ],
      "execution_count": null,
      "outputs": [
        {
          "output_type": "execute_result",
          "data": {
            "text/plain": [
              "1"
            ]
          },
          "metadata": {
            "tags": []
          },
          "execution_count": 36
        }
      ]
    },
    {
      "cell_type": "markdown",
      "metadata": {
        "id": "ME-kWE0qK8Cj"
      },
      "source": [
        "### 矩陣 (2D張量)\r\n",
        "一個矩陣"
      ]
    },
    {
      "cell_type": "code",
      "metadata": {
        "id": "OlcfYfTmLeq9"
      },
      "source": [
        "x = np.array([[5,78,2,34,0],\r\n",
        "        [6,79,3,35,1],\r\n",
        "        [7,80,4,36,2]])"
      ],
      "execution_count": null,
      "outputs": []
    },
    {
      "cell_type": "code",
      "metadata": {
        "colab": {
          "base_uri": "https://localhost:8080/"
        },
        "id": "a81ruHACL4Wf",
        "outputId": "79fb0a8a-68cc-4979-e984-b16e144916ce"
      },
      "source": [
        "x.ndim"
      ],
      "execution_count": null,
      "outputs": [
        {
          "output_type": "execute_result",
          "data": {
            "text/plain": [
              "2"
            ]
          },
          "metadata": {
            "tags": []
          },
          "execution_count": 38
        }
      ]
    },
    {
      "cell_type": "markdown",
      "metadata": {
        "id": "DZvdsr3YK8IZ"
      },
      "source": [
        "### 高階張量 (3D張量與其上)\r\n",
        "將多個矩陣包裝在一個新陣列中"
      ]
    },
    {
      "cell_type": "code",
      "metadata": {
        "id": "56SgJGZILfJb"
      },
      "source": [
        "x = np.array([[[5,78,2,34,0],\r\n",
        "        [6,79,3,35,1],\r\n",
        "        [7,80,4,36,2]],\r\n",
        "        [[5,78,2,34,0],\r\n",
        "        [6,79,3,35,1],\r\n",
        "        [7,80,4,36,2]],\r\n",
        "        [[5,78,2,34,0],\r\n",
        "        [6,79,3,35,1],\r\n",
        "        [7,80,4,36,2]]])"
      ],
      "execution_count": null,
      "outputs": []
    },
    {
      "cell_type": "code",
      "metadata": {
        "colab": {
          "base_uri": "https://localhost:8080/"
        },
        "id": "JmtCrUPeL4q3",
        "outputId": "8e4821cc-91a3-49cf-e463-43c3a7cbb408"
      },
      "source": [
        "x.ndim"
      ],
      "execution_count": null,
      "outputs": [
        {
          "output_type": "execute_result",
          "data": {
            "text/plain": [
              "3"
            ]
          },
          "metadata": {
            "tags": []
          },
          "execution_count": 40
        }
      ]
    },
    {
      "cell_type": "markdown",
      "metadata": {
        "id": "X2VA2HPuPM7i"
      },
      "source": [
        "## 張量屬性\r\n",
        "* 軸的數量(階數)：ndim\r\n",
        "* 形狀：描述一個張量上每個軸有多少個維度\r\n",
        "* 資料型別(dtype)：張量所存放的型別\r\n",
        " * float32\r\n",
        " * unit8\r\n",
        " * float64\r\n",
        " * char:Numpy中不存在字串張量"
      ]
    },
    {
      "cell_type": "code",
      "metadata": {
        "id": "UdkVNEvhQLqD"
      },
      "source": [
        "from keras.datasets import mnist\r\n",
        "\r\n",
        "(train_images,train_labels),(test_images,test_labels) = mnist.load_data() "
      ],
      "execution_count": null,
      "outputs": []
    },
    {
      "cell_type": "markdown",
      "metadata": {
        "id": "hJsOjtFtQWL8"
      },
      "source": [
        "ndim屬性"
      ]
    },
    {
      "cell_type": "code",
      "metadata": {
        "colab": {
          "base_uri": "https://localhost:8080/"
        },
        "id": "gdiGFIonQYaa",
        "outputId": "2e41f942-8df6-498b-f848-5cad53ccd970"
      },
      "source": [
        "print(train_images.ndim)"
      ],
      "execution_count": null,
      "outputs": [
        {
          "output_type": "stream",
          "text": [
            "3\n"
          ],
          "name": "stdout"
        }
      ]
    },
    {
      "cell_type": "markdown",
      "metadata": {
        "id": "j_7KxzzgQcVj"
      },
      "source": [
        "張量的形狀"
      ]
    },
    {
      "cell_type": "code",
      "metadata": {
        "colab": {
          "base_uri": "https://localhost:8080/"
        },
        "id": "-szy5t_bQem6",
        "outputId": "c81d7830-ed5f-409e-a5f7-2a51724e5628"
      },
      "source": [
        "print(train_images.shape)"
      ],
      "execution_count": null,
      "outputs": [
        {
          "output_type": "stream",
          "text": [
            "(60000, 28, 28)\n"
          ],
          "name": "stdout"
        }
      ]
    },
    {
      "cell_type": "markdown",
      "metadata": {
        "id": "t7AwaGAQQkT6"
      },
      "source": [
        "dtype(資料型別)"
      ]
    },
    {
      "cell_type": "code",
      "metadata": {
        "colab": {
          "base_uri": "https://localhost:8080/"
        },
        "id": "jV8xUy2jQnHC",
        "outputId": "4ada9621-f546-4f74-9f92-9b62b8d80010"
      },
      "source": [
        "print(train_images.shape)"
      ],
      "execution_count": null,
      "outputs": [
        {
          "output_type": "stream",
          "text": [
            "(60000, 28, 28)\n"
          ],
          "name": "stdout"
        }
      ]
    },
    {
      "cell_type": "markdown",
      "metadata": {
        "id": "Kg4h68KYRFHZ"
      },
      "source": [
        "train_images 是一個由8為元整數所組成的3D張量。  \r\n",
        "由 60000個 28×28的矩陣組成  \r\n",
        "每個矩陣是一個灰階圖像，像素值在0~255之間"
      ]
    },
    {
      "cell_type": "code",
      "metadata": {
        "colab": {
          "base_uri": "https://localhost:8080/",
          "height": 265
        },
        "id": "zuxk_uSXRkSx",
        "outputId": "35166c1c-779d-4f4d-a038-a534a9747e92"
      },
      "source": [
        "digit = train_images[4]\r\n",
        "\r\n",
        "import matplotlib.pyplot as plt\r\n",
        "plt.imshow(digit,cmap=plt.cm.binary)\r\n",
        "plt.show()"
      ],
      "execution_count": null,
      "outputs": [
        {
          "output_type": "display_data",
          "data": {
            "image/png": "[encoded data removed]",
            "text/plain": [
              "<Figure size 432x288 with 1 Axes>"
            ]
          },
          "metadata": {
            "tags": [],
            "needs_background": "light"
          }
        }
      ]
    },
    {
      "cell_type": "markdown",
      "metadata": {
        "id": "tCt17DSKSGMM"
      },
      "source": [
        "## 張量切片 Tensor Slicing"
      ]
    },
    {
      "cell_type": "code",
      "metadata": {
        "colab": {
          "base_uri": "https://localhost:8080/"
        },
        "id": "qTIDHujYSPaS",
        "outputId": "b89032fd-4c61-4ad8-bc36-7cd13c399524"
      },
      "source": [
        "my_slice = train_images[10:100]\r\n",
        "print(my_slice.shape)"
      ],
      "execution_count": null,
      "outputs": [
        {
          "output_type": "stream",
          "text": [
            "(90, 28, 28)\n"
          ],
          "name": "stdout"
        }
      ]
    },
    {
      "cell_type": "code",
      "metadata": {
        "colab": {
          "base_uri": "https://localhost:8080/"
        },
        "id": "DhhfW2jCSZVr",
        "outputId": "2e341d3a-fc5a-4b8c-f1c9-11803233ed78"
      },
      "source": [
        "my_slice = train_images[10:100, : , : ]\r\n",
        "print(my_slice.shape)"
      ],
      "execution_count": null,
      "outputs": [
        {
          "output_type": "stream",
          "text": [
            "(90, 28, 28)\n"
          ],
          "name": "stdout"
        }
      ]
    },
    {
      "cell_type": "code",
      "metadata": {
        "colab": {
          "base_uri": "https://localhost:8080/"
        },
        "id": "GqmLWOIAShc6",
        "outputId": "c5977830-e2b5-4260-de89-9b1a9a5cbff0"
      },
      "source": [
        "my_slice = train_images[10:100,0:28,0:28]\r\n",
        "print(my_slice.shape)"
      ],
      "execution_count": null,
      "outputs": [
        {
          "output_type": "stream",
          "text": [
            "(90, 28, 28)\n"
          ],
          "name": "stdout"
        }
      ]
    },
    {
      "cell_type": "markdown",
      "metadata": {
        "id": "YsZboUFvSpQR"
      },
      "source": [
        "## 資料批次(batch)\r\n",
        "深度學習模型不會一次學習整個模型，而是將資料分成一小批一小批來學習。  \r\n",
        "這些批次向量被稱為批次軸或批次維度。"
      ]
    },
    {
      "cell_type": "markdown",
      "metadata": {
        "id": "NcIISK6vXBXa"
      },
      "source": [
        "# 2-3 張量運算"
      ]
    },
    {
      "cell_type": "markdown",
      "metadata": {
        "id": "6A6oPNqcYJf_"
      },
      "source": [
        "## 元素間的運算\r\n",
        "以relu運算為例"
      ]
    },
    {
      "cell_type": "markdown",
      "metadata": {
        "id": "lhOyTlfnY7SA"
      },
      "source": [
        "### 透過for迴圈運算"
      ]
    },
    {
      "cell_type": "code",
      "metadata": {
        "id": "X0Bsp2NcZGZF"
      },
      "source": [
        "def naive_relu(x):\r\n",
        "  assert len(x.shape) == 2 ,\" x 不是2D張量\"\r\n",
        "\r\n",
        "  x = x.copy()\r\n",
        "  for i in range(x.shape[0]):\r\n",
        "    for j in range(x.shape(1)):\r\n",
        "      x[i,j] = max(x[i,j],0)\r\n",
        "  \r\n",
        "  return x"
      ],
      "execution_count": null,
      "outputs": []
    },
    {
      "cell_type": "code",
      "metadata": {
        "id": "Bx7J-IKHaM5B"
      },
      "source": [
        "def naive_add(x,y):\r\n",
        "  assert len(x.shape) == 2\r\n",
        "  assert x.shape == y.shape\r\n",
        "\r\n",
        "  x = x.copy()\r\n",
        "  for i in range(x.shape[0]):\r\n",
        "    for j in range(x.shape(1)):\r\n",
        "      x[i,j] += y[i,j]\r\n",
        "  \r\n",
        "  return x"
      ],
      "execution_count": null,
      "outputs": []
    },
    {
      "cell_type": "markdown",
      "metadata": {
        "id": "GwaaFY0KY-Ns"
      },
      "source": [
        "### 向量化執行 (vectorized implementations)\r\n",
        "\r\n",
        "```python\r\n",
        "import numpy as np\r\n",
        "\r\n",
        "z = x + y\r\n",
        "z = x * y\r\n",
        "z = np.maximun(z,0.)\r\n",
        "```\r\n",
        "\r\n"
      ]
    },
    {
      "cell_type": "markdown",
      "metadata": {
        "id": "4MPEMGYhcd8u"
      },
      "source": [
        "## 張量擴張(Broadcasting)\r\n",
        "使較小的張量進行擴張以匹配形狀較大的張量\r\n",
        "\r\n",
        "① 較小的向量會加入新的軸，以匹配較大的向量  \r\n",
        "② 較小的向量會在這些新的軸重複寫入元素，以匹配較大張量的shape"
      ]
    },
    {
      "cell_type": "markdown",
      "metadata": {
        "id": "4Q-Eblh-gKuD"
      },
      "source": [
        "### 透過for迴圈運算"
      ]
    },
    {
      "cell_type": "code",
      "metadata": {
        "id": "cIhweaavgKuZ"
      },
      "source": [
        "def naive_add_matrix_and_vector(x,y):\r\n",
        "  assert len(x.shape) == 2 ,\" x 不是2D張量\"\r\n",
        "  assert len(y.shape) == 1 ,\" x 不是2D張量\"\r\n",
        "  assert x.shape[1] == y.shape[0]\r\n",
        "\r\n",
        "  x = x.copy()\r\n",
        "  for i in range(x.shape[0]):\r\n",
        "    for j in range(x.shape(1)):\r\n",
        "      x[i,j] += y[j]\r\n",
        "  \r\n",
        "  return x"
      ],
      "execution_count": null,
      "outputs": []
    },
    {
      "cell_type": "markdown",
      "metadata": {
        "id": "3MAksK8egKub"
      },
      "source": [
        "### 向量化執行 (vectorized implementations)\r\n",
        "\r\n"
      ]
    },
    {
      "cell_type": "code",
      "metadata": {
        "colab": {
          "base_uri": "https://localhost:8080/"
        },
        "id": "pyWgZuu9g183",
        "outputId": "752aeac3-ab39-409f-97d6-73e01729e3ef"
      },
      "source": [
        "import numpy as np\r\n",
        "\r\n",
        "z = np.random.random((64,3,32,10))\r\n",
        "y = np.random.random((32,10))\r\n",
        "\r\n",
        "z = np.maximum(x,y)\r\n",
        "z.shape"
      ],
      "execution_count": null,
      "outputs": [
        {
          "output_type": "execute_result",
          "data": {
            "text/plain": [
              "(32, 10)"
            ]
          },
          "metadata": {
            "tags": []
          },
          "execution_count": 58
        }
      ]
    },
    {
      "cell_type": "markdown",
      "metadata": {
        "id": "aouo8AJnhM0f"
      },
      "source": [
        "## 點積運算 (dot)"
      ]
    },
    {
      "cell_type": "code",
      "metadata": {
        "id": "85xM54i0sGqn"
      },
      "source": [
        "def naive_vector_dot(x,y):\r\n",
        "  assert len(x.shape) == 1\r\n",
        "  assert len(y.shape) == 1\r\n",
        "  assert x.shape[0] == y.shape[0]\r\n",
        "  z = 0.\r\n",
        "  for i in range(x,shape[0]):\r\n",
        "    z += x[i] * j[i]\r\n",
        "  return z"
      ],
      "execution_count": null,
      "outputs": []
    },
    {
      "cell_type": "markdown",
      "metadata": {
        "id": "232Y81wAuBd9"
      },
      "source": [
        ""
      ]
    },
    {
      "cell_type": "code",
      "metadata": {
        "id": "J5l9wB0IuBlB"
      },
      "source": [
        "import numpy as np\r\n",
        "\r\n",
        "def native_matrix_vector_dot(x,y):\r\n",
        "  assert len(x.shape) == 2\r\n",
        "  assert len(y.shape) == 1\r\n",
        "  assert x.shape[1] == y.shape[0]\r\n",
        "\r\n",
        "  z = np.zeros(z.shape[0])\r\n",
        "  for i in range(x.shape[0]):\r\n",
        "    for j in range(x.shape[1]):\r\n",
        "      z[i] += x[i,j] * y[j]\r\n",
        "  \r\n",
        "  return z"
      ],
      "execution_count": null,
      "outputs": []
    },
    {
      "cell_type": "code",
      "metadata": {
        "id": "YnrcZNydx4kM"
      },
      "source": [
        "def native_matrix_vector_dot(x,y):\r\n",
        "  z = np.zeros(x.shape[0])\r\n",
        "  for i in range(x.shape[0]):\r\n",
        "    z[i] = native_vector_dot(x[i,:],y)\r\n",
        "  return z"
      ],
      "execution_count": null,
      "outputs": []
    },
    {
      "cell_type": "markdown",
      "metadata": {
        "id": "cFG39IiZ9Az_"
      },
      "source": [
        "## 張量重塑 (reshaping)\r\n",
        "調整各軸的元素數"
      ]
    },
    {
      "cell_type": "code",
      "metadata": {
        "colab": {
          "base_uri": "https://localhost:8080/"
        },
        "id": "zjj-dtWo9R5-",
        "outputId": "7e77ea57-e98d-49c8-f143-9b83c60175c9"
      },
      "source": [
        "x = np.array([[0.,1.],\r\n",
        "        [2.,3.],\r\n",
        "        [4.,5.]])\r\n",
        "\r\n",
        "print(x.shape)"
      ],
      "execution_count": null,
      "outputs": [
        {
          "output_type": "stream",
          "text": [
            "(3, 2)\n"
          ],
          "name": "stdout"
        }
      ]
    },
    {
      "cell_type": "code",
      "metadata": {
        "colab": {
          "base_uri": "https://localhost:8080/"
        },
        "id": "ZDCuREAD9j9n",
        "outputId": "3e21a3bc-991f-4feb-d922-9aaf2039aabd"
      },
      "source": [
        "x = x.reshape((6,1))\r\n",
        "x"
      ],
      "execution_count": null,
      "outputs": [
        {
          "output_type": "execute_result",
          "data": {
            "text/plain": [
              "array([[0.],\n",
              "       [1.],\n",
              "       [2.],\n",
              "       [3.],\n",
              "       [4.],\n",
              "       [5.]])"
            ]
          },
          "metadata": {
            "tags": []
          },
          "execution_count": 66
        }
      ]
    },
    {
      "cell_type": "code",
      "metadata": {
        "colab": {
          "base_uri": "https://localhost:8080/"
        },
        "id": "RckFKQ4b9rJ9",
        "outputId": "567dee38-50d8-488f-9659-39511b729812"
      },
      "source": [
        "x = x.reshape((2,3))\r\n",
        "x"
      ],
      "execution_count": null,
      "outputs": [
        {
          "output_type": "execute_result",
          "data": {
            "text/plain": [
              "array([[0., 1., 2.],\n",
              "       [3., 4., 5.]])"
            ]
          },
          "metadata": {
            "tags": []
          },
          "execution_count": 67
        }
      ]
    },
    {
      "cell_type": "markdown",
      "metadata": {
        "id": "DWLbJrFx90b-"
      },
      "source": [
        "### 矩陣轉置(transposition)\r\n",
        "使x[i,:] 變成 [:,i]"
      ]
    },
    {
      "cell_type": "code",
      "metadata": {
        "colab": {
          "base_uri": "https://localhost:8080/"
        },
        "id": "XkNU3wQo9_Ge",
        "outputId": "a2f266f9-c853-4e7d-9ba3-49244d51c16f"
      },
      "source": [
        "x = np.zeros((300,20))\r\n",
        "x = np.transpose(x)\r\n",
        "print(x.shape)"
      ],
      "execution_count": null,
      "outputs": [
        {
          "output_type": "stream",
          "text": [
            "(20, 300)\n"
          ],
          "name": "stdout"
        }
      ]
    },
    {
      "cell_type": "markdown",
      "metadata": {
        "id": "_U5JY7RLD9Ly"
      },
      "source": [
        "# 2-4 以梯度為基礎的最佳化\r\n",
        "\r\n",
        "```\r\n",
        "output = relu(dot(W,input)+b)\r\n",
        "```\r\n",
        "權重(weights)/可訓練參數(trainable parameters):W、b → **屬性張量**  \r\n",
        "* W ：內核(kernel)\r\n",
        "* b ：偏值(bias)\r\n",
        "  \r\n",
        "**訓練循環**  \r\n",
        "① 取出一批訓練樣本x和對應的目標y  \r\n",
        "② 以x為輸入資料，開始執行神經網路(正向傳遞)已獲得預測值y_pred  \r\n",
        "③ 計算神經網路的批次量損失值(y與y_pred間的差距)  \r\n",
        "④ 更新神經網路的所有權重值，以稍微減少損失值"
      ]
    },
    {
      "cell_type": "markdown",
      "metadata": {
        "id": "WVRxt3oiHoXO"
      },
      "source": [
        "## [隨機梯度下降](https://colab.research.google.com/github/hank199599/data_science_from_scratch_reading_log/blob/main/Chapter8.ipynb#scrollTo=8ftOmpRQ__rB&line=1&uniqifier=1)\r\n",
        "1. 函數f(x)在x點的斜率就是該函數的導函數f'(x)\r\n",
        "\r\n",
        "2. 函數f(W) 在W點的梯度就是該函數的張量導函數f'(W)"
      ]
    },
    {
      "cell_type": "markdown",
      "metadata": {
        "id": "MaYc8PC1IaCD"
      },
      "source": [
        "## 小批次隨機梯度下降(mini-batch stochastic gradient descent,mini-batch SGD)\r\n",
        "① 取出一批次量的訓練樣本x和對應的目標y  \r\n",
        "② 以x為輸入資料，開始執行神經網路(正向傳遞)已獲得預測值y_pred  \r\n",
        "③ 計算神經網路的批次量損失值(y與y_pred間的差距)  \r\n",
        "④ 計算損失值對神經網路權重的梯度(反向傳播)  \r\n",
        "⑤ 將參數稍微往梯度的反方向移動，如 W -= step*gradient，降低一點批次的損失  "
      ]
    },
    {
      "cell_type": "markdown",
      "metadata": {
        "id": "ffZnldXwgfW6"
      },
      "source": [
        "## 連串的導數：反向傳播 Backpropagation\r\n",
        "自最終的損失值開始，從最後面層像前面反向運作  \r\n",
        "透過連鎖法則(train rule)來計算每個神經網路參數\r\n",
        "使用具符號微分(symbolic differentiation)運算能力的框架來建構神經網路"
      ]
    },
    {
      "cell_type": "markdown",
      "metadata": {
        "id": "T0_-IQZmFBMv"
      },
      "source": [
        ""
      ]
    }
  ]
}