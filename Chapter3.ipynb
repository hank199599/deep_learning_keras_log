{
  "nbformat": 4,
  "nbformat_minor": 0,
  "metadata": {
    "colab": {
      "name": "Chapter3.ipynb",
      "provenance": [],
      "authorship_tag": "ABX9TyNxqBj9ZKnKizd/fIvvsfFa",
      "include_colab_link": true
    },
    "kernelspec": {
      "name": "python3",
      "display_name": "Python 3"
    }
  },
  "cells": [
    {
      "cell_type": "markdown",
      "metadata": {
        "id": "view-in-github",
        "colab_type": "text"
      },
      "source": [
        "<a href=\"https://colab.research.google.com/github/hank199599/deep_learning_keras_log/blob/main/Chapter3.ipynb\" target=\"_parent\"><img src=\"https://colab.research.google.com/assets/colab-badge.svg\" alt=\"Open In Colab\"/></a>"
      ]
    },
    {
      "cell_type": "markdown",
      "metadata": {
        "id": "ruo9MV9r4NGL"
      },
      "source": [
        "# 3-1 核心元件\r\n",
        "![3-1](https://github.com/hank199599/deep_learning_keras_log/blob/main/pictures/3-1.png?raw=true)  \r\n",
        "* 層(layers)：組成一個神經網路模型\r\n",
        "* 輸入資料(input data) 與 目標(target)：用來訓練及檢測一個神經網路\r\n",
        "* 損失函數(loss functions)：取得學習的回饋信號\r\n",
        "* 優化器(optimizer)：決定學習進行的方式"
      ]
    },
    {
      "cell_type": "markdown",
      "metadata": {
        "id": "N9Gz7uWYmAGd"
      },
      "source": [
        "## 層(layers)\r\n",
        "|向量資料|儲存的張量|使用的層|\r\n",
        "|---|---|---|\r\n",
        "|1D|2D|densely-connected layer 密集連接層\r\n",
        "|2D|3D|recurrent layer 循環層\r\n",
        "|3D|4D|Conv2D 2D卷積層  \r\n",
        "  \r\n",
        "須包含一層batch 維度，因此在儲存時的維度較訓練資料多一維"
      ]
    },
    {
      "cell_type": "markdown",
      "metadata": {
        "id": "w1YCOrvPrlT9"
      },
      "source": [
        "## 模型\r\n",
        "神經網路拓樸定義了一個**假設空間(hypothesis space，只在該神經網路拓樸下權重參數所有可能的組態)**"
      ]
    },
    {
      "cell_type": "markdown",
      "metadata": {
        "id": "f5olH7E8vq69"
      },
      "source": [
        "## 損失函數 (loss function)\r\n",
        "* 二元分類問題：二元交叉熵(binary crossentropy)\r\n",
        "* 多類別分類問題：分類交叉熵(categorical crossentropy)\r\n",
        "* 迴歸問題：均方差(meansquared error)\r\n",
        "* 序列學習問題：連結時序問題(connectionist temporal classfication)\r\n"
      ]
    },
    {
      "cell_type": "markdown",
      "metadata": {
        "id": "G9q3tyDG4VhI"
      },
      "source": [
        "# 3-4 二元分類：電影評論為正評或負評\r\n",
        "[IMDb,Internet Movie Database](https://www.imdb.com)"
      ]
    },
    {
      "cell_type": "markdown",
      "metadata": {
        "id": "EKvah1THxKCl"
      },
      "source": [
        "載入IMBD資料集"
      ]
    },
    {
      "cell_type": "code",
      "metadata": {
        "colab": {
          "base_uri": "https://localhost:8080/"
        },
        "id": "LqBXkSRpxPTE",
        "outputId": "c33b81dc-0cb9-4a40-9af6-e13a888a1866"
      },
      "source": [
        "from keras.datasets import imdb\r\n",
        "\r\n",
        "(train_data,train_labels),(test_data,test_labels) = imdb.load_data(num_words=10000)"
      ],
      "execution_count": null,
      "outputs": [
        {
          "output_type": "stream",
          "text": [
            "Downloading data from https://storage.googleapis.com/tensorflow/tf-keras-datasets/imdb.npz\n",
            "17465344/17464789 [==============================] - 0s 0us/step\n"
          ],
          "name": "stdout"
        },
        {
          "output_type": "stream",
          "text": [
            "<string>:6: VisibleDeprecationWarning: Creating an ndarray from ragged nested sequences (which is a list-or-tuple of lists-or-tuples-or ndarrays with different lengths or shapes) is deprecated. If you meant to do this, you must specify 'dtype=object' when creating the ndarray\n",
            "/usr/local/lib/python3.6/dist-packages/tensorflow/python/keras/datasets/imdb.py:159: VisibleDeprecationWarning: Creating an ndarray from ragged nested sequences (which is a list-or-tuple of lists-or-tuples-or ndarrays with different lengths or shapes) is deprecated. If you meant to do this, you must specify 'dtype=object' when creating the ndarray\n",
            "  x_train, y_train = np.array(xs[:idx]), np.array(labels[:idx])\n",
            "/usr/local/lib/python3.6/dist-packages/tensorflow/python/keras/datasets/imdb.py:160: VisibleDeprecationWarning: Creating an ndarray from ragged nested sequences (which is a list-or-tuple of lists-or-tuples-or ndarrays with different lengths or shapes) is deprecated. If you meant to do this, you must specify 'dtype=object' when creating the ndarray\n",
            "  x_test, y_test = np.array(xs[idx:]), np.array(labels[idx:])\n"
          ],
          "name": "stderr"
        }
      ]
    },
    {
      "cell_type": "markdown",
      "metadata": {
        "id": "98KrY9xEx7P8"
      },
      "source": [
        "### num_words\r\n",
        "表示讀取資料時，只允許「單字對應數字的字典」中編號0~9999的單字載入"
      ]
    },
    {
      "cell_type": "code",
      "metadata": {
        "colab": {
          "base_uri": "https://localhost:8080/"
        },
        "id": "ErqTkxRjyJqL",
        "outputId": "ceb733b2-0ff7-4b66-baca-006c69ca2ba1"
      },
      "source": [
        "max([max(sequence) for sequence in train_data])"
      ],
      "execution_count": null,
      "outputs": [
        {
          "output_type": "execute_result",
          "data": {
            "text/plain": [
              "9999"
            ]
          },
          "metadata": {
            "tags": []
          },
          "execution_count": 2
        }
      ]
    },
    {
      "cell_type": "markdown",
      "metadata": {
        "id": "li9eb6nD0izW"
      },
      "source": [
        "將數字還原成文字"
      ]
    },
    {
      "cell_type": "code",
      "metadata": {
        "colab": {
          "base_uri": "https://localhost:8080/"
        },
        "id": "5bvfUJdc0mxd",
        "outputId": "3afbd9e6-6613-40ec-b7ab-1dab2b907673"
      },
      "source": [
        "word_index = imdb.get_word_index() #取得單字對應數字的字典\r\n",
        "reverse_word_index = dict(\r\n",
        "    [(value,key) for (key,value) in word_index.items()] #反轉為數字對應單字的字典\r\n",
        ")"
      ],
      "execution_count": null,
      "outputs": [
        {
          "output_type": "stream",
          "text": [
            "Downloading data from https://storage.googleapis.com/tensorflow/tf-keras-datasets/imdb_word_index.json\n",
            "1646592/1641221 [==============================] - 0s 0us/step\n"
          ],
          "name": "stdout"
        }
      ]
    },
    {
      "cell_type": "code",
      "metadata": {
        "colab": {
          "base_uri": "https://localhost:8080/",
          "height": 126
        },
        "id": "iBjZYAKf2Lon",
        "outputId": "de9986bb-3120-412a-a194-4035a215a233"
      },
      "source": [
        "decord_review = ' '.join([reverse_word_index.get(i-3,'?') for i in train_data[0]])\r\n",
        "decord_review"
      ],
      "execution_count": null,
      "outputs": [
        {
          "output_type": "execute_result",
          "data": {
            "application/vnd.google.colaboratory.intrinsic+json": {
              "type": "string"
            },
            "text/plain": [
              "\"? this film was just brilliant casting location scenery story direction everyone's really suited the part they played and you could just imagine being there robert ? is an amazing actor and now the same being director ? father came from the same scottish island as myself so i loved the fact there was a real connection with this film the witty remarks throughout the film were great it was just brilliant so much that i bought the film as soon as it was released for ? and would recommend it to everyone to watch and the fly fishing was amazing really cried at the end it was so sad and you know what they say if you cry at a film it must have been good and this definitely was also ? to the two little boy's that played the ? of norman and paul they were just brilliant children are often left out of the ? list i think because the stars that play them all grown up are such a big profile for the whole film but these children are amazing and should be praised for what they have done don't you think the whole story was so lovely because it was true and was someone's life after all that was shared with us all\""
            ]
          },
          "metadata": {
            "tags": []
          },
          "execution_count": 4
        }
      ]
    },
    {
      "cell_type": "markdown",
      "metadata": {
        "id": "uEdtOxAY2XUe"
      },
      "source": [
        "## 準備資料\r\n",
        "方法一：\r\n",
        "1. 填補資料中每個子list的內容，使它們具有相同的長度\r\n",
        "2. 在將整筆資料轉換成shape (樣本數、填補後的樣本長度)\r\n",
        "3. 輸入到崁入層(Embedding layer)\r\n",
        "  \r\n",
        "方法二： \r\n",
        "1. 對資料中每個子list做[One-shot編碼](https://colab.research.google.com/github/hank199599/data_science_from_scratch_reading_log/blob/main/Chapter19.ipynb#scrollTo=QzUQbu-DtfQa)，將其轉換成由0與1組成的向量\r\n",
        "\r\n",
        "```python\r\n",
        "def one_hot_encode(i:int,num_labels:int=10)->List[float]:\r\n",
        "  return [1.0 if j==i else 0.0 for j in range(num_labels)]\r\n",
        "```\r\n",
        "2. 輸入到可處理浮點數的密集層(Dense layer)\r\n"
      ]
    },
    {
      "cell_type": "code",
      "metadata": {
        "id": "ufOW1gsK48Cg"
      },
      "source": [
        "import numpy as np\r\n",
        "\r\n",
        "def vectorize_sequences(sequences,dimension=10000):\r\n",
        "  results = np.zeros((len(sequences),dimension))\r\n",
        "  for i,sequences in enumerate(sequences):\r\n",
        "    results[i,sequences] = 1.\r\n",
        "  return results"
      ],
      "execution_count": null,
      "outputs": []
    },
    {
      "cell_type": "markdown",
      "metadata": {
        "id": "WYSWI3_E7L9H"
      },
      "source": [
        "### 將訓練資料轉換為維度為10000的向量"
      ]
    },
    {
      "cell_type": "code",
      "metadata": {
        "id": "tGgO-vbb5jyv"
      },
      "source": [
        "x_train = vectorize_sequences(train_data) # 將訓練資料向量化"
      ],
      "execution_count": null,
      "outputs": []
    },
    {
      "cell_type": "code",
      "metadata": {
        "id": "ESnI3SLH5yhO"
      },
      "source": [
        "x_test = vectorize_sequences(test_data)"
      ],
      "execution_count": null,
      "outputs": []
    },
    {
      "cell_type": "markdown",
      "metadata": {
        "id": "-6X_steF55zg"
      },
      "source": [
        ""
      ]
    },
    {
      "cell_type": "code",
      "metadata": {
        "colab": {
          "base_uri": "https://localhost:8080/"
        },
        "id": "CqokQILv55rP",
        "outputId": "09da067f-39a6-4309-ff03-9b8fbe7ea12a"
      },
      "source": [
        "x_train[0]"
      ],
      "execution_count": null,
      "outputs": [
        {
          "output_type": "execute_result",
          "data": {
            "text/plain": [
              "array([0., 1., 1., ..., 0., 0., 0.])"
            ]
          },
          "metadata": {
            "tags": []
          },
          "execution_count": 8
        }
      ]
    },
    {
      "cell_type": "markdown",
      "metadata": {
        "id": "QJ0DmbzT7YTW"
      },
      "source": [
        "### 將標籤資料向量化"
      ]
    },
    {
      "cell_type": "code",
      "metadata": {
        "id": "Hmyo2C9s7cwe"
      },
      "source": [
        "y_train = np.array(train_labels).astype('float32')"
      ],
      "execution_count": null,
      "outputs": []
    },
    {
      "cell_type": "code",
      "metadata": {
        "id": "hsLJM5E77mWL"
      },
      "source": [
        "y_test = np.array(test_labels).astype('float32')"
      ],
      "execution_count": null,
      "outputs": []
    },
    {
      "cell_type": "markdown",
      "metadata": {
        "id": "kYzzxHZt7tMB"
      },
      "source": [
        "## 建立神經網路"
      ]
    },
    {
      "cell_type": "markdown",
      "metadata": {
        "id": "NLipmDmd77Qw"
      },
      "source": [
        "### 建立密集層Dense堆疊結構，需確認的關鍵：\r\n",
        "* 需要使用多少層?\r\n",
        "* 每一層要有多少個神經元?"
      ]
    },
    {
      "cell_type": "code",
      "metadata": {
        "id": "19hK5I7O8V9O"
      },
      "source": [
        "from keras import models\r\n",
        "from keras import layers\r\n",
        "\r\n",
        "model = models.Sequential()\r\n",
        "model.add(layers.Dense(16,activation='relu',input_shape=(10000,)))\r\n",
        "model.add(layers.Dense(16,activation='relu'))\r\n",
        "model.add(layers.Dense(1,activation='sigmoid'))"
      ],
      "execution_count": null,
      "outputs": []
    },
    {
      "cell_type": "markdown",
      "metadata": {
        "id": "KbyFY3zmBFZe"
      },
      "source": [
        "編譯模型"
      ]
    },
    {
      "cell_type": "code",
      "metadata": {
        "id": "pcz1lJsuA3dS"
      },
      "source": [
        "model.compile(optimizer='rmsprop',\r\n",
        "       loss='binary_crossentropy', # 指定損失函數，並進行compile\r\n",
        "       metrics=['accuracy'])"
      ],
      "execution_count": null,
      "outputs": []
    },
    {
      "cell_type": "markdown",
      "metadata": {
        "id": "WMHebFurBMGX"
      },
      "source": [
        "調整優化器"
      ]
    },
    {
      "cell_type": "code",
      "metadata": {
        "id": "qA49Af0MBOMW"
      },
      "source": [
        "from keras import optimizers\r\n",
        "\r\n",
        "model.compile(optimizer=optimizers.RMSprop(lr=0.001), #調整優化器參數lr的值\r\n",
        "       loss='binary_crossentropy',\r\n",
        "       metrics=['accuracy'])"
      ],
      "execution_count": null,
      "outputs": []
    },
    {
      "cell_type": "markdown",
      "metadata": {
        "id": "8s6jwHPZC3KI"
      },
      "source": [
        "使用自行定義的損失函數與metrics函數"
      ]
    },
    {
      "cell_type": "code",
      "metadata": {
        "id": "wFmROI7NC98A"
      },
      "source": [
        "from keras import losses\r\n",
        "from keras import metrics\r\n",
        "\r\n",
        "model.compile(optimizer=optimizers.RMSprop(lr=0.001), #調整優化器參數lr的值\r\n",
        "       loss=losses.binary_crossentropy, # 自行指定其他的損失函數與metrics函數\r\n",
        "       metrics=[metrics.binary_accuracy])"
      ],
      "execution_count": null,
      "outputs": []
    },
    {
      "cell_type": "markdown",
      "metadata": {
        "id": "ooTWmOGsDS4f"
      },
      "source": [
        "## 設定驗證資料集  \r\n",
        "從原始訓練資料中分離出10000樣本來建立驗證資料集"
      ]
    },
    {
      "cell_type": "code",
      "metadata": {
        "id": "YXHIyPuGDgjW"
      },
      "source": [
        "x_val = x_train[:10000]\r\n",
        "partial_x_train = x_train[10000:]\r\n",
        "\r\n",
        "y_val = y_train[:10000]\r\n",
        "partial_y_train = y_train[10000:]"
      ],
      "execution_count": null,
      "outputs": []
    },
    {
      "cell_type": "markdown",
      "metadata": {
        "id": "OXhXOnuXFqZR"
      },
      "source": [
        "## 訓練模型"
      ]
    },
    {
      "cell_type": "code",
      "metadata": {
        "colab": {
          "base_uri": "https://localhost:8080/"
        },
        "id": "Yc9-iCOQFxT4",
        "outputId": "52a708f2-e96d-46ba-f243-d0efd7026b93"
      },
      "source": [
        "model.compile(optimizer='rmsprop', #調整優化器參數lr的值\r\n",
        "       loss='binary_crossentropy', # 自行指定其他的損失函數與metrics函數\r\n",
        "       metrics=['acc'])\r\n",
        "\r\n",
        "history = model.fit(partial_x_train,\r\n",
        "           partial_y_train,\r\n",
        "           epochs=20,\r\n",
        "           batch_size=512,\r\n",
        "           validation_data=(x_val,y_val))\r\n",
        "\r\n",
        "# model.fit()會回傳一個history的物件\r\n"
      ],
      "execution_count": null,
      "outputs": [
        {
          "output_type": "stream",
          "text": [
            "Epoch 1/20\n",
            "30/30 [==============================] - 3s 61ms/step - loss: 0.5871 - acc: 0.7194 - val_loss: 0.3922 - val_acc: 0.8695\n",
            "Epoch 2/20\n",
            "30/30 [==============================] - 1s 37ms/step - loss: 0.3346 - acc: 0.8923 - val_loss: 0.3053 - val_acc: 0.8870\n",
            "Epoch 3/20\n",
            "30/30 [==============================] - 1s 37ms/step - loss: 0.2316 - acc: 0.9268 - val_loss: 0.2802 - val_acc: 0.8917\n",
            "Epoch 4/20\n",
            "30/30 [==============================] - 1s 46ms/step - loss: 0.1739 - acc: 0.9434 - val_loss: 0.2771 - val_acc: 0.8879\n",
            "Epoch 5/20\n",
            "30/30 [==============================] - 1s 36ms/step - loss: 0.1455 - acc: 0.9517 - val_loss: 0.2806 - val_acc: 0.8872\n",
            "Epoch 6/20\n",
            "30/30 [==============================] - 1s 38ms/step - loss: 0.1153 - acc: 0.9678 - val_loss: 0.3027 - val_acc: 0.8834\n",
            "Epoch 7/20\n",
            "30/30 [==============================] - 1s 39ms/step - loss: 0.0958 - acc: 0.9732 - val_loss: 0.3172 - val_acc: 0.8836\n",
            "Epoch 8/20\n",
            "30/30 [==============================] - 1s 38ms/step - loss: 0.0769 - acc: 0.9800 - val_loss: 0.3454 - val_acc: 0.8756\n",
            "Epoch 9/20\n",
            "30/30 [==============================] - 1s 37ms/step - loss: 0.0630 - acc: 0.9832 - val_loss: 0.3684 - val_acc: 0.8735\n",
            "Epoch 10/20\n",
            "30/30 [==============================] - 1s 37ms/step - loss: 0.0512 - acc: 0.9867 - val_loss: 0.3808 - val_acc: 0.8782\n",
            "Epoch 11/20\n",
            "30/30 [==============================] - 1s 37ms/step - loss: 0.0403 - acc: 0.9923 - val_loss: 0.4079 - val_acc: 0.8753\n",
            "Epoch 12/20\n",
            "30/30 [==============================] - 1s 37ms/step - loss: 0.0320 - acc: 0.9944 - val_loss: 0.4362 - val_acc: 0.8766\n",
            "Epoch 13/20\n",
            "30/30 [==============================] - 1s 36ms/step - loss: 0.0254 - acc: 0.9958 - val_loss: 0.4676 - val_acc: 0.8740\n",
            "Epoch 14/20\n",
            "30/30 [==============================] - 1s 37ms/step - loss: 0.0198 - acc: 0.9968 - val_loss: 0.4984 - val_acc: 0.8726\n",
            "Epoch 15/20\n",
            "30/30 [==============================] - 1s 37ms/step - loss: 0.0151 - acc: 0.9980 - val_loss: 0.5350 - val_acc: 0.8704\n",
            "Epoch 16/20\n",
            "30/30 [==============================] - 1s 36ms/step - loss: 0.0100 - acc: 0.9992 - val_loss: 0.5715 - val_acc: 0.8693\n",
            "Epoch 17/20\n",
            "30/30 [==============================] - 1s 37ms/step - loss: 0.0085 - acc: 0.9995 - val_loss: 0.6031 - val_acc: 0.8715\n",
            "Epoch 18/20\n",
            "30/30 [==============================] - 1s 37ms/step - loss: 0.0060 - acc: 0.9997 - val_loss: 0.6828 - val_acc: 0.8576\n",
            "Epoch 19/20\n",
            "30/30 [==============================] - 1s 36ms/step - loss: 0.0049 - acc: 0.9999 - val_loss: 0.7005 - val_acc: 0.8639\n",
            "Epoch 20/20\n",
            "30/30 [==============================] - 1s 35ms/step - loss: 0.0050 - acc: 0.9995 - val_loss: 0.7038 - val_acc: 0.8670\n"
          ],
          "name": "stdout"
        }
      ]
    },
    {
      "cell_type": "code",
      "metadata": {
        "colab": {
          "base_uri": "https://localhost:8080/"
        },
        "id": "qZ1tFLEKLlkD",
        "outputId": "95190c76-ddff-4dc2-9def-c49d061e6e3f"
      },
      "source": [
        "history_dict = history.history\r\n",
        "history_dict.keys()"
      ],
      "execution_count": null,
      "outputs": [
        {
          "output_type": "execute_result",
          "data": {
            "text/plain": [
              "dict_keys(['loss', 'acc', 'val_loss', 'val_acc'])"
            ]
          },
          "metadata": {
            "tags": []
          },
          "execution_count": 19
        }
      ]
    },
    {
      "cell_type": "markdown",
      "metadata": {
        "id": "3mHAZ8r3L2pp"
      },
      "source": [
        "繪製訓練與驗證的損失函數"
      ]
    },
    {
      "cell_type": "code",
      "metadata": {
        "colab": {
          "base_uri": "https://localhost:8080/",
          "height": 295
        },
        "id": "LBTezclZL1lp",
        "outputId": "6cdd5b93-31d8-43c6-b732-549e302ef61b"
      },
      "source": [
        "import matplotlib.pyplot as plt\r\n",
        "\r\n",
        "history_dict = history.history\r\n",
        "loss_values = history_dict['loss']\r\n",
        "val_loss_values = history_dict['val_loss']\r\n",
        "\r\n",
        "epochs = range(1,len(loss_values)+1)\r\n",
        "\r\n",
        "plt.plot(epochs,loss_values,'bo',label='Training loss')\r\n",
        "plt.plot(epochs,val_loss_values,'b',label='Validation loss')\r\n",
        "plt.title('Training and validation loss')\r\n",
        "plt.xlabel('Epochs')\r\n",
        "plt.ylabel('Loss')\r\n",
        "plt.legend()\r\n",
        "\r\n",
        "plt.show()"
      ],
      "execution_count": null,
      "outputs": [
        {
          "output_type": "display_data",
          "data": {
            "image/png": "[encoded data removed]",
            "text/plain": [
              "<Figure size 432x288 with 1 Axes>"
            ]
          },
          "metadata": {
            "tags": [],
            "needs_background": "light"
          }
        }
      ]
    },
    {
      "cell_type": "markdown",
      "metadata": {
        "id": "JYqkA-NtNJgC"
      },
      "source": [
        "繪製訓練與驗證的準確度"
      ]
    },
    {
      "cell_type": "code",
      "metadata": {
        "colab": {
          "base_uri": "https://localhost:8080/",
          "height": 295
        },
        "id": "SVN-XK16NJgb",
        "outputId": "f4692527-ea2a-417c-ba33-99bf241f68c1"
      },
      "source": [
        "import matplotlib.pyplot as plt\r\n",
        "\r\n",
        "plt.clf()\r\n",
        "acc = history_dict['acc']\r\n",
        "val_acc = history_dict['val_acc']\r\n",
        "\r\n",
        "plt.plot(epochs,acc,'bo',label='Training acc')\r\n",
        "plt.plot(epochs,val_acc,'b',label='Validation acc')\r\n",
        "plt.title('Training and validation accuracy')\r\n",
        "plt.xlabel('Epochs')\r\n",
        "plt.ylabel('Accuracy')\r\n",
        "plt.legend()\r\n",
        "\r\n",
        "plt.show()"
      ],
      "execution_count": null,
      "outputs": [
        {
          "output_type": "display_data",
          "data": {
            "image/png": "[encoded data removed]",
            "text/plain": [
              "<Figure size 432x288 with 1 Axes>"
            ]
          },
          "metadata": {
            "tags": [],
            "needs_background": "light"
          }
        }
      ]
    },
    {
      "cell_type": "markdown",
      "metadata": {
        "id": "eR6mMCfuOjbs"
      },
      "source": [
        "驗證準確度在第四個周期後，準確度就下降  \r\n",
        "發生**過度適配(Overfitting)**"
      ]
    },
    {
      "cell_type": "markdown",
      "metadata": {
        "id": "lrqFWkGkO2g_"
      },
      "source": [
        "## 重新建立訓練模型\r\n",
        "為了防止過度適配，將訓練週期限制在第四個周期後即結束訓練"
      ]
    },
    {
      "cell_type": "code",
      "metadata": {
        "colab": {
          "base_uri": "https://localhost:8080/"
        },
        "id": "kyBrn5wPO0_p",
        "outputId": "85b63b5a-6ca9-4d8e-d65d-0538dc1a17cb"
      },
      "source": [
        "model = models.Sequential()\r\n",
        "model.add(layers.Dense(16,activation='relu',input_shape=(10000,)))\r\n",
        "model.add(layers.Dense(16,activation='relu'))\r\n",
        "model.add(layers.Dense(1,activation='sigmoid'))\r\n",
        "\r\n",
        "model.compile(optimizer='rmsprop', #調整優化器參數lr的值\r\n",
        "       loss='binary_crossentropy', # 自行指定其他的損失函數與metrics函數\r\n",
        "       metrics=['accuracy'])\r\n",
        "\r\n",
        "model.fit(x_train,y_train,epochs=4,batch_size=512)\r\n",
        "results=model.evaluate(x_test,y_test)"
      ],
      "execution_count": null,
      "outputs": [
        {
          "output_type": "stream",
          "text": [
            "Epoch 1/4\n",
            "49/49 [==============================] - 2s 29ms/step - loss: 0.5533 - accuracy: 0.7408\n",
            "Epoch 2/4\n",
            "49/49 [==============================] - 1s 30ms/step - loss: 0.2854 - accuracy: 0.9084\n",
            "Epoch 3/4\n",
            "49/49 [==============================] - 1s 30ms/step - loss: 0.2084 - accuracy: 0.9307\n",
            "Epoch 4/4\n",
            "49/49 [==============================] - 1s 30ms/step - loss: 0.1711 - accuracy: 0.9422\n",
            "782/782 [==============================] - 2s 2ms/step - loss: 0.2972 - accuracy: 0.8829\n"
          ],
          "name": "stdout"
        }
      ]
    },
    {
      "cell_type": "code",
      "metadata": {
        "colab": {
          "base_uri": "https://localhost:8080/"
        },
        "id": "ysutO-b1Psz8",
        "outputId": "7a131060-4f96-4de8-fc94-12feb38d90cc"
      },
      "source": [
        "results"
      ],
      "execution_count": null,
      "outputs": [
        {
          "output_type": "execute_result",
          "data": {
            "text/plain": [
              "[0.2972234785556793, 0.8828799724578857]"
            ]
          },
          "metadata": {
            "tags": []
          },
          "execution_count": 23
        }
      ]
    },
    {
      "cell_type": "markdown",
      "metadata": {
        "id": "clF3sYgBQalR"
      },
      "source": [
        "將準確度提升到88%準確度"
      ]
    },
    {
      "cell_type": "markdown",
      "metadata": {
        "id": "gihTGhT7QooD"
      },
      "source": [
        "## 使用神經網路對新資料進行預測"
      ]
    },
    {
      "cell_type": "code",
      "metadata": {
        "colab": {
          "base_uri": "https://localhost:8080/"
        },
        "id": "Al2fb27xQ0Zj",
        "outputId": "492e7bb1-e2ea-422d-fa5f-1a6de3cf54e8"
      },
      "source": [
        "model.predict(x_test)"
      ],
      "execution_count": null,
      "outputs": [
        {
          "output_type": "execute_result",
          "data": {
            "text/plain": [
              "array([[0.2561211 ],\n",
              "       [0.9999504 ],\n",
              "       [0.956131  ],\n",
              "       ...,\n",
              "       [0.1855177 ],\n",
              "       [0.09096816],\n",
              "       [0.65116614]], dtype=float32)"
            ]
          },
          "metadata": {
            "tags": []
          },
          "execution_count": 24
        }
      ]
    },
    {
      "cell_type": "markdown",
      "metadata": {
        "id": "b36pPqiBRbhB"
      },
      "source": [
        "## 延伸實作"
      ]
    },
    {
      "cell_type": "markdown",
      "metadata": {
        "id": "G7MfCUgoRdqq"
      },
      "source": [
        "### 1. 使用一個隱藏層"
      ]
    },
    {
      "cell_type": "code",
      "metadata": {
        "colab": {
          "base_uri": "https://localhost:8080/"
        },
        "id": "8yqHAKCoR_yb",
        "outputId": "ffdb63f1-b447-4a5c-cba9-625ea88e1869"
      },
      "source": [
        "model = models.Sequential()\r\n",
        "model.add(layers.Dense(16,activation='relu',input_shape=(10000,)))\r\n",
        "model.add(layers.Dense(1,activation='sigmoid'))\r\n",
        "\r\n",
        "model.compile(optimizer='rmsprop', #調整優化器參數lr的值\r\n",
        "       loss='binary_crossentropy', # 自行指定其他的損失函數與metrics函數\r\n",
        "       metrics=['accuracy'])\r\n",
        "\r\n",
        "model.fit(x_train,y_train,epochs=4,batch_size=512)\r\n",
        "results=model.evaluate(x_test,y_test)"
      ],
      "execution_count": null,
      "outputs": [
        {
          "output_type": "stream",
          "text": [
            "Epoch 1/4\n",
            "49/49 [==============================] - 2s 27ms/step - loss: 0.5337 - accuracy: 0.7420\n",
            "Epoch 2/4\n",
            "49/49 [==============================] - 1s 27ms/step - loss: 0.2780 - accuracy: 0.9113\n",
            "Epoch 3/4\n",
            "49/49 [==============================] - 1s 27ms/step - loss: 0.2142 - accuracy: 0.9303\n",
            "Epoch 4/4\n",
            "49/49 [==============================] - 1s 27ms/step - loss: 0.1781 - accuracy: 0.9414\n",
            "782/782 [==============================] - 2s 2ms/step - loss: 0.2921 - accuracy: 0.8826\n"
          ],
          "name": "stdout"
        }
      ]
    },
    {
      "cell_type": "markdown",
      "metadata": {
        "id": "UR0TMnutRiE1"
      },
      "source": [
        "### 2. 使用三個隱藏層"
      ]
    },
    {
      "cell_type": "code",
      "metadata": {
        "colab": {
          "base_uri": "https://localhost:8080/"
        },
        "id": "Omw_eUuGSAQi",
        "outputId": "7fe4caac-53ec-49e6-e451-8c92338a954f"
      },
      "source": [
        "model = models.Sequential()\r\n",
        "model.add(layers.Dense(16,activation='relu',input_shape=(10000,)))\r\n",
        "model.add(layers.Dense(16,activation='relu'))\r\n",
        "model.add(layers.Dense(16,activation='relu'))\r\n",
        "model.add(layers.Dense(1,activation='sigmoid'))\r\n",
        "\r\n",
        "model.compile(optimizer='rmsprop', #調整優化器參數lr的值\r\n",
        "       loss='binary_crossentropy', # 自行指定其他的損失函數與metrics函數\r\n",
        "       metrics=['accuracy'])\r\n",
        "\r\n",
        "model.fit(x_train,y_train,epochs=4,batch_size=512)\r\n",
        "results=model.evaluate(x_test,y_test)"
      ],
      "execution_count": null,
      "outputs": [
        {
          "output_type": "stream",
          "text": [
            "Epoch 1/4\n",
            "49/49 [==============================] - 2s 29ms/step - loss: 0.5610 - accuracy: 0.7262\n",
            "Epoch 2/4\n",
            "49/49 [==============================] - 1s 28ms/step - loss: 0.2541 - accuracy: 0.9158\n",
            "Epoch 3/4\n",
            "49/49 [==============================] - 1s 29ms/step - loss: 0.1925 - accuracy: 0.9321\n",
            "Epoch 4/4\n",
            "49/49 [==============================] - 1s 28ms/step - loss: 0.1601 - accuracy: 0.9436\n",
            "782/782 [==============================] - 2s 2ms/step - loss: 0.3085 - accuracy: 0.8801\n"
          ],
          "name": "stdout"
        }
      ]
    },
    {
      "cell_type": "markdown",
      "metadata": {
        "id": "V6cn-I2WRi7n"
      },
      "source": [
        "### 3. 使用32個單元"
      ]
    },
    {
      "cell_type": "code",
      "metadata": {
        "colab": {
          "base_uri": "https://localhost:8080/"
        },
        "id": "5t6ZsY8tSBw5",
        "outputId": "4206c07d-4d46-45db-9808-469df80775bc"
      },
      "source": [
        "model = models.Sequential()\r\n",
        "model.add(layers.Dense(32,activation='relu',input_shape=(10000,)))\r\n",
        "model.add(layers.Dense(32,activation='relu'))\r\n",
        "model.add(layers.Dense(1,activation='sigmoid'))\r\n",
        "\r\n",
        "model.compile(optimizer='rmsprop', #調整優化器參數lr的值\r\n",
        "       loss='binary_crossentropy', # 自行指定其他的損失函數與metrics函數\r\n",
        "       metrics=['accuracy'])\r\n",
        "\r\n",
        "model.fit(x_train,y_train,epochs=4,batch_size=512)\r\n",
        "results=model.evaluate(x_test,y_test)"
      ],
      "execution_count": null,
      "outputs": [
        {
          "output_type": "stream",
          "text": [
            "Epoch 1/4\n",
            "49/49 [==============================] - 2s 34ms/step - loss: 0.5255 - accuracy: 0.7521\n",
            "Epoch 2/4\n",
            "49/49 [==============================] - 2s 34ms/step - loss: 0.2472 - accuracy: 0.9092\n",
            "Epoch 3/4\n",
            "49/49 [==============================] - 2s 34ms/step - loss: 0.1894 - accuracy: 0.9313\n",
            "Epoch 4/4\n",
            "49/49 [==============================] - 2s 34ms/step - loss: 0.1485 - accuracy: 0.9489\n",
            "782/782 [==============================] - 2s 3ms/step - loss: 0.3115 - accuracy: 0.8805\n"
          ],
          "name": "stdout"
        }
      ]
    },
    {
      "cell_type": "markdown",
      "metadata": {
        "id": "NRh23NwzRjDJ"
      },
      "source": [
        "### 4. 使用64個單元"
      ]
    },
    {
      "cell_type": "code",
      "metadata": {
        "colab": {
          "base_uri": "https://localhost:8080/"
        },
        "id": "nHmNlUMvSBee",
        "outputId": "934f2572-3e7f-4a77-bbf2-506ee9e67da6"
      },
      "source": [
        "model = models.Sequential()\r\n",
        "model.add(layers.Dense(64,activation='relu',input_shape=(10000,)))\r\n",
        "model.add(layers.Dense(64,activation='relu'))\r\n",
        "model.add(layers.Dense(1,activation='sigmoid'))\r\n",
        "\r\n",
        "model.compile(optimizer='rmsprop', #調整優化器參數lr的值\r\n",
        "       loss='binary_crossentropy', # 自行指定其他的損失函數與metrics函數\r\n",
        "       metrics=['accuracy'])\r\n",
        "\r\n",
        "model.fit(x_train,y_train,epochs=4,batch_size=512)\r\n",
        "results=model.evaluate(x_test,y_test)"
      ],
      "execution_count": null,
      "outputs": [
        {
          "output_type": "stream",
          "text": [
            "Epoch 1/4\n",
            "49/49 [==============================] - 3s 44ms/step - loss: 0.5186 - accuracy: 0.7390\n",
            "Epoch 2/4\n",
            "49/49 [==============================] - 2s 43ms/step - loss: 0.2334 - accuracy: 0.9130\n",
            "Epoch 3/4\n",
            "49/49 [==============================] - 2s 43ms/step - loss: 0.1781 - accuracy: 0.9339\n",
            "Epoch 4/4\n",
            "49/49 [==============================] - 2s 43ms/step - loss: 0.1304 - accuracy: 0.9531\n",
            "782/782 [==============================] - 2s 2ms/step - loss: 0.3427 - accuracy: 0.8726\n"
          ],
          "name": "stdout"
        }
      ]
    },
    {
      "cell_type": "markdown",
      "metadata": {
        "id": "1snTRfbKRw4a"
      },
      "source": [
        "### 5. 使用mse損失函數"
      ]
    },
    {
      "cell_type": "code",
      "metadata": {
        "colab": {
          "base_uri": "https://localhost:8080/"
        },
        "id": "3mntUv7hSBOF",
        "outputId": "826b4952-78f9-4904-e938-b6807d50547b"
      },
      "source": [
        "model = models.Sequential()\r\n",
        "model.add(layers.Dense(16,activation='relu',input_shape=(10000,)))\r\n",
        "model.add(layers.Dense(16,activation='relu'))\r\n",
        "model.add(layers.Dense(1,activation='sigmoid'))\r\n",
        "\r\n",
        "model.compile(optimizer='rmsprop', #調整優化器參數lr的值\r\n",
        "       loss='mse', # 自行指定其他的損失函數與metrics函數\r\n",
        "       metrics=['accuracy'])\r\n",
        "\r\n",
        "model.fit(x_train,y_train,epochs=4,batch_size=512)\r\n",
        "results=model.evaluate(x_test,y_test)"
      ],
      "execution_count": null,
      "outputs": [
        {
          "output_type": "stream",
          "text": [
            "Epoch 1/4\n",
            "49/49 [==============================] - 2s 26ms/step - loss: 0.1917 - accuracy: 0.7278\n",
            "Epoch 2/4\n",
            "49/49 [==============================] - 1s 26ms/step - loss: 0.0832 - accuracy: 0.9092\n",
            "Epoch 3/4\n",
            "49/49 [==============================] - 1s 27ms/step - loss: 0.0592 - accuracy: 0.9352\n",
            "Epoch 4/4\n",
            "49/49 [==============================] - 1s 27ms/step - loss: 0.0489 - accuracy: 0.9449\n",
            "782/782 [==============================] - 2s 2ms/step - loss: 0.0885 - accuracy: 0.8799\n"
          ],
          "name": "stdout"
        }
      ]
    },
    {
      "cell_type": "markdown",
      "metadata": {
        "id": "VMAbeBqmR2JK"
      },
      "source": [
        "### 6. 使用tanh啟動函數"
      ]
    },
    {
      "cell_type": "code",
      "metadata": {
        "colab": {
          "base_uri": "https://localhost:8080/"
        },
        "id": "Y_DQPFGiSA7e",
        "outputId": "33a1eb58-3e4d-4e03-ca0f-705eee9690e2"
      },
      "source": [
        "model = models.Sequential()\r\n",
        "model.add(layers.Dense(16,activation='tanh',input_shape=(10000,)))\r\n",
        "model.add(layers.Dense(16,activation='tanh'))\r\n",
        "model.add(layers.Dense(1,activation='sigmoid'))\r\n",
        "\r\n",
        "model.compile(optimizer='rmsprop', #調整優化器參數lr的值\r\n",
        "       loss='binary_crossentropy', # 自行指定其他的損失函數與metrics函數\r\n",
        "       metrics=['accuracy'])\r\n",
        "\r\n",
        "model.fit(x_train,y_train,epochs=4,batch_size=512)\r\n",
        "results=model.evaluate(x_test,y_test)"
      ],
      "execution_count": null,
      "outputs": [
        {
          "output_type": "stream",
          "text": [
            "Epoch 1/4\n",
            "49/49 [==============================] - 2s 24ms/step - loss: 0.5471 - accuracy: 0.7513\n",
            "Epoch 2/4\n",
            "49/49 [==============================] - 1s 25ms/step - loss: 0.2667 - accuracy: 0.9114\n",
            "Epoch 3/4\n",
            "49/49 [==============================] - 1s 24ms/step - loss: 0.1839 - accuracy: 0.9357\n",
            "Epoch 4/4\n",
            "49/49 [==============================] - 1s 24ms/step - loss: 0.1456 - accuracy: 0.9515\n",
            "782/782 [==============================] - 1s 2ms/step - loss: 0.3191 - accuracy: 0.8769\n"
          ],
          "name": "stdout"
        }
      ]
    },
    {
      "cell_type": "markdown",
      "metadata": {
        "id": "EFV_yHJM4g-P"
      },
      "source": [
        "# 3-5 多元分類：數位新聞專欄\r\n",
        "建構神經網路，將路透社的新聞專欄分成46個完全不同的主題  \r\n",
        "**單標籤多類別分類(signal-label,multiclass classfication)**"
      ]
    },
    {
      "cell_type": "markdown",
      "metadata": {
        "id": "zvmpDhYjVJYK"
      },
      "source": [
        "載入路透社資料集"
      ]
    },
    {
      "cell_type": "code",
      "metadata": {
        "id": "24VEloE2VN3Q",
        "colab": {
          "base_uri": "https://localhost:8080/"
        },
        "outputId": "f84d5d03-2f1c-4294-a1cd-602474daa2f0"
      },
      "source": [
        "from keras.datasets import reuters\r\n",
        "\r\n",
        "(train_data,train_labels),(test_data,test_labels) = reuters.load_data(num_words=10000)"
      ],
      "execution_count": 15,
      "outputs": [
        {
          "output_type": "stream",
          "text": [
            "/usr/local/lib/python3.6/dist-packages/tensorflow/python/keras/datasets/reuters.py:148: VisibleDeprecationWarning: Creating an ndarray from ragged nested sequences (which is a list-or-tuple of lists-or-tuples-or ndarrays with different lengths or shapes) is deprecated. If you meant to do this, you must specify 'dtype=object' when creating the ndarray\n",
            "  x_train, y_train = np.array(xs[:idx]), np.array(labels[:idx])\n",
            "/usr/local/lib/python3.6/dist-packages/tensorflow/python/keras/datasets/reuters.py:149: VisibleDeprecationWarning: Creating an ndarray from ragged nested sequences (which is a list-or-tuple of lists-or-tuples-or ndarrays with different lengths or shapes) is deprecated. If you meant to do this, you must specify 'dtype=object' when creating the ndarray\n",
            "  x_test, y_test = np.array(xs[idx:]), np.array(labels[idx:])\n"
          ],
          "name": "stderr"
        }
      ]
    },
    {
      "cell_type": "code",
      "metadata": {
        "id": "uYkfd96cVsnL",
        "colab": {
          "base_uri": "https://localhost:8080/"
        },
        "outputId": "18bb880f-8b0f-4072-f5dd-df563bce4947"
      },
      "source": [
        "len(train_data)"
      ],
      "execution_count": 16,
      "outputs": [
        {
          "output_type": "execute_result",
          "data": {
            "text/plain": [
              "8982"
            ]
          },
          "metadata": {
            "tags": []
          },
          "execution_count": 16
        }
      ]
    },
    {
      "cell_type": "code",
      "metadata": {
        "id": "DNLHEL31Vu8r",
        "colab": {
          "base_uri": "https://localhost:8080/"
        },
        "outputId": "b908a21a-721e-4c9c-a4f5-0b4bfd9b6ef7"
      },
      "source": [
        "len(test_data)"
      ],
      "execution_count": 17,
      "outputs": [
        {
          "output_type": "execute_result",
          "data": {
            "text/plain": [
              "2246"
            ]
          },
          "metadata": {
            "tags": []
          },
          "execution_count": 17
        }
      ]
    },
    {
      "cell_type": "code",
      "metadata": {
        "id": "0bI3yK4NVzvr",
        "colab": {
          "base_uri": "https://localhost:8080/"
        },
        "outputId": "7b1af367-6877-49af-ffce-c9d45d711605"
      },
      "source": [
        "train_data[10]"
      ],
      "execution_count": 18,
      "outputs": [
        {
          "output_type": "execute_result",
          "data": {
            "text/plain": [
              "[1,\n",
              " 245,\n",
              " 273,\n",
              " 207,\n",
              " 156,\n",
              " 53,\n",
              " 74,\n",
              " 160,\n",
              " 26,\n",
              " 14,\n",
              " 46,\n",
              " 296,\n",
              " 26,\n",
              " 39,\n",
              " 74,\n",
              " 2979,\n",
              " 3554,\n",
              " 14,\n",
              " 46,\n",
              " 4689,\n",
              " 4329,\n",
              " 86,\n",
              " 61,\n",
              " 3499,\n",
              " 4795,\n",
              " 14,\n",
              " 61,\n",
              " 451,\n",
              " 4329,\n",
              " 17,\n",
              " 12]"
            ]
          },
          "metadata": {
            "tags": []
          },
          "execution_count": 18
        }
      ]
    },
    {
      "cell_type": "markdown",
      "metadata": {
        "id": "9zoZi86rXH3p"
      },
      "source": [
        "將數字還原成文字"
      ]
    },
    {
      "cell_type": "code",
      "metadata": {
        "id": "7BxDRAbUXH3w"
      },
      "source": [
        "word_index = reuters.get_word_index() #取得單字對應數字的字典\r\n",
        "reverse_word_index = dict(\r\n",
        "    [(value,key) for (key,value) in word_index.items()] #反轉為數字對應單字的字典\r\n",
        ")"
      ],
      "execution_count": 19,
      "outputs": []
    },
    {
      "cell_type": "code",
      "metadata": {
        "colab": {
          "base_uri": "https://localhost:8080/",
          "height": 68
        },
        "id": "ZvHy6ZT9XH3y",
        "outputId": "d3dfa76d-655e-41bc-a906-998698b815cc"
      },
      "source": [
        "decord_newseire = ' '.join([reverse_word_index.get(i-3,'?') for i in train_data[0]])\r\n",
        "decord_newseire"
      ],
      "execution_count": 20,
      "outputs": [
        {
          "output_type": "execute_result",
          "data": {
            "application/vnd.google.colaboratory.intrinsic+json": {
              "type": "string"
            },
            "text/plain": [
              "'? ? ? said as a result of its december acquisition of space co it expects earnings per share in 1987 of 1 15 to 1 30 dlrs per share up from 70 cts in 1986 the company said pretax net should rise to nine to 10 mln dlrs from six mln dlrs in 1986 and rental operation revenues to 19 to 22 mln dlrs from 12 5 mln dlrs it said cash flow per share this year should be 2 50 to three dlrs reuter 3'"
            ]
          },
          "metadata": {
            "tags": []
          },
          "execution_count": 20
        }
      ]
    },
    {
      "cell_type": "code",
      "metadata": {
        "id": "AA6hGL3-XUzV",
        "colab": {
          "base_uri": "https://localhost:8080/"
        },
        "outputId": "88ec5e1f-3d85-4a0a-c4ad-c7012698ee1c"
      },
      "source": [
        "train_labels[10] #第10筆訓練資料的標籤為第3類"
      ],
      "execution_count": 21,
      "outputs": [
        {
          "output_type": "execute_result",
          "data": {
            "text/plain": [
              "3"
            ]
          },
          "metadata": {
            "tags": []
          },
          "execution_count": 21
        }
      ]
    },
    {
      "cell_type": "markdown",
      "metadata": {
        "id": "WdwNfYXRXfps"
      },
      "source": [
        "## 準備資料"
      ]
    },
    {
      "cell_type": "code",
      "metadata": {
        "id": "ccqP2VrDXizz"
      },
      "source": [
        "import numpy as np\r\n",
        "\r\n",
        "def vectorize_sequences(sequences,dimension=10000):\r\n",
        "  results=np.zeros((len(sequences),dimension))\r\n",
        "  for i,sequence in enumerate(sequences):\r\n",
        "    results[i,sequence]=1.\r\n",
        "  return results"
      ],
      "execution_count": 22,
      "outputs": []
    },
    {
      "cell_type": "markdown",
      "metadata": {
        "id": "T68HIFbuYFHI"
      },
      "source": [
        "### 將訓練資料轉換為維度為10000的向量"
      ]
    },
    {
      "cell_type": "code",
      "metadata": {
        "id": "wUwQxgNiYFHg"
      },
      "source": [
        "x_train = vectorize_sequences(train_data) # 將訓練資料向量化"
      ],
      "execution_count": 23,
      "outputs": []
    },
    {
      "cell_type": "code",
      "metadata": {
        "id": "Z-viCDgMYFHh"
      },
      "source": [
        "x_test = vectorize_sequences(test_data)"
      ],
      "execution_count": 24,
      "outputs": []
    },
    {
      "cell_type": "markdown",
      "metadata": {
        "id": "SPyR6fQ_Xh5G"
      },
      "source": [
        "## 對向量進行one-hot編碼"
      ]
    },
    {
      "cell_type": "code",
      "metadata": {
        "id": "Ti_cuud1YhjV"
      },
      "source": [
        "from keras.utils.np_utils import to_categorical\r\n",
        "\r\n",
        "one_hot_train_labels = to_categorical(train_labels)\r\n",
        "one_hot_test_labels = to_categorical(test_labels)"
      ],
      "execution_count": 25,
      "outputs": []
    },
    {
      "cell_type": "markdown",
      "metadata": {
        "id": "ibrTo5v9bejN"
      },
      "source": [
        "## 建立神經網路\r\n",
        "輸出空間的維度會大很多"
      ]
    },
    {
      "cell_type": "code",
      "metadata": {
        "id": "MDxAjRs3bsrj"
      },
      "source": [
        "from keras import models\r\n",
        "from keras import layers\r\n",
        "\r\n",
        "model = models.Sequential()\r\n",
        "model.add(layers.Dense(64,activation='relu',input_shape=(10000,)))\r\n",
        "model.add(layers.Dense(64,activation='relu'))\r\n",
        "model.add(layers.Dense(46,activation='softmax'))"
      ],
      "execution_count": 26,
      "outputs": []
    },
    {
      "cell_type": "markdown",
      "metadata": {
        "id": "5yUGQPS-c3hO"
      },
      "source": [
        "### 編譯模型"
      ]
    },
    {
      "cell_type": "code",
      "metadata": {
        "id": "Een9CKjec8ws"
      },
      "source": [
        "model.compile(\r\n",
        "  optimizer='rmsprop',\r\n",
        "  loss='categorical_crossentropy',\r\n",
        "  metrics=['accuracy']\r\n",
        ")"
      ],
      "execution_count": 27,
      "outputs": []
    },
    {
      "cell_type": "markdown",
      "metadata": {
        "id": "CQnGeQqAdMLc"
      },
      "source": [
        "## 驗證"
      ]
    },
    {
      "cell_type": "code",
      "metadata": {
        "id": "Jx_uMyFfdOZA"
      },
      "source": [
        "x_val = x_train[:1000]\r\n",
        "partial_x_train = x_train[1000:]\r\n",
        "\r\n",
        "y_val = one_hot_train_labels[:1000]\r\n",
        "partial_y_train = one_hot_train_labels[1000:]"
      ],
      "execution_count": 28,
      "outputs": []
    },
    {
      "cell_type": "markdown",
      "metadata": {
        "id": "ZVYnkB5ydsPu"
      },
      "source": [
        "進行訓練神經網路20個週期"
      ]
    },
    {
      "cell_type": "code",
      "metadata": {
        "id": "maXoB6MFdwKN",
        "colab": {
          "base_uri": "https://localhost:8080/"
        },
        "outputId": "0281aa3f-472c-49ef-91ee-6187b85710a8"
      },
      "source": [
        "history = model.fit(\r\n",
        "    partial_x_train,\r\n",
        "    partial_y_train,\r\n",
        "    epochs=20,\r\n",
        "    batch_size=512,\r\n",
        "    validation_data=(x_val,y_val))"
      ],
      "execution_count": 29,
      "outputs": [
        {
          "output_type": "stream",
          "text": [
            "Epoch 1/20\n",
            "16/16 [==============================] - 1s 51ms/step - loss: 3.1502 - accuracy: 0.4240 - val_loss: 1.7339 - val_accuracy: 0.6560\n",
            "Epoch 2/20\n",
            "16/16 [==============================] - 1s 38ms/step - loss: 1.4715 - accuracy: 0.7126 - val_loss: 1.2896 - val_accuracy: 0.7180\n",
            "Epoch 3/20\n",
            "16/16 [==============================] - 1s 40ms/step - loss: 1.0671 - accuracy: 0.7718 - val_loss: 1.1094 - val_accuracy: 0.7640\n",
            "Epoch 4/20\n",
            "16/16 [==============================] - 1s 38ms/step - loss: 0.8127 - accuracy: 0.8252 - val_loss: 1.0187 - val_accuracy: 0.7890\n",
            "Epoch 5/20\n",
            "16/16 [==============================] - 1s 39ms/step - loss: 0.6529 - accuracy: 0.8632 - val_loss: 0.9677 - val_accuracy: 0.7930\n",
            "Epoch 6/20\n",
            "16/16 [==============================] - 1s 37ms/step - loss: 0.5352 - accuracy: 0.8911 - val_loss: 0.9485 - val_accuracy: 0.7920\n",
            "Epoch 7/20\n",
            "16/16 [==============================] - 1s 38ms/step - loss: 0.4130 - accuracy: 0.9151 - val_loss: 0.9242 - val_accuracy: 0.8070\n",
            "Epoch 8/20\n",
            "16/16 [==============================] - 1s 38ms/step - loss: 0.3327 - accuracy: 0.9286 - val_loss: 0.8993 - val_accuracy: 0.8190\n",
            "Epoch 9/20\n",
            "16/16 [==============================] - 1s 39ms/step - loss: 0.2758 - accuracy: 0.9404 - val_loss: 0.9052 - val_accuracy: 0.8280\n",
            "Epoch 10/20\n",
            "16/16 [==============================] - 1s 48ms/step - loss: 0.2394 - accuracy: 0.9441 - val_loss: 0.9052 - val_accuracy: 0.8210\n",
            "Epoch 11/20\n",
            "16/16 [==============================] - 1s 38ms/step - loss: 0.2013 - accuracy: 0.9535 - val_loss: 0.9557 - val_accuracy: 0.8090\n",
            "Epoch 12/20\n",
            "16/16 [==============================] - 1s 38ms/step - loss: 0.1727 - accuracy: 0.9572 - val_loss: 0.9214 - val_accuracy: 0.8140\n",
            "Epoch 13/20\n",
            "16/16 [==============================] - 1s 38ms/step - loss: 0.1482 - accuracy: 0.9608 - val_loss: 0.9886 - val_accuracy: 0.8120\n",
            "Epoch 14/20\n",
            "16/16 [==============================] - 1s 38ms/step - loss: 0.1416 - accuracy: 0.9575 - val_loss: 0.9616 - val_accuracy: 0.8150\n",
            "Epoch 15/20\n",
            "16/16 [==============================] - 1s 39ms/step - loss: 0.1308 - accuracy: 0.9582 - val_loss: 0.9670 - val_accuracy: 0.8150\n",
            "Epoch 16/20\n",
            "16/16 [==============================] - 1s 39ms/step - loss: 0.1159 - accuracy: 0.9639 - val_loss: 0.9785 - val_accuracy: 0.8110\n",
            "Epoch 17/20\n",
            "16/16 [==============================] - 1s 38ms/step - loss: 0.1163 - accuracy: 0.9618 - val_loss: 1.0717 - val_accuracy: 0.8040\n",
            "Epoch 18/20\n",
            "16/16 [==============================] - 1s 39ms/step - loss: 0.1274 - accuracy: 0.9590 - val_loss: 1.0164 - val_accuracy: 0.8130\n",
            "Epoch 19/20\n",
            "16/16 [==============================] - 1s 37ms/step - loss: 0.1067 - accuracy: 0.9603 - val_loss: 1.0407 - val_accuracy: 0.8160\n",
            "Epoch 20/20\n",
            "16/16 [==============================] - 1s 39ms/step - loss: 0.1061 - accuracy: 0.9635 - val_loss: 1.1209 - val_accuracy: 0.7960\n"
          ],
          "name": "stdout"
        }
      ]
    },
    {
      "cell_type": "markdown",
      "metadata": {
        "id": "ABHYH46vhagC"
      },
      "source": [
        "繪製訓練與驗證的損失函數"
      ]
    },
    {
      "cell_type": "code",
      "metadata": {
        "colab": {
          "base_uri": "https://localhost:8080/",
          "height": 295
        },
        "id": "5ZUH1tsxhagF",
        "outputId": "ab553f9e-45a1-42a5-f65b-e1ceb66eb53b"
      },
      "source": [
        "import matplotlib.pyplot as plt\r\n",
        "\r\n",
        "loss = history.history['loss']\r\n",
        "val_loss = history.history['val_loss']\r\n",
        "\r\n",
        "epochs = range(1,len(loss)+1)\r\n",
        "\r\n",
        "plt.plot(epochs,loss,'bo',label='Training loss')\r\n",
        "plt.plot(epochs,val_loss,'b',label='Validation loss')\r\n",
        "plt.title('Training and validation loss')\r\n",
        "plt.xlabel('Epochs')\r\n",
        "plt.ylabel('Loss')\r\n",
        "plt.legend()\r\n",
        "\r\n",
        "plt.show()"
      ],
      "execution_count": 31,
      "outputs": [
        {
          "output_type": "display_data",
          "data": {
            "image/png": "[encoded data removed]",
            "text/plain": [
              "<Figure size 432x288 with 1 Axes>"
            ]
          },
          "metadata": {
            "tags": [],
            "needs_background": "light"
          }
        }
      ]
    },
    {
      "cell_type": "markdown",
      "metadata": {
        "id": "-fm8Fa0nhagI"
      },
      "source": [
        "繪製訓練與驗證的準確度"
      ]
    },
    {
      "cell_type": "code",
      "metadata": {
        "colab": {
          "base_uri": "https://localhost:8080/",
          "height": 295
        },
        "id": "Hu-h_h8rhagJ",
        "outputId": "ccd7161a-a045-4a65-a70d-4b582841afdb"
      },
      "source": [
        "import matplotlib.pyplot as plt\r\n",
        "\r\n",
        "plt.clf()\r\n",
        "acc = history.history['accuracy']\r\n",
        "val_acc = history.history['val_accuracy']\r\n",
        "\r\n",
        "plt.plot(epochs,acc,'bo',label='Training acc')\r\n",
        "plt.plot(epochs,val_acc,'b',label='Validation acc')\r\n",
        "plt.title('Training and validation accuracy')\r\n",
        "plt.xlabel('Epochs')\r\n",
        "plt.ylabel('Accuracy')\r\n",
        "plt.legend()\r\n",
        "\r\n",
        "plt.show()"
      ],
      "execution_count": 32,
      "outputs": [
        {
          "output_type": "display_data",
          "data": {
            "image/png": "[encoded data removed]",
            "text/plain": [
              "<Figure size 432x288 with 1 Axes>"
            ]
          },
          "metadata": {
            "tags": [],
            "needs_background": "light"
          }
        }
      ]
    },
    {
      "cell_type": "markdown",
      "metadata": {
        "id": "lNDrCYvIhSdn"
      },
      "source": [
        ""
      ]
    },
    {
      "cell_type": "markdown",
      "metadata": {
        "id": "jUO5Tlvk4nCA"
      },
      "source": [
        "# 3-6 迴歸：預測房價"
      ]
    }
  ]
}