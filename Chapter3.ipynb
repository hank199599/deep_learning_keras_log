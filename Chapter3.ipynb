{
  "nbformat": 4,
  "nbformat_minor": 0,
  "metadata": {
    "colab": {
      "name": "Chapter3.ipynb",
      "provenance": [],
      "toc_visible": true,
      "authorship_tag": "ABX9TyPDWF8/nRfajJj32xsKKcbV",
      "include_colab_link": true
    },
    "kernelspec": {
      "name": "python3",
      "display_name": "Python 3"
    }
  },
  "cells": [
    {
      "cell_type": "markdown",
      "metadata": {
        "id": "view-in-github",
        "colab_type": "text"
      },
      "source": [
        "<a href=\"https://colab.research.google.com/github/hank199599/deep_learning_keras_log/blob/main/Chapter3.ipynb\" target=\"_parent\"><img src=\"https://colab.research.google.com/assets/colab-badge.svg\" alt=\"Open In Colab\"/></a>"
      ]
    },
    {
      "cell_type": "markdown",
      "metadata": {
        "id": "ruo9MV9r4NGL"
      },
      "source": [
        "# 3-1 核心元件\r\n",
        "![3-1](https://github.com/hank199599/deep_learning_keras_log/blob/main/pictures/3-1.png?raw=true)  \r\n",
        "* 層(layers)：組成一個神經網路模型\r\n",
        "* 輸入資料(input data) 與 目標(target)：用來訓練及檢測一個神經網路\r\n",
        "* 損失函數(loss functions)：取得學習的回饋信號\r\n",
        "* 優化器(optimizer)：決定學習進行的方式"
      ]
    },
    {
      "cell_type": "markdown",
      "metadata": {
        "id": "N9Gz7uWYmAGd"
      },
      "source": [
        "## 層(layers)\r\n",
        "|向量資料|儲存的張量|使用的層|\r\n",
        "|---|---|---|\r\n",
        "|1D|2D|densely-connected layer 密集連接層\r\n",
        "|2D|3D|recurrent layer 循環層\r\n",
        "|3D|4D|Conv2D 2D卷積層  \r\n",
        "  \r\n",
        "須包含一層batch 維度，因此在儲存時的維度較訓練資料多一維"
      ]
    },
    {
      "cell_type": "markdown",
      "metadata": {
        "id": "w1YCOrvPrlT9"
      },
      "source": [
        "## 模型\r\n",
        "神經網路拓樸定義了一個**假設空間(hypothesis space，只在該神經網路拓樸下權重參數所有可能的組態)**"
      ]
    },
    {
      "cell_type": "markdown",
      "metadata": {
        "id": "f5olH7E8vq69"
      },
      "source": [
        "## 損失函數 (loss function)\r\n",
        "* 二元分類問題：二元交叉熵(binary crossentropy)\r\n",
        "* 多類別分類問題：分類交叉熵(categorical crossentropy)\r\n",
        "* 迴歸問題：均方差(meansquared error)\r\n",
        "* 序列學習問題：連結時序問題(connectionist temporal classfication)\r\n"
      ]
    },
    {
      "cell_type": "markdown",
      "metadata": {
        "id": "G9q3tyDG4VhI"
      },
      "source": [
        "# 3-4 二元分類：電影評論為正評或負評\r\n",
        "[IMDb,Internet Movie Database](https://www.imdb.com)"
      ]
    },
    {
      "cell_type": "markdown",
      "metadata": {
        "id": "EKvah1THxKCl"
      },
      "source": [
        "載入IMBD資料集"
      ]
    },
    {
      "cell_type": "code",
      "metadata": {
        "colab": {
          "base_uri": "https://localhost:8080/"
        },
        "id": "LqBXkSRpxPTE",
        "outputId": "8fa90d9c-290a-4059-ef35-576bc25cfbf9"
      },
      "source": [
        "from keras.datasets import imdb\r\n",
        "\r\n",
        "(train_data,train_labels),(test_data,test_labels) = imdb.load_data(num_words=10000)"
      ],
      "execution_count": 47,
      "outputs": [
        {
          "output_type": "stream",
          "text": [
            "<string>:6: VisibleDeprecationWarning: Creating an ndarray from ragged nested sequences (which is a list-or-tuple of lists-or-tuples-or ndarrays with different lengths or shapes) is deprecated. If you meant to do this, you must specify 'dtype=object' when creating the ndarray\n",
            "/usr/local/lib/python3.6/dist-packages/tensorflow/python/keras/datasets/imdb.py:159: VisibleDeprecationWarning: Creating an ndarray from ragged nested sequences (which is a list-or-tuple of lists-or-tuples-or ndarrays with different lengths or shapes) is deprecated. If you meant to do this, you must specify 'dtype=object' when creating the ndarray\n",
            "  x_train, y_train = np.array(xs[:idx]), np.array(labels[:idx])\n",
            "/usr/local/lib/python3.6/dist-packages/tensorflow/python/keras/datasets/imdb.py:160: VisibleDeprecationWarning: Creating an ndarray from ragged nested sequences (which is a list-or-tuple of lists-or-tuples-or ndarrays with different lengths or shapes) is deprecated. If you meant to do this, you must specify 'dtype=object' when creating the ndarray\n",
            "  x_test, y_test = np.array(xs[idx:]), np.array(labels[idx:])\n"
          ],
          "name": "stderr"
        }
      ]
    },
    {
      "cell_type": "markdown",
      "metadata": {
        "id": "98KrY9xEx7P8"
      },
      "source": [
        "### num_words\r\n",
        "表示讀取資料時，只允許「單字對應數字的字典」中編號0~9999的單字載入"
      ]
    },
    {
      "cell_type": "code",
      "metadata": {
        "colab": {
          "base_uri": "https://localhost:8080/"
        },
        "id": "ErqTkxRjyJqL",
        "outputId": "f31ef402-64af-4bb8-81e6-80fb9d37f38a"
      },
      "source": [
        "max([max(sequence) for sequence in train_data])"
      ],
      "execution_count": 48,
      "outputs": [
        {
          "output_type": "execute_result",
          "data": {
            "text/plain": [
              "9999"
            ]
          },
          "metadata": {
            "tags": []
          },
          "execution_count": 48
        }
      ]
    },
    {
      "cell_type": "markdown",
      "metadata": {
        "id": "li9eb6nD0izW"
      },
      "source": [
        "將數字還原成文字"
      ]
    },
    {
      "cell_type": "code",
      "metadata": {
        "id": "5bvfUJdc0mxd"
      },
      "source": [
        "word_index = imdb.get_word_index() #取得單字對應數字的字典\r\n",
        "reverse_word_index = dict(\r\n",
        "    [(value,key) for (key,value) in word_index.items()] #反轉為數字對應單字的字典\r\n",
        ")"
      ],
      "execution_count": 49,
      "outputs": []
    },
    {
      "cell_type": "code",
      "metadata": {
        "colab": {
          "base_uri": "https://localhost:8080/",
          "height": 120
        },
        "id": "iBjZYAKf2Lon",
        "outputId": "d1d2c8bd-8679-4546-ebb3-f7ec713e8578"
      },
      "source": [
        "decord_review = ' '.join([reverse_word_index.get(i-3,'?') for i in train_data[0]])\r\n",
        "decord_review"
      ],
      "execution_count": 50,
      "outputs": [
        {
          "output_type": "execute_result",
          "data": {
            "application/vnd.google.colaboratory.intrinsic+json": {
              "type": "string"
            },
            "text/plain": [
              "\"? this film was just brilliant casting location scenery story direction everyone's really suited the part they played and you could just imagine being there robert ? is an amazing actor and now the same being director ? father came from the same scottish island as myself so i loved the fact there was a real connection with this film the witty remarks throughout the film were great it was just brilliant so much that i bought the film as soon as it was released for ? and would recommend it to everyone to watch and the fly fishing was amazing really cried at the end it was so sad and you know what they say if you cry at a film it must have been good and this definitely was also ? to the two little boy's that played the ? of norman and paul they were just brilliant children are often left out of the ? list i think because the stars that play them all grown up are such a big profile for the whole film but these children are amazing and should be praised for what they have done don't you think the whole story was so lovely because it was true and was someone's life after all that was shared with us all\""
            ]
          },
          "metadata": {
            "tags": []
          },
          "execution_count": 50
        }
      ]
    },
    {
      "cell_type": "markdown",
      "metadata": {
        "id": "uEdtOxAY2XUe"
      },
      "source": [
        "## 準備資料\r\n",
        "方法一：\r\n",
        "1. 填補資料中每個子list的內容，使它們具有相同的長度\r\n",
        "2. 在將整筆資料轉換成shape (樣本數、填補後的樣本長度)\r\n",
        "3. 輸入到崁入層(Embedding layer)\r\n",
        "  \r\n",
        "方法二： \r\n",
        "1. 對資料中每個子list做[One-shot編碼](https://colab.research.google.com/github/hank199599/data_science_from_scratch_reading_log/blob/main/Chapter19.ipynb#scrollTo=QzUQbu-DtfQa)，將其轉換成由0與1組成的向量\r\n",
        "\r\n",
        "```python\r\n",
        "def one_hot_encode(i:int,num_labels:int=10)->List[float]:\r\n",
        "  return [1.0 if j==i else 0.0 for j in range(num_labels)]\r\n",
        "```\r\n",
        "2. 輸入到可處理浮點數的密集層(Dense layer)\r\n"
      ]
    },
    {
      "cell_type": "code",
      "metadata": {
        "id": "ufOW1gsK48Cg"
      },
      "source": [
        "import numpy as np\r\n",
        "\r\n",
        "def vectorize_sequences(sequences,dimension=10000):\r\n",
        "  results = np.zeros((len(sequences),dimension))\r\n",
        "  for i,sequences in enumerate(sequences):\r\n",
        "    results[i,sequences] = 1.\r\n",
        "  return results"
      ],
      "execution_count": 51,
      "outputs": []
    },
    {
      "cell_type": "markdown",
      "metadata": {
        "id": "WYSWI3_E7L9H"
      },
      "source": [
        "### 將訓練資料轉換為維度為10000的向量"
      ]
    },
    {
      "cell_type": "code",
      "metadata": {
        "id": "tGgO-vbb5jyv"
      },
      "source": [
        "x_train = vectorize_sequences(train_data) # 將訓練資料向量化"
      ],
      "execution_count": 52,
      "outputs": []
    },
    {
      "cell_type": "code",
      "metadata": {
        "id": "ESnI3SLH5yhO"
      },
      "source": [
        "x_test = vectorize_sequences(test_data)"
      ],
      "execution_count": 53,
      "outputs": []
    },
    {
      "cell_type": "markdown",
      "metadata": {
        "id": "-6X_steF55zg"
      },
      "source": [
        ""
      ]
    },
    {
      "cell_type": "code",
      "metadata": {
        "colab": {
          "base_uri": "https://localhost:8080/"
        },
        "id": "CqokQILv55rP",
        "outputId": "35a6ea9b-4424-4515-f6eb-b35f1b62f28b"
      },
      "source": [
        "x_train[0]"
      ],
      "execution_count": 54,
      "outputs": [
        {
          "output_type": "execute_result",
          "data": {
            "text/plain": [
              "array([0., 1., 1., ..., 0., 0., 0.])"
            ]
          },
          "metadata": {
            "tags": []
          },
          "execution_count": 54
        }
      ]
    },
    {
      "cell_type": "markdown",
      "metadata": {
        "id": "QJ0DmbzT7YTW"
      },
      "source": [
        "### 將標籤資料向量化"
      ]
    },
    {
      "cell_type": "code",
      "metadata": {
        "id": "Hmyo2C9s7cwe"
      },
      "source": [
        "y_train = np.array(train_labels).astype('float32')"
      ],
      "execution_count": 55,
      "outputs": []
    },
    {
      "cell_type": "code",
      "metadata": {
        "id": "hsLJM5E77mWL"
      },
      "source": [
        "y_test = np.array(test_labels).astype('float32')"
      ],
      "execution_count": 56,
      "outputs": []
    },
    {
      "cell_type": "markdown",
      "metadata": {
        "id": "kYzzxHZt7tMB"
      },
      "source": [
        "## 建立神經網路"
      ]
    },
    {
      "cell_type": "markdown",
      "metadata": {
        "id": "NLipmDmd77Qw"
      },
      "source": [
        "### 建立密集層Dense堆疊結構，需確認的關鍵：\r\n",
        "* 需要使用多少層?\r\n",
        "* 每一層要有多少個神經元?"
      ]
    },
    {
      "cell_type": "code",
      "metadata": {
        "id": "19hK5I7O8V9O"
      },
      "source": [
        "from keras import models\r\n",
        "from keras import layers\r\n",
        "\r\n",
        "model = models.Sequential()\r\n",
        "model.add(layers.Dense(16,activation='relu',input_shape=(10000,)))\r\n",
        "model.add(layers.Dense(16,activation='relu'))\r\n",
        "model.add(layers.Dense(1,activation='sigmoid'))"
      ],
      "execution_count": 63,
      "outputs": []
    },
    {
      "cell_type": "markdown",
      "metadata": {
        "id": "KbyFY3zmBFZe"
      },
      "source": [
        "編譯模型"
      ]
    },
    {
      "cell_type": "code",
      "metadata": {
        "id": "pcz1lJsuA3dS"
      },
      "source": [
        "model.compile(optimizer='rmsprop',\r\n",
        "       loss='binary_crossentropy', # 指定損失函數，並進行compile\r\n",
        "       metrics=['accuracy'])"
      ],
      "execution_count": 58,
      "outputs": []
    },
    {
      "cell_type": "markdown",
      "metadata": {
        "id": "WMHebFurBMGX"
      },
      "source": [
        "調整優化器"
      ]
    },
    {
      "cell_type": "code",
      "metadata": {
        "id": "qA49Af0MBOMW"
      },
      "source": [
        "from keras import optimizers\r\n",
        "\r\n",
        "model.compile(optimizer=optimizers.RMSprop(lr=0.001), #調整優化器參數lr的值\r\n",
        "       loss='binary_crossentropy',\r\n",
        "       metrics=['accuracy'])"
      ],
      "execution_count": 59,
      "outputs": []
    },
    {
      "cell_type": "markdown",
      "metadata": {
        "id": "8s6jwHPZC3KI"
      },
      "source": [
        "使用自行定義的損失函數與metrics函數"
      ]
    },
    {
      "cell_type": "code",
      "metadata": {
        "id": "wFmROI7NC98A"
      },
      "source": [
        "from keras import losses\r\n",
        "from keras import metrics\r\n",
        "\r\n",
        "model.compile(optimizer=optimizers.RMSprop(lr=0.001), #調整優化器參數lr的值\r\n",
        "       loss=losses.binary_crossentropy, # 自行指定其他的損失函數與metrics函數\r\n",
        "       metrics=[metrics.binary_accuracy])"
      ],
      "execution_count": 60,
      "outputs": []
    },
    {
      "cell_type": "markdown",
      "metadata": {
        "id": "ooTWmOGsDS4f"
      },
      "source": [
        "## 設定驗證資料集  \r\n",
        "從原始訓練資料中分離出10000樣本來建立驗證資料集"
      ]
    },
    {
      "cell_type": "code",
      "metadata": {
        "id": "YXHIyPuGDgjW"
      },
      "source": [
        "x_val = x_train[:10000]\r\n",
        "partial_x_train = x_train[10000:]\r\n",
        "\r\n",
        "y_val = y_train[:10000]\r\n",
        "partial_y_train = y_train[10000:]"
      ],
      "execution_count": 61,
      "outputs": []
    },
    {
      "cell_type": "markdown",
      "metadata": {
        "id": "OXhXOnuXFqZR"
      },
      "source": [
        "## 訓練模型"
      ]
    },
    {
      "cell_type": "code",
      "metadata": {
        "colab": {
          "base_uri": "https://localhost:8080/"
        },
        "id": "Yc9-iCOQFxT4",
        "outputId": "4a4aa644-24e4-48e0-ee07-1223aad17e31"
      },
      "source": [
        "model.compile(optimizer='rmsprop', #調整優化器參數lr的值\r\n",
        "       loss='binary_crossentropy', # 自行指定其他的損失函數與metrics函數\r\n",
        "       metrics=['acc'])\r\n",
        "\r\n",
        "history = model.fit(partial_x_train,\r\n",
        "           partial_y_train,\r\n",
        "           epochs=20,\r\n",
        "           batch_size=512,\r\n",
        "           validation_data=(x_val,y_val))\r\n",
        "\r\n",
        "# model.fit()會回傳一個history的物件\r\n"
      ],
      "execution_count": 64,
      "outputs": [
        {
          "output_type": "stream",
          "text": [
            "Epoch 1/20\n",
            "30/30 [==============================] - 3s 61ms/step - loss: 0.5920 - acc: 0.7091 - val_loss: 0.3998 - val_acc: 0.8532\n",
            "Epoch 2/20\n",
            "30/30 [==============================] - 1s 39ms/step - loss: 0.3249 - acc: 0.9029 - val_loss: 0.3215 - val_acc: 0.8757\n",
            "Epoch 3/20\n",
            "30/30 [==============================] - 1s 39ms/step - loss: 0.2308 - acc: 0.9267 - val_loss: 0.2848 - val_acc: 0.8875\n",
            "Epoch 4/20\n",
            "30/30 [==============================] - 1s 38ms/step - loss: 0.1829 - acc: 0.9400 - val_loss: 0.2836 - val_acc: 0.8857\n",
            "Epoch 5/20\n",
            "30/30 [==============================] - 1s 38ms/step - loss: 0.1459 - acc: 0.9545 - val_loss: 0.2806 - val_acc: 0.8856\n",
            "Epoch 6/20\n",
            "30/30 [==============================] - 1s 39ms/step - loss: 0.1175 - acc: 0.9678 - val_loss: 0.2942 - val_acc: 0.8836\n",
            "Epoch 7/20\n",
            "30/30 [==============================] - 1s 38ms/step - loss: 0.0931 - acc: 0.9761 - val_loss: 0.3211 - val_acc: 0.8785\n",
            "Epoch 8/20\n",
            "30/30 [==============================] - 1s 38ms/step - loss: 0.0798 - acc: 0.9789 - val_loss: 0.3362 - val_acc: 0.8784\n",
            "Epoch 9/20\n",
            "30/30 [==============================] - 1s 37ms/step - loss: 0.0639 - acc: 0.9860 - val_loss: 0.3482 - val_acc: 0.8802\n",
            "Epoch 10/20\n",
            "30/30 [==============================] - 1s 37ms/step - loss: 0.0524 - acc: 0.9884 - val_loss: 0.3721 - val_acc: 0.8785\n",
            "Epoch 11/20\n",
            "30/30 [==============================] - 1s 39ms/step - loss: 0.0433 - acc: 0.9906 - val_loss: 0.4450 - val_acc: 0.8685\n",
            "Epoch 12/20\n",
            "30/30 [==============================] - 1s 38ms/step - loss: 0.0376 - acc: 0.9925 - val_loss: 0.4300 - val_acc: 0.8742\n",
            "Epoch 13/20\n",
            "30/30 [==============================] - 1s 39ms/step - loss: 0.0268 - acc: 0.9945 - val_loss: 0.4656 - val_acc: 0.8717\n",
            "Epoch 14/20\n",
            "30/30 [==============================] - 1s 38ms/step - loss: 0.0211 - acc: 0.9977 - val_loss: 0.5004 - val_acc: 0.8678\n",
            "Epoch 15/20\n",
            "30/30 [==============================] - 1s 38ms/step - loss: 0.0183 - acc: 0.9976 - val_loss: 0.5330 - val_acc: 0.8665\n",
            "Epoch 16/20\n",
            "30/30 [==============================] - 1s 39ms/step - loss: 0.0126 - acc: 0.9992 - val_loss: 0.5616 - val_acc: 0.8680\n",
            "Epoch 17/20\n",
            "30/30 [==============================] - 1s 37ms/step - loss: 0.0095 - acc: 0.9996 - val_loss: 0.6948 - val_acc: 0.8517\n",
            "Epoch 18/20\n",
            "30/30 [==============================] - 1s 38ms/step - loss: 0.0094 - acc: 0.9987 - val_loss: 0.6441 - val_acc: 0.8634\n",
            "Epoch 19/20\n",
            "30/30 [==============================] - 1s 38ms/step - loss: 0.0074 - acc: 0.9994 - val_loss: 0.6612 - val_acc: 0.8662\n",
            "Epoch 20/20\n",
            "30/30 [==============================] - 1s 39ms/step - loss: 0.0041 - acc: 0.9997 - val_loss: 0.6964 - val_acc: 0.8644\n"
          ],
          "name": "stdout"
        }
      ]
    },
    {
      "cell_type": "code",
      "metadata": {
        "colab": {
          "base_uri": "https://localhost:8080/"
        },
        "id": "qZ1tFLEKLlkD",
        "outputId": "5b5a2bbd-3dd9-4835-c0f8-fbeb3b85e359"
      },
      "source": [
        "history_dict = history.history\r\n",
        "history_dict.keys()"
      ],
      "execution_count": 65,
      "outputs": [
        {
          "output_type": "execute_result",
          "data": {
            "text/plain": [
              "dict_keys(['loss', 'acc', 'val_loss', 'val_acc'])"
            ]
          },
          "metadata": {
            "tags": []
          },
          "execution_count": 65
        }
      ]
    },
    {
      "cell_type": "markdown",
      "metadata": {
        "id": "3mHAZ8r3L2pp"
      },
      "source": [
        "繪製訓練與驗證的損失函數"
      ]
    },
    {
      "cell_type": "code",
      "metadata": {
        "colab": {
          "base_uri": "https://localhost:8080/",
          "height": 295
        },
        "id": "LBTezclZL1lp",
        "outputId": "de774591-8eae-4943-bd8b-3114fe00add5"
      },
      "source": [
        "import matplotlib.pyplot as plt\r\n",
        "\r\n",
        "history_dict = history.history\r\n",
        "loss_values = history_dict['loss']\r\n",
        "val_loss_values = history_dict['val_loss']\r\n",
        "\r\n",
        "epochs = range(1,len(loss_values)+1)\r\n",
        "\r\n",
        "plt.plot(epochs,loss_values,'bo',label='Training loss')\r\n",
        "plt.plot(epochs,val_loss_values,'b',label='Validation loss')\r\n",
        "plt.title('Training and validation loss')\r\n",
        "plt.xlabel('Epochs')\r\n",
        "plt.ylabel('Loss')\r\n",
        "plt.legend()\r\n",
        "\r\n",
        "plt.show()"
      ],
      "execution_count": 68,
      "outputs": [
        {
          "output_type": "display_data",
          "data": {
            "image/png": "[encoded data removed]",
            "text/plain": [
              "<Figure size 432x288 with 1 Axes>"
            ]
          },
          "metadata": {
            "tags": [],
            "needs_background": "light"
          }
        }
      ]
    },
    {
      "cell_type": "markdown",
      "metadata": {
        "id": "JYqkA-NtNJgC"
      },
      "source": [
        "繪製訓練與驗證的準確度"
      ]
    },
    {
      "cell_type": "code",
      "metadata": {
        "colab": {
          "base_uri": "https://localhost:8080/",
          "height": 295
        },
        "id": "SVN-XK16NJgb",
        "outputId": "85ec7cd8-aaba-4c93-d460-a8eb9eca7f20"
      },
      "source": [
        "import matplotlib.pyplot as plt\r\n",
        "\r\n",
        "plt.clf()\r\n",
        "acc = history_dict['acc']\r\n",
        "val_acc = history_dict['val_acc']\r\n",
        "\r\n",
        "plt.plot(epochs,acc,'bo',label='Training acc')\r\n",
        "plt.plot(epochs,val_acc,'b',label='Validation acc')\r\n",
        "plt.title('Training and validation accuracy')\r\n",
        "plt.xlabel('Epochs')\r\n",
        "plt.ylabel('Accuracy')\r\n",
        "plt.legend()\r\n",
        "\r\n",
        "plt.show()"
      ],
      "execution_count": 69,
      "outputs": [
        {
          "output_type": "display_data",
          "data": {
            "image/png": "[encoded data removed]",
            "text/plain": [
              "<Figure size 432x288 with 1 Axes>"
            ]
          },
          "metadata": {
            "tags": [],
            "needs_background": "light"
          }
        }
      ]
    },
    {
      "cell_type": "markdown",
      "metadata": {
        "id": "eR6mMCfuOjbs"
      },
      "source": [
        "驗證準確度在第四個周期後，準確度就下降  \r\n",
        "發生**過度適配(Overfitting)**"
      ]
    },
    {
      "cell_type": "markdown",
      "metadata": {
        "id": "lrqFWkGkO2g_"
      },
      "source": [
        "## 重新建立訓練模型\r\n",
        "為了防止過度適配，將訓練週期限制在第四個周期後即結束訓練"
      ]
    },
    {
      "cell_type": "code",
      "metadata": {
        "id": "kyBrn5wPO0_p",
        "outputId": "0775e7e1-0fd0-4de9-86d2-f506bc6593c4",
        "colab": {
          "base_uri": "https://localhost:8080/"
        }
      },
      "source": [
        "model = models.Sequential()\r\n",
        "model.add(layers.Dense(16,activation='relu',input_shape=(10000,)))\r\n",
        "model.add(layers.Dense(16,activation='relu'))\r\n",
        "model.add(layers.Dense(1,activation='sigmoid'))\r\n",
        "\r\n",
        "model.compile(optimizer='rmsprop', #調整優化器參數lr的值\r\n",
        "       loss='binary_crossentropy', # 自行指定其他的損失函數與metrics函數\r\n",
        "       metrics=['accuracy'])\r\n",
        "\r\n",
        "model.fit(x_train,y_train,epochs=4,batch_size=512)\r\n",
        "results=model.evaluate(x_test,y_test)"
      ],
      "execution_count": 72,
      "outputs": [
        {
          "output_type": "stream",
          "text": [
            "Epoch 1/4\n",
            "49/49 [==============================] - 2s 28ms/step - loss: 0.5467 - accuracy: 0.7440\n",
            "Epoch 2/4\n",
            "49/49 [==============================] - 1s 29ms/step - loss: 0.2617 - accuracy: 0.9132\n",
            "Epoch 3/4\n",
            "49/49 [==============================] - 1s 28ms/step - loss: 0.1952 - accuracy: 0.9323\n",
            "Epoch 4/4\n",
            "49/49 [==============================] - 1s 27ms/step - loss: 0.1605 - accuracy: 0.9473\n",
            "782/782 [==============================] - 2s 2ms/step - loss: 0.3080 - accuracy: 0.8796\n"
          ],
          "name": "stdout"
        }
      ]
    },
    {
      "cell_type": "code",
      "metadata": {
        "id": "ysutO-b1Psz8",
        "outputId": "92ad1d50-8daa-45f8-93ba-12a27484e38c",
        "colab": {
          "base_uri": "https://localhost:8080/"
        }
      },
      "source": [
        "results"
      ],
      "execution_count": 73,
      "outputs": [
        {
          "output_type": "execute_result",
          "data": {
            "text/plain": [
              "[0.3079909682273865, 0.8795599937438965]"
            ]
          },
          "metadata": {
            "tags": []
          },
          "execution_count": 73
        }
      ]
    },
    {
      "cell_type": "markdown",
      "metadata": {
        "id": "clF3sYgBQalR"
      },
      "source": [
        "將準確度提升到88%準確度"
      ]
    },
    {
      "cell_type": "markdown",
      "metadata": {
        "id": "gihTGhT7QooD"
      },
      "source": [
        "## 使用神經網路對新資料進行預測"
      ]
    },
    {
      "cell_type": "code",
      "metadata": {
        "id": "Al2fb27xQ0Zj",
        "outputId": "b74d61af-5f29-4786-cb3f-d4222cbedd02",
        "colab": {
          "base_uri": "https://localhost:8080/"
        }
      },
      "source": [
        "model.predict(x_test)"
      ],
      "execution_count": 74,
      "outputs": [
        {
          "output_type": "execute_result",
          "data": {
            "text/plain": [
              "array([[0.17738503],\n",
              "       [0.9999119 ],\n",
              "       [0.68613863],\n",
              "       ...,\n",
              "       [0.07587335],\n",
              "       [0.06009609],\n",
              "       [0.7102694 ]], dtype=float32)"
            ]
          },
          "metadata": {
            "tags": []
          },
          "execution_count": 74
        }
      ]
    },
    {
      "cell_type": "markdown",
      "metadata": {
        "id": "EFV_yHJM4g-P"
      },
      "source": [
        "# 3-5 多元分類：數位新聞專欄"
      ]
    },
    {
      "cell_type": "markdown",
      "metadata": {
        "id": "jUO5Tlvk4nCA"
      },
      "source": [
        "# 3-6 迴歸：預測房價"
      ]
    }
  ]
}