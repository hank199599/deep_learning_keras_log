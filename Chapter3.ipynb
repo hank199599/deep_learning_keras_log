{
  "nbformat": 4,
  "nbformat_minor": 0,
  "metadata": {
    "colab": {
      "name": "Chapter3.ipynb",
      "provenance": [],
      "toc_visible": true,
      "authorship_tag": "ABX9TyPQVNX40T8p9ym8B3o+OdlD",
      "include_colab_link": true
    },
    "kernelspec": {
      "name": "python3",
      "display_name": "Python 3"
    }
  },
  "cells": [
    {
      "cell_type": "markdown",
      "metadata": {
        "id": "view-in-github",
        "colab_type": "text"
      },
      "source": [
        "<a href=\"https://colab.research.google.com/github/hank199599/deep_learning_keras_log/blob/main/Chapter3.ipynb\" target=\"_parent\"><img src=\"https://colab.research.google.com/assets/colab-badge.svg\" alt=\"Open In Colab\"/></a>"
      ]
    },
    {
      "cell_type": "markdown",
      "metadata": {
        "id": "ruo9MV9r4NGL"
      },
      "source": [
        "# 3-1 核心元件\r\n",
        "![3-1](https://github.com/hank199599/deep_learning_keras_log/blob/main/pictures/3-1.png?raw=true)  \r\n",
        "* 層(layers)：組成一個神經網路模型\r\n",
        "* 輸入資料(input data) 與 目標(target)：用來訓練及檢測一個神經網路\r\n",
        "* 損失函數(loss functions)：取得學習的回饋信號\r\n",
        "* 優化器(optimizer)：決定學習進行的方式"
      ]
    },
    {
      "cell_type": "markdown",
      "metadata": {
        "id": "N9Gz7uWYmAGd"
      },
      "source": [
        "## 層(layers)\r\n",
        "|向量資料|儲存的張量|使用的層|\r\n",
        "|---|---|---|\r\n",
        "|1D|2D|densely-connected layer 密集連接層\r\n",
        "|2D|3D|recurrent layer 循環層\r\n",
        "|3D|4D|Conv2D 2D卷積層  \r\n",
        "  \r\n",
        "須包含一層batch 維度，因此在儲存時的維度較訓練資料多一維"
      ]
    },
    {
      "cell_type": "markdown",
      "metadata": {
        "id": "w1YCOrvPrlT9"
      },
      "source": [
        "## 模型\r\n",
        "神經網路拓樸定義了一個**假設空間(hypothesis space，只在該神經網路拓樸下權重參數所有可能的組態)**"
      ]
    },
    {
      "cell_type": "markdown",
      "metadata": {
        "id": "f5olH7E8vq69"
      },
      "source": [
        "## 損失函數 (loss function)\r\n",
        "* 二元分類問題：二元交叉熵(binary crossentropy)\r\n",
        "* 多類別分類問題：分類交叉熵(categorical crossentropy)\r\n",
        "* 迴歸問題：均方差(meansquared error)\r\n",
        "* 序列學習問題：連結時序問題(connectionist temporal classfication)\r\n"
      ]
    },
    {
      "cell_type": "markdown",
      "metadata": {
        "id": "G9q3tyDG4VhI"
      },
      "source": [
        "# 3-4 二元分類：電影評論為正評或負評\r\n",
        "[IMDb,Internet Movie Database](https://www.imdb.com)"
      ]
    },
    {
      "cell_type": "markdown",
      "metadata": {
        "id": "EKvah1THxKCl"
      },
      "source": [
        "載入IMBD資料集"
      ]
    },
    {
      "cell_type": "code",
      "metadata": {
        "colab": {
          "base_uri": "https://localhost:8080/"
        },
        "id": "LqBXkSRpxPTE",
        "outputId": "4f183c3a-b3b4-476a-c457-d2741401b3be"
      },
      "source": [
        "from keras.datasets import imdb\r\n",
        "\r\n",
        "(train_data,train_labels),(test_data,test_labels) = imdb.load_data(num_words=10000)"
      ],
      "execution_count": null,
      "outputs": [
        {
          "output_type": "stream",
          "text": [
            "<string>:6: VisibleDeprecationWarning: Creating an ndarray from ragged nested sequences (which is a list-or-tuple of lists-or-tuples-or ndarrays with different lengths or shapes) is deprecated. If you meant to do this, you must specify 'dtype=object' when creating the ndarray\n",
            "/usr/local/lib/python3.6/dist-packages/tensorflow/python/keras/datasets/imdb.py:159: VisibleDeprecationWarning: Creating an ndarray from ragged nested sequences (which is a list-or-tuple of lists-or-tuples-or ndarrays with different lengths or shapes) is deprecated. If you meant to do this, you must specify 'dtype=object' when creating the ndarray\n",
            "  x_train, y_train = np.array(xs[:idx]), np.array(labels[:idx])\n",
            "/usr/local/lib/python3.6/dist-packages/tensorflow/python/keras/datasets/imdb.py:160: VisibleDeprecationWarning: Creating an ndarray from ragged nested sequences (which is a list-or-tuple of lists-or-tuples-or ndarrays with different lengths or shapes) is deprecated. If you meant to do this, you must specify 'dtype=object' when creating the ndarray\n",
            "  x_test, y_test = np.array(xs[idx:]), np.array(labels[idx:])\n"
          ],
          "name": "stderr"
        }
      ]
    },
    {
      "cell_type": "markdown",
      "metadata": {
        "id": "98KrY9xEx7P8"
      },
      "source": [
        "### num_words\r\n",
        "表示讀取資料時，只允許「單字對應數字的字典」中編號0~9999的單字載入"
      ]
    },
    {
      "cell_type": "code",
      "metadata": {
        "colab": {
          "base_uri": "https://localhost:8080/"
        },
        "id": "ErqTkxRjyJqL",
        "outputId": "cb651c47-4e57-47b1-efd5-ee88ff268352"
      },
      "source": [
        "max([max(sequence) for sequence in train_data])"
      ],
      "execution_count": null,
      "outputs": [
        {
          "output_type": "execute_result",
          "data": {
            "text/plain": [
              "9999"
            ]
          },
          "metadata": {
            "tags": []
          },
          "execution_count": 4
        }
      ]
    },
    {
      "cell_type": "markdown",
      "metadata": {
        "id": "li9eb6nD0izW"
      },
      "source": [
        "將數字還原成文字"
      ]
    },
    {
      "cell_type": "code",
      "metadata": {
        "id": "5bvfUJdc0mxd"
      },
      "source": [
        "word_index = imdb.get_word_index() #取得單字對應數字的字典\r\n",
        "reverse_word_index = dict(\r\n",
        "    [(value,key) for (key,value) in word_index.items()] #反轉為數字對應單字的字典\r\n",
        ")"
      ],
      "execution_count": null,
      "outputs": []
    },
    {
      "cell_type": "code",
      "metadata": {
        "colab": {
          "base_uri": "https://localhost:8080/",
          "height": 153
        },
        "id": "iBjZYAKf2Lon",
        "outputId": "2c1bdc78-2099-4382-e7f5-ea9ab44d3729"
      },
      "source": [
        "decord_review = ' '.join([reverse_word_index.get(i-3,'?') for i in train_data[0]])\r\n",
        "decord_review"
      ],
      "execution_count": null,
      "outputs": [
        {
          "output_type": "execute_result",
          "data": {
            "application/vnd.google.colaboratory.intrinsic+json": {
              "type": "string"
            },
            "text/plain": [
              "\"? this film was just brilliant casting location scenery story direction everyone's really suited the part they played and you could just imagine being there robert ? is an amazing actor and now the same being director ? father came from the same scottish island as myself so i loved the fact there was a real connection with this film the witty remarks throughout the film were great it was just brilliant so much that i bought the film as soon as it was released for ? and would recommend it to everyone to watch and the fly fishing was amazing really cried at the end it was so sad and you know what they say if you cry at a film it must have been good and this definitely was also ? to the two little boy's that played the ? of norman and paul they were just brilliant children are often left out of the ? list i think because the stars that play them all grown up are such a big profile for the whole film but these children are amazing and should be praised for what they have done don't you think the whole story was so lovely because it was true and was someone's life after all that was shared with us all\""
            ]
          },
          "metadata": {
            "tags": []
          },
          "execution_count": 6
        }
      ]
    },
    {
      "cell_type": "markdown",
      "metadata": {
        "id": "uEdtOxAY2XUe"
      },
      "source": [
        "## 準備資料\r\n",
        "方法一：\r\n",
        "1. 填補資料中每個子list的內容，使它們具有相同的長度\r\n",
        "2. 在將整筆資料轉換成shape (樣本數、填補後的樣本長度)\r\n",
        "3. 輸入到崁入層(Embedding layer)\r\n",
        "  \r\n",
        "方法二： \r\n",
        "1. 對資料中每個子list做[One-shot編碼](https://colab.research.google.com/github/hank199599/data_science_from_scratch_reading_log/blob/main/Chapter19.ipynb#scrollTo=QzUQbu-DtfQa)，將其轉換成由0與1組成的向量\r\n",
        "\r\n",
        "```python\r\n",
        "def one_hot_encode(i:int,num_labels:int=10)->List[float]:\r\n",
        "  return [1.0 if j==i else 0.0 for j in range(num_labels)]\r\n",
        "```\r\n",
        "2. 輸入到可處理浮點數的密集層(Dense layer)\r\n"
      ]
    },
    {
      "cell_type": "code",
      "metadata": {
        "id": "ufOW1gsK48Cg"
      },
      "source": [
        "import numpy as np\r\n",
        "\r\n",
        "def vectorize_sequences(sequences,dimension=10000):\r\n",
        "  results = np.zeros((len(sequences),dimension))\r\n",
        "  for i,sequences in enumerate(sequences):\r\n",
        "    results[i,sequences] = 1.\r\n",
        "  return results"
      ],
      "execution_count": null,
      "outputs": []
    },
    {
      "cell_type": "markdown",
      "metadata": {
        "id": "WYSWI3_E7L9H"
      },
      "source": [
        "### 將訓練資料轉換為維度為10000的向量"
      ]
    },
    {
      "cell_type": "code",
      "metadata": {
        "id": "tGgO-vbb5jyv"
      },
      "source": [
        "x_train = vectorize_sequences(train_data) # 將訓練資料向量化"
      ],
      "execution_count": null,
      "outputs": []
    },
    {
      "cell_type": "code",
      "metadata": {
        "id": "ESnI3SLH5yhO"
      },
      "source": [
        "x_test = vectorize_sequences(test_data)"
      ],
      "execution_count": null,
      "outputs": []
    },
    {
      "cell_type": "markdown",
      "metadata": {
        "id": "-6X_steF55zg"
      },
      "source": [
        ""
      ]
    },
    {
      "cell_type": "code",
      "metadata": {
        "colab": {
          "base_uri": "https://localhost:8080/"
        },
        "id": "CqokQILv55rP",
        "outputId": "c050b7e2-d001-49c1-9cfa-32c75ceaf4c1"
      },
      "source": [
        "x_train[0]"
      ],
      "execution_count": null,
      "outputs": [
        {
          "output_type": "execute_result",
          "data": {
            "text/plain": [
              "array([0., 1., 1., ..., 0., 0., 0.])"
            ]
          },
          "metadata": {
            "tags": []
          },
          "execution_count": 10
        }
      ]
    },
    {
      "cell_type": "markdown",
      "metadata": {
        "id": "QJ0DmbzT7YTW"
      },
      "source": [
        "### 將標籤資料向量化"
      ]
    },
    {
      "cell_type": "code",
      "metadata": {
        "id": "Hmyo2C9s7cwe"
      },
      "source": [
        "y_train = np.array(train_labels).astype('float32')"
      ],
      "execution_count": null,
      "outputs": []
    },
    {
      "cell_type": "code",
      "metadata": {
        "id": "hsLJM5E77mWL"
      },
      "source": [
        "y_test = np.array(test_labels).astype('float32')"
      ],
      "execution_count": null,
      "outputs": []
    },
    {
      "cell_type": "markdown",
      "metadata": {
        "id": "kYzzxHZt7tMB"
      },
      "source": [
        "## 建立神經網路"
      ]
    },
    {
      "cell_type": "markdown",
      "metadata": {
        "id": "NLipmDmd77Qw"
      },
      "source": [
        "### 建立密集層Dense堆疊結構，需確認的關鍵：\r\n",
        "* 需要使用多少層?\r\n",
        "* 每一層要有多少個神經元?"
      ]
    },
    {
      "cell_type": "code",
      "metadata": {
        "id": "19hK5I7O8V9O"
      },
      "source": [
        "from keras import models\r\n",
        "from keras import layers\r\n",
        "\r\n",
        "model = models.Sequential()\r\n",
        "model.add(layers.Dense(16,activation='relu',input_shape=(10000,)))\r\n",
        "model.add(layers.Dense(16,activation='relu'))\r\n",
        "model.add(layers.Dense(1,activation='sigmoid'))"
      ],
      "execution_count": null,
      "outputs": []
    },
    {
      "cell_type": "markdown",
      "metadata": {
        "id": "KbyFY3zmBFZe"
      },
      "source": [
        "編譯模型"
      ]
    },
    {
      "cell_type": "code",
      "metadata": {
        "id": "pcz1lJsuA3dS"
      },
      "source": [
        "model.compile(optimizer='rmsprop',\r\n",
        "       loss='binary_crossentropy', # 指定損失函數，並進行compile\r\n",
        "       metrics=['accuracy'])"
      ],
      "execution_count": null,
      "outputs": []
    },
    {
      "cell_type": "markdown",
      "metadata": {
        "id": "WMHebFurBMGX"
      },
      "source": [
        "調整優化器"
      ]
    },
    {
      "cell_type": "code",
      "metadata": {
        "id": "qA49Af0MBOMW"
      },
      "source": [
        "from keras import optimizers\r\n",
        "\r\n",
        "model.compile(optimizer=optimizers.RMSprop(lr=0.001), #調整優化器參數lr的值\r\n",
        "       loss='binary_crossentropy',\r\n",
        "       metrics=['accuracy'])"
      ],
      "execution_count": null,
      "outputs": []
    },
    {
      "cell_type": "markdown",
      "metadata": {
        "id": "8s6jwHPZC3KI"
      },
      "source": [
        "使用自行定義的損失函數與metrics函數"
      ]
    },
    {
      "cell_type": "code",
      "metadata": {
        "id": "wFmROI7NC98A"
      },
      "source": [
        "from keras import losses\r\n",
        "from keras import metrics\r\n",
        "\r\n",
        "model.compile(optimizer=optimizers.RMSprop(lr=0.001), #調整優化器參數lr的值\r\n",
        "       loss=losses.binary_crossentropy, # 自行指定其他的損失函數與metrics函數\r\n",
        "       metrics=[metrics.binary_accuracy])"
      ],
      "execution_count": null,
      "outputs": []
    },
    {
      "cell_type": "markdown",
      "metadata": {
        "id": "ooTWmOGsDS4f"
      },
      "source": [
        "## 設定驗證資料集  \r\n",
        "從原始訓練資料中分離出10000樣本來建立驗證資料集"
      ]
    },
    {
      "cell_type": "code",
      "metadata": {
        "id": "YXHIyPuGDgjW"
      },
      "source": [
        "x_val = x_train[:10000]\r\n",
        "partial_x_train = x_train[10000:]\r\n",
        "\r\n",
        "y_val = y_train[:10000]\r\n",
        "partial_y_train = y_train[10000:]"
      ],
      "execution_count": null,
      "outputs": []
    },
    {
      "cell_type": "markdown",
      "metadata": {
        "id": "OXhXOnuXFqZR"
      },
      "source": [
        "## 訓練模型"
      ]
    },
    {
      "cell_type": "code",
      "metadata": {
        "colab": {
          "base_uri": "https://localhost:8080/"
        },
        "id": "Yc9-iCOQFxT4",
        "outputId": "587ecb1e-c8e0-4b4b-d116-b1885b1e44ac"
      },
      "source": [
        "model.compile(optimizer='rmsprop', #調整優化器參數lr的值\r\n",
        "       loss='binary_crossentropy', # 自行指定其他的損失函數與metrics函數\r\n",
        "       metrics=['acc'])\r\n",
        "\r\n",
        "history = model.fit(partial_x_train,\r\n",
        "           partial_y_train,\r\n",
        "           epochs=20,\r\n",
        "           batch_size=512,\r\n",
        "           validation_data=(x_val,y_val))\r\n",
        "\r\n",
        "# model.fit()會回傳一個history的物件\r\n"
      ],
      "execution_count": null,
      "outputs": [
        {
          "output_type": "stream",
          "text": [
            "Epoch 1/20\n",
            "30/30 [==============================] - 2s 36ms/step - loss: 0.5721 - acc: 0.7353 - val_loss: 0.3689 - val_acc: 0.8708\n",
            "Epoch 2/20\n",
            "30/30 [==============================] - 1s 26ms/step - loss: 0.3038 - acc: 0.9080 - val_loss: 0.3537 - val_acc: 0.8496\n",
            "Epoch 3/20\n",
            "30/30 [==============================] - 1s 26ms/step - loss: 0.2209 - acc: 0.9314 - val_loss: 0.2770 - val_acc: 0.8917\n",
            "Epoch 4/20\n",
            "30/30 [==============================] - 1s 27ms/step - loss: 0.1635 - acc: 0.9506 - val_loss: 0.2742 - val_acc: 0.8898\n",
            "Epoch 5/20\n",
            "30/30 [==============================] - 1s 27ms/step - loss: 0.1311 - acc: 0.9619 - val_loss: 0.2935 - val_acc: 0.8855\n",
            "Epoch 6/20\n",
            "30/30 [==============================] - 1s 27ms/step - loss: 0.1085 - acc: 0.9679 - val_loss: 0.3010 - val_acc: 0.8867\n",
            "Epoch 7/20\n",
            "30/30 [==============================] - 1s 27ms/step - loss: 0.0881 - acc: 0.9744 - val_loss: 0.3153 - val_acc: 0.8838\n",
            "Epoch 8/20\n",
            "30/30 [==============================] - 1s 28ms/step - loss: 0.0717 - acc: 0.9816 - val_loss: 0.3409 - val_acc: 0.8801\n",
            "Epoch 9/20\n",
            "30/30 [==============================] - 1s 27ms/step - loss: 0.0538 - acc: 0.9882 - val_loss: 0.3704 - val_acc: 0.8808\n",
            "Epoch 10/20\n",
            "30/30 [==============================] - 1s 27ms/step - loss: 0.0478 - acc: 0.9897 - val_loss: 0.4292 - val_acc: 0.8712\n",
            "Epoch 11/20\n",
            "30/30 [==============================] - 1s 27ms/step - loss: 0.0407 - acc: 0.9907 - val_loss: 0.4374 - val_acc: 0.8680\n",
            "Epoch 12/20\n",
            "30/30 [==============================] - 1s 26ms/step - loss: 0.0277 - acc: 0.9953 - val_loss: 0.4479 - val_acc: 0.8740\n",
            "Epoch 13/20\n",
            "30/30 [==============================] - 1s 27ms/step - loss: 0.0230 - acc: 0.9960 - val_loss: 0.5001 - val_acc: 0.8717\n",
            "Epoch 14/20\n",
            "30/30 [==============================] - 1s 27ms/step - loss: 0.0162 - acc: 0.9980 - val_loss: 0.5101 - val_acc: 0.8731\n",
            "Epoch 15/20\n",
            "30/30 [==============================] - 1s 26ms/step - loss: 0.0137 - acc: 0.9982 - val_loss: 0.5399 - val_acc: 0.8715\n",
            "Epoch 16/20\n",
            "30/30 [==============================] - 1s 26ms/step - loss: 0.0103 - acc: 0.9993 - val_loss: 0.5705 - val_acc: 0.8680\n",
            "Epoch 17/20\n",
            "30/30 [==============================] - 1s 27ms/step - loss: 0.0069 - acc: 0.9998 - val_loss: 0.6125 - val_acc: 0.8690\n",
            "Epoch 18/20\n",
            "30/30 [==============================] - 1s 27ms/step - loss: 0.0084 - acc: 0.9987 - val_loss: 0.6377 - val_acc: 0.8691\n",
            "Epoch 19/20\n",
            "30/30 [==============================] - 1s 27ms/step - loss: 0.0043 - acc: 0.9997 - val_loss: 0.7171 - val_acc: 0.8641\n",
            "Epoch 20/20\n",
            "30/30 [==============================] - 1s 26ms/step - loss: 0.0037 - acc: 0.9999 - val_loss: 0.6990 - val_acc: 0.8647\n"
          ],
          "name": "stdout"
        }
      ]
    },
    {
      "cell_type": "code",
      "metadata": {
        "colab": {
          "base_uri": "https://localhost:8080/"
        },
        "id": "qZ1tFLEKLlkD",
        "outputId": "0c750958-bef4-4199-8591-39b5de3527aa"
      },
      "source": [
        "history_dict = history.history\r\n",
        "history_dict.keys()"
      ],
      "execution_count": null,
      "outputs": [
        {
          "output_type": "execute_result",
          "data": {
            "text/plain": [
              "dict_keys(['loss', 'acc', 'val_loss', 'val_acc'])"
            ]
          },
          "metadata": {
            "tags": []
          },
          "execution_count": 57
        }
      ]
    },
    {
      "cell_type": "markdown",
      "metadata": {
        "id": "3mHAZ8r3L2pp"
      },
      "source": [
        "繪製訓練與驗證的損失函數"
      ]
    },
    {
      "cell_type": "code",
      "metadata": {
        "colab": {
          "base_uri": "https://localhost:8080/",
          "height": 295
        },
        "id": "LBTezclZL1lp",
        "outputId": "cb84e446-c863-4a80-c4a7-650706a0fe04"
      },
      "source": [
        "import matplotlib.pyplot as plt\r\n",
        "\r\n",
        "history_dict = history.history\r\n",
        "loss_values = history_dict['loss']\r\n",
        "val_loss_values = history_dict['val_loss']\r\n",
        "\r\n",
        "epochs = range(1,len(loss_values)+1)\r\n",
        "\r\n",
        "plt.plot(epochs,loss_values,'bo',label='Training loss')\r\n",
        "plt.plot(epochs,val_loss_values,'b',label='Validation loss')\r\n",
        "plt.title('Training and validation loss')\r\n",
        "plt.xlabel('Epochs')\r\n",
        "plt.ylabel('Loss')\r\n",
        "plt.legend()\r\n",
        "\r\n",
        "plt.show()"
      ],
      "execution_count": null,
      "outputs": [
        {
          "output_type": "display_data",
          "data": {
            "image/png": "[encoded data removed]",
            "text/plain": [
              "<Figure size 432x288 with 1 Axes>"
            ]
          },
          "metadata": {
            "tags": [],
            "needs_background": "light"
          }
        }
      ]
    },
    {
      "cell_type": "markdown",
      "metadata": {
        "id": "JYqkA-NtNJgC"
      },
      "source": [
        "繪製訓練與驗證的準確度"
      ]
    },
    {
      "cell_type": "code",
      "metadata": {
        "colab": {
          "base_uri": "https://localhost:8080/",
          "height": 295
        },
        "id": "SVN-XK16NJgb",
        "outputId": "f30ccf82-92ac-4242-b14f-1b7e373ca1bd"
      },
      "source": [
        "import matplotlib.pyplot as plt\r\n",
        "\r\n",
        "plt.clf()\r\n",
        "acc = history_dict['acc']\r\n",
        "val_acc = history_dict['val_acc']\r\n",
        "\r\n",
        "plt.plot(epochs,acc,'bo',label='Training acc')\r\n",
        "plt.plot(epochs,val_acc,'b',label='Validation acc')\r\n",
        "plt.title('Training and validation accuracy')\r\n",
        "plt.xlabel('Epochs')\r\n",
        "plt.ylabel('Accuracy')\r\n",
        "plt.legend()\r\n",
        "\r\n",
        "plt.show()"
      ],
      "execution_count": null,
      "outputs": [
        {
          "output_type": "display_data",
          "data": {
            "image/png": "[encoded data removed]",
            "text/plain": [
              "<Figure size 432x288 with 1 Axes>"
            ]
          },
          "metadata": {
            "tags": [],
            "needs_background": "light"
          }
        }
      ]
    },
    {
      "cell_type": "markdown",
      "metadata": {
        "id": "eR6mMCfuOjbs"
      },
      "source": [
        "驗證準確度在第四個周期後，準確度就下降  \r\n",
        "發生**過度適配(Overfitting)**"
      ]
    },
    {
      "cell_type": "markdown",
      "metadata": {
        "id": "lrqFWkGkO2g_"
      },
      "source": [
        "## 重新建立訓練模型\r\n",
        "為了防止過度適配，將訓練週期限制在第四個周期後即結束訓練"
      ]
    },
    {
      "cell_type": "code",
      "metadata": {
        "colab": {
          "base_uri": "https://localhost:8080/"
        },
        "id": "kyBrn5wPO0_p",
        "outputId": "70a6435a-5465-4dc3-f93a-eb3947091a6f"
      },
      "source": [
        "model = models.Sequential()\r\n",
        "model.add(layers.Dense(16,activation='relu',input_shape=(10000,)))\r\n",
        "model.add(layers.Dense(16,activation='relu'))\r\n",
        "model.add(layers.Dense(1,activation='sigmoid'))\r\n",
        "\r\n",
        "model.compile(optimizer='rmsprop', #調整優化器參數lr的值\r\n",
        "       loss='binary_crossentropy', # 自行指定其他的損失函數與metrics函數\r\n",
        "       metrics=['accuracy'])\r\n",
        "\r\n",
        "model.fit(x_train,y_train,epochs=4,batch_size=512)\r\n",
        "results=model.evaluate(x_test,y_test)"
      ],
      "execution_count": null,
      "outputs": [
        {
          "output_type": "stream",
          "text": [
            "Epoch 1/4\n",
            "49/49 [==============================] - 2s 21ms/step - loss: 0.5700 - accuracy: 0.7042\n",
            "Epoch 2/4\n",
            "49/49 [==============================] - 1s 21ms/step - loss: 0.2872 - accuracy: 0.9070\n",
            "Epoch 3/4\n",
            "49/49 [==============================] - 1s 21ms/step - loss: 0.2055 - accuracy: 0.9314\n",
            "Epoch 4/4\n",
            "49/49 [==============================] - 1s 21ms/step - loss: 0.1667 - accuracy: 0.9437\n",
            "782/782 [==============================] - 1s 2ms/step - loss: 0.3039 - accuracy: 0.8801\n"
          ],
          "name": "stdout"
        }
      ]
    },
    {
      "cell_type": "code",
      "metadata": {
        "colab": {
          "base_uri": "https://localhost:8080/"
        },
        "id": "ysutO-b1Psz8",
        "outputId": "fc4af346-a151-48c8-b789-2b07a022ff84"
      },
      "source": [
        "results"
      ],
      "execution_count": null,
      "outputs": [
        {
          "output_type": "execute_result",
          "data": {
            "text/plain": [
              "[0.3038855493068695, 0.880079984664917]"
            ]
          },
          "metadata": {
            "tags": []
          },
          "execution_count": 61
        }
      ]
    },
    {
      "cell_type": "markdown",
      "metadata": {
        "id": "clF3sYgBQalR"
      },
      "source": [
        "將準確度提升到88%準確度"
      ]
    },
    {
      "cell_type": "markdown",
      "metadata": {
        "id": "gihTGhT7QooD"
      },
      "source": [
        "## 使用神經網路對新資料進行預測"
      ]
    },
    {
      "cell_type": "code",
      "metadata": {
        "colab": {
          "base_uri": "https://localhost:8080/"
        },
        "id": "Al2fb27xQ0Zj",
        "outputId": "6b4b1a73-edc1-4d09-96da-f8cee0128aa9"
      },
      "source": [
        "model.predict(x_test)"
      ],
      "execution_count": null,
      "outputs": [
        {
          "output_type": "execute_result",
          "data": {
            "text/plain": [
              "array([[0.17708778],\n",
              "       [0.9999931 ],\n",
              "       [0.7763829 ],\n",
              "       ...,\n",
              "       [0.09998342],\n",
              "       [0.0706093 ],\n",
              "       [0.6768282 ]], dtype=float32)"
            ]
          },
          "metadata": {
            "tags": []
          },
          "execution_count": 62
        }
      ]
    },
    {
      "cell_type": "markdown",
      "metadata": {
        "id": "b36pPqiBRbhB"
      },
      "source": [
        "## 延伸實作"
      ]
    },
    {
      "cell_type": "markdown",
      "metadata": {
        "id": "G7MfCUgoRdqq"
      },
      "source": [
        "### 1. 使用一個隱藏層"
      ]
    },
    {
      "cell_type": "code",
      "metadata": {
        "colab": {
          "base_uri": "https://localhost:8080/"
        },
        "id": "8yqHAKCoR_yb",
        "outputId": "bd5e5d3e-6f70-4558-ab7e-858b2f80e5fa"
      },
      "source": [
        "model = models.Sequential()\r\n",
        "model.add(layers.Dense(16,activation='relu',input_shape=(10000,)))\r\n",
        "model.add(layers.Dense(1,activation='sigmoid'))\r\n",
        "\r\n",
        "model.compile(optimizer='rmsprop', #調整優化器參數lr的值\r\n",
        "       loss='binary_crossentropy', # 自行指定其他的損失函數與metrics函數\r\n",
        "       metrics=['accuracy'])\r\n",
        "\r\n",
        "model.fit(x_train,y_train,epochs=4,batch_size=512)\r\n",
        "results=model.evaluate(x_test,y_test)"
      ],
      "execution_count": null,
      "outputs": [
        {
          "output_type": "stream",
          "text": [
            "Epoch 1/4\n",
            "49/49 [==============================] - 1s 21ms/step - loss: 0.5348 - accuracy: 0.7770\n",
            "Epoch 2/4\n",
            "49/49 [==============================] - 1s 21ms/step - loss: 0.3008 - accuracy: 0.9041\n",
            "Epoch 3/4\n",
            "49/49 [==============================] - 1s 21ms/step - loss: 0.2262 - accuracy: 0.9263\n",
            "Epoch 4/4\n",
            "49/49 [==============================] - 1s 20ms/step - loss: 0.1889 - accuracy: 0.9379\n",
            "782/782 [==============================] - 2s 2ms/step - loss: 0.2853 - accuracy: 0.8850\n"
          ],
          "name": "stdout"
        }
      ]
    },
    {
      "cell_type": "markdown",
      "metadata": {
        "id": "UR0TMnutRiE1"
      },
      "source": [
        "### 2. 使用三個隱藏層"
      ]
    },
    {
      "cell_type": "code",
      "metadata": {
        "colab": {
          "base_uri": "https://localhost:8080/"
        },
        "id": "Omw_eUuGSAQi",
        "outputId": "81c70b2b-fb7b-4353-9a73-727af481ba60"
      },
      "source": [
        "model = models.Sequential()\r\n",
        "model.add(layers.Dense(16,activation='relu',input_shape=(10000,)))\r\n",
        "model.add(layers.Dense(16,activation='relu'))\r\n",
        "model.add(layers.Dense(16,activation='relu'))\r\n",
        "model.add(layers.Dense(1,activation='sigmoid'))\r\n",
        "\r\n",
        "model.compile(optimizer='rmsprop', #調整優化器參數lr的值\r\n",
        "       loss='binary_crossentropy', # 自行指定其他的損失函數與metrics函數\r\n",
        "       metrics=['accuracy'])\r\n",
        "\r\n",
        "model.fit(x_train,y_train,epochs=4,batch_size=512)\r\n",
        "results=model.evaluate(x_test,y_test)"
      ],
      "execution_count": null,
      "outputs": [
        {
          "output_type": "stream",
          "text": [
            "Epoch 1/4\n",
            "49/49 [==============================] - 2s 24ms/step - loss: 0.5886 - accuracy: 0.7137\n",
            "Epoch 2/4\n",
            "49/49 [==============================] - 1s 24ms/step - loss: 0.3003 - accuracy: 0.9034\n",
            "Epoch 3/4\n",
            "49/49 [==============================] - 1s 24ms/step - loss: 0.1953 - accuracy: 0.9370\n",
            "Epoch 4/4\n",
            "49/49 [==============================] - 1s 25ms/step - loss: 0.1578 - accuracy: 0.9461\n",
            "782/782 [==============================] - 1s 2ms/step - loss: 0.3214 - accuracy: 0.8792\n"
          ],
          "name": "stdout"
        }
      ]
    },
    {
      "cell_type": "markdown",
      "metadata": {
        "id": "V6cn-I2WRi7n"
      },
      "source": [
        "### 3. 使用32個單元"
      ]
    },
    {
      "cell_type": "code",
      "metadata": {
        "colab": {
          "base_uri": "https://localhost:8080/"
        },
        "id": "5t6ZsY8tSBw5",
        "outputId": "dc53a833-812c-44c1-8784-c21502633e11"
      },
      "source": [
        "model = models.Sequential()\r\n",
        "model.add(layers.Dense(32,activation='relu',input_shape=(10000,)))\r\n",
        "model.add(layers.Dense(32,activation='relu'))\r\n",
        "model.add(layers.Dense(1,activation='sigmoid'))\r\n",
        "\r\n",
        "model.compile(optimizer='rmsprop', #調整優化器參數lr的值\r\n",
        "       loss='binary_crossentropy', # 自行指定其他的損失函數與metrics函數\r\n",
        "       metrics=['accuracy'])\r\n",
        "\r\n",
        "model.fit(x_train,y_train,epochs=4,batch_size=512)\r\n",
        "results=model.evaluate(x_test,y_test)"
      ],
      "execution_count": null,
      "outputs": [
        {
          "output_type": "stream",
          "text": [
            "Epoch 1/4\n",
            "49/49 [==============================] - 2s 27ms/step - loss: 0.5341 - accuracy: 0.7427\n",
            "Epoch 2/4\n",
            "49/49 [==============================] - 1s 27ms/step - loss: 0.2482 - accuracy: 0.9128\n",
            "Epoch 3/4\n",
            "49/49 [==============================] - 1s 27ms/step - loss: 0.1810 - accuracy: 0.9355\n",
            "Epoch 4/4\n",
            "49/49 [==============================] - 1s 27ms/step - loss: 0.1488 - accuracy: 0.9478\n",
            "782/782 [==============================] - 1s 2ms/step - loss: 0.3076 - accuracy: 0.8810\n"
          ],
          "name": "stdout"
        }
      ]
    },
    {
      "cell_type": "markdown",
      "metadata": {
        "id": "NRh23NwzRjDJ"
      },
      "source": [
        "### 4. 使用64個單元"
      ]
    },
    {
      "cell_type": "code",
      "metadata": {
        "colab": {
          "base_uri": "https://localhost:8080/"
        },
        "id": "nHmNlUMvSBee",
        "outputId": "a4612115-3fc5-4174-90ec-decda63bdf9c"
      },
      "source": [
        "model = models.Sequential()\r\n",
        "model.add(layers.Dense(64,activation='relu',input_shape=(10000,)))\r\n",
        "model.add(layers.Dense(64,activation='relu'))\r\n",
        "model.add(layers.Dense(1,activation='sigmoid'))\r\n",
        "\r\n",
        "model.compile(optimizer='rmsprop', #調整優化器參數lr的值\r\n",
        "       loss='binary_crossentropy', # 自行指定其他的損失函數與metrics函數\r\n",
        "       metrics=['accuracy'])\r\n",
        "\r\n",
        "model.fit(x_train,y_train,epochs=4,batch_size=512)\r\n",
        "results=model.evaluate(x_test,y_test)"
      ],
      "execution_count": null,
      "outputs": [
        {
          "output_type": "stream",
          "text": [
            "Epoch 1/4\n",
            "49/49 [==============================] - 2s 34ms/step - loss: 0.5190 - accuracy: 0.7370\n",
            "Epoch 2/4\n",
            "49/49 [==============================] - 2s 35ms/step - loss: 0.2287 - accuracy: 0.9156\n",
            "Epoch 3/4\n",
            "49/49 [==============================] - 2s 35ms/step - loss: 0.1688 - accuracy: 0.9405\n",
            "Epoch 4/4\n",
            "49/49 [==============================] - 2s 34ms/step - loss: 0.1356 - accuracy: 0.9523\n",
            "782/782 [==============================] - 2s 2ms/step - loss: 0.3246 - accuracy: 0.8787\n"
          ],
          "name": "stdout"
        }
      ]
    },
    {
      "cell_type": "markdown",
      "metadata": {
        "id": "1snTRfbKRw4a"
      },
      "source": [
        "### 5. 使用mse損失函數"
      ]
    },
    {
      "cell_type": "code",
      "metadata": {
        "colab": {
          "base_uri": "https://localhost:8080/"
        },
        "id": "3mntUv7hSBOF",
        "outputId": "8fb4dec1-9b75-400d-a8d8-7ab5c5269936"
      },
      "source": [
        "model = models.Sequential()\r\n",
        "model.add(layers.Dense(16,activation='relu',input_shape=(10000,)))\r\n",
        "model.add(layers.Dense(16,activation='relu'))\r\n",
        "model.add(layers.Dense(1,activation='sigmoid'))\r\n",
        "\r\n",
        "model.compile(optimizer='rmsprop', #調整優化器參數lr的值\r\n",
        "       loss='mse', # 自行指定其他的損失函數與metrics函數\r\n",
        "       metrics=['accuracy'])\r\n",
        "\r\n",
        "model.fit(x_train,y_train,epochs=4,batch_size=512)\r\n",
        "results=model.evaluate(x_test,y_test)"
      ],
      "execution_count": null,
      "outputs": [
        {
          "output_type": "stream",
          "text": [
            "Epoch 1/4\n",
            "49/49 [==============================] - 2s 24ms/step - loss: 0.1895 - accuracy: 0.7375\n",
            "Epoch 2/4\n",
            "49/49 [==============================] - 1s 24ms/step - loss: 0.0837 - accuracy: 0.9076\n",
            "Epoch 3/4\n",
            "49/49 [==============================] - 1s 24ms/step - loss: 0.0590 - accuracy: 0.9335\n",
            "Epoch 4/4\n",
            "49/49 [==============================] - 1s 24ms/step - loss: 0.0476 - accuracy: 0.9467\n",
            "782/782 [==============================] - 1s 1ms/step - loss: 0.0861 - accuracy: 0.8849\n"
          ],
          "name": "stdout"
        }
      ]
    },
    {
      "cell_type": "markdown",
      "metadata": {
        "id": "VMAbeBqmR2JK"
      },
      "source": [
        "### 6. 使用tanh啟動函數"
      ]
    },
    {
      "cell_type": "code",
      "metadata": {
        "colab": {
          "base_uri": "https://localhost:8080/"
        },
        "id": "Y_DQPFGiSA7e",
        "outputId": "9d3851da-b10d-4665-ce81-2036bd60d925"
      },
      "source": [
        "model = models.Sequential()\r\n",
        "model.add(layers.Dense(16,activation='tanh',input_shape=(10000,)))\r\n",
        "model.add(layers.Dense(16,activation='tanh'))\r\n",
        "model.add(layers.Dense(1,activation='sigmoid'))\r\n",
        "\r\n",
        "model.compile(optimizer='rmsprop', #調整優化器參數lr的值\r\n",
        "       loss='binary_crossentropy', # 自行指定其他的損失函數與metrics函數\r\n",
        "       metrics=['accuracy'])\r\n",
        "\r\n",
        "model.fit(x_train,y_train,epochs=4,batch_size=512)\r\n",
        "results=model.evaluate(x_test,y_test)"
      ],
      "execution_count": null,
      "outputs": [
        {
          "output_type": "stream",
          "text": [
            "Epoch 1/4\n",
            "49/49 [==============================] - 2s 23ms/step - loss: 0.5105 - accuracy: 0.7614\n",
            "Epoch 2/4\n",
            "49/49 [==============================] - 1s 23ms/step - loss: 0.2372 - accuracy: 0.9156\n",
            "Epoch 3/4\n",
            "49/49 [==============================] - 1s 23ms/step - loss: 0.1689 - accuracy: 0.9391\n",
            "Epoch 4/4\n",
            "49/49 [==============================] - 1s 23ms/step - loss: 0.1393 - accuracy: 0.9513\n",
            "782/782 [==============================] - 1s 2ms/step - loss: 0.3216 - accuracy: 0.8760\n"
          ],
          "name": "stdout"
        }
      ]
    },
    {
      "cell_type": "markdown",
      "metadata": {
        "id": "EFV_yHJM4g-P"
      },
      "source": [
        "# 3-5 多元分類：數位新聞專欄\r\n",
        "建構神經網路，將路透社的新聞專欄分成46個完全不同的主題  \r\n",
        "**單標籤多類別分類(signal-label,multiclass classfication)**"
      ]
    },
    {
      "cell_type": "markdown",
      "metadata": {
        "id": "zvmpDhYjVJYK"
      },
      "source": [
        "載入路透社資料集"
      ]
    },
    {
      "cell_type": "code",
      "metadata": {
        "id": "24VEloE2VN3Q",
        "colab": {
          "base_uri": "https://localhost:8080/"
        },
        "outputId": "8bc95f99-3350-4837-c540-24ea5a746168"
      },
      "source": [
        "from keras.datasets import reuters\r\n",
        "\r\n",
        "(train_data,train_labels),(test_data,test_labels) = reuters.load_data(num_words=10000)"
      ],
      "execution_count": null,
      "outputs": [
        {
          "output_type": "stream",
          "text": [
            "/usr/local/lib/python3.6/dist-packages/tensorflow/python/keras/datasets/reuters.py:148: VisibleDeprecationWarning: Creating an ndarray from ragged nested sequences (which is a list-or-tuple of lists-or-tuples-or ndarrays with different lengths or shapes) is deprecated. If you meant to do this, you must specify 'dtype=object' when creating the ndarray\n",
            "  x_train, y_train = np.array(xs[:idx]), np.array(labels[:idx])\n",
            "/usr/local/lib/python3.6/dist-packages/tensorflow/python/keras/datasets/reuters.py:149: VisibleDeprecationWarning: Creating an ndarray from ragged nested sequences (which is a list-or-tuple of lists-or-tuples-or ndarrays with different lengths or shapes) is deprecated. If you meant to do this, you must specify 'dtype=object' when creating the ndarray\n",
            "  x_test, y_test = np.array(xs[idx:]), np.array(labels[idx:])\n"
          ],
          "name": "stderr"
        }
      ]
    },
    {
      "cell_type": "code",
      "metadata": {
        "id": "uYkfd96cVsnL",
        "colab": {
          "base_uri": "https://localhost:8080/"
        },
        "outputId": "ed17e115-5b8c-46a0-b3c0-eecfedda74f9"
      },
      "source": [
        "len(train_data)"
      ],
      "execution_count": null,
      "outputs": [
        {
          "output_type": "execute_result",
          "data": {
            "text/plain": [
              "8982"
            ]
          },
          "metadata": {
            "tags": []
          },
          "execution_count": 16
        }
      ]
    },
    {
      "cell_type": "code",
      "metadata": {
        "id": "DNLHEL31Vu8r",
        "colab": {
          "base_uri": "https://localhost:8080/"
        },
        "outputId": "27845c8f-5d81-4fd6-b2b5-8b13f4e86ddc"
      },
      "source": [
        "len(test_data)"
      ],
      "execution_count": null,
      "outputs": [
        {
          "output_type": "execute_result",
          "data": {
            "text/plain": [
              "2246"
            ]
          },
          "metadata": {
            "tags": []
          },
          "execution_count": 17
        }
      ]
    },
    {
      "cell_type": "code",
      "metadata": {
        "id": "0bI3yK4NVzvr",
        "colab": {
          "base_uri": "https://localhost:8080/"
        },
        "outputId": "4300805d-cfb0-4f5f-8990-808be96c329a"
      },
      "source": [
        "train_data[10]"
      ],
      "execution_count": null,
      "outputs": [
        {
          "output_type": "execute_result",
          "data": {
            "text/plain": [
              "[1,\n",
              " 245,\n",
              " 273,\n",
              " 207,\n",
              " 156,\n",
              " 53,\n",
              " 74,\n",
              " 160,\n",
              " 26,\n",
              " 14,\n",
              " 46,\n",
              " 296,\n",
              " 26,\n",
              " 39,\n",
              " 74,\n",
              " 2979,\n",
              " 3554,\n",
              " 14,\n",
              " 46,\n",
              " 4689,\n",
              " 4329,\n",
              " 86,\n",
              " 61,\n",
              " 3499,\n",
              " 4795,\n",
              " 14,\n",
              " 61,\n",
              " 451,\n",
              " 4329,\n",
              " 17,\n",
              " 12]"
            ]
          },
          "metadata": {
            "tags": []
          },
          "execution_count": 18
        }
      ]
    },
    {
      "cell_type": "markdown",
      "metadata": {
        "id": "9zoZi86rXH3p"
      },
      "source": [
        "將數字還原成文字"
      ]
    },
    {
      "cell_type": "code",
      "metadata": {
        "id": "7BxDRAbUXH3w"
      },
      "source": [
        "word_index = reuters.get_word_index() #取得單字對應數字的字典\r\n",
        "reverse_word_index = dict(\r\n",
        "    [(value,key) for (key,value) in word_index.items()] #反轉為數字對應單字的字典\r\n",
        ")"
      ],
      "execution_count": null,
      "outputs": []
    },
    {
      "cell_type": "code",
      "metadata": {
        "colab": {
          "base_uri": "https://localhost:8080/",
          "height": 85
        },
        "id": "ZvHy6ZT9XH3y",
        "outputId": "eed84967-26c7-49af-db51-d08acb1444d3"
      },
      "source": [
        "decord_newseire = ' '.join([reverse_word_index.get(i-3,'?') for i in train_data[0]])\r\n",
        "decord_newseire"
      ],
      "execution_count": null,
      "outputs": [
        {
          "output_type": "execute_result",
          "data": {
            "application/vnd.google.colaboratory.intrinsic+json": {
              "type": "string"
            },
            "text/plain": [
              "'? ? ? said as a result of its december acquisition of space co it expects earnings per share in 1987 of 1 15 to 1 30 dlrs per share up from 70 cts in 1986 the company said pretax net should rise to nine to 10 mln dlrs from six mln dlrs in 1986 and rental operation revenues to 19 to 22 mln dlrs from 12 5 mln dlrs it said cash flow per share this year should be 2 50 to three dlrs reuter 3'"
            ]
          },
          "metadata": {
            "tags": []
          },
          "execution_count": 20
        }
      ]
    },
    {
      "cell_type": "code",
      "metadata": {
        "id": "AA6hGL3-XUzV",
        "colab": {
          "base_uri": "https://localhost:8080/"
        },
        "outputId": "6fd4fa27-ddd2-42af-b7b0-6726a19c8698"
      },
      "source": [
        "train_labels[10] #第10筆訓練資料的標籤為第3類"
      ],
      "execution_count": null,
      "outputs": [
        {
          "output_type": "execute_result",
          "data": {
            "text/plain": [
              "3"
            ]
          },
          "metadata": {
            "tags": []
          },
          "execution_count": 21
        }
      ]
    },
    {
      "cell_type": "markdown",
      "metadata": {
        "id": "WdwNfYXRXfps"
      },
      "source": [
        "## 準備資料"
      ]
    },
    {
      "cell_type": "code",
      "metadata": {
        "id": "ccqP2VrDXizz"
      },
      "source": [
        "import numpy as np\r\n",
        "\r\n",
        "def vectorize_sequences(sequences,dimension=10000):\r\n",
        "  results=np.zeros((len(sequences),dimension))\r\n",
        "  for i,sequence in enumerate(sequences):\r\n",
        "    results[i,sequence]=1.\r\n",
        "  return results"
      ],
      "execution_count": null,
      "outputs": []
    },
    {
      "cell_type": "markdown",
      "metadata": {
        "id": "T68HIFbuYFHI"
      },
      "source": [
        "### 將訓練資料轉換為維度為10000的向量"
      ]
    },
    {
      "cell_type": "code",
      "metadata": {
        "id": "wUwQxgNiYFHg"
      },
      "source": [
        "x_train = vectorize_sequences(train_data) # 將訓練資料向量化"
      ],
      "execution_count": null,
      "outputs": []
    },
    {
      "cell_type": "code",
      "metadata": {
        "id": "Z-viCDgMYFHh"
      },
      "source": [
        "x_test = vectorize_sequences(test_data)"
      ],
      "execution_count": null,
      "outputs": []
    },
    {
      "cell_type": "markdown",
      "metadata": {
        "id": "SPyR6fQ_Xh5G"
      },
      "source": [
        "## 對向量進行one-hot編碼"
      ]
    },
    {
      "cell_type": "code",
      "metadata": {
        "id": "Ti_cuud1YhjV"
      },
      "source": [
        "from keras.utils.np_utils import to_categorical\r\n",
        "\r\n",
        "one_hot_train_labels = to_categorical(train_labels)\r\n",
        "one_hot_test_labels = to_categorical(test_labels)"
      ],
      "execution_count": null,
      "outputs": []
    },
    {
      "cell_type": "markdown",
      "metadata": {
        "id": "ibrTo5v9bejN"
      },
      "source": [
        "## 建立神經網路\r\n",
        "輸出空間的維度會大很多"
      ]
    },
    {
      "cell_type": "code",
      "metadata": {
        "id": "MDxAjRs3bsrj"
      },
      "source": [
        "from keras import models\r\n",
        "from keras import layers\r\n",
        "\r\n",
        "model = models.Sequential()\r\n",
        "model.add(layers.Dense(64,activation='relu',input_shape=(10000,)))\r\n",
        "model.add(layers.Dense(64,activation='relu'))\r\n",
        "model.add(layers.Dense(46,activation='softmax'))"
      ],
      "execution_count": null,
      "outputs": []
    },
    {
      "cell_type": "markdown",
      "metadata": {
        "id": "5yUGQPS-c3hO"
      },
      "source": [
        "### 編譯模型"
      ]
    },
    {
      "cell_type": "code",
      "metadata": {
        "id": "Een9CKjec8ws"
      },
      "source": [
        "model.compile(\r\n",
        "  optimizer='rmsprop',\r\n",
        "  loss='categorical_crossentropy',\r\n",
        "  metrics=['accuracy']\r\n",
        ")"
      ],
      "execution_count": null,
      "outputs": []
    },
    {
      "cell_type": "markdown",
      "metadata": {
        "id": "CQnGeQqAdMLc"
      },
      "source": [
        "## 驗證"
      ]
    },
    {
      "cell_type": "code",
      "metadata": {
        "id": "Jx_uMyFfdOZA"
      },
      "source": [
        "x_val = x_train[:1000]\r\n",
        "partial_x_train = x_train[1000:]\r\n",
        "\r\n",
        "y_val = one_hot_train_labels[:1000]\r\n",
        "partial_y_train = one_hot_train_labels[1000:]"
      ],
      "execution_count": null,
      "outputs": []
    },
    {
      "cell_type": "markdown",
      "metadata": {
        "id": "ZVYnkB5ydsPu"
      },
      "source": [
        "進行訓練神經網路20個週期"
      ]
    },
    {
      "cell_type": "code",
      "metadata": {
        "id": "maXoB6MFdwKN",
        "colab": {
          "base_uri": "https://localhost:8080/"
        },
        "outputId": "d2465356-33f6-4b9d-91b3-b82949bf7f17"
      },
      "source": [
        "history = model.fit(\r\n",
        "    partial_x_train,\r\n",
        "    partial_y_train,\r\n",
        "    epochs=20,\r\n",
        "    batch_size=512,\r\n",
        "    validation_data=(x_val,y_val))"
      ],
      "execution_count": null,
      "outputs": [
        {
          "output_type": "stream",
          "text": [
            "Epoch 1/20\n",
            "16/16 [==============================] - 1s 55ms/step - loss: 3.0763 - accuracy: 0.4188 - val_loss: 1.6952 - val_accuracy: 0.6680\n",
            "Epoch 2/20\n",
            "16/16 [==============================] - 1s 35ms/step - loss: 1.4678 - accuracy: 0.7169 - val_loss: 1.3053 - val_accuracy: 0.7320\n",
            "Epoch 3/20\n",
            "16/16 [==============================] - 1s 34ms/step - loss: 1.0584 - accuracy: 0.7813 - val_loss: 1.1493 - val_accuracy: 0.7600\n",
            "Epoch 4/20\n",
            "16/16 [==============================] - 1s 35ms/step - loss: 0.8649 - accuracy: 0.8196 - val_loss: 1.0671 - val_accuracy: 0.7750\n",
            "Epoch 5/20\n",
            "16/16 [==============================] - 1s 35ms/step - loss: 0.6518 - accuracy: 0.8654 - val_loss: 1.0048 - val_accuracy: 0.7970\n",
            "Epoch 6/20\n",
            "16/16 [==============================] - 1s 34ms/step - loss: 0.5285 - accuracy: 0.8929 - val_loss: 0.9510 - val_accuracy: 0.8170\n",
            "Epoch 7/20\n",
            "16/16 [==============================] - 1s 35ms/step - loss: 0.4179 - accuracy: 0.9176 - val_loss: 0.9417 - val_accuracy: 0.8160\n",
            "Epoch 8/20\n",
            "16/16 [==============================] - 1s 35ms/step - loss: 0.3437 - accuracy: 0.9303 - val_loss: 0.9231 - val_accuracy: 0.8120\n",
            "Epoch 9/20\n",
            "16/16 [==============================] - 1s 34ms/step - loss: 0.2777 - accuracy: 0.9408 - val_loss: 0.9310 - val_accuracy: 0.8150\n",
            "Epoch 10/20\n",
            "16/16 [==============================] - 1s 35ms/step - loss: 0.2343 - accuracy: 0.9513 - val_loss: 0.9448 - val_accuracy: 0.8100\n",
            "Epoch 11/20\n",
            "16/16 [==============================] - 1s 35ms/step - loss: 0.1970 - accuracy: 0.9541 - val_loss: 0.9469 - val_accuracy: 0.8130\n",
            "Epoch 12/20\n",
            "16/16 [==============================] - 1s 36ms/step - loss: 0.1699 - accuracy: 0.9557 - val_loss: 0.9671 - val_accuracy: 0.8210\n",
            "Epoch 13/20\n",
            "16/16 [==============================] - 1s 35ms/step - loss: 0.1570 - accuracy: 0.9597 - val_loss: 0.9671 - val_accuracy: 0.8190\n",
            "Epoch 14/20\n",
            "16/16 [==============================] - 1s 36ms/step - loss: 0.1516 - accuracy: 0.9556 - val_loss: 0.9864 - val_accuracy: 0.8130\n",
            "Epoch 15/20\n",
            "16/16 [==============================] - 1s 36ms/step - loss: 0.1348 - accuracy: 0.9581 - val_loss: 1.0062 - val_accuracy: 0.8190\n",
            "Epoch 16/20\n",
            "16/16 [==============================] - 1s 36ms/step - loss: 0.1234 - accuracy: 0.9620 - val_loss: 1.0674 - val_accuracy: 0.7950\n",
            "Epoch 17/20\n",
            "16/16 [==============================] - 1s 35ms/step - loss: 0.1161 - accuracy: 0.9596 - val_loss: 1.0457 - val_accuracy: 0.8150\n",
            "Epoch 18/20\n",
            "16/16 [==============================] - 1s 36ms/step - loss: 0.1121 - accuracy: 0.9602 - val_loss: 1.0494 - val_accuracy: 0.8180\n",
            "Epoch 19/20\n",
            "16/16 [==============================] - 1s 35ms/step - loss: 0.1039 - accuracy: 0.9622 - val_loss: 1.0614 - val_accuracy: 0.8080\n",
            "Epoch 20/20\n",
            "16/16 [==============================] - 1s 37ms/step - loss: 0.1063 - accuracy: 0.9605 - val_loss: 1.1288 - val_accuracy: 0.8010\n"
          ],
          "name": "stdout"
        }
      ]
    },
    {
      "cell_type": "markdown",
      "metadata": {
        "id": "ABHYH46vhagC"
      },
      "source": [
        "繪製訓練與驗證的損失函數"
      ]
    },
    {
      "cell_type": "code",
      "metadata": {
        "colab": {
          "base_uri": "https://localhost:8080/",
          "height": 295
        },
        "id": "5ZUH1tsxhagF",
        "outputId": "e6bc4b77-2246-4006-c941-7feb95ecb18c"
      },
      "source": [
        "import matplotlib.pyplot as plt\r\n",
        "\r\n",
        "loss = history.history['loss']\r\n",
        "val_loss = history.history['val_loss']\r\n",
        "\r\n",
        "epochs = range(1,len(loss)+1)\r\n",
        "\r\n",
        "plt.plot(epochs,loss,'bo',label='Training loss')\r\n",
        "plt.plot(epochs,val_loss,'b',label='Validation loss')\r\n",
        "plt.title('Training and validation loss')\r\n",
        "plt.xlabel('Epochs')\r\n",
        "plt.ylabel('Loss')\r\n",
        "plt.legend()\r\n",
        "\r\n",
        "plt.show()"
      ],
      "execution_count": null,
      "outputs": [
        {
          "output_type": "display_data",
          "data": {
            "image/png": "[encoded data removed]",
            "text/plain": [
              "<Figure size 432x288 with 1 Axes>"
            ]
          },
          "metadata": {
            "tags": [],
            "needs_background": "light"
          }
        }
      ]
    },
    {
      "cell_type": "markdown",
      "metadata": {
        "id": "-fm8Fa0nhagI"
      },
      "source": [
        "繪製訓練與驗證的準確度"
      ]
    },
    {
      "cell_type": "code",
      "metadata": {
        "colab": {
          "base_uri": "https://localhost:8080/",
          "height": 295
        },
        "id": "Hu-h_h8rhagJ",
        "outputId": "f58a014e-e6f3-45ab-f5ce-8aa46e682487"
      },
      "source": [
        "import matplotlib.pyplot as plt\r\n",
        "\r\n",
        "plt.clf()\r\n",
        "acc = history.history['accuracy']\r\n",
        "val_acc = history.history['val_accuracy']\r\n",
        "\r\n",
        "plt.plot(epochs,acc,'bo',label='Training acc')\r\n",
        "plt.plot(epochs,val_acc,'b',label='Validation acc')\r\n",
        "plt.title('Training and validation accuracy')\r\n",
        "plt.xlabel('Epochs')\r\n",
        "plt.ylabel('Accuracy')\r\n",
        "plt.legend()\r\n",
        "\r\n",
        "plt.show()"
      ],
      "execution_count": null,
      "outputs": [
        {
          "output_type": "display_data",
          "data": {
            "image/png": "[encoded data removed]",
            "text/plain": [
              "<Figure size 432x288 with 1 Axes>"
            ]
          },
          "metadata": {
            "tags": [],
            "needs_background": "light"
          }
        }
      ]
    },
    {
      "cell_type": "markdown",
      "metadata": {
        "id": "wNiMGrsKUtEG"
      },
      "source": [
        "驗證準確度在第九個周期後，準確度就下降  \r\n",
        "發生**過度適配(Overfitting)**"
      ]
    },
    {
      "cell_type": "markdown",
      "metadata": {
        "id": "JBaaF39kUtEQ"
      },
      "source": [
        "## 重新建立訓練模型\r\n",
        "為了防止過度適配，將訓練週期限制在第四個周期後即結束訓練"
      ]
    },
    {
      "cell_type": "code",
      "metadata": {
        "colab": {
          "base_uri": "https://localhost:8080/"
        },
        "id": "XRbKgB83UtEQ",
        "outputId": "68898321-bb6f-40f4-fe11-a8c03ae388e5"
      },
      "source": [
        "model = models.Sequential()\r\n",
        "model.add(layers.Dense(64,activation='relu',input_shape=(10000,)))\r\n",
        "model.add(layers.Dense(64,activation='relu'))\r\n",
        "model.add(layers.Dense(46,activation='softmax'))\r\n",
        "\r\n",
        "model.compile(\r\n",
        "  optimizer='rmsprop',\r\n",
        "  loss='categorical_crossentropy',\r\n",
        "  metrics=['accuracy']\r\n",
        ")\r\n",
        "\r\n",
        "model.fit(\r\n",
        "    partial_x_train,\r\n",
        "    partial_y_train,\r\n",
        "    epochs=9,\r\n",
        "    batch_size=512,\r\n",
        "    validation_data=(x_val,y_val))\r\n",
        "results=model.evaluate(x_test,one_hot_test_labels)"
      ],
      "execution_count": null,
      "outputs": [
        {
          "output_type": "stream",
          "text": [
            "Epoch 1/9\n",
            "16/16 [==============================] - 1s 48ms/step - loss: 3.1010 - accuracy: 0.3698 - val_loss: 1.7667 - val_accuracy: 0.6360\n",
            "Epoch 2/9\n",
            "16/16 [==============================] - 1s 37ms/step - loss: 1.5206 - accuracy: 0.6930 - val_loss: 1.2999 - val_accuracy: 0.7330\n",
            "Epoch 3/9\n",
            "16/16 [==============================] - 1s 45ms/step - loss: 1.0736 - accuracy: 0.7777 - val_loss: 1.0981 - val_accuracy: 0.7650\n",
            "Epoch 4/9\n",
            "16/16 [==============================] - 1s 38ms/step - loss: 0.8162 - accuracy: 0.8248 - val_loss: 1.0119 - val_accuracy: 0.8000\n",
            "Epoch 5/9\n",
            "16/16 [==============================] - 1s 36ms/step - loss: 0.6469 - accuracy: 0.8665 - val_loss: 0.9416 - val_accuracy: 0.8070\n",
            "Epoch 6/9\n",
            "16/16 [==============================] - 1s 37ms/step - loss: 0.5121 - accuracy: 0.8987 - val_loss: 0.9278 - val_accuracy: 0.8020\n",
            "Epoch 7/9\n",
            "16/16 [==============================] - 1s 36ms/step - loss: 0.4121 - accuracy: 0.9197 - val_loss: 0.8979 - val_accuracy: 0.8160\n",
            "Epoch 8/9\n",
            "16/16 [==============================] - 1s 36ms/step - loss: 0.3332 - accuracy: 0.9314 - val_loss: 0.9002 - val_accuracy: 0.8190\n",
            "Epoch 9/9\n",
            "16/16 [==============================] - 1s 35ms/step - loss: 0.2628 - accuracy: 0.9446 - val_loss: 0.9280 - val_accuracy: 0.8080\n",
            "71/71 [==============================] - 0s 2ms/step - loss: 1.0085 - accuracy: 0.7823\n"
          ],
          "name": "stdout"
        }
      ]
    },
    {
      "cell_type": "code",
      "metadata": {
        "colab": {
          "base_uri": "https://localhost:8080/"
        },
        "id": "I9tElpiZUtER",
        "outputId": "1fde4b89-a5c1-45c6-bfd8-193da2b8b7d0"
      },
      "source": [
        "results"
      ],
      "execution_count": null,
      "outputs": [
        {
          "output_type": "execute_result",
          "data": {
            "text/plain": [
              "[1.0085341930389404, 0.7822796106338501]"
            ]
          },
          "metadata": {
            "tags": []
          },
          "execution_count": 33
        }
      ]
    },
    {
      "cell_type": "markdown",
      "metadata": {
        "id": "sEmi56NtUtER"
      },
      "source": [
        "將準確度提升到88%準確度"
      ]
    },
    {
      "cell_type": "markdown",
      "metadata": {
        "id": "lNDrCYvIhSdn"
      },
      "source": [
        "## 資料瓶頸\r\n",
        "假定最終輸出有46個神經元，中間層應避免使用少於46神經元來傳遞資訊。 \r\n",
        "避免資訊被壓縮。"
      ]
    },
    {
      "cell_type": "markdown",
      "metadata": {
        "id": "o_0uQTApTu2S"
      },
      "source": [
        "## 延伸實作"
      ]
    },
    {
      "cell_type": "markdown",
      "metadata": {
        "id": "BOMsFdcVTu2a"
      },
      "source": [
        "### 1. 使用一個隱藏層"
      ]
    },
    {
      "cell_type": "code",
      "metadata": {
        "colab": {
          "base_uri": "https://localhost:8080/"
        },
        "id": "lUgHZbMhTu2b",
        "outputId": "226cf06e-caa1-4dd7-997c-83f50a990d61"
      },
      "source": [
        "model = models.Sequential()\r\n",
        "model.add(layers.Dense(64,activation='relu',input_shape=(10000,)))\r\n",
        "model.add(layers.Dense(46,activation='softmax'))\r\n",
        "\r\n",
        "model.compile(\r\n",
        "  optimizer='rmsprop',\r\n",
        "  loss='categorical_crossentropy',\r\n",
        "  metrics=['accuracy']\r\n",
        ")\r\n",
        "\r\n",
        "model.fit(\r\n",
        "    partial_x_train,\r\n",
        "    partial_y_train,\r\n",
        "    epochs=9,\r\n",
        "    batch_size=512,\r\n",
        "    validation_data=(x_val,y_val))\r\n",
        "results=model.evaluate(x_test,one_hot_test_labels)"
      ],
      "execution_count": null,
      "outputs": [
        {
          "output_type": "stream",
          "text": [
            "Epoch 1/9\n",
            "16/16 [==============================] - 1s 48ms/step - loss: 3.0221 - accuracy: 0.4674 - val_loss: 1.7696 - val_accuracy: 0.6620\n",
            "Epoch 2/9\n",
            "16/16 [==============================] - 1s 38ms/step - loss: 1.5300 - accuracy: 0.7113 - val_loss: 1.3219 - val_accuracy: 0.7240\n",
            "Epoch 3/9\n",
            "16/16 [==============================] - 1s 37ms/step - loss: 1.0790 - accuracy: 0.7836 - val_loss: 1.1241 - val_accuracy: 0.7710\n",
            "Epoch 4/9\n",
            "16/16 [==============================] - 1s 38ms/step - loss: 0.8304 - accuracy: 0.8342 - val_loss: 1.0060 - val_accuracy: 0.7940\n",
            "Epoch 5/9\n",
            "16/16 [==============================] - 1s 36ms/step - loss: 0.6705 - accuracy: 0.8690 - val_loss: 0.9382 - val_accuracy: 0.8050\n",
            "Epoch 6/9\n",
            "16/16 [==============================] - 1s 38ms/step - loss: 0.5373 - accuracy: 0.8974 - val_loss: 0.8934 - val_accuracy: 0.8150\n",
            "Epoch 7/9\n",
            "16/16 [==============================] - 1s 37ms/step - loss: 0.4464 - accuracy: 0.9157 - val_loss: 0.8647 - val_accuracy: 0.8160\n",
            "Epoch 8/9\n",
            "16/16 [==============================] - 1s 37ms/step - loss: 0.3839 - accuracy: 0.9270 - val_loss: 0.8373 - val_accuracy: 0.8220\n",
            "Epoch 9/9\n",
            "16/16 [==============================] - 1s 36ms/step - loss: 0.3112 - accuracy: 0.9371 - val_loss: 0.8218 - val_accuracy: 0.8200\n",
            "71/71 [==============================] - 0s 2ms/step - loss: 0.8978 - accuracy: 0.7988\n"
          ],
          "name": "stdout"
        }
      ]
    },
    {
      "cell_type": "markdown",
      "metadata": {
        "id": "EYkhsyu1Tu2c"
      },
      "source": [
        "### 2. 使用三個隱藏層"
      ]
    },
    {
      "cell_type": "code",
      "metadata": {
        "colab": {
          "base_uri": "https://localhost:8080/"
        },
        "id": "ejQ2ckNOTu2c",
        "outputId": "487fa419-06fc-4f05-83d0-f7ff4aa74567"
      },
      "source": [
        "model = models.Sequential()\r\n",
        "model.add(layers.Dense(64,activation='relu',input_shape=(10000,)))\r\n",
        "model.add(layers.Dense(64,activation='relu'))\r\n",
        "model.add(layers.Dense(46,activation='softmax'))\r\n",
        "\r\n",
        "model.compile(\r\n",
        "  optimizer='rmsprop',\r\n",
        "  loss='categorical_crossentropy',\r\n",
        "  metrics=['accuracy']\r\n",
        ")\r\n",
        "\r\n",
        "model.fit(\r\n",
        "    partial_x_train,\r\n",
        "    partial_y_train,\r\n",
        "    epochs=9,\r\n",
        "    batch_size=512,\r\n",
        "    validation_data=(x_val,y_val))\r\n",
        "results=model.evaluate(x_test,one_hot_test_labels)"
      ],
      "execution_count": null,
      "outputs": [
        {
          "output_type": "stream",
          "text": [
            "Epoch 1/9\n",
            "16/16 [==============================] - 1s 48ms/step - loss: 3.1435 - accuracy: 0.4162 - val_loss: 1.7653 - val_accuracy: 0.6310\n",
            "Epoch 2/9\n",
            "16/16 [==============================] - 1s 38ms/step - loss: 1.4881 - accuracy: 0.6965 - val_loss: 1.3421 - val_accuracy: 0.7140\n",
            "Epoch 3/9\n",
            "16/16 [==============================] - 1s 39ms/step - loss: 1.0851 - accuracy: 0.7710 - val_loss: 1.1444 - val_accuracy: 0.7680\n",
            "Epoch 4/9\n",
            "16/16 [==============================] - 1s 38ms/step - loss: 0.8491 - accuracy: 0.8236 - val_loss: 1.0467 - val_accuracy: 0.7890\n",
            "Epoch 5/9\n",
            "16/16 [==============================] - 1s 41ms/step - loss: 0.6695 - accuracy: 0.8584 - val_loss: 0.9854 - val_accuracy: 0.7890\n",
            "Epoch 6/9\n",
            "16/16 [==============================] - 1s 38ms/step - loss: 0.5403 - accuracy: 0.8869 - val_loss: 0.9531 - val_accuracy: 0.8160\n",
            "Epoch 7/9\n",
            "16/16 [==============================] - 1s 38ms/step - loss: 0.4276 - accuracy: 0.9124 - val_loss: 0.9139 - val_accuracy: 0.8150\n",
            "Epoch 8/9\n",
            "16/16 [==============================] - 1s 38ms/step - loss: 0.3387 - accuracy: 0.9289 - val_loss: 0.9247 - val_accuracy: 0.8140\n",
            "Epoch 9/9\n",
            "16/16 [==============================] - 1s 37ms/step - loss: 0.2869 - accuracy: 0.9386 - val_loss: 0.9037 - val_accuracy: 0.8220\n",
            "71/71 [==============================] - 0s 2ms/step - loss: 0.9731 - accuracy: 0.7841\n"
          ],
          "name": "stdout"
        }
      ]
    },
    {
      "cell_type": "markdown",
      "metadata": {
        "id": "C1rnBWiZTu2c"
      },
      "source": [
        "### 3. 使用32個單元"
      ]
    },
    {
      "cell_type": "code",
      "metadata": {
        "colab": {
          "base_uri": "https://localhost:8080/"
        },
        "id": "FBPn3p6TTu2c",
        "outputId": "23472ff0-7f81-484d-b16a-e7ef070bd208"
      },
      "source": [
        "model = models.Sequential()\r\n",
        "model.add(layers.Dense(32,activation='relu',input_shape=(10000,)))\r\n",
        "model.add(layers.Dense(32,activation='relu'))\r\n",
        "model.add(layers.Dense(46,activation='softmax'))\r\n",
        "\r\n",
        "model.compile(\r\n",
        "  optimizer='rmsprop',\r\n",
        "  loss='categorical_crossentropy',\r\n",
        "  metrics=['accuracy']\r\n",
        ")\r\n",
        "\r\n",
        "model.fit(\r\n",
        "    partial_x_train,\r\n",
        "    partial_y_train,\r\n",
        "    epochs=9,\r\n",
        "    batch_size=512,\r\n",
        "    validation_data=(x_val,y_val))\r\n",
        "results=model.evaluate(x_test,one_hot_test_labels)"
      ],
      "execution_count": null,
      "outputs": [
        {
          "output_type": "stream",
          "text": [
            "Epoch 1/9\n",
            "16/16 [==============================] - 1s 40ms/step - loss: 3.3485 - accuracy: 0.3252 - val_loss: 2.2853 - val_accuracy: 0.5800\n",
            "Epoch 2/9\n",
            "16/16 [==============================] - 0s 30ms/step - loss: 2.0021 - accuracy: 0.6265 - val_loss: 1.6580 - val_accuracy: 0.6510\n",
            "Epoch 3/9\n",
            "16/16 [==============================] - 1s 42ms/step - loss: 1.4701 - accuracy: 0.6967 - val_loss: 1.3805 - val_accuracy: 0.7050\n",
            "Epoch 4/9\n",
            "16/16 [==============================] - 1s 32ms/step - loss: 1.2098 - accuracy: 0.7474 - val_loss: 1.2428 - val_accuracy: 0.7250\n",
            "Epoch 5/9\n",
            "16/16 [==============================] - 0s 31ms/step - loss: 1.0231 - accuracy: 0.7813 - val_loss: 1.1491 - val_accuracy: 0.7520\n",
            "Epoch 6/9\n",
            "16/16 [==============================] - 1s 32ms/step - loss: 0.8722 - accuracy: 0.8200 - val_loss: 1.0913 - val_accuracy: 0.7620\n",
            "Epoch 7/9\n",
            "16/16 [==============================] - 0s 31ms/step - loss: 0.7546 - accuracy: 0.8428 - val_loss: 1.0513 - val_accuracy: 0.7810\n",
            "Epoch 8/9\n",
            "16/16 [==============================] - 1s 32ms/step - loss: 0.6392 - accuracy: 0.8647 - val_loss: 1.0107 - val_accuracy: 0.7850\n",
            "Epoch 9/9\n",
            "16/16 [==============================] - 0s 30ms/step - loss: 0.5663 - accuracy: 0.8788 - val_loss: 0.9803 - val_accuracy: 0.7900\n",
            "71/71 [==============================] - 0s 2ms/step - loss: 1.0588 - accuracy: 0.7707\n"
          ],
          "name": "stdout"
        }
      ]
    },
    {
      "cell_type": "markdown",
      "metadata": {
        "id": "StiLrkuyTu2d"
      },
      "source": [
        "### 4. 使用128個單元"
      ]
    },
    {
      "cell_type": "code",
      "metadata": {
        "colab": {
          "base_uri": "https://localhost:8080/"
        },
        "id": "Bl9j_3PETu2d",
        "outputId": "63aab294-0e0a-493d-dcdd-b0707d750ea0"
      },
      "source": [
        "model = models.Sequential()\r\n",
        "model.add(layers.Dense(128,activation='relu',input_shape=(10000,)))\r\n",
        "model.add(layers.Dense(128,activation='relu'))\r\n",
        "model.add(layers.Dense(46,activation='softmax'))\r\n",
        "\r\n",
        "model.compile(\r\n",
        "  optimizer='rmsprop',\r\n",
        "  loss='categorical_crossentropy',\r\n",
        "  metrics=['accuracy']\r\n",
        ")\r\n",
        "\r\n",
        "model.fit(\r\n",
        "    partial_x_train,\r\n",
        "    partial_y_train,\r\n",
        "    epochs=9,\r\n",
        "    batch_size=512,\r\n",
        "    validation_data=(x_val,y_val))\r\n",
        "results=model.evaluate(x_test,one_hot_test_labels)"
      ],
      "execution_count": null,
      "outputs": [
        {
          "output_type": "stream",
          "text": [
            "Epoch 1/9\n",
            "16/16 [==============================] - 1s 65ms/step - loss: 2.7893 - accuracy: 0.4535 - val_loss: 1.3531 - val_accuracy: 0.6980\n",
            "Epoch 2/9\n",
            "16/16 [==============================] - 1s 57ms/step - loss: 1.1454 - accuracy: 0.7578 - val_loss: 1.0936 - val_accuracy: 0.7630\n",
            "Epoch 3/9\n",
            "16/16 [==============================] - 1s 54ms/step - loss: 0.7825 - accuracy: 0.8333 - val_loss: 0.9593 - val_accuracy: 0.8050\n",
            "Epoch 4/9\n",
            "16/16 [==============================] - 1s 51ms/step - loss: 0.5486 - accuracy: 0.8816 - val_loss: 0.8798 - val_accuracy: 0.8200\n",
            "Epoch 5/9\n",
            "16/16 [==============================] - 1s 54ms/step - loss: 0.4040 - accuracy: 0.9146 - val_loss: 0.8472 - val_accuracy: 0.8170\n",
            "Epoch 6/9\n",
            "16/16 [==============================] - 1s 54ms/step - loss: 0.3024 - accuracy: 0.9317 - val_loss: 0.8754 - val_accuracy: 0.8130\n",
            "Epoch 7/9\n",
            "16/16 [==============================] - 1s 53ms/step - loss: 0.2360 - accuracy: 0.9469 - val_loss: 0.9095 - val_accuracy: 0.8020\n",
            "Epoch 8/9\n",
            "16/16 [==============================] - 1s 53ms/step - loss: 0.1888 - accuracy: 0.9536 - val_loss: 0.8981 - val_accuracy: 0.8230\n",
            "Epoch 9/9\n",
            "16/16 [==============================] - 1s 53ms/step - loss: 0.1794 - accuracy: 0.9516 - val_loss: 1.0168 - val_accuracy: 0.7930\n",
            "71/71 [==============================] - 0s 2ms/step - loss: 1.1019 - accuracy: 0.7698\n"
          ],
          "name": "stdout"
        }
      ]
    },
    {
      "cell_type": "markdown",
      "metadata": {
        "id": "jUO5Tlvk4nCA"
      },
      "source": [
        "# 3-6 迴歸：預測房價\r\n",
        "預測連續值而不是離散標籤"
      ]
    },
    {
      "cell_type": "markdown",
      "metadata": {
        "id": "pS_3oNaGa6EH"
      },
      "source": [
        "## 準備資料\r\n",
        "載入1970年代中期波士頓的郊區資料  \r\n",
        "本例有506筆資料，分為404個訓練樣本和102個測試資料"
      ]
    },
    {
      "cell_type": "code",
      "metadata": {
        "id": "MrlyhwJbbu4R",
        "colab": {
          "base_uri": "https://localhost:8080/"
        },
        "outputId": "087b3250-c098-4232-9e99-05a04e608c31"
      },
      "source": [
        "from keras.datasets import boston_housing\r\n",
        "\r\n",
        "(train_data,train_targets),(test_data,test_targets) = boston_housing.load_data()"
      ],
      "execution_count": 1,
      "outputs": [
        {
          "output_type": "stream",
          "text": [
            "Downloading data from https://storage.googleapis.com/tensorflow/tf-keras-datasets/boston_housing.npz\n",
            "57344/57026 [==============================] - 0s 0us/step\n"
          ],
          "name": "stdout"
        }
      ]
    },
    {
      "cell_type": "code",
      "metadata": {
        "colab": {
          "base_uri": "https://localhost:8080/"
        },
        "id": "otLDBVidcKhD",
        "outputId": "83071c0d-9a68-4c7e-a19c-7369e28ef745"
      },
      "source": [
        "train_data.shape"
      ],
      "execution_count": 2,
      "outputs": [
        {
          "output_type": "execute_result",
          "data": {
            "text/plain": [
              "(404, 13)"
            ]
          },
          "metadata": {
            "tags": []
          },
          "execution_count": 2
        }
      ]
    },
    {
      "cell_type": "code",
      "metadata": {
        "colab": {
          "base_uri": "https://localhost:8080/"
        },
        "id": "GiwclzYycO28",
        "outputId": "c0d41ca2-8b89-43e1-9a40-5da7827415f7"
      },
      "source": [
        "test_data.shape"
      ],
      "execution_count": 3,
      "outputs": [
        {
          "output_type": "execute_result",
          "data": {
            "text/plain": [
              "(102, 13)"
            ]
          },
          "metadata": {
            "tags": []
          },
          "execution_count": 3
        }
      ]
    },
    {
      "cell_type": "code",
      "metadata": {
        "colab": {
          "base_uri": "https://localhost:8080/"
        },
        "id": "CSipspQOcU2L",
        "outputId": "71710d77-9975-4ef9-e94b-b6044afde5a0"
      },
      "source": [
        "train_targets"
      ],
      "execution_count": 4,
      "outputs": [
        {
          "output_type": "execute_result",
          "data": {
            "text/plain": [
              "array([15.2, 42.3, 50. , 21.1, 17.7, 18.5, 11.3, 15.6, 15.6, 14.4, 12.1,\n",
              "       17.9, 23.1, 19.9, 15.7,  8.8, 50. , 22.5, 24.1, 27.5, 10.9, 30.8,\n",
              "       32.9, 24. , 18.5, 13.3, 22.9, 34.7, 16.6, 17.5, 22.3, 16.1, 14.9,\n",
              "       23.1, 34.9, 25. , 13.9, 13.1, 20.4, 20. , 15.2, 24.7, 22.2, 16.7,\n",
              "       12.7, 15.6, 18.4, 21. , 30.1, 15.1, 18.7,  9.6, 31.5, 24.8, 19.1,\n",
              "       22. , 14.5, 11. , 32. , 29.4, 20.3, 24.4, 14.6, 19.5, 14.1, 14.3,\n",
              "       15.6, 10.5,  6.3, 19.3, 19.3, 13.4, 36.4, 17.8, 13.5, 16.5,  8.3,\n",
              "       14.3, 16. , 13.4, 28.6, 43.5, 20.2, 22. , 23. , 20.7, 12.5, 48.5,\n",
              "       14.6, 13.4, 23.7, 50. , 21.7, 39.8, 38.7, 22.2, 34.9, 22.5, 31.1,\n",
              "       28.7, 46. , 41.7, 21. , 26.6, 15. , 24.4, 13.3, 21.2, 11.7, 21.7,\n",
              "       19.4, 50. , 22.8, 19.7, 24.7, 36.2, 14.2, 18.9, 18.3, 20.6, 24.6,\n",
              "       18.2,  8.7, 44. , 10.4, 13.2, 21.2, 37. , 30.7, 22.9, 20. , 19.3,\n",
              "       31.7, 32. , 23.1, 18.8, 10.9, 50. , 19.6,  5. , 14.4, 19.8, 13.8,\n",
              "       19.6, 23.9, 24.5, 25. , 19.9, 17.2, 24.6, 13.5, 26.6, 21.4, 11.9,\n",
              "       22.6, 19.6,  8.5, 23.7, 23.1, 22.4, 20.5, 23.6, 18.4, 35.2, 23.1,\n",
              "       27.9, 20.6, 23.7, 28. , 13.6, 27.1, 23.6, 20.6, 18.2, 21.7, 17.1,\n",
              "        8.4, 25.3, 13.8, 22.2, 18.4, 20.7, 31.6, 30.5, 20.3,  8.8, 19.2,\n",
              "       19.4, 23.1, 23. , 14.8, 48.8, 22.6, 33.4, 21.1, 13.6, 32.2, 13.1,\n",
              "       23.4, 18.9, 23.9, 11.8, 23.3, 22.8, 19.6, 16.7, 13.4, 22.2, 20.4,\n",
              "       21.8, 26.4, 14.9, 24.1, 23.8, 12.3, 29.1, 21. , 19.5, 23.3, 23.8,\n",
              "       17.8, 11.5, 21.7, 19.9, 25. , 33.4, 28.5, 21.4, 24.3, 27.5, 33.1,\n",
              "       16.2, 23.3, 48.3, 22.9, 22.8, 13.1, 12.7, 22.6, 15. , 15.3, 10.5,\n",
              "       24. , 18.5, 21.7, 19.5, 33.2, 23.2,  5. , 19.1, 12.7, 22.3, 10.2,\n",
              "       13.9, 16.3, 17. , 20.1, 29.9, 17.2, 37.3, 45.4, 17.8, 23.2, 29. ,\n",
              "       22. , 18. , 17.4, 34.6, 20.1, 25. , 15.6, 24.8, 28.2, 21.2, 21.4,\n",
              "       23.8, 31. , 26.2, 17.4, 37.9, 17.5, 20. ,  8.3, 23.9,  8.4, 13.8,\n",
              "        7.2, 11.7, 17.1, 21.6, 50. , 16.1, 20.4, 20.6, 21.4, 20.6, 36.5,\n",
              "        8.5, 24.8, 10.8, 21.9, 17.3, 18.9, 36.2, 14.9, 18.2, 33.3, 21.8,\n",
              "       19.7, 31.6, 24.8, 19.4, 22.8,  7.5, 44.8, 16.8, 18.7, 50. , 50. ,\n",
              "       19.5, 20.1, 50. , 17.2, 20.8, 19.3, 41.3, 20.4, 20.5, 13.8, 16.5,\n",
              "       23.9, 20.6, 31.5, 23.3, 16.8, 14. , 33.8, 36.1, 12.8, 18.3, 18.7,\n",
              "       19.1, 29. , 30.1, 50. , 50. , 22. , 11.9, 37.6, 50. , 22.7, 20.8,\n",
              "       23.5, 27.9, 50. , 19.3, 23.9, 22.6, 15.2, 21.7, 19.2, 43.8, 20.3,\n",
              "       33.2, 19.9, 22.5, 32.7, 22. , 17.1, 19. , 15. , 16.1, 25.1, 23.7,\n",
              "       28.7, 37.2, 22.6, 16.4, 25. , 29.8, 22.1, 17.4, 18.1, 30.3, 17.5,\n",
              "       24.7, 12.6, 26.5, 28.7, 13.3, 10.4, 24.4, 23. , 20. , 17.8,  7. ,\n",
              "       11.8, 24.4, 13.8, 19.4, 25.2, 19.4, 19.4, 29.1])"
            ]
          },
          "metadata": {
            "tags": []
          },
          "execution_count": 4
        }
      ]
    },
    {
      "cell_type": "markdown",
      "metadata": {
        "id": "K_iWURfZcuOm"
      },
      "source": [
        "## 準備資料\r\n",
        "對資料進行**正規化(normalization)**  \r\n",
        "對每個特徵值減去平均值並減去標準差，使特徵的"
      ]
    },
    {
      "cell_type": "code",
      "metadata": {
        "id": "AoCrAcKJcwai"
      },
      "source": [
        "mean = train_data.mean(axis=0)\r\n",
        "train_data -= mean\r\n",
        "std = train_data.std(axis=0)\r\n",
        "train_data /= std\r\n",
        "\r\n",
        "test_data -= mean\r\n",
        "test_data /= std "
      ],
      "execution_count": 5,
      "outputs": []
    },
    {
      "cell_type": "markdown",
      "metadata": {
        "id": "oIZ8eheSd6aE"
      },
      "source": [
        "## 建立神經網路\r\n",
        "以單一unit結束且沒有啟動函數(代表將是線性層)"
      ]
    },
    {
      "cell_type": "code",
      "metadata": {
        "id": "gu1vaNKRgVx9"
      },
      "source": [
        "from keras import models\r\n",
        "from keras import layers\r\n",
        "\r\n",
        "def build_model():\r\n",
        "  model = models.Sequential()\r\n",
        "  model.add(layers.Dense(64,activation='relu',input_shape=(train_data.shape[1],)))\r\n",
        "  model.add(layers.Dense(64,activation='relu'))\r\n",
        "  model.add(layers.Dense(1))\r\n",
        "  model.compile(optimizer='rmsprop',loss='mse',metrics=['mae'])\r\n",
        "  return model"
      ],
      "execution_count": 8,
      "outputs": []
    },
    {
      "cell_type": "markdown",
      "metadata": {
        "id": "A7vCiNDRb3If"
      },
      "source": [
        "## K-fold cross validation(K折交叉驗證)：驗證模型的成效\r\n",
        "將可用資料拆分成K個區塊，保持模型不變的情況下：  \r\n",
        "選一個區塊作為驗證集，而其餘區做當作訓練集。  \r\n",
        "![pic3-2](https://github.com/hank199599/deep_learning_keras_log/blob/main/pictures/3-2.png?raw=true)  \r\n",
        "\r\n",
        "**使資料集太小，使變異性增大的缺點平均掉。**"
      ]
    },
    {
      "cell_type": "code",
      "metadata": {
        "colab": {
          "base_uri": "https://localhost:8080/",
          "height": 397
        },
        "id": "9Ik7nxUfeA0D",
        "outputId": "39f2ae01-cade-4f17-c3f9-5ff8670188e3"
      },
      "source": [
        "import numpy as np\r\n",
        "\r\n",
        "k=4 # 進行4折交叉驗證\r\n",
        "num_val_samples = len(train_data)\r\n",
        "num_epochs=100\r\n",
        "all_scores=[]\r\n",
        "\r\n",
        "for i in range(k):\r\n",
        "  print(\"process fold #\",i)\r\n",
        "  val_data = train_data[i*num_val_samples:(i+1)*num_val_samples] # 準備驗證資料，來自#k區塊\r\n",
        "  val_target = train_targets[i*num_val_samples:(i+1)*num_val_samples]\r\n",
        "\r\n",
        "  partical_train_data = np.concatenate([train_data[:i*num_val_samples],train_data[(i+1)*num_val_samples:]],axis=0)\r\n",
        "  partical_train_targets = np.concatenate([train_targets[:i*num_val_samples],train_targets[(i+1)*num_val_samples:]],axis=0)  \r\n",
        "  \r\n",
        "  model = build_model()\r\n",
        "  model.fit(partical_train_data,partical_train_targets,epochs=num_epochs,batch_size=1,verbose=0)\r\n",
        "\r\n",
        "  val_mse,var_mae = model.evaluate(val_data,val_target,verbose=0)\r\n",
        "  all_scores.append(val_mae)"
      ],
      "execution_count": 13,
      "outputs": [
        {
          "output_type": "stream",
          "text": [
            "process fold # 0\n"
          ],
          "name": "stdout"
        },
        {
          "output_type": "error",
          "ename": "ValueError",
          "evalue": "ignored",
          "traceback": [
            "\u001b[0;31m---------------------------------------------------------------------------\u001b[0m",
            "\u001b[0;31mValueError\u001b[0m                                Traceback (most recent call last)",
            "\u001b[0;32m<ipython-input-13-8d4b9e9cf3ee>\u001b[0m in \u001b[0;36m<module>\u001b[0;34m()\u001b[0m\n\u001b[1;32m     19\u001b[0m        axis=0)  \n\u001b[1;32m     20\u001b[0m   \u001b[0mmodel\u001b[0m \u001b[0;34m=\u001b[0m \u001b[0mbuild_model\u001b[0m\u001b[0;34m(\u001b[0m\u001b[0;34m)\u001b[0m\u001b[0;34m\u001b[0m\u001b[0;34m\u001b[0m\u001b[0m\n\u001b[0;32m---> 21\u001b[0;31m   \u001b[0mmodel\u001b[0m\u001b[0;34m.\u001b[0m\u001b[0mfit\u001b[0m\u001b[0;34m(\u001b[0m\u001b[0mpartical_train_data\u001b[0m\u001b[0;34m,\u001b[0m\u001b[0mpartical_train_targets\u001b[0m\u001b[0;34m,\u001b[0m\u001b[0mepochs\u001b[0m\u001b[0;34m=\u001b[0m\u001b[0mnum_epochs\u001b[0m\u001b[0;34m,\u001b[0m\u001b[0mbatch_size\u001b[0m\u001b[0;34m=\u001b[0m\u001b[0;36m1\u001b[0m\u001b[0;34m,\u001b[0m\u001b[0mverbose\u001b[0m\u001b[0;34m=\u001b[0m\u001b[0;36m0\u001b[0m\u001b[0;34m)\u001b[0m\u001b[0;34m\u001b[0m\u001b[0;34m\u001b[0m\u001b[0m\n\u001b[0m\u001b[1;32m     22\u001b[0m \u001b[0;34m\u001b[0m\u001b[0m\n\u001b[1;32m     23\u001b[0m   \u001b[0mval_mse\u001b[0m\u001b[0;34m,\u001b[0m\u001b[0mvar_mae\u001b[0m \u001b[0;34m=\u001b[0m \u001b[0mmodel\u001b[0m\u001b[0;34m.\u001b[0m\u001b[0mevaluate\u001b[0m\u001b[0;34m(\u001b[0m\u001b[0mval_data\u001b[0m\u001b[0;34m,\u001b[0m\u001b[0mval_target\u001b[0m\u001b[0;34m,\u001b[0m\u001b[0mverbose\u001b[0m\u001b[0;34m=\u001b[0m\u001b[0;36m0\u001b[0m\u001b[0;34m)\u001b[0m\u001b[0;34m\u001b[0m\u001b[0;34m\u001b[0m\u001b[0m\n",
            "\u001b[0;32m/usr/local/lib/python3.6/dist-packages/tensorflow/python/keras/engine/training.py\u001b[0m in \u001b[0;36mfit\u001b[0;34m(self, x, y, batch_size, epochs, verbose, callbacks, validation_split, validation_data, shuffle, class_weight, sample_weight, initial_epoch, steps_per_epoch, validation_steps, validation_batch_size, validation_freq, max_queue_size, workers, use_multiprocessing)\u001b[0m\n\u001b[1;32m   1108\u001b[0m \u001b[0;34m\u001b[0m\u001b[0m\n\u001b[1;32m   1109\u001b[0m         \u001b[0;32mif\u001b[0m \u001b[0mlogs\u001b[0m \u001b[0;32mis\u001b[0m \u001b[0;32mNone\u001b[0m\u001b[0;34m:\u001b[0m\u001b[0;34m\u001b[0m\u001b[0;34m\u001b[0m\u001b[0m\n\u001b[0;32m-> 1110\u001b[0;31m           \u001b[0;32mraise\u001b[0m \u001b[0mValueError\u001b[0m\u001b[0;34m(\u001b[0m\u001b[0;34m'Expect x to be a non-empty array or dataset.'\u001b[0m\u001b[0;34m)\u001b[0m\u001b[0;34m\u001b[0m\u001b[0;34m\u001b[0m\u001b[0m\n\u001b[0m\u001b[1;32m   1111\u001b[0m         \u001b[0mepoch_logs\u001b[0m \u001b[0;34m=\u001b[0m \u001b[0mcopy\u001b[0m\u001b[0;34m.\u001b[0m\u001b[0mcopy\u001b[0m\u001b[0;34m(\u001b[0m\u001b[0mlogs\u001b[0m\u001b[0;34m)\u001b[0m\u001b[0;34m\u001b[0m\u001b[0;34m\u001b[0m\u001b[0m\n\u001b[1;32m   1112\u001b[0m \u001b[0;34m\u001b[0m\u001b[0m\n",
            "\u001b[0;31mValueError\u001b[0m: Expect x to be a non-empty array or dataset."
          ]
        }
      ]
    },
    {
      "cell_type": "code",
      "metadata": {
        "id": "4wwyj7A2fnrl"
      },
      "source": [
        "all_scores"
      ],
      "execution_count": null,
      "outputs": []
    },
    {
      "cell_type": "code",
      "metadata": {
        "id": "WfPBUiJHfqJS"
      },
      "source": [
        "np.mean(all_scores)"
      ],
      "execution_count": null,
      "outputs": []
    }
  ]
}