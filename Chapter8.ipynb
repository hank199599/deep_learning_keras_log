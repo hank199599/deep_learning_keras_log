{
  "nbformat": 4,
  "nbformat_minor": 0,
  "metadata": {
    "colab": {
      "name": "Chapter8.ipynb",
      "provenance": [],
      "authorship_tag": "ABX9TyMO1nmrHx+x0pBdT6ecMAiH",
      "include_colab_link": true
    },
    "kernelspec": {
      "name": "python3",
      "display_name": "Python 3"
    }
  },
  "cells": [
    {
      "cell_type": "markdown",
      "metadata": {
        "id": "view-in-github",
        "colab_type": "text"
      },
      "source": [
        "<a href=\"https://colab.research.google.com/github/hank199599/deep_learning_keras_log/blob/main/Chapter8.ipynb\" target=\"_parent\"><img src=\"https://colab.research.google.com/assets/colab-badge.svg\" alt=\"Open In Colab\"/></a>"
      ]
    },
    {
      "cell_type": "markdown",
      "metadata": {
        "id": "Rk7iIb3vESSa"
      },
      "source": [
        "# 使用LSTM產生文字資料"
      ]
    },
    {
      "cell_type": "markdown",
      "metadata": {
        "id": "DgIYeJZ1H7p0"
      },
      "source": [
        "## 生成序列資料\n",
        "訓練神經網路為先前輸入的序列資料產生接續的資料，  \n",
        "該神經網路被稱為語言模型，他會去捕捉語言的淺在空間(latent space)。  \n",
        "* 條件資料(conditioning data)：初始的文字字串"
      ]
    },
    {
      "cell_type": "markdown",
      "metadata": {
        "id": "YuPckWvOI07l"
      },
      "source": [
        "## 字元等級的語言模型 (charactor-level neural language model)\n",
        "使用LSTM層，從文字資料庫(text corpus)中萃取N個字元的字串作為輸入，  \n",
        "並訓練模型預設第N+1個字元。  \n",
        "  \n",
        "**模型的輸出**：所有可能的字元經softmax運算後的結果  \n",
        "![pic 8-1](https://raw.githubusercontent.com/hank199599/deep_learning_keras_log/main/pictures/8-1.png)"
      ]
    },
    {
      "cell_type": "markdown",
      "metadata": {
        "id": "ck1jKBS7KLYq"
      },
      "source": [
        "## 取樣策略的重要性\n",
        "1. greedy sampling 貪婪取樣：在所有可能字元中選擇最可能的下一個字元，但易導致重複的預測字串"
      ]
    },
    {
      "cell_type": "code",
      "metadata": {
        "id": "yaifUbsltw0v"
      },
      "source": [
        ""
      ],
      "execution_count": null,
      "outputs": []
    },
    {
      "cell_type": "markdown",
      "metadata": {
        "id": "Y067sLgYEdfj"
      },
      "source": [
        "# DeepDream"
      ]
    },
    {
      "cell_type": "code",
      "metadata": {
        "id": "UvXyENbyE8Yi"
      },
      "source": [
        ""
      ],
      "execution_count": null,
      "outputs": []
    },
    {
      "cell_type": "markdown",
      "metadata": {
        "id": "ebiXVEodEhGR"
      },
      "source": [
        "# 神經風格轉換"
      ]
    },
    {
      "cell_type": "code",
      "metadata": {
        "id": "KxPM68CzE9rj"
      },
      "source": [
        ""
      ],
      "execution_count": null,
      "outputs": []
    },
    {
      "cell_type": "markdown",
      "metadata": {
        "id": "e9HFRy4cEkz7"
      },
      "source": [
        "# 使用變分自編碼器 Variational Autoencoders 生成圖像"
      ]
    },
    {
      "cell_type": "code",
      "metadata": {
        "id": "7KRfIi8rE-Fe"
      },
      "source": [
        ""
      ],
      "execution_count": null,
      "outputs": []
    },
    {
      "cell_type": "markdown",
      "metadata": {
        "id": "Bm6Kv0p9EwN7"
      },
      "source": [
        "# 生成對抗神經網路簡介 Generative Adversarial Network\n"
      ]
    },
    {
      "cell_type": "code",
      "metadata": {
        "id": "ldasFvZ_E-pk"
      },
      "source": [
        ""
      ],
      "execution_count": null,
      "outputs": []
    }
  ]
}