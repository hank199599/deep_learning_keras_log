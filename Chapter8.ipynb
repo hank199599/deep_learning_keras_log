{
  "nbformat": 4,
  "nbformat_minor": 0,
  "metadata": {
    "colab": {
      "name": "Chapter8.ipynb",
      "provenance": [],
      "authorship_tag": "ABX9TyO6cvWQk73gDNZUt3zLlZir",
      "include_colab_link": true
    },
    "kernelspec": {
      "name": "python3",
      "display_name": "Python 3"
    }
  },
  "cells": [
    {
      "cell_type": "markdown",
      "metadata": {
        "id": "view-in-github",
        "colab_type": "text"
      },
      "source": [
        "<a href=\"https://colab.research.google.com/github/hank199599/deep_learning_keras_log/blob/main/Chapter8.ipynb\" target=\"_parent\"><img src=\"https://colab.research.google.com/assets/colab-badge.svg\" alt=\"Open In Colab\"/></a>"
      ]
    },
    {
      "cell_type": "markdown",
      "metadata": {
        "id": "Rk7iIb3vESSa"
      },
      "source": [
        "# 使用LSTM產生文字資料"
      ]
    },
    {
      "cell_type": "code",
      "metadata": {
        "id": "yaifUbsltw0v"
      },
      "source": [
        ""
      ],
      "execution_count": null,
      "outputs": []
    },
    {
      "cell_type": "markdown",
      "metadata": {
        "id": "Y067sLgYEdfj"
      },
      "source": [
        "# DeepDream"
      ]
    },
    {
      "cell_type": "code",
      "metadata": {
        "id": "UvXyENbyE8Yi"
      },
      "source": [
        ""
      ],
      "execution_count": null,
      "outputs": []
    },
    {
      "cell_type": "markdown",
      "metadata": {
        "id": "ebiXVEodEhGR"
      },
      "source": [
        "# 神經風格轉換"
      ]
    },
    {
      "cell_type": "code",
      "metadata": {
        "id": "KxPM68CzE9rj"
      },
      "source": [
        ""
      ],
      "execution_count": null,
      "outputs": []
    },
    {
      "cell_type": "markdown",
      "metadata": {
        "id": "e9HFRy4cEkz7"
      },
      "source": [
        "# 使用變分自編碼器 Variational Autoencoders 生成圖像"
      ]
    },
    {
      "cell_type": "code",
      "metadata": {
        "id": "7KRfIi8rE-Fe"
      },
      "source": [
        ""
      ],
      "execution_count": null,
      "outputs": []
    },
    {
      "cell_type": "markdown",
      "metadata": {
        "id": "Bm6Kv0p9EwN7"
      },
      "source": [
        "# 生成對抗神經網路簡介 Generative Adversarial Network\n"
      ]
    },
    {
      "cell_type": "code",
      "metadata": {
        "id": "ldasFvZ_E-pk"
      },
      "source": [
        ""
      ],
      "execution_count": null,
      "outputs": []
    }
  ]
}