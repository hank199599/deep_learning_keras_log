{
  "nbformat": 4,
  "nbformat_minor": 0,
  "metadata": {
    "colab": {
      "name": "Chapter4.ipynb",
      "provenance": [],
      "toc_visible": true,
      "authorship_tag": "ABX9TyNeCJr1QZpucltVSgHGX7Nh",
      "include_colab_link": true
    },
    "kernelspec": {
      "name": "python3",
      "display_name": "Python 3"
    }
  },
  "cells": [
    {
      "cell_type": "markdown",
      "metadata": {
        "id": "view-in-github",
        "colab_type": "text"
      },
      "source": [
        "<a href=\"https://colab.research.google.com/github/hank199599/deep_learning_keras_log/blob/main/Chapter4.ipynb\" target=\"_parent\"><img src=\"https://colab.research.google.com/assets/colab-badge.svg\" alt=\"Open In Colab\"/></a>"
      ]
    },
    {
      "cell_type": "markdown",
      "metadata": {
        "id": "_PifvHdct1C9"
      },
      "source": [
        "# 機器學習的四個分支\n",
        "* 監督式學習 Supervised learning：所有訓練資料都有相對應的標籤\n",
        "* 非監督式學習 Unsupervised learning：輸入資料沒有任何標籤找出其中有意義的表示法\n",
        "* 自監督式學習 Self-supervised learning：一種沒有人工標註標籤的監督式學習\n",
        "* 增強式學習 Reinforcement learning"
      ]
    },
    {
      "cell_type": "markdown",
      "metadata": {
        "id": "KJUko0a-uSG9"
      },
      "source": [
        "# 評估機器學習模型"
      ]
    },
    {
      "cell_type": "markdown",
      "metadata": {
        "id": "J2zYubAguYSt"
      },
      "source": [
        "## 1. 把資料拆分為訓練集、驗證集、測試集\n",
        "* 訓練資料集 training set\n",
        "* 驗證資料集 validation set\n",
        "* 測試資料集 testing set\n",
        "  \n",
        "在訓練過程中，使用驗證集進行測試亦可能發生**資訊洩漏(information leak)**，  \n",
        "進而導致模型對該資料集過度配適。"
      ]
    },
    {
      "cell_type": "markdown",
      "metadata": {
        "id": "fb4G03qkujJU"
      },
      "source": [
        "### 簡單拆分驗證\n",
        "使用驗證集來調整模型  \n",
        "缺陷：可用資料很少的情況下，驗證及和測試集的樣本會太少，統計代表性不足  \n",
        "![3-3](https://github.com/hank199599/deep_learning_keras_log/blob/main/pictures/3-3.png?raw=true)  \n",
        "  \n",
        "\n",
        "```python\n",
        "nav_validation_samples = 10000 #設定預設的驗證集資料筆數\n",
        "\n",
        "np.random.shuffle(data) # 打散資料，重新洗牌\n",
        "validation_data = data[:nav_validation_samples] # 定義前10000筆(0~9999)為驗證集\n",
        "\n",
        "training_data = date[:]\n",
        "\n",
        "model = get_model()\n",
        "model.train(training_data) # 以訓練集資料進行模型訓練\n",
        "validation_score = model.evaluate(validation_data) # 以驗證集資料進行模型評估\n",
        "\n",
        "#對模型不斷進行：調整、訓練與評估\n",
        "\n",
        "\n",
        "model = get_model()\n",
        "#完成超參數的調整後，通常會使用完整的資料(訓練集+驗證集)來訓練一次\n",
        "model.train(np.concatenate([training_data,validation_data]))\n",
        "test_score = model.evaluate(test_data)\n",
        "```\n",
        "\n"
      ]
    },
    {
      "cell_type": "markdown",
      "metadata": {
        "id": "aGNprKCDunXU"
      },
      "source": [
        "### K折驗證\n",
        "\n",
        "\n",
        "\n",
        "```python\n",
        "k=4 # 進行4折交叉驗證\n",
        "nav_validation_samples = len(data) #設定預設的驗證集資料筆數\n",
        "\n",
        "np_random.shuffle(data)\n",
        "validation_scores=[]\n",
        "for flod in range(k):\n",
        "  validation_data = data[nav_validation_samples*flod:nav_validation_samples*(flod+1)]\n",
        "  teaining_data=data[:nav_validation_samples*flod]+data[nav_validation_samples*(flod+1):]\n",
        "\n",
        "  model = get_model()\n",
        "  model.train(training_data)\n",
        "  validation_score = model.evaluate(validation_data)\n",
        "  validation_scores.appned(validation_score)\n",
        "\n",
        "validation_score=np.average(validation_scores)\n",
        "\n",
        "model=get_model()\n",
        "model.train(data)\n",
        "test_score = model.evaluate(test_data)\n",
        "  \n",
        "```\n",
        "\n"
      ]
    },
    {
      "cell_type": "markdown",
      "metadata": {
        "id": "PcO_WdqKuqLV"
      },
      "source": [
        "### 多次洗牌的K折驗證\n",
        "此方法適用於可用資料較少且須要盡可能精確地評估模型的情況"
      ]
    },
    {
      "cell_type": "markdown",
      "metadata": {
        "id": "x8hSFDatux_t"
      },
      "source": [
        "## 2. 注意事項\n",
        "* 資料代表性：需**隨機打散(randomly shuffle)**使資料及具有代表性\n",
        "* 時間方向性：避免**時間漏失(temporal leak)**\n",
        "* 資料中的重複現象：確保訓練集與驗證集沒有交集發生"
      ]
    },
    {
      "cell_type": "markdown",
      "metadata": {
        "id": "AYvJbIGpvBfE"
      },
      "source": [
        "# 資料預處理 (preprocwaaing)\n",
        "讓手邊的原始資料更符合神經網路使用\n",
        "* 向量化 (Vertorization)：將資料轉換為**浮點數的張量**\n",
        "* 數值正規化 (Normalization)：使輸入資料的標準差為1，平均值為0\n",
        " * 取小值\n",
        " * 同質性\n",
        " * 單獨正規化每個特徵\n",
        "* 處理缺失值 (Missing Values)：將缺失值補為0 (前提是0必須是個沒意義的值)\n",
        "* 特徵提取："
      ]
    },
    {
      "cell_type": "markdown",
      "metadata": {
        "id": "FgGOskULvGDl"
      },
      "source": [
        "# 特徵工程\n",
        "透過資深知識對手邊資料與機器學習的理解，直接以人工方式去轉換資料"
      ]
    },
    {
      "cell_type": "markdown",
      "metadata": {
        "id": "2E_fc-3GvR5O"
      },
      "source": [
        "# 低度配適與過度配適\n",
        "* 最佳化(Optimization)：調整模型使得能在訓練資料上獲得最佳表現的過程\n",
        "* 普適性(Generalization)：已訓練的模型對從未見過得資料的預測能力"
      ]
    },
    {
      "cell_type": "markdown",
      "metadata": {
        "id": "K7UuTWMwtm3N"
      },
      "source": [
        "## 常規化 (regularization) 的幾種手段\n",
        "1. 取得更多訓練資料 \n",
        "2. 調配模型儲存的資訊量或限制儲存資訊的類型或數值"
      ]
    },
    {
      "cell_type": "markdown",
      "metadata": {
        "id": "nwy1s7z0vW6d"
      },
      "source": [
        "## 縮減神經網路的大小\n",
        "減少模型可用來學習的**參數(記憶能力)數量"
      ]
    },
    {
      "cell_type": "code",
      "metadata": {
        "id": "A__RxzpX1kzc",
        "colab": {
          "base_uri": "https://localhost:8080/"
        },
        "outputId": "7efdf72c-efa9-4214-8d6e-e9407841bf62"
      },
      "source": [
        "from tensorflow.keras.datasets import imdb\n",
        "import numpy as np\n",
        "\n",
        "(train_data, train_labels), (test_data, test_labels) = imdb.load_data(num_words=10000)\n",
        "\n",
        "def vectorize_sequences(sequences, dimension=10000):\n",
        "    \n",
        "    results = np.zeros((len(sequences), dimension))\n",
        "    for i, sequence in enumerate(sequences):\n",
        "        results[i, sequence] = 1.\n",
        "    return results\n",
        "\n",
        "x_train = vectorize_sequences(train_data)\n",
        "\n",
        "x_test = vectorize_sequences(test_data)\n",
        "\n",
        "y_train = np.asarray(train_labels).astype('float32')\n",
        "y_test = np.asarray(test_labels).astype('float32')"
      ],
      "execution_count": 2,
      "outputs": [
        {
          "output_type": "stream",
          "text": [
            "Downloading data from https://storage.googleapis.com/tensorflow/tf-keras-datasets/imdb.npz\n",
            "17465344/17464789 [==============================] - 0s 0us/step\n"
          ],
          "name": "stdout"
        },
        {
          "output_type": "stream",
          "text": [
            "<string>:6: VisibleDeprecationWarning: Creating an ndarray from ragged nested sequences (which is a list-or-tuple of lists-or-tuples-or ndarrays with different lengths or shapes) is deprecated. If you meant to do this, you must specify 'dtype=object' when creating the ndarray\n",
            "/usr/local/lib/python3.7/dist-packages/tensorflow/python/keras/datasets/imdb.py:159: VisibleDeprecationWarning: Creating an ndarray from ragged nested sequences (which is a list-or-tuple of lists-or-tuples-or ndarrays with different lengths or shapes) is deprecated. If you meant to do this, you must specify 'dtype=object' when creating the ndarray\n",
            "  x_train, y_train = np.array(xs[:idx]), np.array(labels[:idx])\n",
            "/usr/local/lib/python3.7/dist-packages/tensorflow/python/keras/datasets/imdb.py:160: VisibleDeprecationWarning: Creating an ndarray from ragged nested sequences (which is a list-or-tuple of lists-or-tuples-or ndarrays with different lengths or shapes) is deprecated. If you meant to do this, you must specify 'dtype=object' when creating the ndarray\n",
            "  x_test, y_test = np.array(xs[idx:]), np.array(labels[idx:])\n"
          ],
          "name": "stderr"
        }
      ]
    },
    {
      "cell_type": "code",
      "metadata": {
        "id": "o2lgJKoWIIZT"
      },
      "source": [
        "from tensorflow.keras import models\n",
        "from tensorflow.keras import layers\n",
        "\n",
        "original_model = models.Sequential()\n",
        "original_model.add(layers.Dense(16, activation='relu', input_shape=(10000,)))  #原始的為 16 個單元\n",
        "original_model.add(layers.Dense(16, activation='relu'))\n",
        "original_model.add(layers.Dense(1, activation='sigmoid'))\n",
        "\n",
        "original_model.compile(optimizer='rmsprop',\n",
        "                       loss='binary_crossentropy',\n",
        "                       metrics=['acc'])"
      ],
      "execution_count": 3,
      "outputs": []
    },
    {
      "cell_type": "markdown",
      "metadata": {
        "id": "rWxTQOVGkTsl"
      },
      "source": [
        "### 程式 4.4 容量較低的模型版本"
      ]
    },
    {
      "cell_type": "code",
      "metadata": {
        "id": "QBL69--pIbWP"
      },
      "source": [
        "smaller_model = models.Sequential()\n",
        "smaller_model.add(layers.Dense(4, activation='relu', input_shape=(10000,)))  #改成容量較低的 4 個單元\n",
        "smaller_model.add(layers.Dense(4, activation='relu'))\n",
        "smaller_model.add(layers.Dense(1, activation='sigmoid'))\n",
        "\n",
        "smaller_model.compile(optimizer='rmsprop',\n",
        "                      loss='binary_crossentropy',\n",
        "                      metrics=['acc'])"
      ],
      "execution_count": 4,
      "outputs": []
    },
    {
      "cell_type": "code",
      "metadata": {
        "id": "83zKzmCG2crm",
        "colab": {
          "base_uri": "https://localhost:8080/"
        },
        "outputId": "8bc3369d-4fa3-4c5e-9a8b-18703c481b71"
      },
      "source": [
        "original_hist = original_model.fit(x_train, y_train,\n",
        "                                   epochs=20,\n",
        "                                   batch_size=512,\n",
        "                                   validation_data=(x_test, y_test))"
      ],
      "execution_count": 5,
      "outputs": [
        {
          "output_type": "stream",
          "text": [
            "Epoch 1/20\n",
            "49/49 [==============================] - 4s 57ms/step - loss: 0.5445 - acc: 0.7658 - val_loss: 0.3379 - val_acc: 0.8814\n",
            "Epoch 2/20\n",
            "49/49 [==============================] - 2s 38ms/step - loss: 0.2722 - acc: 0.9049 - val_loss: 0.2897 - val_acc: 0.8858\n",
            "Epoch 3/20\n",
            "49/49 [==============================] - 2s 38ms/step - loss: 0.2019 - acc: 0.9307 - val_loss: 0.3067 - val_acc: 0.8752\n",
            "Epoch 4/20\n",
            "49/49 [==============================] - 2s 38ms/step - loss: 0.1687 - acc: 0.9426 - val_loss: 0.2943 - val_acc: 0.8833\n",
            "Epoch 5/20\n",
            "49/49 [==============================] - 2s 38ms/step - loss: 0.1398 - acc: 0.9525 - val_loss: 0.3203 - val_acc: 0.8776\n",
            "Epoch 6/20\n",
            "49/49 [==============================] - 2s 38ms/step - loss: 0.1221 - acc: 0.9587 - val_loss: 0.3371 - val_acc: 0.8750\n",
            "Epoch 7/20\n",
            "49/49 [==============================] - 2s 38ms/step - loss: 0.1036 - acc: 0.9661 - val_loss: 0.3616 - val_acc: 0.8722\n",
            "Epoch 8/20\n",
            "49/49 [==============================] - 2s 38ms/step - loss: 0.0949 - acc: 0.9709 - val_loss: 0.3912 - val_acc: 0.8664\n",
            "Epoch 9/20\n",
            "49/49 [==============================] - 2s 38ms/step - loss: 0.0813 - acc: 0.9752 - val_loss: 0.4097 - val_acc: 0.8650\n",
            "Epoch 10/20\n",
            "49/49 [==============================] - 2s 38ms/step - loss: 0.0710 - acc: 0.9793 - val_loss: 0.4331 - val_acc: 0.8646\n",
            "Epoch 11/20\n",
            "49/49 [==============================] - 2s 38ms/step - loss: 0.0639 - acc: 0.9808 - val_loss: 0.4643 - val_acc: 0.8615\n",
            "Epoch 12/20\n",
            "49/49 [==============================] - 2s 38ms/step - loss: 0.0526 - acc: 0.9851 - val_loss: 0.5150 - val_acc: 0.8545\n",
            "Epoch 13/20\n",
            "49/49 [==============================] - 2s 38ms/step - loss: 0.0481 - acc: 0.9867 - val_loss: 0.5236 - val_acc: 0.8587\n",
            "Epoch 14/20\n",
            "49/49 [==============================] - 2s 37ms/step - loss: 0.0391 - acc: 0.9898 - val_loss: 0.5644 - val_acc: 0.8565\n",
            "Epoch 15/20\n",
            "49/49 [==============================] - 2s 38ms/step - loss: 0.0368 - acc: 0.9909 - val_loss: 0.5945 - val_acc: 0.8536\n",
            "Epoch 16/20\n",
            "49/49 [==============================] - 2s 38ms/step - loss: 0.0289 - acc: 0.9928 - val_loss: 0.6337 - val_acc: 0.8523\n",
            "Epoch 17/20\n",
            "49/49 [==============================] - 2s 38ms/step - loss: 0.0226 - acc: 0.9949 - val_loss: 0.6780 - val_acc: 0.8497\n",
            "Epoch 18/20\n",
            "49/49 [==============================] - 2s 38ms/step - loss: 0.0180 - acc: 0.9963 - val_loss: 0.7110 - val_acc: 0.8494\n",
            "Epoch 19/20\n",
            "49/49 [==============================] - 2s 38ms/step - loss: 0.0181 - acc: 0.9954 - val_loss: 0.7550 - val_acc: 0.8474\n",
            "Epoch 20/20\n",
            "49/49 [==============================] - 2s 38ms/step - loss: 0.0144 - acc: 0.9968 - val_loss: 0.7968 - val_acc: 0.8477\n"
          ],
          "name": "stdout"
        }
      ]
    },
    {
      "cell_type": "code",
      "metadata": {
        "id": "_w3YYwLq2ckm",
        "colab": {
          "base_uri": "https://localhost:8080/"
        },
        "outputId": "bef95999-60a9-441f-e49f-7000323b8ffa"
      },
      "source": [
        "smaller_model_hist = smaller_model.fit(x_train, y_train,\n",
        "                                       epochs=20,\n",
        "                                       batch_size=512,\n",
        "                                       validation_data=(x_test, y_test))"
      ],
      "execution_count": 7,
      "outputs": [
        {
          "output_type": "stream",
          "text": [
            "Epoch 1/20\n",
            "49/49 [==============================] - 3s 48ms/step - loss: 0.5812 - acc: 0.7245 - val_loss: 0.4165 - val_acc: 0.8604\n",
            "Epoch 2/20\n",
            "49/49 [==============================] - 2s 34ms/step - loss: 0.3494 - acc: 0.8929 - val_loss: 0.3295 - val_acc: 0.8822\n",
            "Epoch 3/20\n",
            "49/49 [==============================] - 2s 34ms/step - loss: 0.2604 - acc: 0.9174 - val_loss: 0.2943 - val_acc: 0.8878\n",
            "Epoch 4/20\n",
            "49/49 [==============================] - 2s 36ms/step - loss: 0.2162 - acc: 0.9299 - val_loss: 0.2837 - val_acc: 0.8883\n",
            "Epoch 5/20\n",
            "49/49 [==============================] - 2s 34ms/step - loss: 0.1839 - acc: 0.9403 - val_loss: 0.2808 - val_acc: 0.8886\n",
            "Epoch 6/20\n",
            "49/49 [==============================] - 2s 34ms/step - loss: 0.1669 - acc: 0.9436 - val_loss: 0.2857 - val_acc: 0.8864\n",
            "Epoch 7/20\n",
            "49/49 [==============================] - 2s 34ms/step - loss: 0.1482 - acc: 0.9524 - val_loss: 0.2908 - val_acc: 0.8856\n",
            "Epoch 8/20\n",
            "49/49 [==============================] - 2s 34ms/step - loss: 0.1377 - acc: 0.9560 - val_loss: 0.3002 - val_acc: 0.8835\n",
            "Epoch 9/20\n",
            "49/49 [==============================] - 2s 34ms/step - loss: 0.1259 - acc: 0.9600 - val_loss: 0.3112 - val_acc: 0.8795\n",
            "Epoch 10/20\n",
            "49/49 [==============================] - 2s 34ms/step - loss: 0.1147 - acc: 0.9649 - val_loss: 0.3227 - val_acc: 0.8777\n",
            "Epoch 11/20\n",
            "49/49 [==============================] - 2s 34ms/step - loss: 0.1095 - acc: 0.9664 - val_loss: 0.3369 - val_acc: 0.8758\n",
            "Epoch 12/20\n",
            "49/49 [==============================] - 2s 34ms/step - loss: 0.0939 - acc: 0.9722 - val_loss: 0.3495 - val_acc: 0.8737\n",
            "Epoch 13/20\n",
            "49/49 [==============================] - 2s 34ms/step - loss: 0.0867 - acc: 0.9759 - val_loss: 0.3667 - val_acc: 0.8712\n",
            "Epoch 14/20\n",
            "49/49 [==============================] - 2s 34ms/step - loss: 0.0802 - acc: 0.9782 - val_loss: 0.3845 - val_acc: 0.8690\n",
            "Epoch 15/20\n",
            "49/49 [==============================] - 2s 34ms/step - loss: 0.0737 - acc: 0.9802 - val_loss: 0.3974 - val_acc: 0.8681\n",
            "Epoch 16/20\n",
            "49/49 [==============================] - 2s 34ms/step - loss: 0.0724 - acc: 0.9818 - val_loss: 0.4212 - val_acc: 0.8628\n",
            "Epoch 17/20\n",
            "49/49 [==============================] - 2s 34ms/step - loss: 0.0649 - acc: 0.9845 - val_loss: 0.4329 - val_acc: 0.8650\n",
            "Epoch 18/20\n",
            "49/49 [==============================] - 2s 34ms/step - loss: 0.0564 - acc: 0.9868 - val_loss: 0.4608 - val_acc: 0.8602\n",
            "Epoch 19/20\n",
            "49/49 [==============================] - 2s 34ms/step - loss: 0.0503 - acc: 0.9889 - val_loss: 0.4704 - val_acc: 0.8615\n",
            "Epoch 20/20\n",
            "49/49 [==============================] - 2s 34ms/step - loss: 0.0458 - acc: 0.9905 - val_loss: 0.4925 - val_acc: 0.8600\n"
          ],
          "name": "stdout"
        }
      ]
    },
    {
      "cell_type": "code",
      "metadata": {
        "id": "BLdF6cYn2cbF"
      },
      "source": [
        "epochs = range(1, 21)\n",
        "original_val_loss = original_hist.history['val_loss']\n",
        "smaller_model_val_loss = smaller_model_hist.history['val_loss']"
      ],
      "execution_count": 8,
      "outputs": []
    },
    {
      "cell_type": "code",
      "metadata": {
        "id": "ECwoTpWq2hRs",
        "colab": {
          "base_uri": "https://localhost:8080/",
          "height": 279
        },
        "outputId": "72c0a0dc-2592-4909-ae6a-27cf2e8dc5c8"
      },
      "source": [
        "import matplotlib.pyplot as plt\n",
        "\n",
        "plt.plot(epochs, original_val_loss, 'b-', label='Original model')\n",
        "\n",
        "plt.plot(epochs, smaller_model_val_loss, 'bo', label='Smaller model')\n",
        "plt.xlabel('Epochs')\n",
        "plt.ylabel('Validation loss')\n",
        "plt.legend()\n",
        "\n",
        "plt.show()"
      ],
      "execution_count": 9,
      "outputs": [
        {
          "output_type": "display_data",
          "data": {
            "image/png": "[encoded data removed]",
            "text/plain": [
              "<Figure size 432x288 with 1 Axes>"
            ]
          },
          "metadata": {
            "tags": [],
            "needs_background": "light"
          }
        }
      ]
    },
    {
      "cell_type": "markdown",
      "metadata": {
        "id": "4VBL10ZwIQog"
      },
      "source": [
        ""
      ]
    },
    {
      "cell_type": "markdown",
      "metadata": {
        "id": "RCbKKv_v5PBW"
      },
      "source": [
        "### 程式 4.5 具有更高容量的模型版本"
      ]
    },
    {
      "cell_type": "code",
      "metadata": {
        "id": "xTnvguDD6lLj"
      },
      "source": [
        "bigger_model = models.Sequential()\n",
        "bigger_model.add(layers.Dense(512, activation='relu', input_shape=(10000,)))  #改以更高容量的 512 個輸出單位\n",
        "bigger_model.add(layers.Dense(512, activation='relu'))\n",
        "bigger_model.add(layers.Dense(1, activation='sigmoid'))\n",
        "\n",
        "bigger_model.compile(optimizer='rmsprop',\n",
        "                     loss='binary_crossentropy',\n",
        "                     metrics=['acc'])"
      ],
      "execution_count": 10,
      "outputs": []
    },
    {
      "cell_type": "code",
      "metadata": {
        "id": "anZK1H6x6lHp",
        "colab": {
          "base_uri": "https://localhost:8080/"
        },
        "outputId": "902b18bb-8545-4e44-f36b-e844a895583b"
      },
      "source": [
        "bigger_model_hist = bigger_model.fit(x_train, y_train,\n",
        "                                     epochs=20,\n",
        "                                     batch_size=512,\n",
        "                                     validation_data=(x_test, y_test))"
      ],
      "execution_count": 11,
      "outputs": [
        {
          "output_type": "stream",
          "text": [
            "Epoch 1/20\n",
            "49/49 [==============================] - 16s 327ms/step - loss: 0.6349 - acc: 0.7219 - val_loss: 0.2981 - val_acc: 0.8775\n",
            "Epoch 2/20\n",
            "49/49 [==============================] - 16s 323ms/step - loss: 0.2156 - acc: 0.9143 - val_loss: 0.2817 - val_acc: 0.8880\n",
            "Epoch 3/20\n",
            "49/49 [==============================] - 16s 323ms/step - loss: 0.1239 - acc: 0.9538 - val_loss: 0.2965 - val_acc: 0.8853\n",
            "Epoch 4/20\n",
            "49/49 [==============================] - 16s 322ms/step - loss: 0.0484 - acc: 0.9868 - val_loss: 0.4588 - val_acc: 0.8788\n",
            "Epoch 5/20\n",
            "49/49 [==============================] - 16s 324ms/step - loss: 0.0481 - acc: 0.9918 - val_loss: 0.4974 - val_acc: 0.8818\n",
            "Epoch 6/20\n",
            "49/49 [==============================] - 16s 323ms/step - loss: 0.0084 - acc: 0.9984 - val_loss: 0.5105 - val_acc: 0.8640\n",
            "Epoch 7/20\n",
            "49/49 [==============================] - 16s 322ms/step - loss: 0.0026 - acc: 1.0000 - val_loss: 0.7098 - val_acc: 0.8812\n",
            "Epoch 8/20\n",
            "49/49 [==============================] - 16s 324ms/step - loss: 1.7567e-04 - acc: 1.0000 - val_loss: 0.9184 - val_acc: 0.8811\n",
            "Epoch 9/20\n",
            "49/49 [==============================] - 16s 323ms/step - loss: 0.0156 - acc: 0.9988 - val_loss: 1.0332 - val_acc: 0.8466\n",
            "Epoch 10/20\n",
            "49/49 [==============================] - 16s 323ms/step - loss: 8.2416e-04 - acc: 1.0000 - val_loss: 0.8308 - val_acc: 0.8688\n",
            "Epoch 11/20\n",
            "49/49 [==============================] - 16s 323ms/step - loss: 0.0290 - acc: 0.9951 - val_loss: 0.6796 - val_acc: 0.8773\n",
            "Epoch 12/20\n",
            "49/49 [==============================] - 16s 324ms/step - loss: 1.5238e-04 - acc: 1.0000 - val_loss: 0.8230 - val_acc: 0.8800\n",
            "Epoch 13/20\n",
            "49/49 [==============================] - 16s 323ms/step - loss: 1.9204e-05 - acc: 1.0000 - val_loss: 0.9851 - val_acc: 0.8810\n",
            "Epoch 14/20\n",
            "49/49 [==============================] - 16s 324ms/step - loss: 2.4746e-06 - acc: 1.0000 - val_loss: 1.1420 - val_acc: 0.8806\n",
            "Epoch 15/20\n",
            "49/49 [==============================] - 16s 338ms/step - loss: 3.9427e-07 - acc: 1.0000 - val_loss: 1.2785 - val_acc: 0.8808\n",
            "Epoch 16/20\n",
            "49/49 [==============================] - 16s 335ms/step - loss: 8.4296e-08 - acc: 1.0000 - val_loss: 1.4109 - val_acc: 0.8799\n",
            "Epoch 17/20\n",
            "49/49 [==============================] - 16s 326ms/step - loss: 2.7296e-08 - acc: 1.0000 - val_loss: 1.4693 - val_acc: 0.8807\n",
            "Epoch 18/20\n",
            "49/49 [==============================] - 16s 326ms/step - loss: 1.5794e-08 - acc: 1.0000 - val_loss: 1.5049 - val_acc: 0.8809\n",
            "Epoch 19/20\n",
            "49/49 [==============================] - 16s 325ms/step - loss: 1.0297e-08 - acc: 1.0000 - val_loss: 1.5333 - val_acc: 0.8804\n",
            "Epoch 20/20\n",
            "49/49 [==============================] - 16s 324ms/step - loss: 7.7881e-09 - acc: 1.0000 - val_loss: 1.5527 - val_acc: 0.8803\n"
          ],
          "name": "stdout"
        }
      ]
    },
    {
      "cell_type": "code",
      "metadata": {
        "id": "XkdYQYBj6lDf",
        "colab": {
          "base_uri": "https://localhost:8080/",
          "height": 281
        },
        "outputId": "17f0daff-e236-4db4-f65d-f2edd15768ba"
      },
      "source": [
        "bigger_model_val_loss = bigger_model_hist.history['val_loss']\n",
        "\n",
        "plt.plot(epochs, original_val_loss, 'b+', label='Original model')\n",
        "plt.plot(epochs, bigger_model_val_loss, 'bo', label='Bigger model')\n",
        "plt.xlabel('Epochs')\n",
        "plt.ylabel('Validation loss')\n",
        "plt.legend()\n",
        "\n",
        "plt.show()"
      ],
      "execution_count": 12,
      "outputs": [
        {
          "output_type": "display_data",
          "data": {
            "image/png": "[encoded data removed]",
            "text/plain": [
              "<Figure size 432x288 with 1 Axes>"
            ]
          },
          "metadata": {
            "tags": [],
            "needs_background": "light"
          }
        }
      ]
    },
    {
      "cell_type": "code",
      "metadata": {
        "id": "1lEo-wwH6k_2",
        "colab": {
          "base_uri": "https://localhost:8080/",
          "height": 279
        },
        "outputId": "5bca88ce-3d00-496d-8973-7d765453f21a"
      },
      "source": [
        "original_train_loss = original_hist.history['loss']\n",
        "bigger_model_train_loss = bigger_model_hist.history['loss']\n",
        "\n",
        "plt.plot(epochs, original_train_loss, 'b+', label='Original model')\n",
        "plt.plot(epochs, bigger_model_train_loss, 'bo', label='Bigger model')\n",
        "plt.xlabel('Epochs')\n",
        "plt.ylabel('Training loss')\n",
        "plt.legend()\n",
        "\n",
        "plt.show()"
      ],
      "execution_count": 13,
      "outputs": [
        {
          "output_type": "display_data",
          "data": {
            "image/png": "[encoded data removed]",
            "text/plain": [
              "<Figure size 432x288 with 1 Axes>"
            ]
          },
          "metadata": {
            "tags": [],
            "needs_background": "light"
          }
        }
      ]
    },
    {
      "cell_type": "markdown",
      "metadata": {
        "id": "hEhoqthkvfP1"
      },
      "source": [
        "## 加入權重常規化\n",
        "採用較小的權重值以抑制神經網路的複雜性  \n",
        "* L1常規化：增加一**代價項**，與權重係數的絕對值成正比\n",
        "* L2常規化/權重衰減：增加一**代價項**，與權重係數的平方成正比\n",
        "於訓練時才會使用到L1、L2正規化，在驗證與測試時會自動拿掉\n"
      ]
    },
    {
      "cell_type": "code",
      "metadata": {
        "id": "NTojcr29KofU"
      },
      "source": [
        "from keras import regularizers\n",
        "\n",
        "l2_model = models.Sequential()\n",
        "l2_model.add(layers.Dense(16, kernel_regularizer=regularizers.l2(0.001),  #加入 L2 權重常規化並將學習率設為 0.001 \n",
        "                          activation='relu', input_shape=(10000,)))\n",
        "l2_model.add(layers.Dense(16, kernel_regularizer=regularizers.l2(0.001),\n",
        "                          activation='relu'))\n",
        "l2_model.add(layers.Dense(1, activation='sigmoid'))"
      ],
      "execution_count": 14,
      "outputs": []
    },
    {
      "cell_type": "markdown",
      "metadata": {
        "id": "lMjbF9vnTVfk"
      },
      "source": [
        "l2(0.001)代表該層權重矩陣的每個係數都會加上(0.001*權重值)到神經網路的總損失函數上。"
      ]
    },
    {
      "cell_type": "code",
      "metadata": {
        "id": "Hbgm4Y3D8Jr4"
      },
      "source": [
        "l2_model.compile(optimizer='rmsprop',\n",
        "                 loss='binary_crossentropy',\n",
        "                 metrics=['acc'])"
      ],
      "execution_count": 15,
      "outputs": []
    },
    {
      "cell_type": "code",
      "metadata": {
        "id": "wa5Y-yOQ8MDL",
        "colab": {
          "base_uri": "https://localhost:8080/"
        },
        "outputId": "7c62f94d-4fe4-4741-c1d9-e8ff0a41315e"
      },
      "source": [
        "l2_model_hist = l2_model.fit(x_train, y_train,\n",
        "                             epochs=20,\n",
        "                             batch_size=512,\n",
        "                             validation_data=(x_test, y_test))"
      ],
      "execution_count": 16,
      "outputs": [
        {
          "output_type": "stream",
          "text": [
            "Epoch 1/20\n",
            "49/49 [==============================] - 3s 54ms/step - loss: 0.5904 - acc: 0.7363 - val_loss: 0.3968 - val_acc: 0.8596\n",
            "Epoch 2/20\n",
            "49/49 [==============================] - 2s 38ms/step - loss: 0.3220 - acc: 0.9034 - val_loss: 0.3276 - val_acc: 0.8894\n",
            "Epoch 3/20\n",
            "49/49 [==============================] - 2s 38ms/step - loss: 0.2596 - acc: 0.9245 - val_loss: 0.3250 - val_acc: 0.8875\n",
            "Epoch 4/20\n",
            "49/49 [==============================] - 2s 38ms/step - loss: 0.2404 - acc: 0.9319 - val_loss: 0.3294 - val_acc: 0.8862\n",
            "Epoch 5/20\n",
            "49/49 [==============================] - 2s 38ms/step - loss: 0.2205 - acc: 0.9402 - val_loss: 0.3403 - val_acc: 0.8829\n",
            "Epoch 6/20\n",
            "49/49 [==============================] - 2s 38ms/step - loss: 0.2125 - acc: 0.9438 - val_loss: 0.3446 - val_acc: 0.8806\n",
            "Epoch 7/20\n",
            "49/49 [==============================] - 2s 38ms/step - loss: 0.2082 - acc: 0.9470 - val_loss: 0.3659 - val_acc: 0.8762\n",
            "Epoch 8/20\n",
            "49/49 [==============================] - 2s 38ms/step - loss: 0.2010 - acc: 0.9481 - val_loss: 0.3564 - val_acc: 0.8794\n",
            "Epoch 9/20\n",
            "49/49 [==============================] - 2s 38ms/step - loss: 0.1936 - acc: 0.9518 - val_loss: 0.3745 - val_acc: 0.8745\n",
            "Epoch 10/20\n",
            "49/49 [==============================] - 2s 38ms/step - loss: 0.1882 - acc: 0.9543 - val_loss: 0.4253 - val_acc: 0.8596\n",
            "Epoch 11/20\n",
            "49/49 [==============================] - 2s 38ms/step - loss: 0.1885 - acc: 0.9510 - val_loss: 0.3786 - val_acc: 0.8742\n",
            "Epoch 12/20\n",
            "49/49 [==============================] - 2s 38ms/step - loss: 0.1808 - acc: 0.9568 - val_loss: 0.4205 - val_acc: 0.8616\n",
            "Epoch 13/20\n",
            "49/49 [==============================] - 2s 38ms/step - loss: 0.1880 - acc: 0.9500 - val_loss: 0.4021 - val_acc: 0.8696\n",
            "Epoch 14/20\n",
            "49/49 [==============================] - 2s 38ms/step - loss: 0.1746 - acc: 0.9589 - val_loss: 0.3976 - val_acc: 0.8714\n",
            "Epoch 15/20\n",
            "49/49 [==============================] - 2s 38ms/step - loss: 0.1718 - acc: 0.9585 - val_loss: 0.4031 - val_acc: 0.8702\n",
            "Epoch 16/20\n",
            "49/49 [==============================] - 2s 38ms/step - loss: 0.1723 - acc: 0.9592 - val_loss: 0.4311 - val_acc: 0.8631\n",
            "Epoch 17/20\n",
            "49/49 [==============================] - 2s 38ms/step - loss: 0.1686 - acc: 0.9611 - val_loss: 0.4213 - val_acc: 0.8669\n",
            "Epoch 18/20\n",
            "49/49 [==============================] - 2s 38ms/step - loss: 0.1667 - acc: 0.9616 - val_loss: 0.4209 - val_acc: 0.8669\n",
            "Epoch 19/20\n",
            "49/49 [==============================] - 2s 38ms/step - loss: 0.1687 - acc: 0.9594 - val_loss: 0.4264 - val_acc: 0.8668\n",
            "Epoch 20/20\n",
            "49/49 [==============================] - 2s 38ms/step - loss: 0.1631 - acc: 0.9619 - val_loss: 0.4464 - val_acc: 0.8630\n"
          ],
          "name": "stdout"
        }
      ]
    },
    {
      "cell_type": "code",
      "metadata": {
        "id": "o46DWX_N8NkR",
        "colab": {
          "base_uri": "https://localhost:8080/",
          "height": 279
        },
        "outputId": "85a66c0f-3fe9-4f43-f63e-01e7b5f421ea"
      },
      "source": [
        "l2_model_val_loss = l2_model_hist.history['val_loss']\n",
        "\n",
        "plt.plot(epochs, original_val_loss, 'b+', label='Original model')\n",
        "plt.plot(epochs, l2_model_val_loss, 'bo', label='L2-regularized model')\n",
        "plt.xlabel('Epochs')\n",
        "plt.ylabel('Validation loss')\n",
        "plt.legend()\n",
        "\n",
        "plt.show()"
      ],
      "execution_count": 17,
      "outputs": [
        {
          "output_type": "display_data",
          "data": {
            "image/png": "[encoded data removed]",
            "text/plain": [
              "<Figure size 432x288 with 1 Axes>"
            ]
          },
          "metadata": {
            "tags": [],
            "needs_background": "light"
          }
        }
      ]
    },
    {
      "cell_type": "code",
      "metadata": {
        "id": "XPJ5Q5W8Rxbk",
        "colab": {
          "base_uri": "https://localhost:8080/"
        },
        "outputId": "24d87846-1fa5-4bdd-b0c0-a72123f6d6d1"
      },
      "source": [
        "from tensorflow.keras import regularizers\n",
        "\n",
        "regularizers.l1(0.001)  #L1 常規化\n",
        "\n",
        "regularizers.l1_l2(l1=0.001, l2=0.001)  #同時使用 L1 及 L2 常規化"
      ],
      "execution_count": 20,
      "outputs": [
        {
          "output_type": "execute_result",
          "data": {
            "text/plain": [
              "<tensorflow.python.keras.regularizers.L1L2 at 0x7f9d608081d0>"
            ]
          },
          "metadata": {
            "tags": []
          },
          "execution_count": 20
        }
      ]
    },
    {
      "cell_type": "markdown",
      "metadata": {
        "id": "6XSkpdsOvf5d"
      },
      "source": [
        "## 丟棄法(Dropout)\n",
        "```python\n",
        "layer_output *= np.random.randint(0, high=2, size=layer_output.shape)\n",
        "```  \n",
        "\n",
        "  \n",
        "```python\n",
        "layer_output *= 0.5\n",
        "```\n",
        "\n",
        "  \n",
        "```python\n",
        "layer_output *= np.random.randint(0, high=2, size=layer_output.shape)\n",
        "layer_output /= 0.5\n",
        "```  \n",
        "  \n",
        "  \n",
        "```python\n",
        "model.add(layers.Dropout(0.5))\n",
        "```\n"
      ]
    },
    {
      "cell_type": "markdown",
      "metadata": {
        "id": "miSyZBx_kmRF"
      },
      "source": [
        "### 程式 4.8 將 Dropout 層添加到 IMDB 神經網路"
      ]
    },
    {
      "cell_type": "code",
      "metadata": {
        "id": "6iErARnHTEY0"
      },
      "source": [
        "dpt_model = models.Sequential()\n",
        "dpt_model.add(layers.Dense(16, activation='relu', input_shape=(10000,)))\n",
        "dpt_model.add(layers.Dropout(0.5))\n",
        "dpt_model.add(layers.Dense(16, activation='relu'))\n",
        "dpt_model.add(layers.Dropout(0.5))\n",
        "dpt_model.add(layers.Dense(1, activation='sigmoid'))\n",
        "\n",
        "dpt_model.compile(optimizer='rmsprop',\n",
        "                  loss='binary_crossentropy',\n",
        "                  metrics=['acc'])"
      ],
      "execution_count": 23,
      "outputs": []
    },
    {
      "cell_type": "code",
      "metadata": {
        "id": "1snHDYIj9_Yt",
        "outputId": "4c367b12-0189-4dea-b287-84775702f07b",
        "colab": {
          "base_uri": "https://localhost:8080/"
        }
      },
      "source": [
        "dpt_model_hist = dpt_model.fit(x_train, y_train,\n",
        "                               epochs=20,\n",
        "                               batch_size=512,\n",
        "                               validation_data=(x_test, y_test))"
      ],
      "execution_count": 24,
      "outputs": [
        {
          "output_type": "stream",
          "text": [
            "Epoch 1/20\n",
            "49/49 [==============================] - 7s 131ms/step - loss: 0.6254 - acc: 0.6407 - val_loss: 0.4134 - val_acc: 0.8598\n",
            "Epoch 2/20\n",
            "49/49 [==============================] - 2s 38ms/step - loss: 0.4332 - acc: 0.8189 - val_loss: 0.3204 - val_acc: 0.8777\n",
            "Epoch 3/20\n",
            "49/49 [==============================] - 2s 39ms/step - loss: 0.3337 - acc: 0.8776 - val_loss: 0.2888 - val_acc: 0.8846\n",
            "Epoch 4/20\n",
            "49/49 [==============================] - 2s 39ms/step - loss: 0.2799 - acc: 0.9026 - val_loss: 0.2774 - val_acc: 0.8871\n",
            "Epoch 5/20\n",
            "49/49 [==============================] - 2s 39ms/step - loss: 0.2461 - acc: 0.9148 - val_loss: 0.2828 - val_acc: 0.8885\n",
            "Epoch 6/20\n",
            "49/49 [==============================] - 2s 39ms/step - loss: 0.2188 - acc: 0.9310 - val_loss: 0.2919 - val_acc: 0.8873\n",
            "Epoch 7/20\n",
            "49/49 [==============================] - 2s 38ms/step - loss: 0.1886 - acc: 0.9397 - val_loss: 0.3087 - val_acc: 0.8858\n",
            "Epoch 8/20\n",
            "49/49 [==============================] - 2s 39ms/step - loss: 0.1804 - acc: 0.9442 - val_loss: 0.3544 - val_acc: 0.8789\n",
            "Epoch 9/20\n",
            "49/49 [==============================] - 2s 39ms/step - loss: 0.1588 - acc: 0.9498 - val_loss: 0.3649 - val_acc: 0.8793\n",
            "Epoch 10/20\n",
            "49/49 [==============================] - 2s 38ms/step - loss: 0.1469 - acc: 0.9533 - val_loss: 0.4229 - val_acc: 0.8746\n",
            "Epoch 11/20\n",
            "49/49 [==============================] - 2s 39ms/step - loss: 0.1388 - acc: 0.9547 - val_loss: 0.4112 - val_acc: 0.8806\n",
            "Epoch 12/20\n",
            "49/49 [==============================] - 2s 39ms/step - loss: 0.1321 - acc: 0.9581 - val_loss: 0.4192 - val_acc: 0.8778\n",
            "Epoch 13/20\n",
            "49/49 [==============================] - 2s 39ms/step - loss: 0.1267 - acc: 0.9597 - val_loss: 0.4692 - val_acc: 0.8781\n",
            "Epoch 14/20\n",
            "49/49 [==============================] - 2s 39ms/step - loss: 0.1233 - acc: 0.9617 - val_loss: 0.4780 - val_acc: 0.8773\n",
            "Epoch 15/20\n",
            "49/49 [==============================] - 2s 39ms/step - loss: 0.1144 - acc: 0.9645 - val_loss: 0.5022 - val_acc: 0.8778\n",
            "Epoch 16/20\n",
            "49/49 [==============================] - 2s 39ms/step - loss: 0.1101 - acc: 0.9648 - val_loss: 0.5276 - val_acc: 0.8770\n",
            "Epoch 17/20\n",
            "49/49 [==============================] - 2s 38ms/step - loss: 0.1081 - acc: 0.9642 - val_loss: 0.5639 - val_acc: 0.8756\n",
            "Epoch 18/20\n",
            "49/49 [==============================] - 2s 38ms/step - loss: 0.1021 - acc: 0.9679 - val_loss: 0.5912 - val_acc: 0.8742\n",
            "Epoch 19/20\n",
            "49/49 [==============================] - 2s 39ms/step - loss: 0.0990 - acc: 0.9667 - val_loss: 0.6021 - val_acc: 0.8733\n",
            "Epoch 20/20\n",
            "49/49 [==============================] - 2s 38ms/step - loss: 0.0929 - acc: 0.9719 - val_loss: 0.6088 - val_acc: 0.8688\n"
          ],
          "name": "stdout"
        }
      ]
    },
    {
      "cell_type": "code",
      "metadata": {
        "id": "xpKe_Bk6-BLV",
        "outputId": "23d449ea-845a-4299-8b1e-bae438195a24",
        "colab": {
          "base_uri": "https://localhost:8080/",
          "height": 279
        }
      },
      "source": [
        "dpt_model_val_loss = dpt_model_hist.history['val_loss']\n",
        "\n",
        "plt.plot(epochs, original_val_loss, 'b+', label='Original model')\n",
        "plt.plot(epochs, dpt_model_val_loss, 'bo', label='Dropout-regularized model')\n",
        "plt.xlabel('Epochs')\n",
        "plt.ylabel('Validation loss')\n",
        "plt.legend()\n",
        "\n",
        "plt.show()"
      ],
      "execution_count": 25,
      "outputs": [
        {
          "output_type": "display_data",
          "data": {
            "image/png": "[encoded data removed]",
            "text/plain": [
              "<Figure size 432x288 with 1 Axes>"
            ]
          },
          "metadata": {
            "tags": [],
            "needs_background": "light"
          }
        }
      ]
    },
    {
      "cell_type": "markdown",
      "metadata": {
        "id": "idHAfkxDvn6m"
      },
      "source": [
        "# 機器學習的通用流程\n",
        "1. 定義問題並建立資料集\n",
        "2. 選擇一種評量成功的準則\n",
        "3. 決定驗證程序\n",
        "4. 準備資料\n",
        "5. 開發出優於基準(baseline)的模型\n",
        "6. 開發一個過度適配的模型\n",
        "7. 常規化模型並調整參數"
      ]
    }
  ]
}