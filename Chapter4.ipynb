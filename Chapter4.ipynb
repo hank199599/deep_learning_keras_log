{
  "nbformat": 4,
  "nbformat_minor": 0,
  "metadata": {
    "colab": {
      "name": "Chapter4.ipynb",
      "provenance": [],
      "toc_visible": true,
      "authorship_tag": "ABX9TyNvxa5TosexwN0K0hEd8Rsl",
      "include_colab_link": true
    },
    "kernelspec": {
      "name": "python3",
      "display_name": "Python 3"
    }
  },
  "cells": [
    {
      "cell_type": "markdown",
      "metadata": {
        "id": "view-in-github",
        "colab_type": "text"
      },
      "source": [
        "<a href=\"https://colab.research.google.com/github/hank199599/deep_learning_keras_log/blob/main/Chapter4.ipynb\" target=\"_parent\"><img src=\"https://colab.research.google.com/assets/colab-badge.svg\" alt=\"Open In Colab\"/></a>"
      ]
    },
    {
      "cell_type": "markdown",
      "metadata": {
        "id": "_PifvHdct1C9"
      },
      "source": [
        "# 機器學習的四個分支\r\n",
        "* 監督式學習 Supervised learning：所有訓練資料都有相對應的標籤\r\n",
        "* 非監督式學習 Unsupervised learning：輸入資料沒有任何標籤找出其中有意義的表示法\r\n",
        "* 自監督式學習 Self-supervised learning：一種沒有人工標註標籤的監督式學習\r\n",
        "* 增強式學習 Reinforcement learning"
      ]
    },
    {
      "cell_type": "markdown",
      "metadata": {
        "id": "KJUko0a-uSG9"
      },
      "source": [
        "# 評估機器學習模型"
      ]
    },
    {
      "cell_type": "markdown",
      "metadata": {
        "id": "J2zYubAguYSt"
      },
      "source": [
        "## 1. 把資料拆分為訓練集、驗證集、測試集\r\n",
        "* 訓練資料集 training set\r\n",
        "* 驗證資料集 validation set\r\n",
        "* 測試資料集 testing set\r\n",
        "  \r\n",
        "在訓練過程中，使用驗證集進行測試亦可能發生**資訊洩漏(information leak)**，  \r\n",
        "進而導致模型對該資料集過度配適。"
      ]
    },
    {
      "cell_type": "markdown",
      "metadata": {
        "id": "fb4G03qkujJU"
      },
      "source": [
        "### 簡單拆分驗證\r\n",
        "使用驗證集來調整模型  \r\n",
        "缺陷：可用資料很少的情況下，驗證及和測試集的樣本會太少，統計代表性不足  \r\n",
        "![3-3](https://github.com/hank199599/deep_learning_keras_log/blob/main/pictures/3-3.png?raw=true)  \r\n",
        "  \r\n",
        "\r\n",
        "```python\r\n",
        "nav_validation_samples = 10000 #設定預設的驗證集資料筆數\r\n",
        "\r\n",
        "np.random.shuffle(data) # 打散資料，重新洗牌\r\n",
        "validation_data = data[:nav_validation_samples] # 定義前10000筆(0~9999)為驗證集\r\n",
        "\r\n",
        "training_data = date[:]\r\n",
        "\r\n",
        "model = get_model()\r\n",
        "model.train(training_data) # 以訓練集資料進行模型訓練\r\n",
        "validation_score = model.evaluate(validation_data) # 以驗證集資料進行模型評估\r\n",
        "\r\n",
        "#對模型不斷進行：調整、訓練與評估\r\n",
        "\r\n",
        "\r\n",
        "model = get_model()\r\n",
        "#完成超參數的調整後，通常會使用完整的資料(訓練集+驗證集)來訓練一次\r\n",
        "model.train(np.concatenate([training_data,validation_data]))\r\n",
        "test_score = model.evaluate(test_data)\r\n",
        "```\r\n",
        "\r\n"
      ]
    },
    {
      "cell_type": "markdown",
      "metadata": {
        "id": "aGNprKCDunXU"
      },
      "source": [
        "### K折驗證\r\n",
        "\r\n",
        "\r\n",
        "\r\n",
        "```python\r\n",
        "k=4 # 進行4折交叉驗證\r\n",
        "nav_validation_samples = len(data) #設定預設的驗證集資料筆數\r\n",
        "\r\n",
        "np_random.shuffle(data)\r\n",
        "validation_scores=[]\r\n",
        "for flod in range(k):\r\n",
        "  validation_data = data[nav_validation_samples*flod:nav_validation_samples*(flod+1)]\r\n",
        "  teaining_data=data[:nav_validation_samples*flod]+data[nav_validation_samples*(flod+1):]\r\n",
        "\r\n",
        "  model = get_model()\r\n",
        "  model.train(training_data)\r\n",
        "  validation_score = model.evaluate(validation_data)\r\n",
        "  validation_scores.appned(validation_score)\r\n",
        "\r\n",
        "validation_score=np.average(validation_scores)\r\n",
        "\r\n",
        "model=get_model()\r\n",
        "model.train(data)\r\n",
        "test_score = model.evaluate(test_data)\r\n",
        "  \r\n",
        "```\r\n",
        "\r\n"
      ]
    },
    {
      "cell_type": "markdown",
      "metadata": {
        "id": "PcO_WdqKuqLV"
      },
      "source": [
        "### 多次洗牌的K折驗證\r\n",
        "此方法適用於可用資料較少且須要盡可能精確地評估模型的情況"
      ]
    },
    {
      "cell_type": "markdown",
      "metadata": {
        "id": "x8hSFDatux_t"
      },
      "source": [
        "## 2. 注意事項\r\n",
        "* 資料代表性：需**隨機打散(randomly shuffle)**使資料及具有代表性\r\n",
        "* 時間方向性：避免**時間漏失(temporal leak)**\r\n",
        "* 資料中的重複現象：確保訓練集與驗證集沒有交集發生"
      ]
    },
    {
      "cell_type": "markdown",
      "metadata": {
        "id": "AYvJbIGpvBfE"
      },
      "source": [
        "# 資料預處理 (preprocwaaing)\r\n",
        "讓手邊的原始資料更符合神經網路使用\r\n",
        "* 向量化 (Vertorization)：將資料轉換為**浮點數的張量**\r\n",
        "* 數值正規化 (Normalization)：使輸入資料的標準差為1，平均值為0\r\n",
        " * 取小值\r\n",
        " * 同質性\r\n",
        " * 單獨正規化每個特徵\r\n",
        "* 處理缺失值 (Missing Values)：將缺失值補為0 (前提是0必須是個沒意義的值)\r\n",
        "* 特徵提取："
      ]
    },
    {
      "cell_type": "markdown",
      "metadata": {
        "id": "FgGOskULvGDl"
      },
      "source": [
        "# 特徵工程\r\n",
        "透過資深知識對手邊資料與機器學習的理解，直接以人工方式去轉換資料"
      ]
    },
    {
      "cell_type": "markdown",
      "metadata": {
        "id": "2E_fc-3GvR5O"
      },
      "source": [
        "# 低度配適與過度配適\r\n",
        "* 最佳化(Optimization)：調整模型使得能在訓練資料上獲得最佳表現的過程\r\n",
        "* 普適性(Generalization)：已訓練的模型對從未見過得資料的預測能力"
      ]
    },
    {
      "cell_type": "markdown",
      "metadata": {
        "id": "K7UuTWMwtm3N"
      },
      "source": [
        "## 常規化 (regularization) 的幾種手段\r\n",
        "1. 取得更多訓練資料 \r\n",
        "2. 調配模型儲存的資訊量或限制儲存資訊的類型或數值"
      ]
    },
    {
      "cell_type": "markdown",
      "metadata": {
        "id": "nwy1s7z0vW6d"
      },
      "source": [
        "## 縮減神經網路的大小\r\n",
        "減少模型可用來學習的**參數(記憶能力)數量"
      ]
    },
    {
      "cell_type": "code",
      "metadata": {
        "id": "A__RxzpX1kzc",
        "colab": {
          "base_uri": "https://localhost:8080/"
        },
        "outputId": "2c186fb9-1c1b-4622-f3c7-9d6fe7604f87"
      },
      "source": [
        "from keras.datasets import imdb\n",
        "import numpy as np\n",
        "\n",
        "(train_data, train_labels), (test_data, test_labels) = imdb.load_data(num_words=10000)\n",
        "\n",
        "def vectorize_sequences(sequences, dimension=10000):\n",
        "    \n",
        "    results = np.zeros((len(sequences), dimension))\n",
        "    for i, sequence in enumerate(sequences):\n",
        "        results[i, sequence] = 1.\n",
        "    return results\n",
        "\n",
        "x_train = vectorize_sequences(train_data)\n",
        "\n",
        "x_test = vectorize_sequences(test_data)\n",
        "\n",
        "y_train = np.asarray(train_labels).astype('float32')\n",
        "y_test = np.asarray(test_labels).astype('float32')"
      ],
      "execution_count": 2,
      "outputs": [
        {
          "output_type": "stream",
          "text": [
            "<string>:6: VisibleDeprecationWarning: Creating an ndarray from ragged nested sequences (which is a list-or-tuple of lists-or-tuples-or ndarrays with different lengths or shapes) is deprecated. If you meant to do this, you must specify 'dtype=object' when creating the ndarray\n",
            "/usr/local/lib/python3.6/dist-packages/tensorflow/python/keras/datasets/imdb.py:159: VisibleDeprecationWarning: Creating an ndarray from ragged nested sequences (which is a list-or-tuple of lists-or-tuples-or ndarrays with different lengths or shapes) is deprecated. If you meant to do this, you must specify 'dtype=object' when creating the ndarray\n",
            "  x_train, y_train = np.array(xs[:idx]), np.array(labels[:idx])\n",
            "/usr/local/lib/python3.6/dist-packages/tensorflow/python/keras/datasets/imdb.py:160: VisibleDeprecationWarning: Creating an ndarray from ragged nested sequences (which is a list-or-tuple of lists-or-tuples-or ndarrays with different lengths or shapes) is deprecated. If you meant to do this, you must specify 'dtype=object' when creating the ndarray\n",
            "  x_test, y_test = np.array(xs[idx:]), np.array(labels[idx:])\n"
          ],
          "name": "stderr"
        }
      ]
    },
    {
      "cell_type": "code",
      "metadata": {
        "id": "o2lgJKoWIIZT"
      },
      "source": [
        "from keras import models\n",
        "from keras import layers\n",
        "\n",
        "original_model = models.Sequential()\n",
        "original_model.add(layers.Dense(16, activation='relu', input_shape=(10000,)))  #原始的為 16 個單元\n",
        "original_model.add(layers.Dense(16, activation='relu'))\n",
        "original_model.add(layers.Dense(1, activation='sigmoid'))\n",
        "\n",
        "original_model.compile(optimizer='rmsprop',\n",
        "                       loss='binary_crossentropy',\n",
        "                       metrics=['acc'])"
      ],
      "execution_count": 3,
      "outputs": []
    },
    {
      "cell_type": "markdown",
      "metadata": {
        "id": "rWxTQOVGkTsl"
      },
      "source": [
        "### 程式 4.4 容量較低的模型版本"
      ]
    },
    {
      "cell_type": "code",
      "metadata": {
        "id": "QBL69--pIbWP"
      },
      "source": [
        "smaller_model = models.Sequential()\n",
        "smaller_model.add(layers.Dense(4, activation='relu', input_shape=(10000,)))  #改成容量較低的 4 個單元\n",
        "smaller_model.add(layers.Dense(4, activation='relu'))\n",
        "smaller_model.add(layers.Dense(1, activation='sigmoid'))\n",
        "\n",
        "smaller_model.compile(optimizer='rmsprop',\n",
        "                      loss='binary_crossentropy',\n",
        "                      metrics=['acc'])"
      ],
      "execution_count": 4,
      "outputs": []
    },
    {
      "cell_type": "code",
      "metadata": {
        "id": "83zKzmCG2crm",
        "colab": {
          "base_uri": "https://localhost:8080/"
        },
        "outputId": "c837fafb-d03f-4ff6-cf21-588f97a63499"
      },
      "source": [
        "original_hist = original_model.fit(x_train, y_train,\n",
        "                                   epochs=20,\n",
        "                                   batch_size=512,\n",
        "                                   validation_data=(x_test, y_test))"
      ],
      "execution_count": 5,
      "outputs": [
        {
          "output_type": "stream",
          "text": [
            "Epoch 1/20\n",
            "49/49 [==============================] - 4s 65ms/step - loss: 0.5500 - acc: 0.7305 - val_loss: 0.3875 - val_acc: 0.8425\n",
            "Epoch 2/20\n",
            "49/49 [==============================] - 2s 45ms/step - loss: 0.2901 - acc: 0.8996 - val_loss: 0.2856 - val_acc: 0.8897\n",
            "Epoch 3/20\n",
            "49/49 [==============================] - 2s 42ms/step - loss: 0.2046 - acc: 0.9277 - val_loss: 0.2804 - val_acc: 0.8895\n",
            "Epoch 4/20\n",
            "49/49 [==============================] - 2s 44ms/step - loss: 0.1721 - acc: 0.9410 - val_loss: 0.3006 - val_acc: 0.8802\n",
            "Epoch 5/20\n",
            "49/49 [==============================] - 2s 40ms/step - loss: 0.1439 - acc: 0.9523 - val_loss: 0.3143 - val_acc: 0.8783\n",
            "Epoch 6/20\n",
            "49/49 [==============================] - 2s 43ms/step - loss: 0.1238 - acc: 0.9579 - val_loss: 0.3637 - val_acc: 0.8666\n",
            "Epoch 7/20\n",
            "49/49 [==============================] - 2s 41ms/step - loss: 0.1075 - acc: 0.9643 - val_loss: 0.3570 - val_acc: 0.8691\n",
            "Epoch 8/20\n",
            "49/49 [==============================] - 2s 40ms/step - loss: 0.0977 - acc: 0.9686 - val_loss: 0.3696 - val_acc: 0.8702\n",
            "Epoch 9/20\n",
            "49/49 [==============================] - 2s 40ms/step - loss: 0.0855 - acc: 0.9739 - val_loss: 0.3989 - val_acc: 0.8666\n",
            "Epoch 10/20\n",
            "49/49 [==============================] - 2s 40ms/step - loss: 0.0758 - acc: 0.9770 - val_loss: 0.4360 - val_acc: 0.8615\n",
            "Epoch 11/20\n",
            "49/49 [==============================] - 2s 47ms/step - loss: 0.0683 - acc: 0.9796 - val_loss: 0.4538 - val_acc: 0.8622\n",
            "Epoch 12/20\n",
            "49/49 [==============================] - 2s 48ms/step - loss: 0.0600 - acc: 0.9828 - val_loss: 0.4797 - val_acc: 0.8607\n",
            "Epoch 13/20\n",
            "49/49 [==============================] - 2s 42ms/step - loss: 0.0536 - acc: 0.9860 - val_loss: 0.5217 - val_acc: 0.8574\n",
            "Epoch 14/20\n",
            "49/49 [==============================] - 2s 40ms/step - loss: 0.0496 - acc: 0.9865 - val_loss: 0.5492 - val_acc: 0.8553\n",
            "Epoch 15/20\n",
            "49/49 [==============================] - 2s 40ms/step - loss: 0.0384 - acc: 0.9902 - val_loss: 0.5700 - val_acc: 0.8558\n",
            "Epoch 16/20\n",
            "49/49 [==============================] - 2s 40ms/step - loss: 0.0336 - acc: 0.9921 - val_loss: 0.6027 - val_acc: 0.8543\n",
            "Epoch 17/20\n",
            "49/49 [==============================] - 2s 40ms/step - loss: 0.0312 - acc: 0.9919 - val_loss: 0.6428 - val_acc: 0.8529\n",
            "Epoch 18/20\n",
            "49/49 [==============================] - 2s 44ms/step - loss: 0.0246 - acc: 0.9948 - val_loss: 0.7277 - val_acc: 0.8469\n",
            "Epoch 19/20\n",
            "49/49 [==============================] - 2s 44ms/step - loss: 0.0240 - acc: 0.9938 - val_loss: 0.7190 - val_acc: 0.8502\n",
            "Epoch 20/20\n",
            "49/49 [==============================] - 2s 41ms/step - loss: 0.0192 - acc: 0.9958 - val_loss: 0.7329 - val_acc: 0.8475\n"
          ],
          "name": "stdout"
        }
      ]
    },
    {
      "cell_type": "code",
      "metadata": {
        "id": "_w3YYwLq2ckm",
        "colab": {
          "base_uri": "https://localhost:8080/"
        },
        "outputId": "ce7dadba-ebbf-4a1e-c173-1578c5667757"
      },
      "source": [
        "smaller_model_hist = smaller_model.fit(x_train, y_train,\n",
        "                                       epochs=20,\n",
        "                                       batch_size=512,\n",
        "                                       validation_data=(x_test, y_test))"
      ],
      "execution_count": 6,
      "outputs": [
        {
          "output_type": "stream",
          "text": [
            "Epoch 1/20\n",
            "49/49 [==============================] - 3s 56ms/step - loss: 0.6104 - acc: 0.7183 - val_loss: 0.4513 - val_acc: 0.8609\n",
            "Epoch 2/20\n",
            "49/49 [==============================] - 2s 41ms/step - loss: 0.3935 - acc: 0.8879 - val_loss: 0.3518 - val_acc: 0.8801\n",
            "Epoch 3/20\n",
            "49/49 [==============================] - 2s 41ms/step - loss: 0.2931 - acc: 0.9097 - val_loss: 0.3065 - val_acc: 0.8875\n",
            "Epoch 4/20\n",
            "49/49 [==============================] - 2s 42ms/step - loss: 0.2345 - acc: 0.9250 - val_loss: 0.2876 - val_acc: 0.8889\n",
            "Epoch 5/20\n",
            "49/49 [==============================] - 2s 41ms/step - loss: 0.2031 - acc: 0.9331 - val_loss: 0.2792 - val_acc: 0.8901\n",
            "Epoch 6/20\n",
            "49/49 [==============================] - 2s 40ms/step - loss: 0.1823 - acc: 0.9397 - val_loss: 0.2800 - val_acc: 0.8879\n",
            "Epoch 7/20\n",
            "49/49 [==============================] - 2s 39ms/step - loss: 0.1635 - acc: 0.9459 - val_loss: 0.2844 - val_acc: 0.8861\n",
            "Epoch 8/20\n",
            "49/49 [==============================] - 2s 39ms/step - loss: 0.1492 - acc: 0.9519 - val_loss: 0.2903 - val_acc: 0.8860\n",
            "Epoch 9/20\n",
            "49/49 [==============================] - 2s 39ms/step - loss: 0.1353 - acc: 0.9546 - val_loss: 0.3090 - val_acc: 0.8787\n",
            "Epoch 10/20\n",
            "49/49 [==============================] - 2s 48ms/step - loss: 0.1262 - acc: 0.9606 - val_loss: 0.3140 - val_acc: 0.8795\n",
            "Epoch 11/20\n",
            "49/49 [==============================] - 2s 39ms/step - loss: 0.1141 - acc: 0.9636 - val_loss: 0.3198 - val_acc: 0.8788\n",
            "Epoch 12/20\n",
            "49/49 [==============================] - 2s 40ms/step - loss: 0.1052 - acc: 0.9678 - val_loss: 0.3376 - val_acc: 0.8749\n",
            "Epoch 13/20\n",
            "49/49 [==============================] - 2s 40ms/step - loss: 0.1023 - acc: 0.9680 - val_loss: 0.3466 - val_acc: 0.8746\n",
            "Epoch 14/20\n",
            "49/49 [==============================] - 2s 39ms/step - loss: 0.0934 - acc: 0.9716 - val_loss: 0.3607 - val_acc: 0.8734\n",
            "Epoch 15/20\n",
            "49/49 [==============================] - 2s 39ms/step - loss: 0.0868 - acc: 0.9749 - val_loss: 0.3814 - val_acc: 0.8680\n",
            "Epoch 16/20\n",
            "49/49 [==============================] - 2s 39ms/step - loss: 0.0801 - acc: 0.9756 - val_loss: 0.3906 - val_acc: 0.8694\n",
            "Epoch 17/20\n",
            "49/49 [==============================] - 2s 39ms/step - loss: 0.0763 - acc: 0.9771 - val_loss: 0.4087 - val_acc: 0.8665\n",
            "Epoch 18/20\n",
            "49/49 [==============================] - 2s 40ms/step - loss: 0.0712 - acc: 0.9803 - val_loss: 0.4219 - val_acc: 0.8666\n",
            "Epoch 19/20\n",
            "49/49 [==============================] - 2s 42ms/step - loss: 0.0655 - acc: 0.9822 - val_loss: 0.4401 - val_acc: 0.8647\n",
            "Epoch 20/20\n",
            "49/49 [==============================] - 2s 41ms/step - loss: 0.0634 - acc: 0.9818 - val_loss: 0.4566 - val_acc: 0.8638\n"
          ],
          "name": "stdout"
        }
      ]
    },
    {
      "cell_type": "code",
      "metadata": {
        "id": "BLdF6cYn2cbF"
      },
      "source": [
        "epochs = range(1, 21)\n",
        "original_val_loss = original_hist.history['val_loss']\n",
        "smaller_model_val_loss = smaller_model_hist.history['val_loss']"
      ],
      "execution_count": 7,
      "outputs": []
    },
    {
      "cell_type": "code",
      "metadata": {
        "id": "ECwoTpWq2hRs",
        "colab": {
          "base_uri": "https://localhost:8080/",
          "height": 279
        },
        "outputId": "1cd50b95-2d7f-4aa3-f5d0-d4a879b0d36e"
      },
      "source": [
        "import matplotlib.pyplot as plt\n",
        "\n",
        "plt.plot(epochs, original_val_loss, 'b-', label='Original model')\n",
        "\n",
        "plt.plot(epochs, smaller_model_val_loss, 'bo', label='Smaller model')\n",
        "plt.xlabel('Epochs')\n",
        "plt.ylabel('Validation loss')\n",
        "plt.legend()\n",
        "\n",
        "plt.show()"
      ],
      "execution_count": 8,
      "outputs": [
        {
          "output_type": "display_data",
          "data": {
            "image/png": "[encoded data removed]",
            "text/plain": [
              "<Figure size 432x288 with 1 Axes>"
            ]
          },
          "metadata": {
            "tags": [],
            "needs_background": "light"
          }
        }
      ]
    },
    {
      "cell_type": "markdown",
      "metadata": {
        "id": "4VBL10ZwIQog"
      },
      "source": [
        ""
      ]
    },
    {
      "cell_type": "markdown",
      "metadata": {
        "id": "RCbKKv_v5PBW"
      },
      "source": [
        "### 程式 4.5 具有更高容量的模型版本"
      ]
    },
    {
      "cell_type": "code",
      "metadata": {
        "id": "xTnvguDD6lLj"
      },
      "source": [
        "bigger_model = models.Sequential()\n",
        "bigger_model.add(layers.Dense(512, activation='relu', input_shape=(10000,)))  #改以更高容量的 512 個輸出單位\n",
        "bigger_model.add(layers.Dense(512, activation='relu'))\n",
        "bigger_model.add(layers.Dense(1, activation='sigmoid'))\n",
        "\n",
        "bigger_model.compile(optimizer='rmsprop',\n",
        "                     loss='binary_crossentropy',\n",
        "                     metrics=['acc'])"
      ],
      "execution_count": 9,
      "outputs": []
    },
    {
      "cell_type": "code",
      "metadata": {
        "id": "anZK1H6x6lHp",
        "colab": {
          "base_uri": "https://localhost:8080/"
        },
        "outputId": "8ee521c7-36e5-4069-a715-6a63f66c7830"
      },
      "source": [
        "bigger_model_hist = bigger_model.fit(x_train, y_train,\n",
        "                                     epochs=20,\n",
        "                                     batch_size=512,\n",
        "                                     validation_data=(x_test, y_test))"
      ],
      "execution_count": 10,
      "outputs": [
        {
          "output_type": "stream",
          "text": [
            "Epoch 1/20\n",
            "49/49 [==============================] - 19s 371ms/step - loss: 0.6173 - acc: 0.6979 - val_loss: 0.2869 - val_acc: 0.8825\n",
            "Epoch 2/20\n",
            "49/49 [==============================] - 16s 337ms/step - loss: 0.2169 - acc: 0.9141 - val_loss: 0.2818 - val_acc: 0.8814\n",
            "Epoch 3/20\n",
            "49/49 [==============================] - 17s 339ms/step - loss: 0.1245 - acc: 0.9542 - val_loss: 0.3302 - val_acc: 0.8831\n",
            "Epoch 4/20\n",
            "49/49 [==============================] - 17s 342ms/step - loss: 0.0575 - acc: 0.9816 - val_loss: 0.3412 - val_acc: 0.8830\n",
            "Epoch 5/20\n",
            "49/49 [==============================] - 17s 340ms/step - loss: 0.0259 - acc: 0.9946 - val_loss: 0.4873 - val_acc: 0.8834\n",
            "Epoch 6/20\n",
            "49/49 [==============================] - 17s 340ms/step - loss: 0.0132 - acc: 0.9977 - val_loss: 0.4726 - val_acc: 0.8772\n",
            "Epoch 7/20\n",
            "49/49 [==============================] - 17s 340ms/step - loss: 0.0023 - acc: 1.0000 - val_loss: 0.7273 - val_acc: 0.8808\n",
            "Epoch 8/20\n",
            "49/49 [==============================] - 17s 343ms/step - loss: 0.0291 - acc: 0.9970 - val_loss: 0.6094 - val_acc: 0.8750\n",
            "Epoch 9/20\n",
            "49/49 [==============================] - 17s 344ms/step - loss: 5.3791e-04 - acc: 1.0000 - val_loss: 0.7787 - val_acc: 0.8798\n",
            "Epoch 10/20\n",
            "49/49 [==============================] - 17s 346ms/step - loss: 8.6798e-04 - acc: 0.9999 - val_loss: 4.4558 - val_acc: 0.6752\n",
            "Epoch 11/20\n",
            "49/49 [==============================] - 17s 349ms/step - loss: 0.1950 - acc: 0.9746 - val_loss: 0.7974 - val_acc: 0.8801\n",
            "Epoch 12/20\n",
            "49/49 [==============================] - 17s 343ms/step - loss: 0.0153 - acc: 0.9979 - val_loss: 0.6236 - val_acc: 0.8774\n",
            "Epoch 13/20\n",
            "49/49 [==============================] - 17s 340ms/step - loss: 4.9065e-04 - acc: 1.0000 - val_loss: 0.7606 - val_acc: 0.8776\n",
            "Epoch 14/20\n",
            "49/49 [==============================] - 17s 343ms/step - loss: 1.4142e-04 - acc: 1.0000 - val_loss: 0.9789 - val_acc: 0.8782\n",
            "Epoch 15/20\n",
            "49/49 [==============================] - 17s 343ms/step - loss: 0.0053 - acc: 0.9995 - val_loss: 0.8217 - val_acc: 0.8770\n",
            "Epoch 16/20\n",
            "49/49 [==============================] - 16s 338ms/step - loss: 1.6910e-04 - acc: 0.9999 - val_loss: 0.8893 - val_acc: 0.8792\n",
            "Epoch 17/20\n",
            "49/49 [==============================] - 17s 339ms/step - loss: 1.8066e-05 - acc: 1.0000 - val_loss: 0.9852 - val_acc: 0.8789\n",
            "Epoch 18/20\n",
            "49/49 [==============================] - 17s 343ms/step - loss: 6.5197e-06 - acc: 1.0000 - val_loss: 1.1288 - val_acc: 0.8786\n",
            "Epoch 19/20\n",
            "49/49 [==============================] - 17s 340ms/step - loss: 0.0560 - acc: 0.9959 - val_loss: 0.9790 - val_acc: 0.8757\n",
            "Epoch 20/20\n",
            "49/49 [==============================] - 16s 338ms/step - loss: 1.7756e-05 - acc: 1.0000 - val_loss: 0.9741 - val_acc: 0.8768\n"
          ],
          "name": "stdout"
        }
      ]
    },
    {
      "cell_type": "code",
      "metadata": {
        "id": "XkdYQYBj6lDf",
        "colab": {
          "base_uri": "https://localhost:8080/",
          "height": 279
        },
        "outputId": "f2d7defb-21ba-4870-bc0e-ac99b44ad22f"
      },
      "source": [
        "bigger_model_val_loss = bigger_model_hist.history['val_loss']\n",
        "\n",
        "plt.plot(epochs, original_val_loss, 'b+', label='Original model')\n",
        "plt.plot(epochs, bigger_model_val_loss, 'bo', label='Bigger model')\n",
        "plt.xlabel('Epochs')\n",
        "plt.ylabel('Validation loss')\n",
        "plt.legend()\n",
        "\n",
        "plt.show()"
      ],
      "execution_count": 11,
      "outputs": [
        {
          "output_type": "display_data",
          "data": {
            "image/png": "[encoded data removed]",
            "text/plain": [
              "<Figure size 432x288 with 1 Axes>"
            ]
          },
          "metadata": {
            "tags": [],
            "needs_background": "light"
          }
        }
      ]
    },
    {
      "cell_type": "code",
      "metadata": {
        "id": "1lEo-wwH6k_2",
        "colab": {
          "base_uri": "https://localhost:8080/",
          "height": 279
        },
        "outputId": "8e57b474-a332-4ac3-c7f4-a851456de1db"
      },
      "source": [
        "original_train_loss = original_hist.history['loss']\n",
        "bigger_model_train_loss = bigger_model_hist.history['loss']\n",
        "\n",
        "plt.plot(epochs, original_train_loss, 'b+', label='Original model')\n",
        "plt.plot(epochs, bigger_model_train_loss, 'bo', label='Bigger model')\n",
        "plt.xlabel('Epochs')\n",
        "plt.ylabel('Training loss')\n",
        "plt.legend()\n",
        "\n",
        "plt.show()"
      ],
      "execution_count": 12,
      "outputs": [
        {
          "output_type": "display_data",
          "data": {
            "image/png": "[encoded data removed]",
            "text/plain": [
              "<Figure size 432x288 with 1 Axes>"
            ]
          },
          "metadata": {
            "tags": [],
            "needs_background": "light"
          }
        }
      ]
    },
    {
      "cell_type": "markdown",
      "metadata": {
        "id": "hEhoqthkvfP1"
      },
      "source": [
        "## 加入權重常規化"
      ]
    },
    {
      "cell_type": "markdown",
      "metadata": {
        "id": "6XSkpdsOvf5d"
      },
      "source": [
        "## 丟棄法(Dropout)"
      ]
    },
    {
      "cell_type": "markdown",
      "metadata": {
        "id": "idHAfkxDvn6m"
      },
      "source": [
        "# 機器學習的通用流程\r\n",
        "1. 定義問題並建立資料集\r\n",
        "2. 選擇一種評量成功的準則\r\n",
        "3. 決定驗證程序\r\n",
        "4. 準備資料\r\n",
        "5. 開發出優於基準(baseline)的模型\r\n",
        "6. 開發一個過度適配的模型\r\n",
        "7. 常規化模型並調整參數"
      ]
    }
  ]
}