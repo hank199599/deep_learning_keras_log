{
  "nbformat": 4,
  "nbformat_minor": 0,
  "metadata": {
    "colab": {
      "name": "Chapter4.ipynb",
      "provenance": [],
      "toc_visible": true,
      "authorship_tag": "ABX9TyOiYzeRWUkPmz4tsYvkUrnw",
      "include_colab_link": true
    },
    "kernelspec": {
      "name": "python3",
      "display_name": "Python 3"
    }
  },
  "cells": [
    {
      "cell_type": "markdown",
      "metadata": {
        "id": "view-in-github",
        "colab_type": "text"
      },
      "source": [
        "<a href=\"https://colab.research.google.com/github/hank199599/deep_learning_keras_log/blob/main/Chapter4.ipynb\" target=\"_parent\"><img src=\"https://colab.research.google.com/assets/colab-badge.svg\" alt=\"Open In Colab\"/></a>"
      ]
    },
    {
      "cell_type": "markdown",
      "metadata": {
        "id": "_PifvHdct1C9"
      },
      "source": [
        "# 機器學習的四個分支\r\n",
        "* 監督式學習 Supervised learning：所有訓練資料都有相對應的標籤\r\n",
        "* 非監督式學習 Unsupervised learning：輸入資料沒有任何標籤找出其中有意義的表示法\r\n",
        "* 自監督式學習 Self-supervised learning：一種沒有人工標註標籤的監督式學習\r\n",
        "* 增強式學習 Reinforcement learning"
      ]
    },
    {
      "cell_type": "markdown",
      "metadata": {
        "id": "KJUko0a-uSG9"
      },
      "source": [
        "# 評估機器學習模型"
      ]
    },
    {
      "cell_type": "markdown",
      "metadata": {
        "id": "J2zYubAguYSt"
      },
      "source": [
        "## 1. 把資料拆分為訓練集、驗證集、測試集\r\n",
        "* 訓練資料集 training set\r\n",
        "* 驗證資料集 validation set\r\n",
        "* 測試資料集 testing set\r\n",
        "  \r\n",
        "在訓練過程中，使用驗證集進行測試亦可能發生**資訊洩漏(information leak)**，  \r\n",
        "進而導致模型對該資料集過度配適。"
      ]
    },
    {
      "cell_type": "markdown",
      "metadata": {
        "id": "fb4G03qkujJU"
      },
      "source": [
        "### 簡單拆分驗證\r\n",
        "使用驗證集來調整模型  \r\n",
        "缺陷：可用資料很少的情況下，驗證及和測試集的樣本會太少，統計代表性不足  \r\n",
        "![3-3](https://github.com/hank199599/deep_learning_keras_log/blob/main/pictures/3-3.png?raw=true)  \r\n",
        "  \r\n",
        "\r\n",
        "```python\r\n",
        "nav_validation_samples = 10000 #設定預設的驗證集資料筆數\r\n",
        "\r\n",
        "np.random.shuffle(data) # 打散資料，重新洗牌\r\n",
        "validation_data = data[:nav_validation_samples] # 定義前10000筆(0~9999)為驗證集\r\n",
        "\r\n",
        "training_data = date[:]\r\n",
        "\r\n",
        "model = get_model()\r\n",
        "model.train(training_data) # 以訓練集資料進行模型訓練\r\n",
        "validation_score = model.evaluate(validation_data) # 以驗證集資料進行模型評估\r\n",
        "\r\n",
        "#對模型不斷進行：調整、訓練與評估\r\n",
        "\r\n",
        "\r\n",
        "model = get_model()\r\n",
        "#完成超參數的調整後，通常會使用完整的資料(訓練集+驗證集)來訓練一次\r\n",
        "model.train(np.concatenate([training_data,validation_data]))\r\n",
        "test_score = model.evaluate(test_data)\r\n",
        "```\r\n",
        "\r\n"
      ]
    },
    {
      "cell_type": "markdown",
      "metadata": {
        "id": "aGNprKCDunXU"
      },
      "source": [
        "### K折驗證\r\n",
        "\r\n",
        "\r\n",
        "\r\n",
        "```python\r\n",
        "k=4 # 進行4折交叉驗證\r\n",
        "nav_validation_samples = len(data) #設定預設的驗證集資料筆數\r\n",
        "\r\n",
        "np_random.shuffle(data)\r\n",
        "validation_scores=[]\r\n",
        "for flod in range(k):\r\n",
        "  validation_data = data[nav_validation_samples*flod:nav_validation_samples*(flod+1)]\r\n",
        "  teaining_data=data[:nav_validation_samples*flod]+data[nav_validation_samples*(flod+1):]\r\n",
        "\r\n",
        "  model = get_model()\r\n",
        "  model.train(training_data)\r\n",
        "  validation_score = model.evaluate(validation_data)\r\n",
        "  validation_scores.appned(validation_score)\r\n",
        "\r\n",
        "validation_score=np.average(validation_scores)\r\n",
        "\r\n",
        "model=get_model()\r\n",
        "model.train(data)\r\n",
        "test_score = model.evaluate(test_data)\r\n",
        "  \r\n",
        "```\r\n",
        "\r\n"
      ]
    },
    {
      "cell_type": "markdown",
      "metadata": {
        "id": "PcO_WdqKuqLV"
      },
      "source": [
        "### 多次洗牌的K折驗證\r\n",
        "此方法適用於可用資料較少且須要盡可能精確地評估模型的情況"
      ]
    },
    {
      "cell_type": "markdown",
      "metadata": {
        "id": "x8hSFDatux_t"
      },
      "source": [
        "## 2. 注意事項\r\n",
        "* 資料代表性：需**隨機打散(randomly shuffle)**使資料及具有代表性\r\n",
        "* 時間方向性：避免**時間漏失(temporal leak)**\r\n",
        "* 資料中的重複現象：確保訓練集與驗證集沒有交集發生"
      ]
    },
    {
      "cell_type": "markdown",
      "metadata": {
        "id": "AYvJbIGpvBfE"
      },
      "source": [
        "# 資料預處理 (preprocwaaing)\r\n",
        "* 向量化 (Vertorization)\r\n",
        "* 數值正規化 (Normalization)\r\n",
        "* 處理缺失值 (Missing Values)"
      ]
    },
    {
      "cell_type": "markdown",
      "metadata": {
        "id": "FgGOskULvGDl"
      },
      "source": [
        "# 特徵工程"
      ]
    },
    {
      "cell_type": "markdown",
      "metadata": {
        "id": "0zHSnzlVvIW1"
      },
      "source": [
        "# 特徵學習"
      ]
    },
    {
      "cell_type": "markdown",
      "metadata": {
        "id": "2E_fc-3GvR5O"
      },
      "source": [
        "# 低度配適與過度配適"
      ]
    },
    {
      "cell_type": "markdown",
      "metadata": {
        "id": "nwy1s7z0vW6d"
      },
      "source": [
        "## 縮減神經網路的大小"
      ]
    },
    {
      "cell_type": "markdown",
      "metadata": {
        "id": "hEhoqthkvfP1"
      },
      "source": [
        "## 加入權重常規化"
      ]
    },
    {
      "cell_type": "markdown",
      "metadata": {
        "id": "6XSkpdsOvf5d"
      },
      "source": [
        "## 丟棄法(Dropout)"
      ]
    },
    {
      "cell_type": "markdown",
      "metadata": {
        "id": "idHAfkxDvn6m"
      },
      "source": [
        "# 機器學習的通用流程\r\n",
        "1. 定義問題並建立資料集\r\n",
        "2. 選擇一種評量成功的準則\r\n",
        "3. 決定驗證程序\r\n",
        "4. 準備資料\r\n",
        "5. 開發出優於基準(baseline)的模型\r\n",
        "6. 開發一個過度適配的模型\r\n",
        "7. 常規化模型並調整參數"
      ]
    }
  ]
}