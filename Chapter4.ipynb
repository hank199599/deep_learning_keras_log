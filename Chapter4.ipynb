{
  "nbformat": 4,
  "nbformat_minor": 0,
  "metadata": {
    "colab": {
      "name": "Chapter4.ipynb",
      "provenance": [],
      "authorship_tag": "ABX9TyNFzuLhIEPiGDmgs7I9WUjX",
      "include_colab_link": true
    },
    "kernelspec": {
      "name": "python3",
      "display_name": "Python 3"
    }
  },
  "cells": [
    {
      "cell_type": "markdown",
      "metadata": {
        "id": "view-in-github",
        "colab_type": "text"
      },
      "source": [
        "<a href=\"https://colab.research.google.com/github/hank199599/deep_learning_keras_log/blob/main/Chapter4.ipynb\" target=\"_parent\"><img src=\"https://colab.research.google.com/assets/colab-badge.svg\" alt=\"Open In Colab\"/></a>"
      ]
    },
    {
      "cell_type": "markdown",
      "metadata": {
        "id": "_PifvHdct1C9"
      },
      "source": [
        "# 機器學習的四個分支\r\n",
        "* 監督式學習 Supervised learning：所有訓練資料都有相對應的標籤\r\n",
        "* 非監督式學習 Unsupervised learning：輸入資料沒有任何標籤找出其中有意義的表示法\r\n",
        "* 自監督式學習 Self-supervised learning：一種沒有人工標註標籤的監督式學習\r\n",
        "* 增強式學習 Reinforcement learning"
      ]
    },
    {
      "cell_type": "markdown",
      "metadata": {
        "id": "KJUko0a-uSG9"
      },
      "source": [
        "# 評估機器學習模型"
      ]
    },
    {
      "cell_type": "markdown",
      "metadata": {
        "id": "J2zYubAguYSt"
      },
      "source": [
        "## 1. 把資料拆分為訓練集、驗證集、測試集"
      ]
    },
    {
      "cell_type": "markdown",
      "metadata": {
        "id": "fb4G03qkujJU"
      },
      "source": [
        "### 簡單拆分驗證"
      ]
    },
    {
      "cell_type": "markdown",
      "metadata": {
        "id": "aGNprKCDunXU"
      },
      "source": [
        "### K折驗證"
      ]
    },
    {
      "cell_type": "markdown",
      "metadata": {
        "id": "PcO_WdqKuqLV"
      },
      "source": [
        "### 多次洗牌的K折驗證"
      ]
    },
    {
      "cell_type": "markdown",
      "metadata": {
        "id": "x8hSFDatux_t"
      },
      "source": [
        "## 2. 注意事項\r\n",
        "* 資料代表性\r\n",
        "* 時間方向性\r\n",
        "* 資料中的重複現象"
      ]
    },
    {
      "cell_type": "markdown",
      "metadata": {
        "id": "AYvJbIGpvBfE"
      },
      "source": [
        "# 資料預處理"
      ]
    },
    {
      "cell_type": "markdown",
      "metadata": {
        "id": "FgGOskULvGDl"
      },
      "source": [
        "# 特徵工程"
      ]
    },
    {
      "cell_type": "markdown",
      "metadata": {
        "id": "0zHSnzlVvIW1"
      },
      "source": [
        "# 特徵學習"
      ]
    },
    {
      "cell_type": "markdown",
      "metadata": {
        "id": "2E_fc-3GvR5O"
      },
      "source": [
        "# 低度配適與過度配適"
      ]
    },
    {
      "cell_type": "markdown",
      "metadata": {
        "id": "nwy1s7z0vW6d"
      },
      "source": [
        "## 縮減神經網路的大小"
      ]
    },
    {
      "cell_type": "markdown",
      "metadata": {
        "id": "hEhoqthkvfP1"
      },
      "source": [
        "## 加入權重常規化"
      ]
    },
    {
      "cell_type": "markdown",
      "metadata": {
        "id": "6XSkpdsOvf5d"
      },
      "source": [
        "## 丟棄法(Dropout)"
      ]
    },
    {
      "cell_type": "markdown",
      "metadata": {
        "id": "idHAfkxDvn6m"
      },
      "source": [
        "# 機器學習的通用流程\r\n",
        "1. 定義問題並建立資料集\r\n",
        "2. 選擇一種評量成功的準則\r\n",
        "3. 決定驗證程序\r\n",
        "4. 準備資料\r\n",
        "5. 開發出優於基準(baseline)的模型\r\n",
        "6. 開發一個過度適配的模型\r\n",
        "7. 常規化模型並調整參數"
      ]
    }
  ]
}