{
  "nbformat": 4,
  "nbformat_minor": 0,
  "metadata": {
    "colab": {
      "name": "Chapter4.ipynb",
      "provenance": [],
      "toc_visible": true,
      "authorship_tag": "ABX9TyOkN6ljDUWc6Qla0+gL/q0A",
      "include_colab_link": true
    },
    "kernelspec": {
      "name": "python3",
      "display_name": "Python 3"
    }
  },
  "cells": [
    {
      "cell_type": "markdown",
      "metadata": {
        "id": "view-in-github",
        "colab_type": "text"
      },
      "source": [
        "<a href=\"https://colab.research.google.com/github/hank199599/deep_learning_keras_log/blob/main/Chapter4.ipynb\" target=\"_parent\"><img src=\"https://colab.research.google.com/assets/colab-badge.svg\" alt=\"Open In Colab\"/></a>"
      ]
    },
    {
      "cell_type": "markdown",
      "metadata": {
        "id": "_PifvHdct1C9"
      },
      "source": [
        "# 機器學習的四個分支\r\n",
        "* 監督式學習 Supervised learning：所有訓練資料都有相對應的標籤\r\n",
        "* 非監督式學習 Unsupervised learning：輸入資料沒有任何標籤找出其中有意義的表示法\r\n",
        "* 自監督式學習 Self-supervised learning：一種沒有人工標註標籤的監督式學習\r\n",
        "* 增強式學習 Reinforcement learning"
      ]
    },
    {
      "cell_type": "markdown",
      "metadata": {
        "id": "KJUko0a-uSG9"
      },
      "source": [
        "# 評估機器學習模型"
      ]
    },
    {
      "cell_type": "markdown",
      "metadata": {
        "id": "J2zYubAguYSt"
      },
      "source": [
        "## 1. 把資料拆分為訓練集、驗證集、測試集\r\n",
        "* 訓練資料集 training set\r\n",
        "* 驗證資料集 validation set\r\n",
        "* 測試資料集 testing set\r\n",
        "  \r\n",
        "在訓練過程中，使用驗證集進行測試亦可能發生**資訊洩漏(information leak)**，  \r\n",
        "進而導致模型對該資料集過度配適。"
      ]
    },
    {
      "cell_type": "markdown",
      "metadata": {
        "id": "fb4G03qkujJU"
      },
      "source": [
        "### 簡單拆分驗證\r\n",
        "使用驗證集來調整模型  \r\n",
        "缺陷：可用資料很少的情況下，驗證及和測試集的樣本會太少，統計代表性不足  \r\n",
        "![3-3](https://github.com/hank199599/deep_learning_keras_log/blob/main/pictures/3-3.png?raw=true)  \r\n",
        "  \r\n",
        "\r\n",
        "```python\r\n",
        "nav_validation_samples = 10000 #設定預設的驗證集資料筆數\r\n",
        "\r\n",
        "np.random.shuffle(data) # 打散資料，重新洗牌\r\n",
        "validation_data = data[:nav_validation_samples] # 定義前10000筆(0~9999)為驗證集\r\n",
        "\r\n",
        "training_data = date[:]\r\n",
        "\r\n",
        "model = get_model()\r\n",
        "model.train(training_data) # 以訓練集資料進行模型訓練\r\n",
        "validation_score = model.evaluate(validation_data) # 以驗證集資料進行模型評估\r\n",
        "\r\n",
        "#對模型不斷進行：調整、訓練與評估\r\n",
        "\r\n",
        "\r\n",
        "model = get_model()\r\n",
        "#完成超參數的調整後，通常會使用完整的資料(訓練集+驗證集)來訓練一次\r\n",
        "model.train(np.concatenate([training_data,validation_data]))\r\n",
        "test_score = model.evaluate(test_data)\r\n",
        "```\r\n",
        "\r\n"
      ]
    },
    {
      "cell_type": "markdown",
      "metadata": {
        "id": "aGNprKCDunXU"
      },
      "source": [
        "### K折驗證\r\n",
        "\r\n",
        "\r\n",
        "\r\n",
        "```python\r\n",
        "k=4 # 進行4折交叉驗證\r\n",
        "nav_validation_samples = len(data) #設定預設的驗證集資料筆數\r\n",
        "\r\n",
        "np_random.shuffle(data)\r\n",
        "validation_scores=[]\r\n",
        "for flod in range(k):\r\n",
        "  validation_data = data[nav_validation_samples*flod:nav_validation_samples*(flod+1)]\r\n",
        "  teaining_data=data[:nav_validation_samples*flod]+data[nav_validation_samples*(flod+1):]\r\n",
        "\r\n",
        "  model = get_model()\r\n",
        "  model.train(training_data)\r\n",
        "  validation_score = model.evaluate(validation_data)\r\n",
        "  validation_scores.appned(validation_score)\r\n",
        "\r\n",
        "validation_score=np.average(validation_scores)\r\n",
        "\r\n",
        "model=get_model()\r\n",
        "model.train(data)\r\n",
        "test_score = model.evaluate(test_data)\r\n",
        "  \r\n",
        "```\r\n",
        "\r\n"
      ]
    },
    {
      "cell_type": "markdown",
      "metadata": {
        "id": "PcO_WdqKuqLV"
      },
      "source": [
        "### 多次洗牌的K折驗證\r\n",
        "此方法適用於可用資料較少且須要盡可能精確地評估模型的情況"
      ]
    },
    {
      "cell_type": "markdown",
      "metadata": {
        "id": "x8hSFDatux_t"
      },
      "source": [
        "## 2. 注意事項\r\n",
        "* 資料代表性：需**隨機打散(randomly shuffle)**使資料及具有代表性\r\n",
        "* 時間方向性：避免**時間漏失(temporal leak)**\r\n",
        "* 資料中的重複現象：確保訓練集與驗證集沒有交集發生"
      ]
    },
    {
      "cell_type": "markdown",
      "metadata": {
        "id": "AYvJbIGpvBfE"
      },
      "source": [
        "# 資料預處理 (preprocwaaing)\r\n",
        "讓手邊的原始資料更符合神經網路使用\r\n",
        "* 向量化 (Vertorization)：將資料轉換為**浮點數的張量**\r\n",
        "* 數值正規化 (Normalization)：使輸入資料的標準差為1，平均值為0\r\n",
        " * 取小值\r\n",
        " * 同質性\r\n",
        " * 單獨正規化每個特徵\r\n",
        "* 處理缺失值 (Missing Values)：將缺失值補為0 (前提是0必須是個沒意義的值)\r\n",
        "* 特徵提取："
      ]
    },
    {
      "cell_type": "markdown",
      "metadata": {
        "id": "FgGOskULvGDl"
      },
      "source": [
        "# 特徵工程\r\n",
        "透過資深知識對手邊資料與機器學習的理解，直接以人工方式去轉換資料"
      ]
    },
    {
      "cell_type": "markdown",
      "metadata": {
        "id": "2E_fc-3GvR5O"
      },
      "source": [
        "# 低度配適與過度配適\r\n",
        "* 最佳化(Optimization)：調整模型使得能在訓練資料上獲得最佳表現的過程\r\n",
        "* 普適性(Generalization)：已訓練的模型對從未見過得資料的預測能力"
      ]
    },
    {
      "cell_type": "markdown",
      "metadata": {
        "id": "K7UuTWMwtm3N"
      },
      "source": [
        "## 常規化 (regularization) 的幾種手段\r\n",
        "1. 取得更多訓練資料 \r\n",
        "2. 調配模型儲存的資訊量或限制儲存資訊的類型或數值"
      ]
    },
    {
      "cell_type": "markdown",
      "metadata": {
        "id": "nwy1s7z0vW6d"
      },
      "source": [
        "## 縮減神經網路的大小\r\n",
        "減少模型可用來學習的**參數(記憶能力)數量"
      ]
    },
    {
      "cell_type": "code",
      "metadata": {
        "id": "A__RxzpX1kzc",
        "colab": {
          "base_uri": "https://localhost:8080/"
        },
        "outputId": "c41da211-0301-4d52-84f0-845097d505a9"
      },
      "source": [
        "from keras.datasets import imdb\n",
        "import numpy as np\n",
        "\n",
        "(train_data, train_labels), (test_data, test_labels) = imdb.load_data(num_words=10000)\n",
        "\n",
        "def vectorize_sequences(sequences, dimension=10000):\n",
        "    \n",
        "    results = np.zeros((len(sequences), dimension))\n",
        "    for i, sequence in enumerate(sequences):\n",
        "        results[i, sequence] = 1.\n",
        "    return results\n",
        "\n",
        "x_train = vectorize_sequences(train_data)\n",
        "\n",
        "x_test = vectorize_sequences(test_data)\n",
        "\n",
        "y_train = np.asarray(train_labels).astype('float32')\n",
        "y_test = np.asarray(test_labels).astype('float32')"
      ],
      "execution_count": 1,
      "outputs": [
        {
          "output_type": "stream",
          "text": [
            "Downloading data from https://storage.googleapis.com/tensorflow/tf-keras-datasets/imdb.npz\n",
            "17465344/17464789 [==============================] - 1s 0us/step\n"
          ],
          "name": "stdout"
        },
        {
          "output_type": "stream",
          "text": [
            "<string>:6: VisibleDeprecationWarning: Creating an ndarray from ragged nested sequences (which is a list-or-tuple of lists-or-tuples-or ndarrays with different lengths or shapes) is deprecated. If you meant to do this, you must specify 'dtype=object' when creating the ndarray\n",
            "/usr/local/lib/python3.6/dist-packages/tensorflow/python/keras/datasets/imdb.py:159: VisibleDeprecationWarning: Creating an ndarray from ragged nested sequences (which is a list-or-tuple of lists-or-tuples-or ndarrays with different lengths or shapes) is deprecated. If you meant to do this, you must specify 'dtype=object' when creating the ndarray\n",
            "  x_train, y_train = np.array(xs[:idx]), np.array(labels[:idx])\n",
            "/usr/local/lib/python3.6/dist-packages/tensorflow/python/keras/datasets/imdb.py:160: VisibleDeprecationWarning: Creating an ndarray from ragged nested sequences (which is a list-or-tuple of lists-or-tuples-or ndarrays with different lengths or shapes) is deprecated. If you meant to do this, you must specify 'dtype=object' when creating the ndarray\n",
            "  x_test, y_test = np.array(xs[idx:]), np.array(labels[idx:])\n"
          ],
          "name": "stderr"
        }
      ]
    },
    {
      "cell_type": "code",
      "metadata": {
        "id": "o2lgJKoWIIZT"
      },
      "source": [
        "from keras import models\n",
        "from keras import layers\n",
        "\n",
        "original_model = models.Sequential()\n",
        "original_model.add(layers.Dense(16, activation='relu', input_shape=(10000,)))  #原始的為 16 個單元\n",
        "original_model.add(layers.Dense(16, activation='relu'))\n",
        "original_model.add(layers.Dense(1, activation='sigmoid'))\n",
        "\n",
        "original_model.compile(optimizer='rmsprop',\n",
        "                       loss='binary_crossentropy',\n",
        "                       metrics=['acc'])"
      ],
      "execution_count": 2,
      "outputs": []
    },
    {
      "cell_type": "markdown",
      "metadata": {
        "id": "rWxTQOVGkTsl"
      },
      "source": [
        "### 程式 4.4 容量較低的模型版本"
      ]
    },
    {
      "cell_type": "code",
      "metadata": {
        "id": "QBL69--pIbWP"
      },
      "source": [
        "smaller_model = models.Sequential()\n",
        "smaller_model.add(layers.Dense(4, activation='relu', input_shape=(10000,)))  #改成容量較低的 4 個單元\n",
        "smaller_model.add(layers.Dense(4, activation='relu'))\n",
        "smaller_model.add(layers.Dense(1, activation='sigmoid'))\n",
        "\n",
        "smaller_model.compile(optimizer='rmsprop',\n",
        "                      loss='binary_crossentropy',\n",
        "                      metrics=['acc'])"
      ],
      "execution_count": 3,
      "outputs": []
    },
    {
      "cell_type": "code",
      "metadata": {
        "id": "83zKzmCG2crm",
        "colab": {
          "base_uri": "https://localhost:8080/"
        },
        "outputId": "4660eb54-cefb-441c-f42d-d97296e45167"
      },
      "source": [
        "original_hist = original_model.fit(x_train, y_train,\n",
        "                                   epochs=20,\n",
        "                                   batch_size=512,\n",
        "                                   validation_data=(x_test, y_test))"
      ],
      "execution_count": 4,
      "outputs": [
        {
          "output_type": "stream",
          "text": [
            "Epoch 1/20\n",
            "49/49 [==============================] - 3s 40ms/step - loss: 0.5364 - acc: 0.7515 - val_loss: 0.3248 - val_acc: 0.8840\n",
            "Epoch 2/20\n",
            "49/49 [==============================] - 1s 24ms/step - loss: 0.2646 - acc: 0.9082 - val_loss: 0.2873 - val_acc: 0.8871\n",
            "Epoch 3/20\n",
            "49/49 [==============================] - 1s 30ms/step - loss: 0.1928 - acc: 0.9322 - val_loss: 0.2865 - val_acc: 0.8854\n",
            "Epoch 4/20\n",
            "49/49 [==============================] - 1s 25ms/step - loss: 0.1577 - acc: 0.9471 - val_loss: 0.3102 - val_acc: 0.8783\n",
            "Epoch 5/20\n",
            "49/49 [==============================] - 1s 24ms/step - loss: 0.1383 - acc: 0.9526 - val_loss: 0.3173 - val_acc: 0.8780\n",
            "Epoch 6/20\n",
            "49/49 [==============================] - 1s 24ms/step - loss: 0.1207 - acc: 0.9607 - val_loss: 0.3353 - val_acc: 0.8767\n",
            "Epoch 7/20\n",
            "49/49 [==============================] - 1s 24ms/step - loss: 0.1033 - acc: 0.9658 - val_loss: 0.4100 - val_acc: 0.8591\n",
            "Epoch 8/20\n",
            "49/49 [==============================] - 1s 24ms/step - loss: 0.0909 - acc: 0.9708 - val_loss: 0.4076 - val_acc: 0.8623\n",
            "Epoch 9/20\n",
            "49/49 [==============================] - 1s 24ms/step - loss: 0.0842 - acc: 0.9739 - val_loss: 0.4385 - val_acc: 0.8600\n",
            "Epoch 10/20\n",
            "49/49 [==============================] - 1s 25ms/step - loss: 0.0712 - acc: 0.9785 - val_loss: 0.4453 - val_acc: 0.8626\n",
            "Epoch 11/20\n",
            "49/49 [==============================] - 1s 25ms/step - loss: 0.0592 - acc: 0.9818 - val_loss: 0.5010 - val_acc: 0.8597\n",
            "Epoch 12/20\n",
            "49/49 [==============================] - 1s 24ms/step - loss: 0.0525 - acc: 0.9863 - val_loss: 0.5050 - val_acc: 0.8617\n",
            "Epoch 13/20\n",
            "49/49 [==============================] - 1s 25ms/step - loss: 0.0452 - acc: 0.9874 - val_loss: 0.5664 - val_acc: 0.8513\n",
            "Epoch 14/20\n",
            "49/49 [==============================] - 1s 24ms/step - loss: 0.0397 - acc: 0.9897 - val_loss: 0.6158 - val_acc: 0.8524\n",
            "Epoch 15/20\n",
            "49/49 [==============================] - 1s 24ms/step - loss: 0.0345 - acc: 0.9910 - val_loss: 0.6767 - val_acc: 0.8422\n",
            "Epoch 16/20\n",
            "49/49 [==============================] - 1s 23ms/step - loss: 0.0321 - acc: 0.9916 - val_loss: 0.6407 - val_acc: 0.8553\n",
            "Epoch 17/20\n",
            "49/49 [==============================] - 1s 24ms/step - loss: 0.0249 - acc: 0.9941 - val_loss: 0.6745 - val_acc: 0.8533\n",
            "Epoch 18/20\n",
            "49/49 [==============================] - 1s 24ms/step - loss: 0.0220 - acc: 0.9952 - val_loss: 0.7152 - val_acc: 0.8500\n",
            "Epoch 19/20\n",
            "49/49 [==============================] - 1s 25ms/step - loss: 0.0178 - acc: 0.9960 - val_loss: 0.7553 - val_acc: 0.8492\n",
            "Epoch 20/20\n",
            "49/49 [==============================] - 1s 25ms/step - loss: 0.0147 - acc: 0.9970 - val_loss: 0.8076 - val_acc: 0.8466\n"
          ],
          "name": "stdout"
        }
      ]
    },
    {
      "cell_type": "code",
      "metadata": {
        "id": "_w3YYwLq2ckm",
        "colab": {
          "base_uri": "https://localhost:8080/"
        },
        "outputId": "cb934f12-8a48-42c9-8cf2-4fa88bbe0f70"
      },
      "source": [
        "smaller_model_hist = smaller_model.fit(x_train, y_train,\n",
        "                                       epochs=20,\n",
        "                                       batch_size=512,\n",
        "                                       validation_data=(x_test, y_test))"
      ],
      "execution_count": 5,
      "outputs": [
        {
          "output_type": "stream",
          "text": [
            "Epoch 1/20\n",
            "49/49 [==============================] - 2s 30ms/step - loss: 0.6229 - acc: 0.7410 - val_loss: 0.4858 - val_acc: 0.8552\n",
            "Epoch 2/20\n",
            "49/49 [==============================] - 1s 22ms/step - loss: 0.4310 - acc: 0.8800 - val_loss: 0.3786 - val_acc: 0.8731\n",
            "Epoch 3/20\n",
            "49/49 [==============================] - 1s 23ms/step - loss: 0.3248 - acc: 0.9001 - val_loss: 0.3211 - val_acc: 0.8831\n",
            "Epoch 4/20\n",
            "49/49 [==============================] - 1s 22ms/step - loss: 0.2626 - acc: 0.9114 - val_loss: 0.2946 - val_acc: 0.8868\n",
            "Epoch 5/20\n",
            "49/49 [==============================] - 1s 22ms/step - loss: 0.2221 - acc: 0.9252 - val_loss: 0.2825 - val_acc: 0.8874\n",
            "Epoch 6/20\n",
            "49/49 [==============================] - 1s 22ms/step - loss: 0.1960 - acc: 0.9338 - val_loss: 0.2770 - val_acc: 0.8894\n",
            "Epoch 7/20\n",
            "49/49 [==============================] - 1s 22ms/step - loss: 0.1764 - acc: 0.9391 - val_loss: 0.2788 - val_acc: 0.8878\n",
            "Epoch 8/20\n",
            "49/49 [==============================] - 1s 23ms/step - loss: 0.1564 - acc: 0.9484 - val_loss: 0.2838 - val_acc: 0.8869\n",
            "Epoch 9/20\n",
            "49/49 [==============================] - 1s 21ms/step - loss: 0.1426 - acc: 0.9537 - val_loss: 0.2907 - val_acc: 0.8849\n",
            "Epoch 10/20\n",
            "49/49 [==============================] - 1s 22ms/step - loss: 0.1344 - acc: 0.9566 - val_loss: 0.2994 - val_acc: 0.8829\n",
            "Epoch 11/20\n",
            "49/49 [==============================] - 1s 21ms/step - loss: 0.1249 - acc: 0.9585 - val_loss: 0.3110 - val_acc: 0.8803\n",
            "Epoch 12/20\n",
            "49/49 [==============================] - 1s 23ms/step - loss: 0.1185 - acc: 0.9618 - val_loss: 0.3214 - val_acc: 0.8789\n",
            "Epoch 13/20\n",
            "49/49 [==============================] - 1s 22ms/step - loss: 0.1084 - acc: 0.9670 - val_loss: 0.3337 - val_acc: 0.8774\n",
            "Epoch 14/20\n",
            "49/49 [==============================] - 1s 23ms/step - loss: 0.0993 - acc: 0.9705 - val_loss: 0.3498 - val_acc: 0.8740\n",
            "Epoch 15/20\n",
            "49/49 [==============================] - 1s 22ms/step - loss: 0.0934 - acc: 0.9712 - val_loss: 0.3616 - val_acc: 0.8733\n",
            "Epoch 16/20\n",
            "49/49 [==============================] - 1s 22ms/step - loss: 0.0901 - acc: 0.9718 - val_loss: 0.3780 - val_acc: 0.8705\n",
            "Epoch 17/20\n",
            "49/49 [==============================] - 1s 23ms/step - loss: 0.0817 - acc: 0.9750 - val_loss: 0.3948 - val_acc: 0.8684\n",
            "Epoch 18/20\n",
            "49/49 [==============================] - 1s 22ms/step - loss: 0.0776 - acc: 0.9776 - val_loss: 0.4066 - val_acc: 0.8682\n",
            "Epoch 19/20\n",
            "49/49 [==============================] - 1s 23ms/step - loss: 0.0743 - acc: 0.9791 - val_loss: 0.4236 - val_acc: 0.8673\n",
            "Epoch 20/20\n",
            "49/49 [==============================] - 1s 22ms/step - loss: 0.0714 - acc: 0.9788 - val_loss: 0.4412 - val_acc: 0.8654\n"
          ],
          "name": "stdout"
        }
      ]
    },
    {
      "cell_type": "code",
      "metadata": {
        "id": "BLdF6cYn2cbF"
      },
      "source": [
        "epochs = range(1, 21)\n",
        "original_val_loss = original_hist.history['val_loss']\n",
        "smaller_model_val_loss = smaller_model_hist.history['val_loss']"
      ],
      "execution_count": 6,
      "outputs": []
    },
    {
      "cell_type": "code",
      "metadata": {
        "id": "ECwoTpWq2hRs",
        "colab": {
          "base_uri": "https://localhost:8080/",
          "height": 279
        },
        "outputId": "17332c03-f1d8-4eef-9c95-4fb207913328"
      },
      "source": [
        "import matplotlib.pyplot as plt\n",
        "\n",
        "plt.plot(epochs, original_val_loss, 'b-', label='Original model')\n",
        "\n",
        "plt.plot(epochs, smaller_model_val_loss, 'bo', label='Smaller model')\n",
        "plt.xlabel('Epochs')\n",
        "plt.ylabel('Validation loss')\n",
        "plt.legend()\n",
        "\n",
        "plt.show()"
      ],
      "execution_count": 7,
      "outputs": [
        {
          "output_type": "display_data",
          "data": {
            "image/png": "[encoded data removed]",
            "text/plain": [
              "<Figure size 432x288 with 1 Axes>"
            ]
          },
          "metadata": {
            "tags": [],
            "needs_background": "light"
          }
        }
      ]
    },
    {
      "cell_type": "markdown",
      "metadata": {
        "id": "4VBL10ZwIQog"
      },
      "source": [
        ""
      ]
    },
    {
      "cell_type": "markdown",
      "metadata": {
        "id": "RCbKKv_v5PBW"
      },
      "source": [
        "### 程式 4.5 具有更高容量的模型版本"
      ]
    },
    {
      "cell_type": "code",
      "metadata": {
        "id": "xTnvguDD6lLj"
      },
      "source": [
        "bigger_model = models.Sequential()\n",
        "bigger_model.add(layers.Dense(512, activation='relu', input_shape=(10000,)))  #改以更高容量的 512 個輸出單位\n",
        "bigger_model.add(layers.Dense(512, activation='relu'))\n",
        "bigger_model.add(layers.Dense(1, activation='sigmoid'))\n",
        "\n",
        "bigger_model.compile(optimizer='rmsprop',\n",
        "                     loss='binary_crossentropy',\n",
        "                     metrics=['acc'])"
      ],
      "execution_count": 8,
      "outputs": []
    },
    {
      "cell_type": "code",
      "metadata": {
        "id": "anZK1H6x6lHp",
        "colab": {
          "base_uri": "https://localhost:8080/"
        },
        "outputId": "e03e1f09-6e7b-498e-d45b-6f450142a341"
      },
      "source": [
        "bigger_model_hist = bigger_model.fit(x_train, y_train,\n",
        "                                     epochs=20,\n",
        "                                     batch_size=512,\n",
        "                                     validation_data=(x_test, y_test))"
      ],
      "execution_count": 9,
      "outputs": [
        {
          "output_type": "stream",
          "text": [
            "Epoch 1/20\n",
            "49/49 [==============================] - 15s 302ms/step - loss: 0.6190 - acc: 0.7111 - val_loss: 0.3582 - val_acc: 0.8457\n",
            "Epoch 2/20\n",
            "49/49 [==============================] - 14s 295ms/step - loss: 0.2438 - acc: 0.9000 - val_loss: 0.2733 - val_acc: 0.8886\n",
            "Epoch 3/20\n",
            "49/49 [==============================] - 14s 297ms/step - loss: 0.1320 - acc: 0.9514 - val_loss: 0.3731 - val_acc: 0.8731\n",
            "Epoch 4/20\n",
            "49/49 [==============================] - 14s 291ms/step - loss: 0.0656 - acc: 0.9787 - val_loss: 0.4262 - val_acc: 0.8814\n",
            "Epoch 5/20\n",
            "49/49 [==============================] - 14s 291ms/step - loss: 0.0331 - acc: 0.9939 - val_loss: 0.4679 - val_acc: 0.8806\n",
            "Epoch 6/20\n",
            "49/49 [==============================] - 14s 291ms/step - loss: 0.0024 - acc: 0.9999 - val_loss: 0.6831 - val_acc: 0.8799\n",
            "Epoch 7/20\n",
            "49/49 [==============================] - 14s 294ms/step - loss: 0.0256 - acc: 0.9975 - val_loss: 0.6512 - val_acc: 0.8631\n",
            "Epoch 8/20\n",
            "49/49 [==============================] - 15s 298ms/step - loss: 0.0011 - acc: 1.0000 - val_loss: 0.7363 - val_acc: 0.8784\n",
            "Epoch 9/20\n",
            "49/49 [==============================] - 14s 296ms/step - loss: 1.0139e-04 - acc: 1.0000 - val_loss: 0.9164 - val_acc: 0.8769\n",
            "Epoch 10/20\n",
            "49/49 [==============================] - 14s 295ms/step - loss: 1.2821e-05 - acc: 1.0000 - val_loss: 1.0740 - val_acc: 0.8775\n",
            "Epoch 11/20\n",
            "49/49 [==============================] - 14s 297ms/step - loss: 1.2283e-06 - acc: 1.0000 - val_loss: 1.2488 - val_acc: 0.8771\n",
            "Epoch 12/20\n",
            "49/49 [==============================] - 14s 292ms/step - loss: 2.3329e-07 - acc: 1.0000 - val_loss: 1.3716 - val_acc: 0.8768\n",
            "Epoch 13/20\n",
            "49/49 [==============================] - 14s 292ms/step - loss: 5.3590e-08 - acc: 1.0000 - val_loss: 1.4548 - val_acc: 0.8777\n",
            "Epoch 14/20\n",
            "49/49 [==============================] - 14s 291ms/step - loss: 2.2109e-08 - acc: 1.0000 - val_loss: 1.5023 - val_acc: 0.8776\n",
            "Epoch 15/20\n",
            "49/49 [==============================] - 14s 296ms/step - loss: 1.3504e-08 - acc: 1.0000 - val_loss: 1.5326 - val_acc: 0.8774\n",
            "Epoch 16/20\n",
            "49/49 [==============================] - 14s 292ms/step - loss: 1.0300e-08 - acc: 1.0000 - val_loss: 1.5560 - val_acc: 0.8771\n",
            "Epoch 17/20\n",
            "49/49 [==============================] - 14s 291ms/step - loss: 8.0153e-09 - acc: 1.0000 - val_loss: 1.5731 - val_acc: 0.8770\n",
            "Epoch 18/20\n",
            "49/49 [==============================] - 14s 292ms/step - loss: 6.7214e-09 - acc: 1.0000 - val_loss: 1.5872 - val_acc: 0.8771\n",
            "Epoch 19/20\n",
            "49/49 [==============================] - 14s 293ms/step - loss: 5.4875e-09 - acc: 1.0000 - val_loss: 1.5982 - val_acc: 0.8770\n",
            "Epoch 20/20\n",
            "49/49 [==============================] - 14s 291ms/step - loss: 4.9187e-09 - acc: 1.0000 - val_loss: 1.6099 - val_acc: 0.8770\n"
          ],
          "name": "stdout"
        }
      ]
    },
    {
      "cell_type": "code",
      "metadata": {
        "id": "XkdYQYBj6lDf",
        "colab": {
          "base_uri": "https://localhost:8080/",
          "height": 279
        },
        "outputId": "88cb4782-06a3-4672-bb04-42d3bceb9bd3"
      },
      "source": [
        "bigger_model_val_loss = bigger_model_hist.history['val_loss']\n",
        "\n",
        "plt.plot(epochs, original_val_loss, 'b+', label='Original model')\n",
        "plt.plot(epochs, bigger_model_val_loss, 'bo', label='Bigger model')\n",
        "plt.xlabel('Epochs')\n",
        "plt.ylabel('Validation loss')\n",
        "plt.legend()\n",
        "\n",
        "plt.show()"
      ],
      "execution_count": 10,
      "outputs": [
        {
          "output_type": "display_data",
          "data": {
            "image/png": "[encoded data removed]",
            "text/plain": [
              "<Figure size 432x288 with 1 Axes>"
            ]
          },
          "metadata": {
            "tags": [],
            "needs_background": "light"
          }
        }
      ]
    },
    {
      "cell_type": "code",
      "metadata": {
        "id": "1lEo-wwH6k_2",
        "colab": {
          "base_uri": "https://localhost:8080/",
          "height": 279
        },
        "outputId": "4edef044-a317-4f73-99e4-6af51558b6ce"
      },
      "source": [
        "original_train_loss = original_hist.history['loss']\n",
        "bigger_model_train_loss = bigger_model_hist.history['loss']\n",
        "\n",
        "plt.plot(epochs, original_train_loss, 'b+', label='Original model')\n",
        "plt.plot(epochs, bigger_model_train_loss, 'bo', label='Bigger model')\n",
        "plt.xlabel('Epochs')\n",
        "plt.ylabel('Training loss')\n",
        "plt.legend()\n",
        "\n",
        "plt.show()"
      ],
      "execution_count": 11,
      "outputs": [
        {
          "output_type": "display_data",
          "data": {
            "image/png": "[encoded data removed]",
            "text/plain": [
              "<Figure size 432x288 with 1 Axes>"
            ]
          },
          "metadata": {
            "tags": [],
            "needs_background": "light"
          }
        }
      ]
    },
    {
      "cell_type": "markdown",
      "metadata": {
        "id": "hEhoqthkvfP1"
      },
      "source": [
        "## 加入權重常規化\r\n",
        "採用較小的權重值以抑制神經網路的複雜性  \r\n",
        "* L1常規化：增加一**代價項**，與權重係數的絕對值成正比\r\n",
        "* L2常規化/權重衰減：增加一**代價項**，與權重係數的平方成正比\r\n",
        "於訓練時才會使用到L1、L2正規化，在驗證與測試時會自動拿掉\r\n"
      ]
    },
    {
      "cell_type": "code",
      "metadata": {
        "id": "NTojcr29KofU"
      },
      "source": [
        "from keras import regularizers\n",
        "\n",
        "l2_model = models.Sequential()\n",
        "l2_model.add(layers.Dense(16, kernel_regularizer=regularizers.l2(0.001),  #加入 L2 權重常規化並將學習率設為 0.001 \n",
        "                          activation='relu', input_shape=(10000,)))\n",
        "l2_model.add(layers.Dense(16, kernel_regularizer=regularizers.l2(0.001),\n",
        "                          activation='relu'))\n",
        "l2_model.add(layers.Dense(1, activation='sigmoid'))"
      ],
      "execution_count": 12,
      "outputs": []
    },
    {
      "cell_type": "code",
      "metadata": {
        "id": "Hbgm4Y3D8Jr4"
      },
      "source": [
        "l2_model.compile(optimizer='rmsprop',\n",
        "                 loss='binary_crossentropy',\n",
        "                 metrics=['acc'])"
      ],
      "execution_count": 13,
      "outputs": []
    },
    {
      "cell_type": "code",
      "metadata": {
        "id": "wa5Y-yOQ8MDL",
        "colab": {
          "base_uri": "https://localhost:8080/"
        },
        "outputId": "d2b206ce-7293-4325-a7cc-699af13aa991"
      },
      "source": [
        "l2_model_hist = l2_model.fit(x_train, y_train,\n",
        "                             epochs=20,\n",
        "                             batch_size=512,\n",
        "                             validation_data=(x_test, y_test))"
      ],
      "execution_count": 14,
      "outputs": [
        {
          "output_type": "stream",
          "text": [
            "Epoch 1/20\n",
            "49/49 [==============================] - 2s 32ms/step - loss: 0.6100 - acc: 0.7289 - val_loss: 0.3994 - val_acc: 0.8791\n",
            "Epoch 2/20\n",
            "49/49 [==============================] - 1s 24ms/step - loss: 0.3411 - acc: 0.9036 - val_loss: 0.3438 - val_acc: 0.8840\n",
            "Epoch 3/20\n",
            "49/49 [==============================] - 1s 23ms/step - loss: 0.2731 - acc: 0.9243 - val_loss: 0.3404 - val_acc: 0.8837\n",
            "Epoch 4/20\n",
            "49/49 [==============================] - 1s 25ms/step - loss: 0.2481 - acc: 0.9313 - val_loss: 0.3325 - val_acc: 0.8873\n",
            "Epoch 5/20\n",
            "49/49 [==============================] - 1s 24ms/step - loss: 0.2353 - acc: 0.9346 - val_loss: 0.3412 - val_acc: 0.8837\n",
            "Epoch 6/20\n",
            "49/49 [==============================] - 1s 24ms/step - loss: 0.2224 - acc: 0.9400 - val_loss: 0.3521 - val_acc: 0.8812\n",
            "Epoch 7/20\n",
            "49/49 [==============================] - 1s 25ms/step - loss: 0.2126 - acc: 0.9473 - val_loss: 0.3528 - val_acc: 0.8801\n",
            "Epoch 8/20\n",
            "49/49 [==============================] - 1s 24ms/step - loss: 0.2084 - acc: 0.9466 - val_loss: 0.3778 - val_acc: 0.8740\n",
            "Epoch 9/20\n",
            "49/49 [==============================] - 1s 25ms/step - loss: 0.2061 - acc: 0.9491 - val_loss: 0.3639 - val_acc: 0.8783\n",
            "Epoch 10/20\n",
            "49/49 [==============================] - 1s 25ms/step - loss: 0.2032 - acc: 0.9477 - val_loss: 0.3844 - val_acc: 0.8751\n",
            "Epoch 11/20\n",
            "49/49 [==============================] - 1s 25ms/step - loss: 0.2022 - acc: 0.9493 - val_loss: 0.3767 - val_acc: 0.8755\n",
            "Epoch 12/20\n",
            "49/49 [==============================] - 1s 24ms/step - loss: 0.1892 - acc: 0.9567 - val_loss: 0.4558 - val_acc: 0.8500\n",
            "Epoch 13/20\n",
            "49/49 [==============================] - 1s 25ms/step - loss: 0.2007 - acc: 0.9487 - val_loss: 0.4177 - val_acc: 0.8650\n",
            "Epoch 14/20\n",
            "49/49 [==============================] - 1s 25ms/step - loss: 0.1890 - acc: 0.9539 - val_loss: 0.3993 - val_acc: 0.8710\n",
            "Epoch 15/20\n",
            "49/49 [==============================] - 1s 25ms/step - loss: 0.1849 - acc: 0.9563 - val_loss: 0.4248 - val_acc: 0.8640\n",
            "Epoch 16/20\n",
            "49/49 [==============================] - 1s 24ms/step - loss: 0.1847 - acc: 0.9538 - val_loss: 0.4023 - val_acc: 0.8713\n",
            "Epoch 17/20\n",
            "49/49 [==============================] - 1s 25ms/step - loss: 0.1781 - acc: 0.9583 - val_loss: 0.4265 - val_acc: 0.8667\n",
            "Epoch 18/20\n",
            "49/49 [==============================] - 1s 25ms/step - loss: 0.1825 - acc: 0.9544 - val_loss: 0.4193 - val_acc: 0.8660\n",
            "Epoch 19/20\n",
            "49/49 [==============================] - 1s 25ms/step - loss: 0.1825 - acc: 0.9542 - val_loss: 0.4300 - val_acc: 0.8676\n",
            "Epoch 20/20\n",
            "49/49 [==============================] - 1s 25ms/step - loss: 0.1787 - acc: 0.9560 - val_loss: 0.4213 - val_acc: 0.8704\n"
          ],
          "name": "stdout"
        }
      ]
    },
    {
      "cell_type": "code",
      "metadata": {
        "id": "o46DWX_N8NkR",
        "colab": {
          "base_uri": "https://localhost:8080/",
          "height": 279
        },
        "outputId": "064b157c-e91d-41f3-803e-39182f5262b1"
      },
      "source": [
        "l2_model_val_loss = l2_model_hist.history['val_loss']\n",
        "\n",
        "plt.plot(epochs, original_val_loss, 'b+', label='Original model')\n",
        "plt.plot(epochs, l2_model_val_loss, 'bo', label='L2-regularized model')\n",
        "plt.xlabel('Epochs')\n",
        "plt.ylabel('Validation loss')\n",
        "plt.legend()\n",
        "\n",
        "plt.show()"
      ],
      "execution_count": 15,
      "outputs": [
        {
          "output_type": "display_data",
          "data": {
            "image/png": "[encoded data removed]",
            "text/plain": [
              "<Figure size 432x288 with 1 Axes>"
            ]
          },
          "metadata": {
            "tags": [],
            "needs_background": "light"
          }
        }
      ]
    },
    {
      "cell_type": "code",
      "metadata": {
        "id": "XPJ5Q5W8Rxbk",
        "outputId": "81b5369c-908a-4da6-ba85-ccea0a2daff3",
        "colab": {
          "base_uri": "https://localhost:8080/"
        }
      },
      "source": [
        "from keras import regularizers\n",
        "\n",
        "regularizers.l1(0.001)  #L1 常規化\n",
        "\n",
        "regularizers.l1_l2(l1=0.001, l2=0.001)  #同時使用 L1 及 L2 常規化"
      ],
      "execution_count": 16,
      "outputs": [
        {
          "output_type": "execute_result",
          "data": {
            "text/plain": [
              "<tensorflow.python.keras.regularizers.L1L2 at 0x7f6ca7edcdd8>"
            ]
          },
          "metadata": {
            "tags": []
          },
          "execution_count": 16
        }
      ]
    },
    {
      "cell_type": "code",
      "metadata": {
        "id": "2-8YBodvSCqN",
        "outputId": "85cd6198-a312-4297-8a3b-96cc0e884938",
        "colab": {
          "base_uri": "https://localhost:8080/",
          "height": 172
        }
      },
      "source": [
        "layer_output *= np.random.randint(0, high=2, size=layer_output.shape)"
      ],
      "execution_count": 17,
      "outputs": [
        {
          "output_type": "error",
          "ename": "NameError",
          "evalue": "ignored",
          "traceback": [
            "\u001b[0;31m---------------------------------------------------------------------------\u001b[0m",
            "\u001b[0;31mNameError\u001b[0m                                 Traceback (most recent call last)",
            "\u001b[0;32m<ipython-input-17-6bcf8c9093cf>\u001b[0m in \u001b[0;36m<module>\u001b[0;34m()\u001b[0m\n\u001b[0;32m----> 1\u001b[0;31m \u001b[0mlayer_output\u001b[0m \u001b[0;34m*=\u001b[0m \u001b[0mnp\u001b[0m\u001b[0;34m.\u001b[0m\u001b[0mrandom\u001b[0m\u001b[0;34m.\u001b[0m\u001b[0mrandint\u001b[0m\u001b[0;34m(\u001b[0m\u001b[0;36m0\u001b[0m\u001b[0;34m,\u001b[0m \u001b[0mhigh\u001b[0m\u001b[0;34m=\u001b[0m\u001b[0;36m2\u001b[0m\u001b[0;34m,\u001b[0m \u001b[0msize\u001b[0m\u001b[0;34m=\u001b[0m\u001b[0mlayer_output\u001b[0m\u001b[0;34m.\u001b[0m\u001b[0mshape\u001b[0m\u001b[0;34m)\u001b[0m\u001b[0;34m\u001b[0m\u001b[0;34m\u001b[0m\u001b[0m\n\u001b[0m",
            "\u001b[0;31mNameError\u001b[0m: name 'layer_output' is not defined"
          ]
        }
      ]
    },
    {
      "cell_type": "code",
      "metadata": {
        "id": "5DhmOyRASMJK"
      },
      "source": [
        "layer_output *= 0.5"
      ],
      "execution_count": null,
      "outputs": []
    },
    {
      "cell_type": "code",
      "metadata": {
        "id": "Si-S6w3WSU-U"
      },
      "source": [
        "layer_output *= np.random.randint(0, high=2, size=layer_output.shape)\n",
        "layer_output /= 0.5"
      ],
      "execution_count": null,
      "outputs": []
    },
    {
      "cell_type": "code",
      "metadata": {
        "id": "Sv49x-MLS8eF"
      },
      "source": [
        "model.add(layers.Dropout(0.5))"
      ],
      "execution_count": null,
      "outputs": []
    },
    {
      "cell_type": "markdown",
      "metadata": {
        "id": "6XSkpdsOvf5d"
      },
      "source": [
        "## 丟棄法(Dropout)"
      ]
    },
    {
      "cell_type": "markdown",
      "metadata": {
        "id": "miSyZBx_kmRF"
      },
      "source": [
        "### 程式 4.8 將 Dropout 層添加到 IMDB 神經網路"
      ]
    },
    {
      "cell_type": "code",
      "metadata": {
        "id": "6iErARnHTEY0"
      },
      "source": [
        "dpt_model = models.Sequential()\n",
        "dpt_model.add(layers.Dense(16, activation='relu', input_shape=(10000,)))\n",
        "dpt_model.add(layers.Dropout(0.5))\n",
        "dpt_model.add(layers.Dense(16, activation='relu'))\n",
        "dpt_model.add(layers.Dropout(0.5))\n",
        "dpt_model.add(layers.Dense(1, activation='sigmoid'))\n",
        "\n",
        "dpt_model.compile(optimizer='rmsprop',\n",
        "                  loss='binary_crossentropy',\n",
        "                  metrics=['acc'])"
      ],
      "execution_count": null,
      "outputs": []
    },
    {
      "cell_type": "code",
      "metadata": {
        "id": "1snHDYIj9_Yt"
      },
      "source": [
        "dpt_model_hist = dpt_model.fit(x_train, y_train,\n",
        "                               epochs=20,\n",
        "                               batch_size=512,\n",
        "                               validation_data=(x_test, y_test))"
      ],
      "execution_count": null,
      "outputs": []
    },
    {
      "cell_type": "code",
      "metadata": {
        "id": "xpKe_Bk6-BLV"
      },
      "source": [
        "dpt_model_val_loss = dpt_model_hist.history['val_loss']\n",
        "\n",
        "plt.plot(epochs, original_val_loss, 'b+', label='Original model')\n",
        "plt.plot(epochs, dpt_model_val_loss, 'bo', label='Dropout-regularized model')\n",
        "plt.xlabel('Epochs')\n",
        "plt.ylabel('Validation loss')\n",
        "plt.legend()\n",
        "\n",
        "plt.show()"
      ],
      "execution_count": null,
      "outputs": []
    },
    {
      "cell_type": "markdown",
      "metadata": {
        "id": "idHAfkxDvn6m"
      },
      "source": [
        "# 機器學習的通用流程\r\n",
        "1. 定義問題並建立資料集\r\n",
        "2. 選擇一種評量成功的準則\r\n",
        "3. 決定驗證程序\r\n",
        "4. 準備資料\r\n",
        "5. 開發出優於基準(baseline)的模型\r\n",
        "6. 開發一個過度適配的模型\r\n",
        "7. 常規化模型並調整參數"
      ]
    }
  ]
}