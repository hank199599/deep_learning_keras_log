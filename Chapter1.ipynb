{
  "nbformat": 4,
  "nbformat_minor": 0,
  "metadata": {
    "colab": {
      "name": "Chapter1.ipynb",
      "provenance": [],
      "authorship_tag": "ABX9TyMGe0DD3w0+O0n7j1c8Xz4s",
      "include_colab_link": true
    },
    "kernelspec": {
      "name": "python3",
      "display_name": "Python 3"
    }
  },
  "cells": [
    {
      "cell_type": "markdown",
      "metadata": {
        "id": "view-in-github",
        "colab_type": "text"
      },
      "source": [
        "<a href=\"https://colab.research.google.com/github/hank199599/deep_learning_keras_log/blob/main/Chapter1.ipynb\" target=\"_parent\"><img src=\"https://colab.research.google.com/assets/colab-badge.svg\" alt=\"Open In Colab\"/></a>"
      ]
    },
    {
      "cell_type": "markdown",
      "metadata": {
        "id": "iUodBERmwR2r"
      },
      "source": [
        "# 人工智慧發展\r\n",
        "\r\n",
        "* 1950年代：定義人工智慧「能自動化執行一般人類的智慧工作」\r\n",
        "* 1950 - 1980年代：\r\n"
      ]
    },
    {
      "cell_type": "markdown",
      "metadata": {
        "id": "6uP5XxhOxC_-"
      },
      "source": [
        "# 人工智慧分類\r\n",
        "* 符號式AI (symbolic AL)\r\n",
        " * 解決規則清楚的問題 \r\n",
        "* 機器學習 (machine learning)\r\n",
        " * 分析機 (Analytical Engine)"
      ]
    },
    {
      "cell_type": "code",
      "metadata": {
        "id": "yaifUbsltw0v"
      },
      "source": [
        ""
      ],
      "execution_count": null,
      "outputs": []
    }
  ]
}